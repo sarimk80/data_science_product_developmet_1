{
  "nbformat": 4,
  "nbformat_minor": 0,
  "metadata": {
    "colab": {
      "name": "Homework_1.ipynb",
      "provenance": [],
      "collapsed_sections": []
    },
    "kernelspec": {
      "name": "python3",
      "display_name": "Python 3.9.1 64-bit",
      "metadata": {
        "interpreter": {
          "hash": "aee8b7b246df8f9039afb4144a1f6fd8d2ca17a180786b69acc140d282b71a49"
        }
      }
    },
    "language_info": {
      "codemirror_mode": {
        "name": "ipython",
        "version": 3
      },
      "file_extension": ".py",
      "mimetype": "text/x-python",
      "name": "python",
      "nbconvert_exporter": "python",
      "pygments_lexer": "ipython3",
      "version": "3.9.1-final"
    },
    "accelerator": "GPU",
    "widgets": {
      "application/vnd.jupyter.widget-state+json": {
        "0ca58240ca7b45d3bacc43a15661ee7f": {
          "model_module": "@jupyter-widgets/controls",
          "model_name": "HBoxModel",
          "state": {
            "_view_name": "HBoxView",
            "_dom_classes": [],
            "_model_name": "HBoxModel",
            "_view_module": "@jupyter-widgets/controls",
            "_model_module_version": "1.5.0",
            "_view_count": null,
            "_view_module_version": "1.5.0",
            "box_style": "",
            "layout": "IPY_MODEL_0a0556e4689443fc8cfcc945e52de056",
            "_model_module": "@jupyter-widgets/controls",
            "children": [
              "IPY_MODEL_45a544475a3d45ffae1e5eefd2b7eb03",
              "IPY_MODEL_e9d437f463ba434c87a97b5a51170335"
            ]
          }
        },
        "0a0556e4689443fc8cfcc945e52de056": {
          "model_module": "@jupyter-widgets/base",
          "model_name": "LayoutModel",
          "state": {
            "_view_name": "LayoutView",
            "grid_template_rows": null,
            "right": null,
            "justify_content": null,
            "_view_module": "@jupyter-widgets/base",
            "overflow": null,
            "_model_module_version": "1.2.0",
            "_view_count": null,
            "flex_flow": null,
            "width": null,
            "min_width": null,
            "border": null,
            "align_items": null,
            "bottom": null,
            "_model_module": "@jupyter-widgets/base",
            "top": null,
            "grid_column": null,
            "overflow_y": null,
            "overflow_x": null,
            "grid_auto_flow": null,
            "grid_area": null,
            "grid_template_columns": null,
            "flex": null,
            "_model_name": "LayoutModel",
            "justify_items": null,
            "grid_row": null,
            "max_height": null,
            "align_content": null,
            "visibility": null,
            "align_self": null,
            "height": null,
            "min_height": null,
            "padding": null,
            "grid_auto_rows": null,
            "grid_gap": null,
            "max_width": null,
            "order": null,
            "_view_module_version": "1.2.0",
            "grid_template_areas": null,
            "object_position": null,
            "object_fit": null,
            "grid_auto_columns": null,
            "margin": null,
            "display": null,
            "left": null
          }
        },
        "45a544475a3d45ffae1e5eefd2b7eb03": {
          "model_module": "@jupyter-widgets/controls",
          "model_name": "FloatProgressModel",
          "state": {
            "_view_name": "ProgressView",
            "style": "IPY_MODEL_1937e47ffc4f43c9b5f9859a50ef8ffe",
            "_dom_classes": [],
            "description": "Downloading: ",
            "_model_name": "FloatProgressModel",
            "bar_style": "success",
            "max": 2042,
            "_view_module": "@jupyter-widgets/controls",
            "_model_module_version": "1.5.0",
            "value": 2042,
            "_view_count": null,
            "_view_module_version": "1.5.0",
            "orientation": "horizontal",
            "min": 0,
            "description_tooltip": null,
            "_model_module": "@jupyter-widgets/controls",
            "layout": "IPY_MODEL_a5c94fe7011d4058ab7a59be1e101609"
          }
        },
        "e9d437f463ba434c87a97b5a51170335": {
          "model_module": "@jupyter-widgets/controls",
          "model_name": "HTMLModel",
          "state": {
            "_view_name": "HTMLView",
            "style": "IPY_MODEL_02d7fa954a59402cb0912f7eef0a20a1",
            "_dom_classes": [],
            "description": "",
            "_model_name": "HTMLModel",
            "placeholder": "​",
            "_view_module": "@jupyter-widgets/controls",
            "_model_module_version": "1.5.0",
            "value": " 5.77k/? [00:02&lt;00:00, 2.47kB/s]",
            "_view_count": null,
            "_view_module_version": "1.5.0",
            "description_tooltip": null,
            "_model_module": "@jupyter-widgets/controls",
            "layout": "IPY_MODEL_68395af853a346a38154000876c097e3"
          }
        },
        "1937e47ffc4f43c9b5f9859a50ef8ffe": {
          "model_module": "@jupyter-widgets/controls",
          "model_name": "ProgressStyleModel",
          "state": {
            "_view_name": "StyleView",
            "_model_name": "ProgressStyleModel",
            "description_width": "initial",
            "_view_module": "@jupyter-widgets/base",
            "_model_module_version": "1.5.0",
            "_view_count": null,
            "_view_module_version": "1.2.0",
            "bar_color": null,
            "_model_module": "@jupyter-widgets/controls"
          }
        },
        "a5c94fe7011d4058ab7a59be1e101609": {
          "model_module": "@jupyter-widgets/base",
          "model_name": "LayoutModel",
          "state": {
            "_view_name": "LayoutView",
            "grid_template_rows": null,
            "right": null,
            "justify_content": null,
            "_view_module": "@jupyter-widgets/base",
            "overflow": null,
            "_model_module_version": "1.2.0",
            "_view_count": null,
            "flex_flow": null,
            "width": null,
            "min_width": null,
            "border": null,
            "align_items": null,
            "bottom": null,
            "_model_module": "@jupyter-widgets/base",
            "top": null,
            "grid_column": null,
            "overflow_y": null,
            "overflow_x": null,
            "grid_auto_flow": null,
            "grid_area": null,
            "grid_template_columns": null,
            "flex": null,
            "_model_name": "LayoutModel",
            "justify_items": null,
            "grid_row": null,
            "max_height": null,
            "align_content": null,
            "visibility": null,
            "align_self": null,
            "height": null,
            "min_height": null,
            "padding": null,
            "grid_auto_rows": null,
            "grid_gap": null,
            "max_width": null,
            "order": null,
            "_view_module_version": "1.2.0",
            "grid_template_areas": null,
            "object_position": null,
            "object_fit": null,
            "grid_auto_columns": null,
            "margin": null,
            "display": null,
            "left": null
          }
        },
        "02d7fa954a59402cb0912f7eef0a20a1": {
          "model_module": "@jupyter-widgets/controls",
          "model_name": "DescriptionStyleModel",
          "state": {
            "_view_name": "StyleView",
            "_model_name": "DescriptionStyleModel",
            "description_width": "",
            "_view_module": "@jupyter-widgets/base",
            "_model_module_version": "1.5.0",
            "_view_count": null,
            "_view_module_version": "1.2.0",
            "_model_module": "@jupyter-widgets/controls"
          }
        },
        "68395af853a346a38154000876c097e3": {
          "model_module": "@jupyter-widgets/base",
          "model_name": "LayoutModel",
          "state": {
            "_view_name": "LayoutView",
            "grid_template_rows": null,
            "right": null,
            "justify_content": null,
            "_view_module": "@jupyter-widgets/base",
            "overflow": null,
            "_model_module_version": "1.2.0",
            "_view_count": null,
            "flex_flow": null,
            "width": null,
            "min_width": null,
            "border": null,
            "align_items": null,
            "bottom": null,
            "_model_module": "@jupyter-widgets/base",
            "top": null,
            "grid_column": null,
            "overflow_y": null,
            "overflow_x": null,
            "grid_auto_flow": null,
            "grid_area": null,
            "grid_template_columns": null,
            "flex": null,
            "_model_name": "LayoutModel",
            "justify_items": null,
            "grid_row": null,
            "max_height": null,
            "align_content": null,
            "visibility": null,
            "align_self": null,
            "height": null,
            "min_height": null,
            "padding": null,
            "grid_auto_rows": null,
            "grid_gap": null,
            "max_width": null,
            "order": null,
            "_view_module_version": "1.2.0",
            "grid_template_areas": null,
            "object_position": null,
            "object_fit": null,
            "grid_auto_columns": null,
            "margin": null,
            "display": null,
            "left": null
          }
        },
        "eb41a01e206e44ca8d9280860c1e372e": {
          "model_module": "@jupyter-widgets/controls",
          "model_name": "HBoxModel",
          "state": {
            "_view_name": "HBoxView",
            "_dom_classes": [],
            "_model_name": "HBoxModel",
            "_view_module": "@jupyter-widgets/controls",
            "_model_module_version": "1.5.0",
            "_view_count": null,
            "_view_module_version": "1.5.0",
            "box_style": "",
            "layout": "IPY_MODEL_1e8448834b1d4423bf548f863aea248e",
            "_model_module": "@jupyter-widgets/controls",
            "children": [
              "IPY_MODEL_25d14ef6f9c7460cb2488b5e52c6f2ee",
              "IPY_MODEL_4416a05a4b15479cb63b2a5e8d38db4a"
            ]
          }
        },
        "1e8448834b1d4423bf548f863aea248e": {
          "model_module": "@jupyter-widgets/base",
          "model_name": "LayoutModel",
          "state": {
            "_view_name": "LayoutView",
            "grid_template_rows": null,
            "right": null,
            "justify_content": null,
            "_view_module": "@jupyter-widgets/base",
            "overflow": null,
            "_model_module_version": "1.2.0",
            "_view_count": null,
            "flex_flow": null,
            "width": null,
            "min_width": null,
            "border": null,
            "align_items": null,
            "bottom": null,
            "_model_module": "@jupyter-widgets/base",
            "top": null,
            "grid_column": null,
            "overflow_y": null,
            "overflow_x": null,
            "grid_auto_flow": null,
            "grid_area": null,
            "grid_template_columns": null,
            "flex": null,
            "_model_name": "LayoutModel",
            "justify_items": null,
            "grid_row": null,
            "max_height": null,
            "align_content": null,
            "visibility": null,
            "align_self": null,
            "height": null,
            "min_height": null,
            "padding": null,
            "grid_auto_rows": null,
            "grid_gap": null,
            "max_width": null,
            "order": null,
            "_view_module_version": "1.2.0",
            "grid_template_areas": null,
            "object_position": null,
            "object_fit": null,
            "grid_auto_columns": null,
            "margin": null,
            "display": null,
            "left": null
          }
        },
        "25d14ef6f9c7460cb2488b5e52c6f2ee": {
          "model_module": "@jupyter-widgets/controls",
          "model_name": "FloatProgressModel",
          "state": {
            "_view_name": "ProgressView",
            "style": "IPY_MODEL_5c289e252437448892b454e809cd325b",
            "_dom_classes": [],
            "description": "Downloading: ",
            "_model_name": "FloatProgressModel",
            "bar_style": "success",
            "max": 1672,
            "_view_module": "@jupyter-widgets/controls",
            "_model_module_version": "1.5.0",
            "value": 1672,
            "_view_count": null,
            "_view_module_version": "1.5.0",
            "orientation": "horizontal",
            "min": 0,
            "description_tooltip": null,
            "_model_module": "@jupyter-widgets/controls",
            "layout": "IPY_MODEL_eb795294f83541afbe14dbb7ac3d8165"
          }
        },
        "4416a05a4b15479cb63b2a5e8d38db4a": {
          "model_module": "@jupyter-widgets/controls",
          "model_name": "HTMLModel",
          "state": {
            "_view_name": "HTMLView",
            "style": "IPY_MODEL_4cfbb05b12af4ec092c26bd6df1f84c0",
            "_dom_classes": [],
            "description": "",
            "_model_name": "HTMLModel",
            "placeholder": "​",
            "_view_module": "@jupyter-widgets/controls",
            "_model_module_version": "1.5.0",
            "value": " 7.03k/? [00:02&lt;00:00, 3.15kB/s]",
            "_view_count": null,
            "_view_module_version": "1.5.0",
            "description_tooltip": null,
            "_model_module": "@jupyter-widgets/controls",
            "layout": "IPY_MODEL_6e82f235e9ce4d28a8b8d0f4b2d12214"
          }
        },
        "5c289e252437448892b454e809cd325b": {
          "model_module": "@jupyter-widgets/controls",
          "model_name": "ProgressStyleModel",
          "state": {
            "_view_name": "StyleView",
            "_model_name": "ProgressStyleModel",
            "description_width": "initial",
            "_view_module": "@jupyter-widgets/base",
            "_model_module_version": "1.5.0",
            "_view_count": null,
            "_view_module_version": "1.2.0",
            "bar_color": null,
            "_model_module": "@jupyter-widgets/controls"
          }
        },
        "eb795294f83541afbe14dbb7ac3d8165": {
          "model_module": "@jupyter-widgets/base",
          "model_name": "LayoutModel",
          "state": {
            "_view_name": "LayoutView",
            "grid_template_rows": null,
            "right": null,
            "justify_content": null,
            "_view_module": "@jupyter-widgets/base",
            "overflow": null,
            "_model_module_version": "1.2.0",
            "_view_count": null,
            "flex_flow": null,
            "width": null,
            "min_width": null,
            "border": null,
            "align_items": null,
            "bottom": null,
            "_model_module": "@jupyter-widgets/base",
            "top": null,
            "grid_column": null,
            "overflow_y": null,
            "overflow_x": null,
            "grid_auto_flow": null,
            "grid_area": null,
            "grid_template_columns": null,
            "flex": null,
            "_model_name": "LayoutModel",
            "justify_items": null,
            "grid_row": null,
            "max_height": null,
            "align_content": null,
            "visibility": null,
            "align_self": null,
            "height": null,
            "min_height": null,
            "padding": null,
            "grid_auto_rows": null,
            "grid_gap": null,
            "max_width": null,
            "order": null,
            "_view_module_version": "1.2.0",
            "grid_template_areas": null,
            "object_position": null,
            "object_fit": null,
            "grid_auto_columns": null,
            "margin": null,
            "display": null,
            "left": null
          }
        },
        "4cfbb05b12af4ec092c26bd6df1f84c0": {
          "model_module": "@jupyter-widgets/controls",
          "model_name": "DescriptionStyleModel",
          "state": {
            "_view_name": "StyleView",
            "_model_name": "DescriptionStyleModel",
            "description_width": "",
            "_view_module": "@jupyter-widgets/base",
            "_model_module_version": "1.5.0",
            "_view_count": null,
            "_view_module_version": "1.2.0",
            "_model_module": "@jupyter-widgets/controls"
          }
        },
        "6e82f235e9ce4d28a8b8d0f4b2d12214": {
          "model_module": "@jupyter-widgets/base",
          "model_name": "LayoutModel",
          "state": {
            "_view_name": "LayoutView",
            "grid_template_rows": null,
            "right": null,
            "justify_content": null,
            "_view_module": "@jupyter-widgets/base",
            "overflow": null,
            "_model_module_version": "1.2.0",
            "_view_count": null,
            "flex_flow": null,
            "width": null,
            "min_width": null,
            "border": null,
            "align_items": null,
            "bottom": null,
            "_model_module": "@jupyter-widgets/base",
            "top": null,
            "grid_column": null,
            "overflow_y": null,
            "overflow_x": null,
            "grid_auto_flow": null,
            "grid_area": null,
            "grid_template_columns": null,
            "flex": null,
            "_model_name": "LayoutModel",
            "justify_items": null,
            "grid_row": null,
            "max_height": null,
            "align_content": null,
            "visibility": null,
            "align_self": null,
            "height": null,
            "min_height": null,
            "padding": null,
            "grid_auto_rows": null,
            "grid_gap": null,
            "max_width": null,
            "order": null,
            "_view_module_version": "1.2.0",
            "grid_template_areas": null,
            "object_position": null,
            "object_fit": null,
            "grid_auto_columns": null,
            "margin": null,
            "display": null,
            "left": null
          }
        },
        "0431d3239cf34b08b7352a8c71020296": {
          "model_module": "@jupyter-widgets/controls",
          "model_name": "HBoxModel",
          "state": {
            "_view_name": "HBoxView",
            "_dom_classes": [],
            "_model_name": "HBoxModel",
            "_view_module": "@jupyter-widgets/controls",
            "_model_module_version": "1.5.0",
            "_view_count": null,
            "_view_module_version": "1.5.0",
            "box_style": "",
            "layout": "IPY_MODEL_b5bb7b996f1a4f238ef3506ddaafa94c",
            "_model_module": "@jupyter-widgets/controls",
            "children": [
              "IPY_MODEL_118b0871e86c4eab82c44b8db9055066",
              "IPY_MODEL_71c5bc110d8c4903a910d03ccd4236d1"
            ]
          }
        },
        "b5bb7b996f1a4f238ef3506ddaafa94c": {
          "model_module": "@jupyter-widgets/base",
          "model_name": "LayoutModel",
          "state": {
            "_view_name": "LayoutView",
            "grid_template_rows": null,
            "right": null,
            "justify_content": null,
            "_view_module": "@jupyter-widgets/base",
            "overflow": null,
            "_model_module_version": "1.2.0",
            "_view_count": null,
            "flex_flow": null,
            "width": null,
            "min_width": null,
            "border": null,
            "align_items": null,
            "bottom": null,
            "_model_module": "@jupyter-widgets/base",
            "top": null,
            "grid_column": null,
            "overflow_y": null,
            "overflow_x": null,
            "grid_auto_flow": null,
            "grid_area": null,
            "grid_template_columns": null,
            "flex": null,
            "_model_name": "LayoutModel",
            "justify_items": null,
            "grid_row": null,
            "max_height": null,
            "align_content": null,
            "visibility": null,
            "align_self": null,
            "height": null,
            "min_height": null,
            "padding": null,
            "grid_auto_rows": null,
            "grid_gap": null,
            "max_width": null,
            "order": null,
            "_view_module_version": "1.2.0",
            "grid_template_areas": null,
            "object_position": null,
            "object_fit": null,
            "grid_auto_columns": null,
            "margin": null,
            "display": null,
            "left": null
          }
        },
        "118b0871e86c4eab82c44b8db9055066": {
          "model_module": "@jupyter-widgets/controls",
          "model_name": "FloatProgressModel",
          "state": {
            "_view_name": "ProgressView",
            "style": "IPY_MODEL_028cab7d896d4f01a8b453cc2eab23e9",
            "_dom_classes": [],
            "description": "Downloading: ",
            "_model_name": "FloatProgressModel",
            "bar_style": "success",
            "max": 1611423,
            "_view_module": "@jupyter-widgets/controls",
            "_model_module_version": "1.5.0",
            "value": 1611423,
            "_view_count": null,
            "_view_module_version": "1.5.0",
            "orientation": "horizontal",
            "min": 0,
            "description_tooltip": null,
            "_model_module": "@jupyter-widgets/controls",
            "layout": "IPY_MODEL_c13e40ec406145caa4115432235a19cc"
          }
        },
        "71c5bc110d8c4903a910d03ccd4236d1": {
          "model_module": "@jupyter-widgets/controls",
          "model_name": "HTMLModel",
          "state": {
            "_view_name": "HTMLView",
            "style": "IPY_MODEL_50a6831e85934a3895f13c02a4457725",
            "_dom_classes": [],
            "description": "",
            "_model_name": "HTMLModel",
            "placeholder": "​",
            "_view_module": "@jupyter-widgets/controls",
            "_model_module_version": "1.5.0",
            "value": " 3.52M/? [00:00&lt;00:00, 4.54MB/s]",
            "_view_count": null,
            "_view_module_version": "1.5.0",
            "description_tooltip": null,
            "_model_module": "@jupyter-widgets/controls",
            "layout": "IPY_MODEL_a1dd946b95cc484f9b50c7c4d1c1cb7e"
          }
        },
        "028cab7d896d4f01a8b453cc2eab23e9": {
          "model_module": "@jupyter-widgets/controls",
          "model_name": "ProgressStyleModel",
          "state": {
            "_view_name": "StyleView",
            "_model_name": "ProgressStyleModel",
            "description_width": "initial",
            "_view_module": "@jupyter-widgets/base",
            "_model_module_version": "1.5.0",
            "_view_count": null,
            "_view_module_version": "1.2.0",
            "bar_color": null,
            "_model_module": "@jupyter-widgets/controls"
          }
        },
        "c13e40ec406145caa4115432235a19cc": {
          "model_module": "@jupyter-widgets/base",
          "model_name": "LayoutModel",
          "state": {
            "_view_name": "LayoutView",
            "grid_template_rows": null,
            "right": null,
            "justify_content": null,
            "_view_module": "@jupyter-widgets/base",
            "overflow": null,
            "_model_module_version": "1.2.0",
            "_view_count": null,
            "flex_flow": null,
            "width": null,
            "min_width": null,
            "border": null,
            "align_items": null,
            "bottom": null,
            "_model_module": "@jupyter-widgets/base",
            "top": null,
            "grid_column": null,
            "overflow_y": null,
            "overflow_x": null,
            "grid_auto_flow": null,
            "grid_area": null,
            "grid_template_columns": null,
            "flex": null,
            "_model_name": "LayoutModel",
            "justify_items": null,
            "grid_row": null,
            "max_height": null,
            "align_content": null,
            "visibility": null,
            "align_self": null,
            "height": null,
            "min_height": null,
            "padding": null,
            "grid_auto_rows": null,
            "grid_gap": null,
            "max_width": null,
            "order": null,
            "_view_module_version": "1.2.0",
            "grid_template_areas": null,
            "object_position": null,
            "object_fit": null,
            "grid_auto_columns": null,
            "margin": null,
            "display": null,
            "left": null
          }
        },
        "50a6831e85934a3895f13c02a4457725": {
          "model_module": "@jupyter-widgets/controls",
          "model_name": "DescriptionStyleModel",
          "state": {
            "_view_name": "StyleView",
            "_model_name": "DescriptionStyleModel",
            "description_width": "",
            "_view_module": "@jupyter-widgets/base",
            "_model_module_version": "1.5.0",
            "_view_count": null,
            "_view_module_version": "1.2.0",
            "_model_module": "@jupyter-widgets/controls"
          }
        },
        "a1dd946b95cc484f9b50c7c4d1c1cb7e": {
          "model_module": "@jupyter-widgets/base",
          "model_name": "LayoutModel",
          "state": {
            "_view_name": "LayoutView",
            "grid_template_rows": null,
            "right": null,
            "justify_content": null,
            "_view_module": "@jupyter-widgets/base",
            "overflow": null,
            "_model_module_version": "1.2.0",
            "_view_count": null,
            "flex_flow": null,
            "width": null,
            "min_width": null,
            "border": null,
            "align_items": null,
            "bottom": null,
            "_model_module": "@jupyter-widgets/base",
            "top": null,
            "grid_column": null,
            "overflow_y": null,
            "overflow_x": null,
            "grid_auto_flow": null,
            "grid_area": null,
            "grid_template_columns": null,
            "flex": null,
            "_model_name": "LayoutModel",
            "justify_items": null,
            "grid_row": null,
            "max_height": null,
            "align_content": null,
            "visibility": null,
            "align_self": null,
            "height": null,
            "min_height": null,
            "padding": null,
            "grid_auto_rows": null,
            "grid_gap": null,
            "max_width": null,
            "order": null,
            "_view_module_version": "1.2.0",
            "grid_template_areas": null,
            "object_position": null,
            "object_fit": null,
            "grid_auto_columns": null,
            "margin": null,
            "display": null,
            "left": null
          }
        },
        "2b568ed0fe4c45a1bcf8417a6ab28d9d": {
          "model_module": "@jupyter-widgets/controls",
          "model_name": "HBoxModel",
          "state": {
            "_view_name": "HBoxView",
            "_dom_classes": [],
            "_model_name": "HBoxModel",
            "_view_module": "@jupyter-widgets/controls",
            "_model_module_version": "1.5.0",
            "_view_count": null,
            "_view_module_version": "1.5.0",
            "box_style": "",
            "layout": "IPY_MODEL_0a0954a2cd9345a5ae6cb42024895f6b",
            "_model_module": "@jupyter-widgets/controls",
            "children": [
              "IPY_MODEL_7dbb10dc54e942c197b490ca1eee3c0b",
              "IPY_MODEL_27c9f3104891467092bcc7ec331620cd"
            ]
          }
        },
        "0a0954a2cd9345a5ae6cb42024895f6b": {
          "model_module": "@jupyter-widgets/base",
          "model_name": "LayoutModel",
          "state": {
            "_view_name": "LayoutView",
            "grid_template_rows": null,
            "right": null,
            "justify_content": null,
            "_view_module": "@jupyter-widgets/base",
            "overflow": null,
            "_model_module_version": "1.2.0",
            "_view_count": null,
            "flex_flow": null,
            "width": null,
            "min_width": null,
            "border": null,
            "align_items": null,
            "bottom": null,
            "_model_module": "@jupyter-widgets/base",
            "top": null,
            "grid_column": null,
            "overflow_y": null,
            "overflow_x": null,
            "grid_auto_flow": null,
            "grid_area": null,
            "grid_template_columns": null,
            "flex": null,
            "_model_name": "LayoutModel",
            "justify_items": null,
            "grid_row": null,
            "max_height": null,
            "align_content": null,
            "visibility": null,
            "align_self": null,
            "height": null,
            "min_height": null,
            "padding": null,
            "grid_auto_rows": null,
            "grid_gap": null,
            "max_width": null,
            "order": null,
            "_view_module_version": "1.2.0",
            "grid_template_areas": null,
            "object_position": null,
            "object_fit": null,
            "grid_auto_columns": null,
            "margin": null,
            "display": null,
            "left": null
          }
        },
        "7dbb10dc54e942c197b490ca1eee3c0b": {
          "model_module": "@jupyter-widgets/controls",
          "model_name": "FloatProgressModel",
          "state": {
            "_view_name": "ProgressView",
            "style": "IPY_MODEL_ded4c15c31ba4f07b06d808b8c19c75c",
            "_dom_classes": [],
            "description": "Downloading: ",
            "_model_name": "FloatProgressModel",
            "bar_style": "success",
            "max": 202559,
            "_view_module": "@jupyter-widgets/controls",
            "_model_module_version": "1.5.0",
            "value": 202559,
            "_view_count": null,
            "_view_module_version": "1.5.0",
            "orientation": "horizontal",
            "min": 0,
            "description_tooltip": null,
            "_model_module": "@jupyter-widgets/controls",
            "layout": "IPY_MODEL_4d6201cc47a04e2da83dd1666bbb0e14"
          }
        },
        "27c9f3104891467092bcc7ec331620cd": {
          "model_module": "@jupyter-widgets/controls",
          "model_name": "HTMLModel",
          "state": {
            "_view_name": "HTMLView",
            "style": "IPY_MODEL_f4f0c1c3310d4b0bacdd7c144204d525",
            "_dom_classes": [],
            "description": "",
            "_model_name": "HTMLModel",
            "placeholder": "​",
            "_view_module": "@jupyter-widgets/controls",
            "_model_module_version": "1.5.0",
            "value": " 439k/? [00:00&lt;00:00, 1.29MB/s]",
            "_view_count": null,
            "_view_module_version": "1.5.0",
            "description_tooltip": null,
            "_model_module": "@jupyter-widgets/controls",
            "layout": "IPY_MODEL_8ef9abb45695417194e557e066acc76b"
          }
        },
        "ded4c15c31ba4f07b06d808b8c19c75c": {
          "model_module": "@jupyter-widgets/controls",
          "model_name": "ProgressStyleModel",
          "state": {
            "_view_name": "StyleView",
            "_model_name": "ProgressStyleModel",
            "description_width": "initial",
            "_view_module": "@jupyter-widgets/base",
            "_model_module_version": "1.5.0",
            "_view_count": null,
            "_view_module_version": "1.2.0",
            "bar_color": null,
            "_model_module": "@jupyter-widgets/controls"
          }
        },
        "4d6201cc47a04e2da83dd1666bbb0e14": {
          "model_module": "@jupyter-widgets/base",
          "model_name": "LayoutModel",
          "state": {
            "_view_name": "LayoutView",
            "grid_template_rows": null,
            "right": null,
            "justify_content": null,
            "_view_module": "@jupyter-widgets/base",
            "overflow": null,
            "_model_module_version": "1.2.0",
            "_view_count": null,
            "flex_flow": null,
            "width": null,
            "min_width": null,
            "border": null,
            "align_items": null,
            "bottom": null,
            "_model_module": "@jupyter-widgets/base",
            "top": null,
            "grid_column": null,
            "overflow_y": null,
            "overflow_x": null,
            "grid_auto_flow": null,
            "grid_area": null,
            "grid_template_columns": null,
            "flex": null,
            "_model_name": "LayoutModel",
            "justify_items": null,
            "grid_row": null,
            "max_height": null,
            "align_content": null,
            "visibility": null,
            "align_self": null,
            "height": null,
            "min_height": null,
            "padding": null,
            "grid_auto_rows": null,
            "grid_gap": null,
            "max_width": null,
            "order": null,
            "_view_module_version": "1.2.0",
            "grid_template_areas": null,
            "object_position": null,
            "object_fit": null,
            "grid_auto_columns": null,
            "margin": null,
            "display": null,
            "left": null
          }
        },
        "f4f0c1c3310d4b0bacdd7c144204d525": {
          "model_module": "@jupyter-widgets/controls",
          "model_name": "DescriptionStyleModel",
          "state": {
            "_view_name": "StyleView",
            "_model_name": "DescriptionStyleModel",
            "description_width": "",
            "_view_module": "@jupyter-widgets/base",
            "_model_module_version": "1.5.0",
            "_view_count": null,
            "_view_module_version": "1.2.0",
            "_model_module": "@jupyter-widgets/controls"
          }
        },
        "8ef9abb45695417194e557e066acc76b": {
          "model_module": "@jupyter-widgets/base",
          "model_name": "LayoutModel",
          "state": {
            "_view_name": "LayoutView",
            "grid_template_rows": null,
            "right": null,
            "justify_content": null,
            "_view_module": "@jupyter-widgets/base",
            "overflow": null,
            "_model_module_version": "1.2.0",
            "_view_count": null,
            "flex_flow": null,
            "width": null,
            "min_width": null,
            "border": null,
            "align_items": null,
            "bottom": null,
            "_model_module": "@jupyter-widgets/base",
            "top": null,
            "grid_column": null,
            "overflow_y": null,
            "overflow_x": null,
            "grid_auto_flow": null,
            "grid_area": null,
            "grid_template_columns": null,
            "flex": null,
            "_model_name": "LayoutModel",
            "justify_items": null,
            "grid_row": null,
            "max_height": null,
            "align_content": null,
            "visibility": null,
            "align_self": null,
            "height": null,
            "min_height": null,
            "padding": null,
            "grid_auto_rows": null,
            "grid_gap": null,
            "max_width": null,
            "order": null,
            "_view_module_version": "1.2.0",
            "grid_template_areas": null,
            "object_position": null,
            "object_fit": null,
            "grid_auto_columns": null,
            "margin": null,
            "display": null,
            "left": null
          }
        },
        "cf35d2154c3c44d2ab607fdab84ce5d7": {
          "model_module": "@jupyter-widgets/controls",
          "model_name": "HBoxModel",
          "state": {
            "_view_name": "HBoxView",
            "_dom_classes": [],
            "_model_name": "HBoxModel",
            "_view_module": "@jupyter-widgets/controls",
            "_model_module_version": "1.5.0",
            "_view_count": null,
            "_view_module_version": "1.5.0",
            "box_style": "",
            "layout": "IPY_MODEL_a51d8dcfc8514e92b3330f8c8ce291d3",
            "_model_module": "@jupyter-widgets/controls",
            "children": [
              "IPY_MODEL_42a574cc9c6c42d1b1a03c713cb7da37",
              "IPY_MODEL_a2af0812df0f47289cc38e208db30a00"
            ]
          }
        },
        "a51d8dcfc8514e92b3330f8c8ce291d3": {
          "model_module": "@jupyter-widgets/base",
          "model_name": "LayoutModel",
          "state": {
            "_view_name": "LayoutView",
            "grid_template_rows": null,
            "right": null,
            "justify_content": null,
            "_view_module": "@jupyter-widgets/base",
            "overflow": null,
            "_model_module_version": "1.2.0",
            "_view_count": null,
            "flex_flow": null,
            "width": null,
            "min_width": null,
            "border": null,
            "align_items": null,
            "bottom": null,
            "_model_module": "@jupyter-widgets/base",
            "top": null,
            "grid_column": null,
            "overflow_y": null,
            "overflow_x": null,
            "grid_auto_flow": null,
            "grid_area": null,
            "grid_template_columns": null,
            "flex": null,
            "_model_name": "LayoutModel",
            "justify_items": null,
            "grid_row": null,
            "max_height": null,
            "align_content": null,
            "visibility": null,
            "align_self": null,
            "height": null,
            "min_height": null,
            "padding": null,
            "grid_auto_rows": null,
            "grid_gap": null,
            "max_width": null,
            "order": null,
            "_view_module_version": "1.2.0",
            "grid_template_areas": null,
            "object_position": null,
            "object_fit": null,
            "grid_auto_columns": null,
            "margin": null,
            "display": null,
            "left": null
          }
        },
        "42a574cc9c6c42d1b1a03c713cb7da37": {
          "model_module": "@jupyter-widgets/controls",
          "model_name": "FloatProgressModel",
          "state": {
            "_view_name": "ProgressView",
            "style": "IPY_MODEL_bdf1e91e755c43c9ac80d8eb7fb125dd",
            "_dom_classes": [],
            "description": "Downloading: ",
            "_model_name": "FloatProgressModel",
            "bar_style": "success",
            "max": 201089,
            "_view_module": "@jupyter-widgets/controls",
            "_model_module_version": "1.5.0",
            "value": 201089,
            "_view_count": null,
            "_view_module_version": "1.5.0",
            "orientation": "horizontal",
            "min": 0,
            "description_tooltip": null,
            "_model_module": "@jupyter-widgets/controls",
            "layout": "IPY_MODEL_7c9d1a3fee4547568793deabce56af7a"
          }
        },
        "a2af0812df0f47289cc38e208db30a00": {
          "model_module": "@jupyter-widgets/controls",
          "model_name": "HTMLModel",
          "state": {
            "_view_name": "HTMLView",
            "style": "IPY_MODEL_4e45023ca55644bfb15a36ba6063edef",
            "_dom_classes": [],
            "description": "",
            "_model_name": "HTMLModel",
            "placeholder": "​",
            "_view_module": "@jupyter-widgets/controls",
            "_model_module_version": "1.5.0",
            "value": " 437k/? [00:00&lt;00:00, 3.86MB/s]",
            "_view_count": null,
            "_view_module_version": "1.5.0",
            "description_tooltip": null,
            "_model_module": "@jupyter-widgets/controls",
            "layout": "IPY_MODEL_5f68c603a5024ad0b03b79e9f21121c5"
          }
        },
        "bdf1e91e755c43c9ac80d8eb7fb125dd": {
          "model_module": "@jupyter-widgets/controls",
          "model_name": "ProgressStyleModel",
          "state": {
            "_view_name": "StyleView",
            "_model_name": "ProgressStyleModel",
            "description_width": "initial",
            "_view_module": "@jupyter-widgets/base",
            "_model_module_version": "1.5.0",
            "_view_count": null,
            "_view_module_version": "1.2.0",
            "bar_color": null,
            "_model_module": "@jupyter-widgets/controls"
          }
        },
        "7c9d1a3fee4547568793deabce56af7a": {
          "model_module": "@jupyter-widgets/base",
          "model_name": "LayoutModel",
          "state": {
            "_view_name": "LayoutView",
            "grid_template_rows": null,
            "right": null,
            "justify_content": null,
            "_view_module": "@jupyter-widgets/base",
            "overflow": null,
            "_model_module_version": "1.2.0",
            "_view_count": null,
            "flex_flow": null,
            "width": null,
            "min_width": null,
            "border": null,
            "align_items": null,
            "bottom": null,
            "_model_module": "@jupyter-widgets/base",
            "top": null,
            "grid_column": null,
            "overflow_y": null,
            "overflow_x": null,
            "grid_auto_flow": null,
            "grid_area": null,
            "grid_template_columns": null,
            "flex": null,
            "_model_name": "LayoutModel",
            "justify_items": null,
            "grid_row": null,
            "max_height": null,
            "align_content": null,
            "visibility": null,
            "align_self": null,
            "height": null,
            "min_height": null,
            "padding": null,
            "grid_auto_rows": null,
            "grid_gap": null,
            "max_width": null,
            "order": null,
            "_view_module_version": "1.2.0",
            "grid_template_areas": null,
            "object_position": null,
            "object_fit": null,
            "grid_auto_columns": null,
            "margin": null,
            "display": null,
            "left": null
          }
        },
        "4e45023ca55644bfb15a36ba6063edef": {
          "model_module": "@jupyter-widgets/controls",
          "model_name": "DescriptionStyleModel",
          "state": {
            "_view_name": "StyleView",
            "_model_name": "DescriptionStyleModel",
            "description_width": "",
            "_view_module": "@jupyter-widgets/base",
            "_model_module_version": "1.5.0",
            "_view_count": null,
            "_view_module_version": "1.2.0",
            "_model_module": "@jupyter-widgets/controls"
          }
        },
        "5f68c603a5024ad0b03b79e9f21121c5": {
          "model_module": "@jupyter-widgets/base",
          "model_name": "LayoutModel",
          "state": {
            "_view_name": "LayoutView",
            "grid_template_rows": null,
            "right": null,
            "justify_content": null,
            "_view_module": "@jupyter-widgets/base",
            "overflow": null,
            "_model_module_version": "1.2.0",
            "_view_count": null,
            "flex_flow": null,
            "width": null,
            "min_width": null,
            "border": null,
            "align_items": null,
            "bottom": null,
            "_model_module": "@jupyter-widgets/base",
            "top": null,
            "grid_column": null,
            "overflow_y": null,
            "overflow_x": null,
            "grid_auto_flow": null,
            "grid_area": null,
            "grid_template_columns": null,
            "flex": null,
            "_model_name": "LayoutModel",
            "justify_items": null,
            "grid_row": null,
            "max_height": null,
            "align_content": null,
            "visibility": null,
            "align_self": null,
            "height": null,
            "min_height": null,
            "padding": null,
            "grid_auto_rows": null,
            "grid_gap": null,
            "max_width": null,
            "order": null,
            "_view_module_version": "1.2.0",
            "grid_template_areas": null,
            "object_position": null,
            "object_fit": null,
            "grid_auto_columns": null,
            "margin": null,
            "display": null,
            "left": null
          }
        },
        "7cd9fff4249b4c95b26fb4348165390f": {
          "model_module": "@jupyter-widgets/controls",
          "model_name": "HBoxModel",
          "state": {
            "_view_name": "HBoxView",
            "_dom_classes": [],
            "_model_name": "HBoxModel",
            "_view_module": "@jupyter-widgets/controls",
            "_model_module_version": "1.5.0",
            "_view_count": null,
            "_view_module_version": "1.5.0",
            "box_style": "",
            "layout": "IPY_MODEL_67c9b304e6a94a8289ab26192b9bf782",
            "_model_module": "@jupyter-widgets/controls",
            "children": [
              "IPY_MODEL_04046c40d599411cb96e982d2a5fd235",
              "IPY_MODEL_4a0c6971956a49c4979eae8682c9a294"
            ]
          }
        },
        "67c9b304e6a94a8289ab26192b9bf782": {
          "model_module": "@jupyter-widgets/base",
          "model_name": "LayoutModel",
          "state": {
            "_view_name": "LayoutView",
            "grid_template_rows": null,
            "right": null,
            "justify_content": null,
            "_view_module": "@jupyter-widgets/base",
            "overflow": null,
            "_model_module_version": "1.2.0",
            "_view_count": null,
            "flex_flow": null,
            "width": null,
            "min_width": null,
            "border": null,
            "align_items": null,
            "bottom": null,
            "_model_module": "@jupyter-widgets/base",
            "top": null,
            "grid_column": null,
            "overflow_y": null,
            "overflow_x": null,
            "grid_auto_flow": null,
            "grid_area": null,
            "grid_template_columns": null,
            "flex": null,
            "_model_name": "LayoutModel",
            "justify_items": null,
            "grid_row": null,
            "max_height": null,
            "align_content": null,
            "visibility": null,
            "align_self": null,
            "height": null,
            "min_height": null,
            "padding": null,
            "grid_auto_rows": null,
            "grid_gap": null,
            "max_width": null,
            "order": null,
            "_view_module_version": "1.2.0",
            "grid_template_areas": null,
            "object_position": null,
            "object_fit": null,
            "grid_auto_columns": null,
            "margin": null,
            "display": null,
            "left": null
          }
        },
        "04046c40d599411cb96e982d2a5fd235": {
          "model_module": "@jupyter-widgets/controls",
          "model_name": "FloatProgressModel",
          "state": {
            "_view_name": "ProgressView",
            "style": "IPY_MODEL_90cc92aec80142788530a78da9ac55ec",
            "_dom_classes": [],
            "description": "",
            "_model_name": "FloatProgressModel",
            "bar_style": "info",
            "max": 1,
            "_view_module": "@jupyter-widgets/controls",
            "_model_module_version": "1.5.0",
            "value": 1,
            "_view_count": null,
            "_view_module_version": "1.5.0",
            "orientation": "horizontal",
            "min": 0,
            "description_tooltip": null,
            "_model_module": "@jupyter-widgets/controls",
            "layout": "IPY_MODEL_1ee89b25f4ad48b49234dd165e7cbc9a"
          }
        },
        "4a0c6971956a49c4979eae8682c9a294": {
          "model_module": "@jupyter-widgets/controls",
          "model_name": "HTMLModel",
          "state": {
            "_view_name": "HTMLView",
            "style": "IPY_MODEL_50915845eb124dd0a7270bcc84ac902e",
            "_dom_classes": [],
            "description": "",
            "_model_name": "HTMLModel",
            "placeholder": "​",
            "_view_module": "@jupyter-widgets/controls",
            "_model_module_version": "1.5.0",
            "value": " 43410/0 [00:06&lt;00:00, 10.53 examples/s]",
            "_view_count": null,
            "_view_module_version": "1.5.0",
            "description_tooltip": null,
            "_model_module": "@jupyter-widgets/controls",
            "layout": "IPY_MODEL_f0c894c2841b4729936b8e2472d9cdc0"
          }
        },
        "90cc92aec80142788530a78da9ac55ec": {
          "model_module": "@jupyter-widgets/controls",
          "model_name": "ProgressStyleModel",
          "state": {
            "_view_name": "StyleView",
            "_model_name": "ProgressStyleModel",
            "description_width": "initial",
            "_view_module": "@jupyter-widgets/base",
            "_model_module_version": "1.5.0",
            "_view_count": null,
            "_view_module_version": "1.2.0",
            "bar_color": null,
            "_model_module": "@jupyter-widgets/controls"
          }
        },
        "1ee89b25f4ad48b49234dd165e7cbc9a": {
          "model_module": "@jupyter-widgets/base",
          "model_name": "LayoutModel",
          "state": {
            "_view_name": "LayoutView",
            "grid_template_rows": null,
            "right": null,
            "justify_content": null,
            "_view_module": "@jupyter-widgets/base",
            "overflow": null,
            "_model_module_version": "1.2.0",
            "_view_count": null,
            "flex_flow": null,
            "width": null,
            "min_width": null,
            "border": null,
            "align_items": null,
            "bottom": null,
            "_model_module": "@jupyter-widgets/base",
            "top": null,
            "grid_column": null,
            "overflow_y": null,
            "overflow_x": null,
            "grid_auto_flow": null,
            "grid_area": null,
            "grid_template_columns": null,
            "flex": null,
            "_model_name": "LayoutModel",
            "justify_items": null,
            "grid_row": null,
            "max_height": null,
            "align_content": null,
            "visibility": null,
            "align_self": null,
            "height": null,
            "min_height": null,
            "padding": null,
            "grid_auto_rows": null,
            "grid_gap": null,
            "max_width": null,
            "order": null,
            "_view_module_version": "1.2.0",
            "grid_template_areas": null,
            "object_position": null,
            "object_fit": null,
            "grid_auto_columns": null,
            "margin": null,
            "display": null,
            "left": null
          }
        },
        "50915845eb124dd0a7270bcc84ac902e": {
          "model_module": "@jupyter-widgets/controls",
          "model_name": "DescriptionStyleModel",
          "state": {
            "_view_name": "StyleView",
            "_model_name": "DescriptionStyleModel",
            "description_width": "",
            "_view_module": "@jupyter-widgets/base",
            "_model_module_version": "1.5.0",
            "_view_count": null,
            "_view_module_version": "1.2.0",
            "_model_module": "@jupyter-widgets/controls"
          }
        },
        "f0c894c2841b4729936b8e2472d9cdc0": {
          "model_module": "@jupyter-widgets/base",
          "model_name": "LayoutModel",
          "state": {
            "_view_name": "LayoutView",
            "grid_template_rows": null,
            "right": null,
            "justify_content": null,
            "_view_module": "@jupyter-widgets/base",
            "overflow": null,
            "_model_module_version": "1.2.0",
            "_view_count": null,
            "flex_flow": null,
            "width": null,
            "min_width": null,
            "border": null,
            "align_items": null,
            "bottom": null,
            "_model_module": "@jupyter-widgets/base",
            "top": null,
            "grid_column": null,
            "overflow_y": null,
            "overflow_x": null,
            "grid_auto_flow": null,
            "grid_area": null,
            "grid_template_columns": null,
            "flex": null,
            "_model_name": "LayoutModel",
            "justify_items": null,
            "grid_row": null,
            "max_height": null,
            "align_content": null,
            "visibility": null,
            "align_self": null,
            "height": null,
            "min_height": null,
            "padding": null,
            "grid_auto_rows": null,
            "grid_gap": null,
            "max_width": null,
            "order": null,
            "_view_module_version": "1.2.0",
            "grid_template_areas": null,
            "object_position": null,
            "object_fit": null,
            "grid_auto_columns": null,
            "margin": null,
            "display": null,
            "left": null
          }
        },
        "8d948efd9bdb4d33b97addc709ec0370": {
          "model_module": "@jupyter-widgets/controls",
          "model_name": "HBoxModel",
          "state": {
            "_view_name": "HBoxView",
            "_dom_classes": [],
            "_model_name": "HBoxModel",
            "_view_module": "@jupyter-widgets/controls",
            "_model_module_version": "1.5.0",
            "_view_count": null,
            "_view_module_version": "1.5.0",
            "box_style": "",
            "layout": "IPY_MODEL_f212964c052040c980a85dd78825515e",
            "_model_module": "@jupyter-widgets/controls",
            "children": [
              "IPY_MODEL_5c04d68d772a4f7a9557483f3a41e516",
              "IPY_MODEL_9dc03d6a967645669f24bee6d209c5e2"
            ]
          }
        },
        "f212964c052040c980a85dd78825515e": {
          "model_module": "@jupyter-widgets/base",
          "model_name": "LayoutModel",
          "state": {
            "_view_name": "LayoutView",
            "grid_template_rows": null,
            "right": null,
            "justify_content": null,
            "_view_module": "@jupyter-widgets/base",
            "overflow": null,
            "_model_module_version": "1.2.0",
            "_view_count": null,
            "flex_flow": null,
            "width": null,
            "min_width": null,
            "border": null,
            "align_items": null,
            "bottom": null,
            "_model_module": "@jupyter-widgets/base",
            "top": null,
            "grid_column": null,
            "overflow_y": null,
            "overflow_x": null,
            "grid_auto_flow": null,
            "grid_area": null,
            "grid_template_columns": null,
            "flex": null,
            "_model_name": "LayoutModel",
            "justify_items": null,
            "grid_row": null,
            "max_height": null,
            "align_content": null,
            "visibility": null,
            "align_self": null,
            "height": null,
            "min_height": null,
            "padding": null,
            "grid_auto_rows": null,
            "grid_gap": null,
            "max_width": null,
            "order": null,
            "_view_module_version": "1.2.0",
            "grid_template_areas": null,
            "object_position": null,
            "object_fit": null,
            "grid_auto_columns": null,
            "margin": null,
            "display": null,
            "left": null
          }
        },
        "5c04d68d772a4f7a9557483f3a41e516": {
          "model_module": "@jupyter-widgets/controls",
          "model_name": "FloatProgressModel",
          "state": {
            "_view_name": "ProgressView",
            "style": "IPY_MODEL_50ee308306ca4066b4fff5ca62ad1943",
            "_dom_classes": [],
            "description": "",
            "_model_name": "FloatProgressModel",
            "bar_style": "info",
            "max": 1,
            "_view_module": "@jupyter-widgets/controls",
            "_model_module_version": "1.5.0",
            "value": 1,
            "_view_count": null,
            "_view_module_version": "1.5.0",
            "orientation": "horizontal",
            "min": 0,
            "description_tooltip": null,
            "_model_module": "@jupyter-widgets/controls",
            "layout": "IPY_MODEL_14e1ce1833524f95aa1d375f10a7feb9"
          }
        },
        "9dc03d6a967645669f24bee6d209c5e2": {
          "model_module": "@jupyter-widgets/controls",
          "model_name": "HTMLModel",
          "state": {
            "_view_name": "HTMLView",
            "style": "IPY_MODEL_c3e41a4597874d299ebaf5556b7cfa8a",
            "_dom_classes": [],
            "description": "",
            "_model_name": "HTMLModel",
            "placeholder": "​",
            "_view_module": "@jupyter-widgets/controls",
            "_model_module_version": "1.5.0",
            "value": " 5426/0 [00:00&lt;00:00, 20819.18 examples/s]",
            "_view_count": null,
            "_view_module_version": "1.5.0",
            "description_tooltip": null,
            "_model_module": "@jupyter-widgets/controls",
            "layout": "IPY_MODEL_67aafab529d54ef0a51e57ce24aa0e29"
          }
        },
        "50ee308306ca4066b4fff5ca62ad1943": {
          "model_module": "@jupyter-widgets/controls",
          "model_name": "ProgressStyleModel",
          "state": {
            "_view_name": "StyleView",
            "_model_name": "ProgressStyleModel",
            "description_width": "initial",
            "_view_module": "@jupyter-widgets/base",
            "_model_module_version": "1.5.0",
            "_view_count": null,
            "_view_module_version": "1.2.0",
            "bar_color": null,
            "_model_module": "@jupyter-widgets/controls"
          }
        },
        "14e1ce1833524f95aa1d375f10a7feb9": {
          "model_module": "@jupyter-widgets/base",
          "model_name": "LayoutModel",
          "state": {
            "_view_name": "LayoutView",
            "grid_template_rows": null,
            "right": null,
            "justify_content": null,
            "_view_module": "@jupyter-widgets/base",
            "overflow": null,
            "_model_module_version": "1.2.0",
            "_view_count": null,
            "flex_flow": null,
            "width": null,
            "min_width": null,
            "border": null,
            "align_items": null,
            "bottom": null,
            "_model_module": "@jupyter-widgets/base",
            "top": null,
            "grid_column": null,
            "overflow_y": null,
            "overflow_x": null,
            "grid_auto_flow": null,
            "grid_area": null,
            "grid_template_columns": null,
            "flex": null,
            "_model_name": "LayoutModel",
            "justify_items": null,
            "grid_row": null,
            "max_height": null,
            "align_content": null,
            "visibility": null,
            "align_self": null,
            "height": null,
            "min_height": null,
            "padding": null,
            "grid_auto_rows": null,
            "grid_gap": null,
            "max_width": null,
            "order": null,
            "_view_module_version": "1.2.0",
            "grid_template_areas": null,
            "object_position": null,
            "object_fit": null,
            "grid_auto_columns": null,
            "margin": null,
            "display": null,
            "left": null
          }
        },
        "c3e41a4597874d299ebaf5556b7cfa8a": {
          "model_module": "@jupyter-widgets/controls",
          "model_name": "DescriptionStyleModel",
          "state": {
            "_view_name": "StyleView",
            "_model_name": "DescriptionStyleModel",
            "description_width": "",
            "_view_module": "@jupyter-widgets/base",
            "_model_module_version": "1.5.0",
            "_view_count": null,
            "_view_module_version": "1.2.0",
            "_model_module": "@jupyter-widgets/controls"
          }
        },
        "67aafab529d54ef0a51e57ce24aa0e29": {
          "model_module": "@jupyter-widgets/base",
          "model_name": "LayoutModel",
          "state": {
            "_view_name": "LayoutView",
            "grid_template_rows": null,
            "right": null,
            "justify_content": null,
            "_view_module": "@jupyter-widgets/base",
            "overflow": null,
            "_model_module_version": "1.2.0",
            "_view_count": null,
            "flex_flow": null,
            "width": null,
            "min_width": null,
            "border": null,
            "align_items": null,
            "bottom": null,
            "_model_module": "@jupyter-widgets/base",
            "top": null,
            "grid_column": null,
            "overflow_y": null,
            "overflow_x": null,
            "grid_auto_flow": null,
            "grid_area": null,
            "grid_template_columns": null,
            "flex": null,
            "_model_name": "LayoutModel",
            "justify_items": null,
            "grid_row": null,
            "max_height": null,
            "align_content": null,
            "visibility": null,
            "align_self": null,
            "height": null,
            "min_height": null,
            "padding": null,
            "grid_auto_rows": null,
            "grid_gap": null,
            "max_width": null,
            "order": null,
            "_view_module_version": "1.2.0",
            "grid_template_areas": null,
            "object_position": null,
            "object_fit": null,
            "grid_auto_columns": null,
            "margin": null,
            "display": null,
            "left": null
          }
        },
        "baadf28b4dc6410aa0db5e5330aa8221": {
          "model_module": "@jupyter-widgets/controls",
          "model_name": "HBoxModel",
          "state": {
            "_view_name": "HBoxView",
            "_dom_classes": [],
            "_model_name": "HBoxModel",
            "_view_module": "@jupyter-widgets/controls",
            "_model_module_version": "1.5.0",
            "_view_count": null,
            "_view_module_version": "1.5.0",
            "box_style": "",
            "layout": "IPY_MODEL_24acc3c736f0482eaa8e9f07d40f2bf2",
            "_model_module": "@jupyter-widgets/controls",
            "children": [
              "IPY_MODEL_996b6db98b6f40d0ac18ac502238c1d5",
              "IPY_MODEL_ac2fd9362e9c4f0abca826d31cf6ad61"
            ]
          }
        },
        "24acc3c736f0482eaa8e9f07d40f2bf2": {
          "model_module": "@jupyter-widgets/base",
          "model_name": "LayoutModel",
          "state": {
            "_view_name": "LayoutView",
            "grid_template_rows": null,
            "right": null,
            "justify_content": null,
            "_view_module": "@jupyter-widgets/base",
            "overflow": null,
            "_model_module_version": "1.2.0",
            "_view_count": null,
            "flex_flow": null,
            "width": null,
            "min_width": null,
            "border": null,
            "align_items": null,
            "bottom": null,
            "_model_module": "@jupyter-widgets/base",
            "top": null,
            "grid_column": null,
            "overflow_y": null,
            "overflow_x": null,
            "grid_auto_flow": null,
            "grid_area": null,
            "grid_template_columns": null,
            "flex": null,
            "_model_name": "LayoutModel",
            "justify_items": null,
            "grid_row": null,
            "max_height": null,
            "align_content": null,
            "visibility": null,
            "align_self": null,
            "height": null,
            "min_height": null,
            "padding": null,
            "grid_auto_rows": null,
            "grid_gap": null,
            "max_width": null,
            "order": null,
            "_view_module_version": "1.2.0",
            "grid_template_areas": null,
            "object_position": null,
            "object_fit": null,
            "grid_auto_columns": null,
            "margin": null,
            "display": null,
            "left": null
          }
        },
        "996b6db98b6f40d0ac18ac502238c1d5": {
          "model_module": "@jupyter-widgets/controls",
          "model_name": "FloatProgressModel",
          "state": {
            "_view_name": "ProgressView",
            "style": "IPY_MODEL_a29ead4301044af099c9105862c81b50",
            "_dom_classes": [],
            "description": "",
            "_model_name": "FloatProgressModel",
            "bar_style": "info",
            "max": 1,
            "_view_module": "@jupyter-widgets/controls",
            "_model_module_version": "1.5.0",
            "value": 1,
            "_view_count": null,
            "_view_module_version": "1.5.0",
            "orientation": "horizontal",
            "min": 0,
            "description_tooltip": null,
            "_model_module": "@jupyter-widgets/controls",
            "layout": "IPY_MODEL_2ecb8c5497414ecab5412bffb13c11b3"
          }
        },
        "ac2fd9362e9c4f0abca826d31cf6ad61": {
          "model_module": "@jupyter-widgets/controls",
          "model_name": "HTMLModel",
          "state": {
            "_view_name": "HTMLView",
            "style": "IPY_MODEL_f5f3d2c7e8e641e3878e1e466577a2db",
            "_dom_classes": [],
            "description": "",
            "_model_name": "HTMLModel",
            "placeholder": "​",
            "_view_module": "@jupyter-widgets/controls",
            "_model_module_version": "1.5.0",
            "value": " 5427/0 [00:00&lt;00:00, 22449.06 examples/s]",
            "_view_count": null,
            "_view_module_version": "1.5.0",
            "description_tooltip": null,
            "_model_module": "@jupyter-widgets/controls",
            "layout": "IPY_MODEL_5eb6c85e214d433293e2577bad737e2a"
          }
        },
        "a29ead4301044af099c9105862c81b50": {
          "model_module": "@jupyter-widgets/controls",
          "model_name": "ProgressStyleModel",
          "state": {
            "_view_name": "StyleView",
            "_model_name": "ProgressStyleModel",
            "description_width": "initial",
            "_view_module": "@jupyter-widgets/base",
            "_model_module_version": "1.5.0",
            "_view_count": null,
            "_view_module_version": "1.2.0",
            "bar_color": null,
            "_model_module": "@jupyter-widgets/controls"
          }
        },
        "2ecb8c5497414ecab5412bffb13c11b3": {
          "model_module": "@jupyter-widgets/base",
          "model_name": "LayoutModel",
          "state": {
            "_view_name": "LayoutView",
            "grid_template_rows": null,
            "right": null,
            "justify_content": null,
            "_view_module": "@jupyter-widgets/base",
            "overflow": null,
            "_model_module_version": "1.2.0",
            "_view_count": null,
            "flex_flow": null,
            "width": null,
            "min_width": null,
            "border": null,
            "align_items": null,
            "bottom": null,
            "_model_module": "@jupyter-widgets/base",
            "top": null,
            "grid_column": null,
            "overflow_y": null,
            "overflow_x": null,
            "grid_auto_flow": null,
            "grid_area": null,
            "grid_template_columns": null,
            "flex": null,
            "_model_name": "LayoutModel",
            "justify_items": null,
            "grid_row": null,
            "max_height": null,
            "align_content": null,
            "visibility": null,
            "align_self": null,
            "height": null,
            "min_height": null,
            "padding": null,
            "grid_auto_rows": null,
            "grid_gap": null,
            "max_width": null,
            "order": null,
            "_view_module_version": "1.2.0",
            "grid_template_areas": null,
            "object_position": null,
            "object_fit": null,
            "grid_auto_columns": null,
            "margin": null,
            "display": null,
            "left": null
          }
        },
        "f5f3d2c7e8e641e3878e1e466577a2db": {
          "model_module": "@jupyter-widgets/controls",
          "model_name": "DescriptionStyleModel",
          "state": {
            "_view_name": "StyleView",
            "_model_name": "DescriptionStyleModel",
            "description_width": "",
            "_view_module": "@jupyter-widgets/base",
            "_model_module_version": "1.5.0",
            "_view_count": null,
            "_view_module_version": "1.2.0",
            "_model_module": "@jupyter-widgets/controls"
          }
        },
        "5eb6c85e214d433293e2577bad737e2a": {
          "model_module": "@jupyter-widgets/base",
          "model_name": "LayoutModel",
          "state": {
            "_view_name": "LayoutView",
            "grid_template_rows": null,
            "right": null,
            "justify_content": null,
            "_view_module": "@jupyter-widgets/base",
            "overflow": null,
            "_model_module_version": "1.2.0",
            "_view_count": null,
            "flex_flow": null,
            "width": null,
            "min_width": null,
            "border": null,
            "align_items": null,
            "bottom": null,
            "_model_module": "@jupyter-widgets/base",
            "top": null,
            "grid_column": null,
            "overflow_y": null,
            "overflow_x": null,
            "grid_auto_flow": null,
            "grid_area": null,
            "grid_template_columns": null,
            "flex": null,
            "_model_name": "LayoutModel",
            "justify_items": null,
            "grid_row": null,
            "max_height": null,
            "align_content": null,
            "visibility": null,
            "align_self": null,
            "height": null,
            "min_height": null,
            "padding": null,
            "grid_auto_rows": null,
            "grid_gap": null,
            "max_width": null,
            "order": null,
            "_view_module_version": "1.2.0",
            "grid_template_areas": null,
            "object_position": null,
            "object_fit": null,
            "grid_auto_columns": null,
            "margin": null,
            "display": null,
            "left": null
          }
        },
        "c3c665903c5640b6b9f1fb3c76023bb3": {
          "model_module": "@jupyter-widgets/controls",
          "model_name": "HBoxModel",
          "state": {
            "_view_name": "HBoxView",
            "_dom_classes": [],
            "_model_name": "HBoxModel",
            "_view_module": "@jupyter-widgets/controls",
            "_model_module_version": "1.5.0",
            "_view_count": null,
            "_view_module_version": "1.5.0",
            "box_style": "",
            "layout": "IPY_MODEL_fa2b24ee804947af851af4427bcebdc9",
            "_model_module": "@jupyter-widgets/controls",
            "children": [
              "IPY_MODEL_aafdd68c82ea41b2a689d5b3dbf7b84e",
              "IPY_MODEL_9ddbeca33334498382deae1d9ce1c4ea"
            ]
          }
        },
        "fa2b24ee804947af851af4427bcebdc9": {
          "model_module": "@jupyter-widgets/base",
          "model_name": "LayoutModel",
          "state": {
            "_view_name": "LayoutView",
            "grid_template_rows": null,
            "right": null,
            "justify_content": null,
            "_view_module": "@jupyter-widgets/base",
            "overflow": null,
            "_model_module_version": "1.2.0",
            "_view_count": null,
            "flex_flow": null,
            "width": null,
            "min_width": null,
            "border": null,
            "align_items": null,
            "bottom": null,
            "_model_module": "@jupyter-widgets/base",
            "top": null,
            "grid_column": null,
            "overflow_y": null,
            "overflow_x": null,
            "grid_auto_flow": null,
            "grid_area": null,
            "grid_template_columns": null,
            "flex": null,
            "_model_name": "LayoutModel",
            "justify_items": null,
            "grid_row": null,
            "max_height": null,
            "align_content": null,
            "visibility": null,
            "align_self": null,
            "height": null,
            "min_height": null,
            "padding": null,
            "grid_auto_rows": null,
            "grid_gap": null,
            "max_width": null,
            "order": null,
            "_view_module_version": "1.2.0",
            "grid_template_areas": null,
            "object_position": null,
            "object_fit": null,
            "grid_auto_columns": null,
            "margin": null,
            "display": null,
            "left": null
          }
        },
        "aafdd68c82ea41b2a689d5b3dbf7b84e": {
          "model_module": "@jupyter-widgets/controls",
          "model_name": "FloatProgressModel",
          "state": {
            "_view_name": "ProgressView",
            "style": "IPY_MODEL_8018b9094cd5450085390f7c02984427",
            "_dom_classes": [],
            "description": "100%",
            "_model_name": "FloatProgressModel",
            "bar_style": "success",
            "max": 44,
            "_view_module": "@jupyter-widgets/controls",
            "_model_module_version": "1.5.0",
            "value": 44,
            "_view_count": null,
            "_view_module_version": "1.5.0",
            "orientation": "horizontal",
            "min": 0,
            "description_tooltip": null,
            "_model_module": "@jupyter-widgets/controls",
            "layout": "IPY_MODEL_ec8c5ad76dab4b5a98226f6192a9f8c4"
          }
        },
        "9ddbeca33334498382deae1d9ce1c4ea": {
          "model_module": "@jupyter-widgets/controls",
          "model_name": "HTMLModel",
          "state": {
            "_view_name": "HTMLView",
            "style": "IPY_MODEL_a42e7024f0af4464bb1f24e1f1504780",
            "_dom_classes": [],
            "description": "",
            "_model_name": "HTMLModel",
            "placeholder": "​",
            "_view_module": "@jupyter-widgets/controls",
            "_model_module_version": "1.5.0",
            "value": " 44/44 [00:01&lt;00:00, 43.62ba/s]",
            "_view_count": null,
            "_view_module_version": "1.5.0",
            "description_tooltip": null,
            "_model_module": "@jupyter-widgets/controls",
            "layout": "IPY_MODEL_1a9b9012040143879fe93e340e869318"
          }
        },
        "8018b9094cd5450085390f7c02984427": {
          "model_module": "@jupyter-widgets/controls",
          "model_name": "ProgressStyleModel",
          "state": {
            "_view_name": "StyleView",
            "_model_name": "ProgressStyleModel",
            "description_width": "initial",
            "_view_module": "@jupyter-widgets/base",
            "_model_module_version": "1.5.0",
            "_view_count": null,
            "_view_module_version": "1.2.0",
            "bar_color": null,
            "_model_module": "@jupyter-widgets/controls"
          }
        },
        "ec8c5ad76dab4b5a98226f6192a9f8c4": {
          "model_module": "@jupyter-widgets/base",
          "model_name": "LayoutModel",
          "state": {
            "_view_name": "LayoutView",
            "grid_template_rows": null,
            "right": null,
            "justify_content": null,
            "_view_module": "@jupyter-widgets/base",
            "overflow": null,
            "_model_module_version": "1.2.0",
            "_view_count": null,
            "flex_flow": null,
            "width": null,
            "min_width": null,
            "border": null,
            "align_items": null,
            "bottom": null,
            "_model_module": "@jupyter-widgets/base",
            "top": null,
            "grid_column": null,
            "overflow_y": null,
            "overflow_x": null,
            "grid_auto_flow": null,
            "grid_area": null,
            "grid_template_columns": null,
            "flex": null,
            "_model_name": "LayoutModel",
            "justify_items": null,
            "grid_row": null,
            "max_height": null,
            "align_content": null,
            "visibility": null,
            "align_self": null,
            "height": null,
            "min_height": null,
            "padding": null,
            "grid_auto_rows": null,
            "grid_gap": null,
            "max_width": null,
            "order": null,
            "_view_module_version": "1.2.0",
            "grid_template_areas": null,
            "object_position": null,
            "object_fit": null,
            "grid_auto_columns": null,
            "margin": null,
            "display": null,
            "left": null
          }
        },
        "a42e7024f0af4464bb1f24e1f1504780": {
          "model_module": "@jupyter-widgets/controls",
          "model_name": "DescriptionStyleModel",
          "state": {
            "_view_name": "StyleView",
            "_model_name": "DescriptionStyleModel",
            "description_width": "",
            "_view_module": "@jupyter-widgets/base",
            "_model_module_version": "1.5.0",
            "_view_count": null,
            "_view_module_version": "1.2.0",
            "_model_module": "@jupyter-widgets/controls"
          }
        },
        "1a9b9012040143879fe93e340e869318": {
          "model_module": "@jupyter-widgets/base",
          "model_name": "LayoutModel",
          "state": {
            "_view_name": "LayoutView",
            "grid_template_rows": null,
            "right": null,
            "justify_content": null,
            "_view_module": "@jupyter-widgets/base",
            "overflow": null,
            "_model_module_version": "1.2.0",
            "_view_count": null,
            "flex_flow": null,
            "width": null,
            "min_width": null,
            "border": null,
            "align_items": null,
            "bottom": null,
            "_model_module": "@jupyter-widgets/base",
            "top": null,
            "grid_column": null,
            "overflow_y": null,
            "overflow_x": null,
            "grid_auto_flow": null,
            "grid_area": null,
            "grid_template_columns": null,
            "flex": null,
            "_model_name": "LayoutModel",
            "justify_items": null,
            "grid_row": null,
            "max_height": null,
            "align_content": null,
            "visibility": null,
            "align_self": null,
            "height": null,
            "min_height": null,
            "padding": null,
            "grid_auto_rows": null,
            "grid_gap": null,
            "max_width": null,
            "order": null,
            "_view_module_version": "1.2.0",
            "grid_template_areas": null,
            "object_position": null,
            "object_fit": null,
            "grid_auto_columns": null,
            "margin": null,
            "display": null,
            "left": null
          }
        },
        "29e859285365471bae37a7a33b65d987": {
          "model_module": "@jupyter-widgets/controls",
          "model_name": "HBoxModel",
          "state": {
            "_view_name": "HBoxView",
            "_dom_classes": [],
            "_model_name": "HBoxModel",
            "_view_module": "@jupyter-widgets/controls",
            "_model_module_version": "1.5.0",
            "_view_count": null,
            "_view_module_version": "1.5.0",
            "box_style": "",
            "layout": "IPY_MODEL_e6844e6c41e44ec58aa4af0daa826707",
            "_model_module": "@jupyter-widgets/controls",
            "children": [
              "IPY_MODEL_301391c8cf0d4c188f7a39a8a0350ae4",
              "IPY_MODEL_63e78d1927ea4c59ab7d32624e04fb81"
            ]
          }
        },
        "e6844e6c41e44ec58aa4af0daa826707": {
          "model_module": "@jupyter-widgets/base",
          "model_name": "LayoutModel",
          "state": {
            "_view_name": "LayoutView",
            "grid_template_rows": null,
            "right": null,
            "justify_content": null,
            "_view_module": "@jupyter-widgets/base",
            "overflow": null,
            "_model_module_version": "1.2.0",
            "_view_count": null,
            "flex_flow": null,
            "width": null,
            "min_width": null,
            "border": null,
            "align_items": null,
            "bottom": null,
            "_model_module": "@jupyter-widgets/base",
            "top": null,
            "grid_column": null,
            "overflow_y": null,
            "overflow_x": null,
            "grid_auto_flow": null,
            "grid_area": null,
            "grid_template_columns": null,
            "flex": null,
            "_model_name": "LayoutModel",
            "justify_items": null,
            "grid_row": null,
            "max_height": null,
            "align_content": null,
            "visibility": null,
            "align_self": null,
            "height": null,
            "min_height": null,
            "padding": null,
            "grid_auto_rows": null,
            "grid_gap": null,
            "max_width": null,
            "order": null,
            "_view_module_version": "1.2.0",
            "grid_template_areas": null,
            "object_position": null,
            "object_fit": null,
            "grid_auto_columns": null,
            "margin": null,
            "display": null,
            "left": null
          }
        },
        "301391c8cf0d4c188f7a39a8a0350ae4": {
          "model_module": "@jupyter-widgets/controls",
          "model_name": "FloatProgressModel",
          "state": {
            "_view_name": "ProgressView",
            "style": "IPY_MODEL_08a35a182636448b849834634bebd008",
            "_dom_classes": [],
            "description": "100%",
            "_model_name": "FloatProgressModel",
            "bar_style": "success",
            "max": 6,
            "_view_module": "@jupyter-widgets/controls",
            "_model_module_version": "1.5.0",
            "value": 6,
            "_view_count": null,
            "_view_module_version": "1.5.0",
            "orientation": "horizontal",
            "min": 0,
            "description_tooltip": null,
            "_model_module": "@jupyter-widgets/controls",
            "layout": "IPY_MODEL_66f85a2284074caca071017f3c772594"
          }
        },
        "63e78d1927ea4c59ab7d32624e04fb81": {
          "model_module": "@jupyter-widgets/controls",
          "model_name": "HTMLModel",
          "state": {
            "_view_name": "HTMLView",
            "style": "IPY_MODEL_ffd5e349f05b4ff09b44b3f781db0fbc",
            "_dom_classes": [],
            "description": "",
            "_model_name": "HTMLModel",
            "placeholder": "​",
            "_view_module": "@jupyter-widgets/controls",
            "_model_module_version": "1.5.0",
            "value": " 6/6 [00:00&lt;00:00, 34.43ba/s]",
            "_view_count": null,
            "_view_module_version": "1.5.0",
            "description_tooltip": null,
            "_model_module": "@jupyter-widgets/controls",
            "layout": "IPY_MODEL_daf672f92ee94cd3953011adb1028fa7"
          }
        },
        "08a35a182636448b849834634bebd008": {
          "model_module": "@jupyter-widgets/controls",
          "model_name": "ProgressStyleModel",
          "state": {
            "_view_name": "StyleView",
            "_model_name": "ProgressStyleModel",
            "description_width": "initial",
            "_view_module": "@jupyter-widgets/base",
            "_model_module_version": "1.5.0",
            "_view_count": null,
            "_view_module_version": "1.2.0",
            "bar_color": null,
            "_model_module": "@jupyter-widgets/controls"
          }
        },
        "66f85a2284074caca071017f3c772594": {
          "model_module": "@jupyter-widgets/base",
          "model_name": "LayoutModel",
          "state": {
            "_view_name": "LayoutView",
            "grid_template_rows": null,
            "right": null,
            "justify_content": null,
            "_view_module": "@jupyter-widgets/base",
            "overflow": null,
            "_model_module_version": "1.2.0",
            "_view_count": null,
            "flex_flow": null,
            "width": null,
            "min_width": null,
            "border": null,
            "align_items": null,
            "bottom": null,
            "_model_module": "@jupyter-widgets/base",
            "top": null,
            "grid_column": null,
            "overflow_y": null,
            "overflow_x": null,
            "grid_auto_flow": null,
            "grid_area": null,
            "grid_template_columns": null,
            "flex": null,
            "_model_name": "LayoutModel",
            "justify_items": null,
            "grid_row": null,
            "max_height": null,
            "align_content": null,
            "visibility": null,
            "align_self": null,
            "height": null,
            "min_height": null,
            "padding": null,
            "grid_auto_rows": null,
            "grid_gap": null,
            "max_width": null,
            "order": null,
            "_view_module_version": "1.2.0",
            "grid_template_areas": null,
            "object_position": null,
            "object_fit": null,
            "grid_auto_columns": null,
            "margin": null,
            "display": null,
            "left": null
          }
        },
        "ffd5e349f05b4ff09b44b3f781db0fbc": {
          "model_module": "@jupyter-widgets/controls",
          "model_name": "DescriptionStyleModel",
          "state": {
            "_view_name": "StyleView",
            "_model_name": "DescriptionStyleModel",
            "description_width": "",
            "_view_module": "@jupyter-widgets/base",
            "_model_module_version": "1.5.0",
            "_view_count": null,
            "_view_module_version": "1.2.0",
            "_model_module": "@jupyter-widgets/controls"
          }
        },
        "daf672f92ee94cd3953011adb1028fa7": {
          "model_module": "@jupyter-widgets/base",
          "model_name": "LayoutModel",
          "state": {
            "_view_name": "LayoutView",
            "grid_template_rows": null,
            "right": null,
            "justify_content": null,
            "_view_module": "@jupyter-widgets/base",
            "overflow": null,
            "_model_module_version": "1.2.0",
            "_view_count": null,
            "flex_flow": null,
            "width": null,
            "min_width": null,
            "border": null,
            "align_items": null,
            "bottom": null,
            "_model_module": "@jupyter-widgets/base",
            "top": null,
            "grid_column": null,
            "overflow_y": null,
            "overflow_x": null,
            "grid_auto_flow": null,
            "grid_area": null,
            "grid_template_columns": null,
            "flex": null,
            "_model_name": "LayoutModel",
            "justify_items": null,
            "grid_row": null,
            "max_height": null,
            "align_content": null,
            "visibility": null,
            "align_self": null,
            "height": null,
            "min_height": null,
            "padding": null,
            "grid_auto_rows": null,
            "grid_gap": null,
            "max_width": null,
            "order": null,
            "_view_module_version": "1.2.0",
            "grid_template_areas": null,
            "object_position": null,
            "object_fit": null,
            "grid_auto_columns": null,
            "margin": null,
            "display": null,
            "left": null
          }
        },
        "5a2049cae4e9458ca3c34f0f47a08fd7": {
          "model_module": "@jupyter-widgets/controls",
          "model_name": "HBoxModel",
          "state": {
            "_view_name": "HBoxView",
            "_dom_classes": [],
            "_model_name": "HBoxModel",
            "_view_module": "@jupyter-widgets/controls",
            "_model_module_version": "1.5.0",
            "_view_count": null,
            "_view_module_version": "1.5.0",
            "box_style": "",
            "layout": "IPY_MODEL_67e93976ed48482bb806b88fa83a1633",
            "_model_module": "@jupyter-widgets/controls",
            "children": [
              "IPY_MODEL_90788434181a4cb685c4c2347bfd3fe7",
              "IPY_MODEL_6995adc9802b4089b1019c4ed5d5bea3"
            ]
          }
        },
        "67e93976ed48482bb806b88fa83a1633": {
          "model_module": "@jupyter-widgets/base",
          "model_name": "LayoutModel",
          "state": {
            "_view_name": "LayoutView",
            "grid_template_rows": null,
            "right": null,
            "justify_content": null,
            "_view_module": "@jupyter-widgets/base",
            "overflow": null,
            "_model_module_version": "1.2.0",
            "_view_count": null,
            "flex_flow": null,
            "width": null,
            "min_width": null,
            "border": null,
            "align_items": null,
            "bottom": null,
            "_model_module": "@jupyter-widgets/base",
            "top": null,
            "grid_column": null,
            "overflow_y": null,
            "overflow_x": null,
            "grid_auto_flow": null,
            "grid_area": null,
            "grid_template_columns": null,
            "flex": null,
            "_model_name": "LayoutModel",
            "justify_items": null,
            "grid_row": null,
            "max_height": null,
            "align_content": null,
            "visibility": null,
            "align_self": null,
            "height": null,
            "min_height": null,
            "padding": null,
            "grid_auto_rows": null,
            "grid_gap": null,
            "max_width": null,
            "order": null,
            "_view_module_version": "1.2.0",
            "grid_template_areas": null,
            "object_position": null,
            "object_fit": null,
            "grid_auto_columns": null,
            "margin": null,
            "display": null,
            "left": null
          }
        },
        "90788434181a4cb685c4c2347bfd3fe7": {
          "model_module": "@jupyter-widgets/controls",
          "model_name": "FloatProgressModel",
          "state": {
            "_view_name": "ProgressView",
            "style": "IPY_MODEL_87c0a915f66e49e48d9de8b592d33269",
            "_dom_classes": [],
            "description": "100%",
            "_model_name": "FloatProgressModel",
            "bar_style": "success",
            "max": 6,
            "_view_module": "@jupyter-widgets/controls",
            "_model_module_version": "1.5.0",
            "value": 6,
            "_view_count": null,
            "_view_module_version": "1.5.0",
            "orientation": "horizontal",
            "min": 0,
            "description_tooltip": null,
            "_model_module": "@jupyter-widgets/controls",
            "layout": "IPY_MODEL_9e0dfc8db50e44e19767c27ecd762898"
          }
        },
        "6995adc9802b4089b1019c4ed5d5bea3": {
          "model_module": "@jupyter-widgets/controls",
          "model_name": "HTMLModel",
          "state": {
            "_view_name": "HTMLView",
            "style": "IPY_MODEL_2c9d3f3ffc084fa0ac60ce9e5ef3d726",
            "_dom_classes": [],
            "description": "",
            "_model_name": "HTMLModel",
            "placeholder": "​",
            "_view_module": "@jupyter-widgets/controls",
            "_model_module_version": "1.5.0",
            "value": " 6/6 [00:08&lt;00:00,  1.37s/ba]",
            "_view_count": null,
            "_view_module_version": "1.5.0",
            "description_tooltip": null,
            "_model_module": "@jupyter-widgets/controls",
            "layout": "IPY_MODEL_500e70602c6c4d2b8820cc48dda180b6"
          }
        },
        "87c0a915f66e49e48d9de8b592d33269": {
          "model_module": "@jupyter-widgets/controls",
          "model_name": "ProgressStyleModel",
          "state": {
            "_view_name": "StyleView",
            "_model_name": "ProgressStyleModel",
            "description_width": "initial",
            "_view_module": "@jupyter-widgets/base",
            "_model_module_version": "1.5.0",
            "_view_count": null,
            "_view_module_version": "1.2.0",
            "bar_color": null,
            "_model_module": "@jupyter-widgets/controls"
          }
        },
        "9e0dfc8db50e44e19767c27ecd762898": {
          "model_module": "@jupyter-widgets/base",
          "model_name": "LayoutModel",
          "state": {
            "_view_name": "LayoutView",
            "grid_template_rows": null,
            "right": null,
            "justify_content": null,
            "_view_module": "@jupyter-widgets/base",
            "overflow": null,
            "_model_module_version": "1.2.0",
            "_view_count": null,
            "flex_flow": null,
            "width": null,
            "min_width": null,
            "border": null,
            "align_items": null,
            "bottom": null,
            "_model_module": "@jupyter-widgets/base",
            "top": null,
            "grid_column": null,
            "overflow_y": null,
            "overflow_x": null,
            "grid_auto_flow": null,
            "grid_area": null,
            "grid_template_columns": null,
            "flex": null,
            "_model_name": "LayoutModel",
            "justify_items": null,
            "grid_row": null,
            "max_height": null,
            "align_content": null,
            "visibility": null,
            "align_self": null,
            "height": null,
            "min_height": null,
            "padding": null,
            "grid_auto_rows": null,
            "grid_gap": null,
            "max_width": null,
            "order": null,
            "_view_module_version": "1.2.0",
            "grid_template_areas": null,
            "object_position": null,
            "object_fit": null,
            "grid_auto_columns": null,
            "margin": null,
            "display": null,
            "left": null
          }
        },
        "2c9d3f3ffc084fa0ac60ce9e5ef3d726": {
          "model_module": "@jupyter-widgets/controls",
          "model_name": "DescriptionStyleModel",
          "state": {
            "_view_name": "StyleView",
            "_model_name": "DescriptionStyleModel",
            "description_width": "",
            "_view_module": "@jupyter-widgets/base",
            "_model_module_version": "1.5.0",
            "_view_count": null,
            "_view_module_version": "1.2.0",
            "_model_module": "@jupyter-widgets/controls"
          }
        },
        "500e70602c6c4d2b8820cc48dda180b6": {
          "model_module": "@jupyter-widgets/base",
          "model_name": "LayoutModel",
          "state": {
            "_view_name": "LayoutView",
            "grid_template_rows": null,
            "right": null,
            "justify_content": null,
            "_view_module": "@jupyter-widgets/base",
            "overflow": null,
            "_model_module_version": "1.2.0",
            "_view_count": null,
            "flex_flow": null,
            "width": null,
            "min_width": null,
            "border": null,
            "align_items": null,
            "bottom": null,
            "_model_module": "@jupyter-widgets/base",
            "top": null,
            "grid_column": null,
            "overflow_y": null,
            "overflow_x": null,
            "grid_auto_flow": null,
            "grid_area": null,
            "grid_template_columns": null,
            "flex": null,
            "_model_name": "LayoutModel",
            "justify_items": null,
            "grid_row": null,
            "max_height": null,
            "align_content": null,
            "visibility": null,
            "align_self": null,
            "height": null,
            "min_height": null,
            "padding": null,
            "grid_auto_rows": null,
            "grid_gap": null,
            "max_width": null,
            "order": null,
            "_view_module_version": "1.2.0",
            "grid_template_areas": null,
            "object_position": null,
            "object_fit": null,
            "grid_auto_columns": null,
            "margin": null,
            "display": null,
            "left": null
          }
        },
        "30674b6d79f74d3c861feb9fc5a6e10b": {
          "model_module": "@jupyter-widgets/controls",
          "model_name": "HBoxModel",
          "state": {
            "_view_name": "HBoxView",
            "_dom_classes": [],
            "_model_name": "HBoxModel",
            "_view_module": "@jupyter-widgets/controls",
            "_model_module_version": "1.5.0",
            "_view_count": null,
            "_view_module_version": "1.5.0",
            "box_style": "",
            "layout": "IPY_MODEL_2e78eab9c2f14b63b1826cc717d9d4bd",
            "_model_module": "@jupyter-widgets/controls",
            "children": [
              "IPY_MODEL_6b60ff02925b4f7681707503f822a780",
              "IPY_MODEL_5475fb0605984c4aa3003099156598ec"
            ]
          }
        },
        "2e78eab9c2f14b63b1826cc717d9d4bd": {
          "model_module": "@jupyter-widgets/base",
          "model_name": "LayoutModel",
          "state": {
            "_view_name": "LayoutView",
            "grid_template_rows": null,
            "right": null,
            "justify_content": null,
            "_view_module": "@jupyter-widgets/base",
            "overflow": null,
            "_model_module_version": "1.2.0",
            "_view_count": null,
            "flex_flow": null,
            "width": null,
            "min_width": null,
            "border": null,
            "align_items": null,
            "bottom": null,
            "_model_module": "@jupyter-widgets/base",
            "top": null,
            "grid_column": null,
            "overflow_y": null,
            "overflow_x": null,
            "grid_auto_flow": null,
            "grid_area": null,
            "grid_template_columns": null,
            "flex": null,
            "_model_name": "LayoutModel",
            "justify_items": null,
            "grid_row": null,
            "max_height": null,
            "align_content": null,
            "visibility": null,
            "align_self": null,
            "height": null,
            "min_height": null,
            "padding": null,
            "grid_auto_rows": null,
            "grid_gap": null,
            "max_width": null,
            "order": null,
            "_view_module_version": "1.2.0",
            "grid_template_areas": null,
            "object_position": null,
            "object_fit": null,
            "grid_auto_columns": null,
            "margin": null,
            "display": null,
            "left": null
          }
        },
        "6b60ff02925b4f7681707503f822a780": {
          "model_module": "@jupyter-widgets/controls",
          "model_name": "FloatProgressModel",
          "state": {
            "_view_name": "ProgressView",
            "style": "IPY_MODEL_e437f5a5b4d045f0b28528beae8e8ba9",
            "_dom_classes": [],
            "description": "Downloading: 100%",
            "_model_name": "FloatProgressModel",
            "bar_style": "success",
            "max": 442,
            "_view_module": "@jupyter-widgets/controls",
            "_model_module_version": "1.5.0",
            "value": 442,
            "_view_count": null,
            "_view_module_version": "1.5.0",
            "orientation": "horizontal",
            "min": 0,
            "description_tooltip": null,
            "_model_module": "@jupyter-widgets/controls",
            "layout": "IPY_MODEL_0aff13ac2a274f039abc3d3fd484505c"
          }
        },
        "5475fb0605984c4aa3003099156598ec": {
          "model_module": "@jupyter-widgets/controls",
          "model_name": "HTMLModel",
          "state": {
            "_view_name": "HTMLView",
            "style": "IPY_MODEL_044e4371abdb41f5af1f624978d6262d",
            "_dom_classes": [],
            "description": "",
            "_model_name": "HTMLModel",
            "placeholder": "​",
            "_view_module": "@jupyter-widgets/controls",
            "_model_module_version": "1.5.0",
            "value": " 442/442 [00:00&lt;00:00, 7.51kB/s]",
            "_view_count": null,
            "_view_module_version": "1.5.0",
            "description_tooltip": null,
            "_model_module": "@jupyter-widgets/controls",
            "layout": "IPY_MODEL_d81bbeb309694577ad9b4729d37de33c"
          }
        },
        "e437f5a5b4d045f0b28528beae8e8ba9": {
          "model_module": "@jupyter-widgets/controls",
          "model_name": "ProgressStyleModel",
          "state": {
            "_view_name": "StyleView",
            "_model_name": "ProgressStyleModel",
            "description_width": "initial",
            "_view_module": "@jupyter-widgets/base",
            "_model_module_version": "1.5.0",
            "_view_count": null,
            "_view_module_version": "1.2.0",
            "bar_color": null,
            "_model_module": "@jupyter-widgets/controls"
          }
        },
        "0aff13ac2a274f039abc3d3fd484505c": {
          "model_module": "@jupyter-widgets/base",
          "model_name": "LayoutModel",
          "state": {
            "_view_name": "LayoutView",
            "grid_template_rows": null,
            "right": null,
            "justify_content": null,
            "_view_module": "@jupyter-widgets/base",
            "overflow": null,
            "_model_module_version": "1.2.0",
            "_view_count": null,
            "flex_flow": null,
            "width": null,
            "min_width": null,
            "border": null,
            "align_items": null,
            "bottom": null,
            "_model_module": "@jupyter-widgets/base",
            "top": null,
            "grid_column": null,
            "overflow_y": null,
            "overflow_x": null,
            "grid_auto_flow": null,
            "grid_area": null,
            "grid_template_columns": null,
            "flex": null,
            "_model_name": "LayoutModel",
            "justify_items": null,
            "grid_row": null,
            "max_height": null,
            "align_content": null,
            "visibility": null,
            "align_self": null,
            "height": null,
            "min_height": null,
            "padding": null,
            "grid_auto_rows": null,
            "grid_gap": null,
            "max_width": null,
            "order": null,
            "_view_module_version": "1.2.0",
            "grid_template_areas": null,
            "object_position": null,
            "object_fit": null,
            "grid_auto_columns": null,
            "margin": null,
            "display": null,
            "left": null
          }
        },
        "044e4371abdb41f5af1f624978d6262d": {
          "model_module": "@jupyter-widgets/controls",
          "model_name": "DescriptionStyleModel",
          "state": {
            "_view_name": "StyleView",
            "_model_name": "DescriptionStyleModel",
            "description_width": "",
            "_view_module": "@jupyter-widgets/base",
            "_model_module_version": "1.5.0",
            "_view_count": null,
            "_view_module_version": "1.2.0",
            "_model_module": "@jupyter-widgets/controls"
          }
        },
        "d81bbeb309694577ad9b4729d37de33c": {
          "model_module": "@jupyter-widgets/base",
          "model_name": "LayoutModel",
          "state": {
            "_view_name": "LayoutView",
            "grid_template_rows": null,
            "right": null,
            "justify_content": null,
            "_view_module": "@jupyter-widgets/base",
            "overflow": null,
            "_model_module_version": "1.2.0",
            "_view_count": null,
            "flex_flow": null,
            "width": null,
            "min_width": null,
            "border": null,
            "align_items": null,
            "bottom": null,
            "_model_module": "@jupyter-widgets/base",
            "top": null,
            "grid_column": null,
            "overflow_y": null,
            "overflow_x": null,
            "grid_auto_flow": null,
            "grid_area": null,
            "grid_template_columns": null,
            "flex": null,
            "_model_name": "LayoutModel",
            "justify_items": null,
            "grid_row": null,
            "max_height": null,
            "align_content": null,
            "visibility": null,
            "align_self": null,
            "height": null,
            "min_height": null,
            "padding": null,
            "grid_auto_rows": null,
            "grid_gap": null,
            "max_width": null,
            "order": null,
            "_view_module_version": "1.2.0",
            "grid_template_areas": null,
            "object_position": null,
            "object_fit": null,
            "grid_auto_columns": null,
            "margin": null,
            "display": null,
            "left": null
          }
        },
        "5e0cdc621c354cab9df4f2e0706b5bec": {
          "model_module": "@jupyter-widgets/controls",
          "model_name": "HBoxModel",
          "state": {
            "_view_name": "HBoxView",
            "_dom_classes": [],
            "_model_name": "HBoxModel",
            "_view_module": "@jupyter-widgets/controls",
            "_model_module_version": "1.5.0",
            "_view_count": null,
            "_view_module_version": "1.5.0",
            "box_style": "",
            "layout": "IPY_MODEL_8a4eed04d0204a069287a1893835bbe5",
            "_model_module": "@jupyter-widgets/controls",
            "children": [
              "IPY_MODEL_2c35441ef606470483172929d141b303",
              "IPY_MODEL_e09659558f5c4ee39cd419dbb9a906cc"
            ]
          }
        },
        "8a4eed04d0204a069287a1893835bbe5": {
          "model_module": "@jupyter-widgets/base",
          "model_name": "LayoutModel",
          "state": {
            "_view_name": "LayoutView",
            "grid_template_rows": null,
            "right": null,
            "justify_content": null,
            "_view_module": "@jupyter-widgets/base",
            "overflow": null,
            "_model_module_version": "1.2.0",
            "_view_count": null,
            "flex_flow": null,
            "width": null,
            "min_width": null,
            "border": null,
            "align_items": null,
            "bottom": null,
            "_model_module": "@jupyter-widgets/base",
            "top": null,
            "grid_column": null,
            "overflow_y": null,
            "overflow_x": null,
            "grid_auto_flow": null,
            "grid_area": null,
            "grid_template_columns": null,
            "flex": null,
            "_model_name": "LayoutModel",
            "justify_items": null,
            "grid_row": null,
            "max_height": null,
            "align_content": null,
            "visibility": null,
            "align_self": null,
            "height": null,
            "min_height": null,
            "padding": null,
            "grid_auto_rows": null,
            "grid_gap": null,
            "max_width": null,
            "order": null,
            "_view_module_version": "1.2.0",
            "grid_template_areas": null,
            "object_position": null,
            "object_fit": null,
            "grid_auto_columns": null,
            "margin": null,
            "display": null,
            "left": null
          }
        },
        "2c35441ef606470483172929d141b303": {
          "model_module": "@jupyter-widgets/controls",
          "model_name": "FloatProgressModel",
          "state": {
            "_view_name": "ProgressView",
            "style": "IPY_MODEL_6fe9eedee0624463b0cb39f230376895",
            "_dom_classes": [],
            "description": "Downloading: 100%",
            "_model_name": "FloatProgressModel",
            "bar_style": "success",
            "max": 267967963,
            "_view_module": "@jupyter-widgets/controls",
            "_model_module_version": "1.5.0",
            "value": 267967963,
            "_view_count": null,
            "_view_module_version": "1.5.0",
            "orientation": "horizontal",
            "min": 0,
            "description_tooltip": null,
            "_model_module": "@jupyter-widgets/controls",
            "layout": "IPY_MODEL_11336ee17ae245b0919a545804a177f7"
          }
        },
        "e09659558f5c4ee39cd419dbb9a906cc": {
          "model_module": "@jupyter-widgets/controls",
          "model_name": "HTMLModel",
          "state": {
            "_view_name": "HTMLView",
            "style": "IPY_MODEL_20bae820b08a44d8bb88bd63a704b6fa",
            "_dom_classes": [],
            "description": "",
            "_model_name": "HTMLModel",
            "placeholder": "​",
            "_view_module": "@jupyter-widgets/controls",
            "_model_module_version": "1.5.0",
            "value": " 268M/268M [00:04&lt;00:00, 55.5MB/s]",
            "_view_count": null,
            "_view_module_version": "1.5.0",
            "description_tooltip": null,
            "_model_module": "@jupyter-widgets/controls",
            "layout": "IPY_MODEL_b2a6e57a66a44d9aaa08c421a3a90ce9"
          }
        },
        "6fe9eedee0624463b0cb39f230376895": {
          "model_module": "@jupyter-widgets/controls",
          "model_name": "ProgressStyleModel",
          "state": {
            "_view_name": "StyleView",
            "_model_name": "ProgressStyleModel",
            "description_width": "initial",
            "_view_module": "@jupyter-widgets/base",
            "_model_module_version": "1.5.0",
            "_view_count": null,
            "_view_module_version": "1.2.0",
            "bar_color": null,
            "_model_module": "@jupyter-widgets/controls"
          }
        },
        "11336ee17ae245b0919a545804a177f7": {
          "model_module": "@jupyter-widgets/base",
          "model_name": "LayoutModel",
          "state": {
            "_view_name": "LayoutView",
            "grid_template_rows": null,
            "right": null,
            "justify_content": null,
            "_view_module": "@jupyter-widgets/base",
            "overflow": null,
            "_model_module_version": "1.2.0",
            "_view_count": null,
            "flex_flow": null,
            "width": null,
            "min_width": null,
            "border": null,
            "align_items": null,
            "bottom": null,
            "_model_module": "@jupyter-widgets/base",
            "top": null,
            "grid_column": null,
            "overflow_y": null,
            "overflow_x": null,
            "grid_auto_flow": null,
            "grid_area": null,
            "grid_template_columns": null,
            "flex": null,
            "_model_name": "LayoutModel",
            "justify_items": null,
            "grid_row": null,
            "max_height": null,
            "align_content": null,
            "visibility": null,
            "align_self": null,
            "height": null,
            "min_height": null,
            "padding": null,
            "grid_auto_rows": null,
            "grid_gap": null,
            "max_width": null,
            "order": null,
            "_view_module_version": "1.2.0",
            "grid_template_areas": null,
            "object_position": null,
            "object_fit": null,
            "grid_auto_columns": null,
            "margin": null,
            "display": null,
            "left": null
          }
        },
        "20bae820b08a44d8bb88bd63a704b6fa": {
          "model_module": "@jupyter-widgets/controls",
          "model_name": "DescriptionStyleModel",
          "state": {
            "_view_name": "StyleView",
            "_model_name": "DescriptionStyleModel",
            "description_width": "",
            "_view_module": "@jupyter-widgets/base",
            "_model_module_version": "1.5.0",
            "_view_count": null,
            "_view_module_version": "1.2.0",
            "_model_module": "@jupyter-widgets/controls"
          }
        },
        "b2a6e57a66a44d9aaa08c421a3a90ce9": {
          "model_module": "@jupyter-widgets/base",
          "model_name": "LayoutModel",
          "state": {
            "_view_name": "LayoutView",
            "grid_template_rows": null,
            "right": null,
            "justify_content": null,
            "_view_module": "@jupyter-widgets/base",
            "overflow": null,
            "_model_module_version": "1.2.0",
            "_view_count": null,
            "flex_flow": null,
            "width": null,
            "min_width": null,
            "border": null,
            "align_items": null,
            "bottom": null,
            "_model_module": "@jupyter-widgets/base",
            "top": null,
            "grid_column": null,
            "overflow_y": null,
            "overflow_x": null,
            "grid_auto_flow": null,
            "grid_area": null,
            "grid_template_columns": null,
            "flex": null,
            "_model_name": "LayoutModel",
            "justify_items": null,
            "grid_row": null,
            "max_height": null,
            "align_content": null,
            "visibility": null,
            "align_self": null,
            "height": null,
            "min_height": null,
            "padding": null,
            "grid_auto_rows": null,
            "grid_gap": null,
            "max_width": null,
            "order": null,
            "_view_module_version": "1.2.0",
            "grid_template_areas": null,
            "object_position": null,
            "object_fit": null,
            "grid_auto_columns": null,
            "margin": null,
            "display": null,
            "left": null
          }
        },
        "43e8adc6678f485da674df9207f8188a": {
          "model_module": "@jupyter-widgets/controls",
          "model_name": "HBoxModel",
          "state": {
            "_view_name": "HBoxView",
            "_dom_classes": [],
            "_model_name": "HBoxModel",
            "_view_module": "@jupyter-widgets/controls",
            "_model_module_version": "1.5.0",
            "_view_count": null,
            "_view_module_version": "1.5.0",
            "box_style": "",
            "layout": "IPY_MODEL_fce3f7a5a335456aaecafb6ea11a0c9f",
            "_model_module": "@jupyter-widgets/controls",
            "children": [
              "IPY_MODEL_4097581c1b184654a1f145ca97075b23",
              "IPY_MODEL_6df04e9eb1994299b9d6f7f838838c25"
            ]
          }
        },
        "fce3f7a5a335456aaecafb6ea11a0c9f": {
          "model_module": "@jupyter-widgets/base",
          "model_name": "LayoutModel",
          "state": {
            "_view_name": "LayoutView",
            "grid_template_rows": null,
            "right": null,
            "justify_content": null,
            "_view_module": "@jupyter-widgets/base",
            "overflow": null,
            "_model_module_version": "1.2.0",
            "_view_count": null,
            "flex_flow": null,
            "width": null,
            "min_width": null,
            "border": null,
            "align_items": null,
            "bottom": null,
            "_model_module": "@jupyter-widgets/base",
            "top": null,
            "grid_column": null,
            "overflow_y": null,
            "overflow_x": null,
            "grid_auto_flow": null,
            "grid_area": null,
            "grid_template_columns": null,
            "flex": null,
            "_model_name": "LayoutModel",
            "justify_items": null,
            "grid_row": null,
            "max_height": null,
            "align_content": null,
            "visibility": null,
            "align_self": null,
            "height": null,
            "min_height": null,
            "padding": null,
            "grid_auto_rows": null,
            "grid_gap": null,
            "max_width": null,
            "order": null,
            "_view_module_version": "1.2.0",
            "grid_template_areas": null,
            "object_position": null,
            "object_fit": null,
            "grid_auto_columns": null,
            "margin": null,
            "display": null,
            "left": null
          }
        },
        "4097581c1b184654a1f145ca97075b23": {
          "model_module": "@jupyter-widgets/controls",
          "model_name": "FloatProgressModel",
          "state": {
            "_view_name": "ProgressView",
            "style": "IPY_MODEL_afaf87dbe6b446069405e8f57c3fd34f",
            "_dom_classes": [],
            "description": "Downloading: 100%",
            "_model_name": "FloatProgressModel",
            "bar_style": "success",
            "max": 231508,
            "_view_module": "@jupyter-widgets/controls",
            "_model_module_version": "1.5.0",
            "value": 231508,
            "_view_count": null,
            "_view_module_version": "1.5.0",
            "orientation": "horizontal",
            "min": 0,
            "description_tooltip": null,
            "_model_module": "@jupyter-widgets/controls",
            "layout": "IPY_MODEL_295439e9a9d84fe29978f99bde40c3a5"
          }
        },
        "6df04e9eb1994299b9d6f7f838838c25": {
          "model_module": "@jupyter-widgets/controls",
          "model_name": "HTMLModel",
          "state": {
            "_view_name": "HTMLView",
            "style": "IPY_MODEL_1143b65e19aa4be497f825ae0f329b18",
            "_dom_classes": [],
            "description": "",
            "_model_name": "HTMLModel",
            "placeholder": "​",
            "_view_module": "@jupyter-widgets/controls",
            "_model_module_version": "1.5.0",
            "value": " 232k/232k [00:00&lt;00:00, 1.00MB/s]",
            "_view_count": null,
            "_view_module_version": "1.5.0",
            "description_tooltip": null,
            "_model_module": "@jupyter-widgets/controls",
            "layout": "IPY_MODEL_b386558e19e14380a13504bcdb01e3b1"
          }
        },
        "afaf87dbe6b446069405e8f57c3fd34f": {
          "model_module": "@jupyter-widgets/controls",
          "model_name": "ProgressStyleModel",
          "state": {
            "_view_name": "StyleView",
            "_model_name": "ProgressStyleModel",
            "description_width": "initial",
            "_view_module": "@jupyter-widgets/base",
            "_model_module_version": "1.5.0",
            "_view_count": null,
            "_view_module_version": "1.2.0",
            "bar_color": null,
            "_model_module": "@jupyter-widgets/controls"
          }
        },
        "295439e9a9d84fe29978f99bde40c3a5": {
          "model_module": "@jupyter-widgets/base",
          "model_name": "LayoutModel",
          "state": {
            "_view_name": "LayoutView",
            "grid_template_rows": null,
            "right": null,
            "justify_content": null,
            "_view_module": "@jupyter-widgets/base",
            "overflow": null,
            "_model_module_version": "1.2.0",
            "_view_count": null,
            "flex_flow": null,
            "width": null,
            "min_width": null,
            "border": null,
            "align_items": null,
            "bottom": null,
            "_model_module": "@jupyter-widgets/base",
            "top": null,
            "grid_column": null,
            "overflow_y": null,
            "overflow_x": null,
            "grid_auto_flow": null,
            "grid_area": null,
            "grid_template_columns": null,
            "flex": null,
            "_model_name": "LayoutModel",
            "justify_items": null,
            "grid_row": null,
            "max_height": null,
            "align_content": null,
            "visibility": null,
            "align_self": null,
            "height": null,
            "min_height": null,
            "padding": null,
            "grid_auto_rows": null,
            "grid_gap": null,
            "max_width": null,
            "order": null,
            "_view_module_version": "1.2.0",
            "grid_template_areas": null,
            "object_position": null,
            "object_fit": null,
            "grid_auto_columns": null,
            "margin": null,
            "display": null,
            "left": null
          }
        },
        "1143b65e19aa4be497f825ae0f329b18": {
          "model_module": "@jupyter-widgets/controls",
          "model_name": "DescriptionStyleModel",
          "state": {
            "_view_name": "StyleView",
            "_model_name": "DescriptionStyleModel",
            "description_width": "",
            "_view_module": "@jupyter-widgets/base",
            "_model_module_version": "1.5.0",
            "_view_count": null,
            "_view_module_version": "1.2.0",
            "_model_module": "@jupyter-widgets/controls"
          }
        },
        "b386558e19e14380a13504bcdb01e3b1": {
          "model_module": "@jupyter-widgets/base",
          "model_name": "LayoutModel",
          "state": {
            "_view_name": "LayoutView",
            "grid_template_rows": null,
            "right": null,
            "justify_content": null,
            "_view_module": "@jupyter-widgets/base",
            "overflow": null,
            "_model_module_version": "1.2.0",
            "_view_count": null,
            "flex_flow": null,
            "width": null,
            "min_width": null,
            "border": null,
            "align_items": null,
            "bottom": null,
            "_model_module": "@jupyter-widgets/base",
            "top": null,
            "grid_column": null,
            "overflow_y": null,
            "overflow_x": null,
            "grid_auto_flow": null,
            "grid_area": null,
            "grid_template_columns": null,
            "flex": null,
            "_model_name": "LayoutModel",
            "justify_items": null,
            "grid_row": null,
            "max_height": null,
            "align_content": null,
            "visibility": null,
            "align_self": null,
            "height": null,
            "min_height": null,
            "padding": null,
            "grid_auto_rows": null,
            "grid_gap": null,
            "max_width": null,
            "order": null,
            "_view_module_version": "1.2.0",
            "grid_template_areas": null,
            "object_position": null,
            "object_fit": null,
            "grid_auto_columns": null,
            "margin": null,
            "display": null,
            "left": null
          }
        },
        "0a6064e328f34a7689c79f88d8de7f5b": {
          "model_module": "@jupyter-widgets/controls",
          "model_name": "HBoxModel",
          "state": {
            "_view_name": "HBoxView",
            "_dom_classes": [],
            "_model_name": "HBoxModel",
            "_view_module": "@jupyter-widgets/controls",
            "_model_module_version": "1.5.0",
            "_view_count": null,
            "_view_module_version": "1.5.0",
            "box_style": "",
            "layout": "IPY_MODEL_1f16701b7d3b45efb00f5c83221d5716",
            "_model_module": "@jupyter-widgets/controls",
            "children": [
              "IPY_MODEL_528d86a55a7e4ca59cf9be1f5faa03ab",
              "IPY_MODEL_a7d4afcceb08410fa4a3a9ae045280b7"
            ]
          }
        },
        "1f16701b7d3b45efb00f5c83221d5716": {
          "model_module": "@jupyter-widgets/base",
          "model_name": "LayoutModel",
          "state": {
            "_view_name": "LayoutView",
            "grid_template_rows": null,
            "right": null,
            "justify_content": null,
            "_view_module": "@jupyter-widgets/base",
            "overflow": null,
            "_model_module_version": "1.2.0",
            "_view_count": null,
            "flex_flow": null,
            "width": null,
            "min_width": null,
            "border": null,
            "align_items": null,
            "bottom": null,
            "_model_module": "@jupyter-widgets/base",
            "top": null,
            "grid_column": null,
            "overflow_y": null,
            "overflow_x": null,
            "grid_auto_flow": null,
            "grid_area": null,
            "grid_template_columns": null,
            "flex": null,
            "_model_name": "LayoutModel",
            "justify_items": null,
            "grid_row": null,
            "max_height": null,
            "align_content": null,
            "visibility": null,
            "align_self": null,
            "height": null,
            "min_height": null,
            "padding": null,
            "grid_auto_rows": null,
            "grid_gap": null,
            "max_width": null,
            "order": null,
            "_view_module_version": "1.2.0",
            "grid_template_areas": null,
            "object_position": null,
            "object_fit": null,
            "grid_auto_columns": null,
            "margin": null,
            "display": null,
            "left": null
          }
        },
        "528d86a55a7e4ca59cf9be1f5faa03ab": {
          "model_module": "@jupyter-widgets/controls",
          "model_name": "FloatProgressModel",
          "state": {
            "_view_name": "ProgressView",
            "style": "IPY_MODEL_33bcd02bab314111bdac890021d984c3",
            "_dom_classes": [],
            "description": "Downloading: 100%",
            "_model_name": "FloatProgressModel",
            "bar_style": "success",
            "max": 466062,
            "_view_module": "@jupyter-widgets/controls",
            "_model_module_version": "1.5.0",
            "value": 466062,
            "_view_count": null,
            "_view_module_version": "1.5.0",
            "orientation": "horizontal",
            "min": 0,
            "description_tooltip": null,
            "_model_module": "@jupyter-widgets/controls",
            "layout": "IPY_MODEL_f12ae5bf8acf484d8a46358ca83e666b"
          }
        },
        "a7d4afcceb08410fa4a3a9ae045280b7": {
          "model_module": "@jupyter-widgets/controls",
          "model_name": "HTMLModel",
          "state": {
            "_view_name": "HTMLView",
            "style": "IPY_MODEL_85c0959dd17e4f66800fe55c283c19a9",
            "_dom_classes": [],
            "description": "",
            "_model_name": "HTMLModel",
            "placeholder": "​",
            "_view_module": "@jupyter-widgets/controls",
            "_model_module_version": "1.5.0",
            "value": " 466k/466k [00:00&lt;00:00, 3.32MB/s]",
            "_view_count": null,
            "_view_module_version": "1.5.0",
            "description_tooltip": null,
            "_model_module": "@jupyter-widgets/controls",
            "layout": "IPY_MODEL_abc432c1527042f4b3ebd2a32acc6e32"
          }
        },
        "33bcd02bab314111bdac890021d984c3": {
          "model_module": "@jupyter-widgets/controls",
          "model_name": "ProgressStyleModel",
          "state": {
            "_view_name": "StyleView",
            "_model_name": "ProgressStyleModel",
            "description_width": "initial",
            "_view_module": "@jupyter-widgets/base",
            "_model_module_version": "1.5.0",
            "_view_count": null,
            "_view_module_version": "1.2.0",
            "bar_color": null,
            "_model_module": "@jupyter-widgets/controls"
          }
        },
        "f12ae5bf8acf484d8a46358ca83e666b": {
          "model_module": "@jupyter-widgets/base",
          "model_name": "LayoutModel",
          "state": {
            "_view_name": "LayoutView",
            "grid_template_rows": null,
            "right": null,
            "justify_content": null,
            "_view_module": "@jupyter-widgets/base",
            "overflow": null,
            "_model_module_version": "1.2.0",
            "_view_count": null,
            "flex_flow": null,
            "width": null,
            "min_width": null,
            "border": null,
            "align_items": null,
            "bottom": null,
            "_model_module": "@jupyter-widgets/base",
            "top": null,
            "grid_column": null,
            "overflow_y": null,
            "overflow_x": null,
            "grid_auto_flow": null,
            "grid_area": null,
            "grid_template_columns": null,
            "flex": null,
            "_model_name": "LayoutModel",
            "justify_items": null,
            "grid_row": null,
            "max_height": null,
            "align_content": null,
            "visibility": null,
            "align_self": null,
            "height": null,
            "min_height": null,
            "padding": null,
            "grid_auto_rows": null,
            "grid_gap": null,
            "max_width": null,
            "order": null,
            "_view_module_version": "1.2.0",
            "grid_template_areas": null,
            "object_position": null,
            "object_fit": null,
            "grid_auto_columns": null,
            "margin": null,
            "display": null,
            "left": null
          }
        },
        "85c0959dd17e4f66800fe55c283c19a9": {
          "model_module": "@jupyter-widgets/controls",
          "model_name": "DescriptionStyleModel",
          "state": {
            "_view_name": "StyleView",
            "_model_name": "DescriptionStyleModel",
            "description_width": "",
            "_view_module": "@jupyter-widgets/base",
            "_model_module_version": "1.5.0",
            "_view_count": null,
            "_view_module_version": "1.2.0",
            "_model_module": "@jupyter-widgets/controls"
          }
        },
        "abc432c1527042f4b3ebd2a32acc6e32": {
          "model_module": "@jupyter-widgets/base",
          "model_name": "LayoutModel",
          "state": {
            "_view_name": "LayoutView",
            "grid_template_rows": null,
            "right": null,
            "justify_content": null,
            "_view_module": "@jupyter-widgets/base",
            "overflow": null,
            "_model_module_version": "1.2.0",
            "_view_count": null,
            "flex_flow": null,
            "width": null,
            "min_width": null,
            "border": null,
            "align_items": null,
            "bottom": null,
            "_model_module": "@jupyter-widgets/base",
            "top": null,
            "grid_column": null,
            "overflow_y": null,
            "overflow_x": null,
            "grid_auto_flow": null,
            "grid_area": null,
            "grid_template_columns": null,
            "flex": null,
            "_model_name": "LayoutModel",
            "justify_items": null,
            "grid_row": null,
            "max_height": null,
            "align_content": null,
            "visibility": null,
            "align_self": null,
            "height": null,
            "min_height": null,
            "padding": null,
            "grid_auto_rows": null,
            "grid_gap": null,
            "max_width": null,
            "order": null,
            "_view_module_version": "1.2.0",
            "grid_template_areas": null,
            "object_position": null,
            "object_fit": null,
            "grid_auto_columns": null,
            "margin": null,
            "display": null,
            "left": null
          }
        },
        "f925e6b4a4824a9f83c9c16f52cd2e13": {
          "model_module": "@jupyter-widgets/controls",
          "model_name": "HBoxModel",
          "state": {
            "_view_name": "HBoxView",
            "_dom_classes": [],
            "_model_name": "HBoxModel",
            "_view_module": "@jupyter-widgets/controls",
            "_model_module_version": "1.5.0",
            "_view_count": null,
            "_view_module_version": "1.5.0",
            "box_style": "",
            "layout": "IPY_MODEL_41ae917300c743489a943dbfbaa57b62",
            "_model_module": "@jupyter-widgets/controls",
            "children": [
              "IPY_MODEL_c8725d8804684740870d588011fc1cf1",
              "IPY_MODEL_ca17c611968e4d52be17c8750b466fa7"
            ]
          }
        },
        "41ae917300c743489a943dbfbaa57b62": {
          "model_module": "@jupyter-widgets/base",
          "model_name": "LayoutModel",
          "state": {
            "_view_name": "LayoutView",
            "grid_template_rows": null,
            "right": null,
            "justify_content": null,
            "_view_module": "@jupyter-widgets/base",
            "overflow": null,
            "_model_module_version": "1.2.0",
            "_view_count": null,
            "flex_flow": null,
            "width": null,
            "min_width": null,
            "border": null,
            "align_items": null,
            "bottom": null,
            "_model_module": "@jupyter-widgets/base",
            "top": null,
            "grid_column": null,
            "overflow_y": null,
            "overflow_x": null,
            "grid_auto_flow": null,
            "grid_area": null,
            "grid_template_columns": null,
            "flex": null,
            "_model_name": "LayoutModel",
            "justify_items": null,
            "grid_row": null,
            "max_height": null,
            "align_content": null,
            "visibility": null,
            "align_self": null,
            "height": null,
            "min_height": null,
            "padding": null,
            "grid_auto_rows": null,
            "grid_gap": null,
            "max_width": null,
            "order": null,
            "_view_module_version": "1.2.0",
            "grid_template_areas": null,
            "object_position": null,
            "object_fit": null,
            "grid_auto_columns": null,
            "margin": null,
            "display": null,
            "left": null
          }
        },
        "c8725d8804684740870d588011fc1cf1": {
          "model_module": "@jupyter-widgets/controls",
          "model_name": "FloatProgressModel",
          "state": {
            "_view_name": "ProgressView",
            "style": "IPY_MODEL_70ceda2e58664cc58ae24956976c474a",
            "_dom_classes": [],
            "description": "Downloading: 100%",
            "_model_name": "FloatProgressModel",
            "bar_style": "success",
            "max": 28,
            "_view_module": "@jupyter-widgets/controls",
            "_model_module_version": "1.5.0",
            "value": 28,
            "_view_count": null,
            "_view_module_version": "1.5.0",
            "orientation": "horizontal",
            "min": 0,
            "description_tooltip": null,
            "_model_module": "@jupyter-widgets/controls",
            "layout": "IPY_MODEL_487012c7319f48fcaa1b62901a6eb8f4"
          }
        },
        "ca17c611968e4d52be17c8750b466fa7": {
          "model_module": "@jupyter-widgets/controls",
          "model_name": "HTMLModel",
          "state": {
            "_view_name": "HTMLView",
            "style": "IPY_MODEL_f29307fcd0554f1fab0717939832fd1a",
            "_dom_classes": [],
            "description": "",
            "_model_name": "HTMLModel",
            "placeholder": "​",
            "_view_module": "@jupyter-widgets/controls",
            "_model_module_version": "1.5.0",
            "value": " 28.0/28.0 [00:00&lt;00:00, 1.05kB/s]",
            "_view_count": null,
            "_view_module_version": "1.5.0",
            "description_tooltip": null,
            "_model_module": "@jupyter-widgets/controls",
            "layout": "IPY_MODEL_8fd8db9dfc4a48f2aa07ac8aefd2db9a"
          }
        },
        "70ceda2e58664cc58ae24956976c474a": {
          "model_module": "@jupyter-widgets/controls",
          "model_name": "ProgressStyleModel",
          "state": {
            "_view_name": "StyleView",
            "_model_name": "ProgressStyleModel",
            "description_width": "initial",
            "_view_module": "@jupyter-widgets/base",
            "_model_module_version": "1.5.0",
            "_view_count": null,
            "_view_module_version": "1.2.0",
            "bar_color": null,
            "_model_module": "@jupyter-widgets/controls"
          }
        },
        "487012c7319f48fcaa1b62901a6eb8f4": {
          "model_module": "@jupyter-widgets/base",
          "model_name": "LayoutModel",
          "state": {
            "_view_name": "LayoutView",
            "grid_template_rows": null,
            "right": null,
            "justify_content": null,
            "_view_module": "@jupyter-widgets/base",
            "overflow": null,
            "_model_module_version": "1.2.0",
            "_view_count": null,
            "flex_flow": null,
            "width": null,
            "min_width": null,
            "border": null,
            "align_items": null,
            "bottom": null,
            "_model_module": "@jupyter-widgets/base",
            "top": null,
            "grid_column": null,
            "overflow_y": null,
            "overflow_x": null,
            "grid_auto_flow": null,
            "grid_area": null,
            "grid_template_columns": null,
            "flex": null,
            "_model_name": "LayoutModel",
            "justify_items": null,
            "grid_row": null,
            "max_height": null,
            "align_content": null,
            "visibility": null,
            "align_self": null,
            "height": null,
            "min_height": null,
            "padding": null,
            "grid_auto_rows": null,
            "grid_gap": null,
            "max_width": null,
            "order": null,
            "_view_module_version": "1.2.0",
            "grid_template_areas": null,
            "object_position": null,
            "object_fit": null,
            "grid_auto_columns": null,
            "margin": null,
            "display": null,
            "left": null
          }
        },
        "f29307fcd0554f1fab0717939832fd1a": {
          "model_module": "@jupyter-widgets/controls",
          "model_name": "DescriptionStyleModel",
          "state": {
            "_view_name": "StyleView",
            "_model_name": "DescriptionStyleModel",
            "description_width": "",
            "_view_module": "@jupyter-widgets/base",
            "_model_module_version": "1.5.0",
            "_view_count": null,
            "_view_module_version": "1.2.0",
            "_model_module": "@jupyter-widgets/controls"
          }
        },
        "8fd8db9dfc4a48f2aa07ac8aefd2db9a": {
          "model_module": "@jupyter-widgets/base",
          "model_name": "LayoutModel",
          "state": {
            "_view_name": "LayoutView",
            "grid_template_rows": null,
            "right": null,
            "justify_content": null,
            "_view_module": "@jupyter-widgets/base",
            "overflow": null,
            "_model_module_version": "1.2.0",
            "_view_count": null,
            "flex_flow": null,
            "width": null,
            "min_width": null,
            "border": null,
            "align_items": null,
            "bottom": null,
            "_model_module": "@jupyter-widgets/base",
            "top": null,
            "grid_column": null,
            "overflow_y": null,
            "overflow_x": null,
            "grid_auto_flow": null,
            "grid_area": null,
            "grid_template_columns": null,
            "flex": null,
            "_model_name": "LayoutModel",
            "justify_items": null,
            "grid_row": null,
            "max_height": null,
            "align_content": null,
            "visibility": null,
            "align_self": null,
            "height": null,
            "min_height": null,
            "padding": null,
            "grid_auto_rows": null,
            "grid_gap": null,
            "max_width": null,
            "order": null,
            "_view_module_version": "1.2.0",
            "grid_template_areas": null,
            "object_position": null,
            "object_fit": null,
            "grid_auto_columns": null,
            "margin": null,
            "display": null,
            "left": null
          }
        },
        "627523a032b0462b861ac558824c9407": {
          "model_module": "@jupyter-widgets/controls",
          "model_name": "HBoxModel",
          "state": {
            "_view_name": "HBoxView",
            "_dom_classes": [],
            "_model_name": "HBoxModel",
            "_view_module": "@jupyter-widgets/controls",
            "_model_module_version": "1.5.0",
            "_view_count": null,
            "_view_module_version": "1.5.0",
            "box_style": "",
            "layout": "IPY_MODEL_8e395f8029ce483cbe227fd18f0234f3",
            "_model_module": "@jupyter-widgets/controls",
            "children": [
              "IPY_MODEL_17521d31b6cc4330a959dab66be3289c",
              "IPY_MODEL_370f144d129348bd8da2d0385eec4d28"
            ]
          }
        },
        "8e395f8029ce483cbe227fd18f0234f3": {
          "model_module": "@jupyter-widgets/base",
          "model_name": "LayoutModel",
          "state": {
            "_view_name": "LayoutView",
            "grid_template_rows": null,
            "right": null,
            "justify_content": null,
            "_view_module": "@jupyter-widgets/base",
            "overflow": null,
            "_model_module_version": "1.2.0",
            "_view_count": null,
            "flex_flow": null,
            "width": null,
            "min_width": null,
            "border": null,
            "align_items": null,
            "bottom": null,
            "_model_module": "@jupyter-widgets/base",
            "top": null,
            "grid_column": null,
            "overflow_y": null,
            "overflow_x": null,
            "grid_auto_flow": null,
            "grid_area": null,
            "grid_template_columns": null,
            "flex": null,
            "_model_name": "LayoutModel",
            "justify_items": null,
            "grid_row": null,
            "max_height": null,
            "align_content": null,
            "visibility": null,
            "align_self": null,
            "height": null,
            "min_height": null,
            "padding": null,
            "grid_auto_rows": null,
            "grid_gap": null,
            "max_width": null,
            "order": null,
            "_view_module_version": "1.2.0",
            "grid_template_areas": null,
            "object_position": null,
            "object_fit": null,
            "grid_auto_columns": null,
            "margin": null,
            "display": null,
            "left": null
          }
        },
        "17521d31b6cc4330a959dab66be3289c": {
          "model_module": "@jupyter-widgets/controls",
          "model_name": "FloatProgressModel",
          "state": {
            "_view_name": "ProgressView",
            "style": "IPY_MODEL_599024e6ae134a0b8249419b222867ef",
            "_dom_classes": [],
            "description": "100%",
            "_model_name": "FloatProgressModel",
            "bar_style": "success",
            "max": 24,
            "_view_module": "@jupyter-widgets/controls",
            "_model_module_version": "1.5.0",
            "value": 24,
            "_view_count": null,
            "_view_module_version": "1.5.0",
            "orientation": "horizontal",
            "min": 0,
            "description_tooltip": null,
            "_model_module": "@jupyter-widgets/controls",
            "layout": "IPY_MODEL_ee783803aa384c84ab3eba589ba51fb9"
          }
        },
        "370f144d129348bd8da2d0385eec4d28": {
          "model_module": "@jupyter-widgets/controls",
          "model_name": "HTMLModel",
          "state": {
            "_view_name": "HTMLView",
            "style": "IPY_MODEL_e3b7fc68d1bd4ca3a384c5d48162e622",
            "_dom_classes": [],
            "description": "",
            "_model_name": "HTMLModel",
            "placeholder": "​",
            "_view_module": "@jupyter-widgets/controls",
            "_model_module_version": "1.5.0",
            "value": " 24/24 [00:01&lt;00:00, 15.03ba/s]",
            "_view_count": null,
            "_view_module_version": "1.5.0",
            "description_tooltip": null,
            "_model_module": "@jupyter-widgets/controls",
            "layout": "IPY_MODEL_3b20f651a8854a0bb06134f8fa67370b"
          }
        },
        "599024e6ae134a0b8249419b222867ef": {
          "model_module": "@jupyter-widgets/controls",
          "model_name": "ProgressStyleModel",
          "state": {
            "_view_name": "StyleView",
            "_model_name": "ProgressStyleModel",
            "description_width": "initial",
            "_view_module": "@jupyter-widgets/base",
            "_model_module_version": "1.5.0",
            "_view_count": null,
            "_view_module_version": "1.2.0",
            "bar_color": null,
            "_model_module": "@jupyter-widgets/controls"
          }
        },
        "ee783803aa384c84ab3eba589ba51fb9": {
          "model_module": "@jupyter-widgets/base",
          "model_name": "LayoutModel",
          "state": {
            "_view_name": "LayoutView",
            "grid_template_rows": null,
            "right": null,
            "justify_content": null,
            "_view_module": "@jupyter-widgets/base",
            "overflow": null,
            "_model_module_version": "1.2.0",
            "_view_count": null,
            "flex_flow": null,
            "width": null,
            "min_width": null,
            "border": null,
            "align_items": null,
            "bottom": null,
            "_model_module": "@jupyter-widgets/base",
            "top": null,
            "grid_column": null,
            "overflow_y": null,
            "overflow_x": null,
            "grid_auto_flow": null,
            "grid_area": null,
            "grid_template_columns": null,
            "flex": null,
            "_model_name": "LayoutModel",
            "justify_items": null,
            "grid_row": null,
            "max_height": null,
            "align_content": null,
            "visibility": null,
            "align_self": null,
            "height": null,
            "min_height": null,
            "padding": null,
            "grid_auto_rows": null,
            "grid_gap": null,
            "max_width": null,
            "order": null,
            "_view_module_version": "1.2.0",
            "grid_template_areas": null,
            "object_position": null,
            "object_fit": null,
            "grid_auto_columns": null,
            "margin": null,
            "display": null,
            "left": null
          }
        },
        "e3b7fc68d1bd4ca3a384c5d48162e622": {
          "model_module": "@jupyter-widgets/controls",
          "model_name": "DescriptionStyleModel",
          "state": {
            "_view_name": "StyleView",
            "_model_name": "DescriptionStyleModel",
            "description_width": "",
            "_view_module": "@jupyter-widgets/base",
            "_model_module_version": "1.5.0",
            "_view_count": null,
            "_view_module_version": "1.2.0",
            "_model_module": "@jupyter-widgets/controls"
          }
        },
        "3b20f651a8854a0bb06134f8fa67370b": {
          "model_module": "@jupyter-widgets/base",
          "model_name": "LayoutModel",
          "state": {
            "_view_name": "LayoutView",
            "grid_template_rows": null,
            "right": null,
            "justify_content": null,
            "_view_module": "@jupyter-widgets/base",
            "overflow": null,
            "_model_module_version": "1.2.0",
            "_view_count": null,
            "flex_flow": null,
            "width": null,
            "min_width": null,
            "border": null,
            "align_items": null,
            "bottom": null,
            "_model_module": "@jupyter-widgets/base",
            "top": null,
            "grid_column": null,
            "overflow_y": null,
            "overflow_x": null,
            "grid_auto_flow": null,
            "grid_area": null,
            "grid_template_columns": null,
            "flex": null,
            "_model_name": "LayoutModel",
            "justify_items": null,
            "grid_row": null,
            "max_height": null,
            "align_content": null,
            "visibility": null,
            "align_self": null,
            "height": null,
            "min_height": null,
            "padding": null,
            "grid_auto_rows": null,
            "grid_gap": null,
            "max_width": null,
            "order": null,
            "_view_module_version": "1.2.0",
            "grid_template_areas": null,
            "object_position": null,
            "object_fit": null,
            "grid_auto_columns": null,
            "margin": null,
            "display": null,
            "left": null
          }
        },
        "f28e078023fa441ab444d4d4f98f55b2": {
          "model_module": "@jupyter-widgets/controls",
          "model_name": "HBoxModel",
          "state": {
            "_view_name": "HBoxView",
            "_dom_classes": [],
            "_model_name": "HBoxModel",
            "_view_module": "@jupyter-widgets/controls",
            "_model_module_version": "1.5.0",
            "_view_count": null,
            "_view_module_version": "1.5.0",
            "box_style": "",
            "layout": "IPY_MODEL_d06d57b600424d2cb424a00ad9cd2d3f",
            "_model_module": "@jupyter-widgets/controls",
            "children": [
              "IPY_MODEL_41e0f4b0990f44b589a73fd6e8b51a4c",
              "IPY_MODEL_ad0666279ed54dc9a34014400d8f3e10"
            ]
          }
        },
        "d06d57b600424d2cb424a00ad9cd2d3f": {
          "model_module": "@jupyter-widgets/base",
          "model_name": "LayoutModel",
          "state": {
            "_view_name": "LayoutView",
            "grid_template_rows": null,
            "right": null,
            "justify_content": null,
            "_view_module": "@jupyter-widgets/base",
            "overflow": null,
            "_model_module_version": "1.2.0",
            "_view_count": null,
            "flex_flow": null,
            "width": null,
            "min_width": null,
            "border": null,
            "align_items": null,
            "bottom": null,
            "_model_module": "@jupyter-widgets/base",
            "top": null,
            "grid_column": null,
            "overflow_y": null,
            "overflow_x": null,
            "grid_auto_flow": null,
            "grid_area": null,
            "grid_template_columns": null,
            "flex": null,
            "_model_name": "LayoutModel",
            "justify_items": null,
            "grid_row": null,
            "max_height": null,
            "align_content": null,
            "visibility": null,
            "align_self": null,
            "height": null,
            "min_height": null,
            "padding": null,
            "grid_auto_rows": null,
            "grid_gap": null,
            "max_width": null,
            "order": null,
            "_view_module_version": "1.2.0",
            "grid_template_areas": null,
            "object_position": null,
            "object_fit": null,
            "grid_auto_columns": null,
            "margin": null,
            "display": null,
            "left": null
          }
        },
        "41e0f4b0990f44b589a73fd6e8b51a4c": {
          "model_module": "@jupyter-widgets/controls",
          "model_name": "FloatProgressModel",
          "state": {
            "_view_name": "ProgressView",
            "style": "IPY_MODEL_999d6abd861942c9857b68a4994808c9",
            "_dom_classes": [],
            "description": "100%",
            "_model_name": "FloatProgressModel",
            "bar_style": "success",
            "max": 3,
            "_view_module": "@jupyter-widgets/controls",
            "_model_module_version": "1.5.0",
            "value": 3,
            "_view_count": null,
            "_view_module_version": "1.5.0",
            "orientation": "horizontal",
            "min": 0,
            "description_tooltip": null,
            "_model_module": "@jupyter-widgets/controls",
            "layout": "IPY_MODEL_627437ccfd2e4874908a9fdd1c3efe03"
          }
        },
        "ad0666279ed54dc9a34014400d8f3e10": {
          "model_module": "@jupyter-widgets/controls",
          "model_name": "HTMLModel",
          "state": {
            "_view_name": "HTMLView",
            "style": "IPY_MODEL_8847a4a241e44d31bea8f9cd99b73975",
            "_dom_classes": [],
            "description": "",
            "_model_name": "HTMLModel",
            "placeholder": "​",
            "_view_module": "@jupyter-widgets/controls",
            "_model_module_version": "1.5.0",
            "value": " 3/3 [00:29&lt;00:00,  9.76s/ba]",
            "_view_count": null,
            "_view_module_version": "1.5.0",
            "description_tooltip": null,
            "_model_module": "@jupyter-widgets/controls",
            "layout": "IPY_MODEL_f306942fbd104e5784e3c8eb0966ff6e"
          }
        },
        "999d6abd861942c9857b68a4994808c9": {
          "model_module": "@jupyter-widgets/controls",
          "model_name": "ProgressStyleModel",
          "state": {
            "_view_name": "StyleView",
            "_model_name": "ProgressStyleModel",
            "description_width": "initial",
            "_view_module": "@jupyter-widgets/base",
            "_model_module_version": "1.5.0",
            "_view_count": null,
            "_view_module_version": "1.2.0",
            "bar_color": null,
            "_model_module": "@jupyter-widgets/controls"
          }
        },
        "627437ccfd2e4874908a9fdd1c3efe03": {
          "model_module": "@jupyter-widgets/base",
          "model_name": "LayoutModel",
          "state": {
            "_view_name": "LayoutView",
            "grid_template_rows": null,
            "right": null,
            "justify_content": null,
            "_view_module": "@jupyter-widgets/base",
            "overflow": null,
            "_model_module_version": "1.2.0",
            "_view_count": null,
            "flex_flow": null,
            "width": null,
            "min_width": null,
            "border": null,
            "align_items": null,
            "bottom": null,
            "_model_module": "@jupyter-widgets/base",
            "top": null,
            "grid_column": null,
            "overflow_y": null,
            "overflow_x": null,
            "grid_auto_flow": null,
            "grid_area": null,
            "grid_template_columns": null,
            "flex": null,
            "_model_name": "LayoutModel",
            "justify_items": null,
            "grid_row": null,
            "max_height": null,
            "align_content": null,
            "visibility": null,
            "align_self": null,
            "height": null,
            "min_height": null,
            "padding": null,
            "grid_auto_rows": null,
            "grid_gap": null,
            "max_width": null,
            "order": null,
            "_view_module_version": "1.2.0",
            "grid_template_areas": null,
            "object_position": null,
            "object_fit": null,
            "grid_auto_columns": null,
            "margin": null,
            "display": null,
            "left": null
          }
        },
        "8847a4a241e44d31bea8f9cd99b73975": {
          "model_module": "@jupyter-widgets/controls",
          "model_name": "DescriptionStyleModel",
          "state": {
            "_view_name": "StyleView",
            "_model_name": "DescriptionStyleModel",
            "description_width": "",
            "_view_module": "@jupyter-widgets/base",
            "_model_module_version": "1.5.0",
            "_view_count": null,
            "_view_module_version": "1.2.0",
            "_model_module": "@jupyter-widgets/controls"
          }
        },
        "f306942fbd104e5784e3c8eb0966ff6e": {
          "model_module": "@jupyter-widgets/base",
          "model_name": "LayoutModel",
          "state": {
            "_view_name": "LayoutView",
            "grid_template_rows": null,
            "right": null,
            "justify_content": null,
            "_view_module": "@jupyter-widgets/base",
            "overflow": null,
            "_model_module_version": "1.2.0",
            "_view_count": null,
            "flex_flow": null,
            "width": null,
            "min_width": null,
            "border": null,
            "align_items": null,
            "bottom": null,
            "_model_module": "@jupyter-widgets/base",
            "top": null,
            "grid_column": null,
            "overflow_y": null,
            "overflow_x": null,
            "grid_auto_flow": null,
            "grid_area": null,
            "grid_template_columns": null,
            "flex": null,
            "_model_name": "LayoutModel",
            "justify_items": null,
            "grid_row": null,
            "max_height": null,
            "align_content": null,
            "visibility": null,
            "align_self": null,
            "height": null,
            "min_height": null,
            "padding": null,
            "grid_auto_rows": null,
            "grid_gap": null,
            "max_width": null,
            "order": null,
            "_view_module_version": "1.2.0",
            "grid_template_areas": null,
            "object_position": null,
            "object_fit": null,
            "grid_auto_columns": null,
            "margin": null,
            "display": null,
            "left": null
          }
        },
        "f6f0775916824437914fb9b4b2fcbea3": {
          "model_module": "@jupyter-widgets/controls",
          "model_name": "HBoxModel",
          "state": {
            "_view_name": "HBoxView",
            "_dom_classes": [],
            "_model_name": "HBoxModel",
            "_view_module": "@jupyter-widgets/controls",
            "_model_module_version": "1.5.0",
            "_view_count": null,
            "_view_module_version": "1.5.0",
            "box_style": "",
            "layout": "IPY_MODEL_776b3198fdb443ad840c7ca9b1c9437a",
            "_model_module": "@jupyter-widgets/controls",
            "children": [
              "IPY_MODEL_906c734045104a0a89210a99c8e35ff3",
              "IPY_MODEL_b7ed2bd898e74e4e92ba82767e0a123f"
            ]
          }
        },
        "776b3198fdb443ad840c7ca9b1c9437a": {
          "model_module": "@jupyter-widgets/base",
          "model_name": "LayoutModel",
          "state": {
            "_view_name": "LayoutView",
            "grid_template_rows": null,
            "right": null,
            "justify_content": null,
            "_view_module": "@jupyter-widgets/base",
            "overflow": null,
            "_model_module_version": "1.2.0",
            "_view_count": null,
            "flex_flow": null,
            "width": null,
            "min_width": null,
            "border": null,
            "align_items": null,
            "bottom": null,
            "_model_module": "@jupyter-widgets/base",
            "top": null,
            "grid_column": null,
            "overflow_y": null,
            "overflow_x": null,
            "grid_auto_flow": null,
            "grid_area": null,
            "grid_template_columns": null,
            "flex": null,
            "_model_name": "LayoutModel",
            "justify_items": null,
            "grid_row": null,
            "max_height": null,
            "align_content": null,
            "visibility": null,
            "align_self": null,
            "height": null,
            "min_height": null,
            "padding": null,
            "grid_auto_rows": null,
            "grid_gap": null,
            "max_width": null,
            "order": null,
            "_view_module_version": "1.2.0",
            "grid_template_areas": null,
            "object_position": null,
            "object_fit": null,
            "grid_auto_columns": null,
            "margin": null,
            "display": null,
            "left": null
          }
        },
        "906c734045104a0a89210a99c8e35ff3": {
          "model_module": "@jupyter-widgets/controls",
          "model_name": "FloatProgressModel",
          "state": {
            "_view_name": "ProgressView",
            "style": "IPY_MODEL_a5c2045e66d14cc3b511d91813eb26c4",
            "_dom_classes": [],
            "description": "100%",
            "_model_name": "FloatProgressModel",
            "bar_style": "success",
            "max": 3,
            "_view_module": "@jupyter-widgets/controls",
            "_model_module_version": "1.5.0",
            "value": 3,
            "_view_count": null,
            "_view_module_version": "1.5.0",
            "orientation": "horizontal",
            "min": 0,
            "description_tooltip": null,
            "_model_module": "@jupyter-widgets/controls",
            "layout": "IPY_MODEL_c7f5fe7e3ec542b49f090f638c2e1146"
          }
        },
        "b7ed2bd898e74e4e92ba82767e0a123f": {
          "model_module": "@jupyter-widgets/controls",
          "model_name": "HTMLModel",
          "state": {
            "_view_name": "HTMLView",
            "style": "IPY_MODEL_cbb2d4e4fc654324b7bda7b31a8b10f4",
            "_dom_classes": [],
            "description": "",
            "_model_name": "HTMLModel",
            "placeholder": "​",
            "_view_module": "@jupyter-widgets/controls",
            "_model_module_version": "1.5.0",
            "value": " 3/3 [00:28&lt;00:00,  9.65s/ba]",
            "_view_count": null,
            "_view_module_version": "1.5.0",
            "description_tooltip": null,
            "_model_module": "@jupyter-widgets/controls",
            "layout": "IPY_MODEL_932e5f9496d149aca68de2f894347841"
          }
        },
        "a5c2045e66d14cc3b511d91813eb26c4": {
          "model_module": "@jupyter-widgets/controls",
          "model_name": "ProgressStyleModel",
          "state": {
            "_view_name": "StyleView",
            "_model_name": "ProgressStyleModel",
            "description_width": "initial",
            "_view_module": "@jupyter-widgets/base",
            "_model_module_version": "1.5.0",
            "_view_count": null,
            "_view_module_version": "1.2.0",
            "bar_color": null,
            "_model_module": "@jupyter-widgets/controls"
          }
        },
        "c7f5fe7e3ec542b49f090f638c2e1146": {
          "model_module": "@jupyter-widgets/base",
          "model_name": "LayoutModel",
          "state": {
            "_view_name": "LayoutView",
            "grid_template_rows": null,
            "right": null,
            "justify_content": null,
            "_view_module": "@jupyter-widgets/base",
            "overflow": null,
            "_model_module_version": "1.2.0",
            "_view_count": null,
            "flex_flow": null,
            "width": null,
            "min_width": null,
            "border": null,
            "align_items": null,
            "bottom": null,
            "_model_module": "@jupyter-widgets/base",
            "top": null,
            "grid_column": null,
            "overflow_y": null,
            "overflow_x": null,
            "grid_auto_flow": null,
            "grid_area": null,
            "grid_template_columns": null,
            "flex": null,
            "_model_name": "LayoutModel",
            "justify_items": null,
            "grid_row": null,
            "max_height": null,
            "align_content": null,
            "visibility": null,
            "align_self": null,
            "height": null,
            "min_height": null,
            "padding": null,
            "grid_auto_rows": null,
            "grid_gap": null,
            "max_width": null,
            "order": null,
            "_view_module_version": "1.2.0",
            "grid_template_areas": null,
            "object_position": null,
            "object_fit": null,
            "grid_auto_columns": null,
            "margin": null,
            "display": null,
            "left": null
          }
        },
        "cbb2d4e4fc654324b7bda7b31a8b10f4": {
          "model_module": "@jupyter-widgets/controls",
          "model_name": "DescriptionStyleModel",
          "state": {
            "_view_name": "StyleView",
            "_model_name": "DescriptionStyleModel",
            "description_width": "",
            "_view_module": "@jupyter-widgets/base",
            "_model_module_version": "1.5.0",
            "_view_count": null,
            "_view_module_version": "1.2.0",
            "_model_module": "@jupyter-widgets/controls"
          }
        },
        "932e5f9496d149aca68de2f894347841": {
          "model_module": "@jupyter-widgets/base",
          "model_name": "LayoutModel",
          "state": {
            "_view_name": "LayoutView",
            "grid_template_rows": null,
            "right": null,
            "justify_content": null,
            "_view_module": "@jupyter-widgets/base",
            "overflow": null,
            "_model_module_version": "1.2.0",
            "_view_count": null,
            "flex_flow": null,
            "width": null,
            "min_width": null,
            "border": null,
            "align_items": null,
            "bottom": null,
            "_model_module": "@jupyter-widgets/base",
            "top": null,
            "grid_column": null,
            "overflow_y": null,
            "overflow_x": null,
            "grid_auto_flow": null,
            "grid_area": null,
            "grid_template_columns": null,
            "flex": null,
            "_model_name": "LayoutModel",
            "justify_items": null,
            "grid_row": null,
            "max_height": null,
            "align_content": null,
            "visibility": null,
            "align_self": null,
            "height": null,
            "min_height": null,
            "padding": null,
            "grid_auto_rows": null,
            "grid_gap": null,
            "max_width": null,
            "order": null,
            "_view_module_version": "1.2.0",
            "grid_template_areas": null,
            "object_position": null,
            "object_fit": null,
            "grid_auto_columns": null,
            "margin": null,
            "display": null,
            "left": null
          }
        },
        "1772830b104b42d98b530b1cac59887c": {
          "model_module": "@jupyter-widgets/controls",
          "model_name": "HBoxModel",
          "state": {
            "_view_name": "HBoxView",
            "_dom_classes": [],
            "_model_name": "HBoxModel",
            "_view_module": "@jupyter-widgets/controls",
            "_model_module_version": "1.5.0",
            "_view_count": null,
            "_view_module_version": "1.5.0",
            "box_style": "",
            "layout": "IPY_MODEL_9da0c78d18c247d8bb7ff9414ce0ca17",
            "_model_module": "@jupyter-widgets/controls",
            "children": [
              "IPY_MODEL_6accb95bf0ac40b19242a2d6d179926b",
              "IPY_MODEL_873f3afb4c9644858380b2284304611a"
            ]
          }
        },
        "9da0c78d18c247d8bb7ff9414ce0ca17": {
          "model_module": "@jupyter-widgets/base",
          "model_name": "LayoutModel",
          "state": {
            "_view_name": "LayoutView",
            "grid_template_rows": null,
            "right": null,
            "justify_content": null,
            "_view_module": "@jupyter-widgets/base",
            "overflow": null,
            "_model_module_version": "1.2.0",
            "_view_count": null,
            "flex_flow": null,
            "width": null,
            "min_width": null,
            "border": null,
            "align_items": null,
            "bottom": null,
            "_model_module": "@jupyter-widgets/base",
            "top": null,
            "grid_column": null,
            "overflow_y": null,
            "overflow_x": null,
            "grid_auto_flow": null,
            "grid_area": null,
            "grid_template_columns": null,
            "flex": null,
            "_model_name": "LayoutModel",
            "justify_items": null,
            "grid_row": null,
            "max_height": null,
            "align_content": null,
            "visibility": null,
            "align_self": null,
            "height": null,
            "min_height": null,
            "padding": null,
            "grid_auto_rows": null,
            "grid_gap": null,
            "max_width": null,
            "order": null,
            "_view_module_version": "1.2.0",
            "grid_template_areas": null,
            "object_position": null,
            "object_fit": null,
            "grid_auto_columns": null,
            "margin": null,
            "display": null,
            "left": null
          }
        },
        "6accb95bf0ac40b19242a2d6d179926b": {
          "model_module": "@jupyter-widgets/controls",
          "model_name": "FloatProgressModel",
          "state": {
            "_view_name": "ProgressView",
            "style": "IPY_MODEL_4cd6bacda3c64be1970a4e86c0e106a8",
            "_dom_classes": [],
            "description": "100%",
            "_model_name": "FloatProgressModel",
            "bar_style": "success",
            "max": 23485,
            "_view_module": "@jupyter-widgets/controls",
            "_model_module_version": "1.5.0",
            "value": 23485,
            "_view_count": null,
            "_view_module_version": "1.5.0",
            "orientation": "horizontal",
            "min": 0,
            "description_tooltip": null,
            "_model_module": "@jupyter-widgets/controls",
            "layout": "IPY_MODEL_3375160d79eb49ed948fbf181dc5df87"
          }
        },
        "873f3afb4c9644858380b2284304611a": {
          "model_module": "@jupyter-widgets/controls",
          "model_name": "HTMLModel",
          "state": {
            "_view_name": "HTMLView",
            "style": "IPY_MODEL_e7a24eef422a42d2ab67e3e26b994d08",
            "_dom_classes": [],
            "description": "",
            "_model_name": "HTMLModel",
            "placeholder": "​",
            "_view_module": "@jupyter-widgets/controls",
            "_model_module_version": "1.5.0",
            "value": " 23485/23485 [00:28&lt;00:00, 816.84ex/s]",
            "_view_count": null,
            "_view_module_version": "1.5.0",
            "description_tooltip": null,
            "_model_module": "@jupyter-widgets/controls",
            "layout": "IPY_MODEL_635ea2be054047fe926b9bcdd66ab0e6"
          }
        },
        "4cd6bacda3c64be1970a4e86c0e106a8": {
          "model_module": "@jupyter-widgets/controls",
          "model_name": "ProgressStyleModel",
          "state": {
            "_view_name": "StyleView",
            "_model_name": "ProgressStyleModel",
            "description_width": "initial",
            "_view_module": "@jupyter-widgets/base",
            "_model_module_version": "1.5.0",
            "_view_count": null,
            "_view_module_version": "1.2.0",
            "bar_color": null,
            "_model_module": "@jupyter-widgets/controls"
          }
        },
        "3375160d79eb49ed948fbf181dc5df87": {
          "model_module": "@jupyter-widgets/base",
          "model_name": "LayoutModel",
          "state": {
            "_view_name": "LayoutView",
            "grid_template_rows": null,
            "right": null,
            "justify_content": null,
            "_view_module": "@jupyter-widgets/base",
            "overflow": null,
            "_model_module_version": "1.2.0",
            "_view_count": null,
            "flex_flow": null,
            "width": null,
            "min_width": null,
            "border": null,
            "align_items": null,
            "bottom": null,
            "_model_module": "@jupyter-widgets/base",
            "top": null,
            "grid_column": null,
            "overflow_y": null,
            "overflow_x": null,
            "grid_auto_flow": null,
            "grid_area": null,
            "grid_template_columns": null,
            "flex": null,
            "_model_name": "LayoutModel",
            "justify_items": null,
            "grid_row": null,
            "max_height": null,
            "align_content": null,
            "visibility": null,
            "align_self": null,
            "height": null,
            "min_height": null,
            "padding": null,
            "grid_auto_rows": null,
            "grid_gap": null,
            "max_width": null,
            "order": null,
            "_view_module_version": "1.2.0",
            "grid_template_areas": null,
            "object_position": null,
            "object_fit": null,
            "grid_auto_columns": null,
            "margin": null,
            "display": null,
            "left": null
          }
        },
        "e7a24eef422a42d2ab67e3e26b994d08": {
          "model_module": "@jupyter-widgets/controls",
          "model_name": "DescriptionStyleModel",
          "state": {
            "_view_name": "StyleView",
            "_model_name": "DescriptionStyleModel",
            "description_width": "",
            "_view_module": "@jupyter-widgets/base",
            "_model_module_version": "1.5.0",
            "_view_count": null,
            "_view_module_version": "1.2.0",
            "_model_module": "@jupyter-widgets/controls"
          }
        },
        "635ea2be054047fe926b9bcdd66ab0e6": {
          "model_module": "@jupyter-widgets/base",
          "model_name": "LayoutModel",
          "state": {
            "_view_name": "LayoutView",
            "grid_template_rows": null,
            "right": null,
            "justify_content": null,
            "_view_module": "@jupyter-widgets/base",
            "overflow": null,
            "_model_module_version": "1.2.0",
            "_view_count": null,
            "flex_flow": null,
            "width": null,
            "min_width": null,
            "border": null,
            "align_items": null,
            "bottom": null,
            "_model_module": "@jupyter-widgets/base",
            "top": null,
            "grid_column": null,
            "overflow_y": null,
            "overflow_x": null,
            "grid_auto_flow": null,
            "grid_area": null,
            "grid_template_columns": null,
            "flex": null,
            "_model_name": "LayoutModel",
            "justify_items": null,
            "grid_row": null,
            "max_height": null,
            "align_content": null,
            "visibility": null,
            "align_self": null,
            "height": null,
            "min_height": null,
            "padding": null,
            "grid_auto_rows": null,
            "grid_gap": null,
            "max_width": null,
            "order": null,
            "_view_module_version": "1.2.0",
            "grid_template_areas": null,
            "object_position": null,
            "object_fit": null,
            "grid_auto_columns": null,
            "margin": null,
            "display": null,
            "left": null
          }
        },
        "f2fbecf40cf04a818dede1f116edc848": {
          "model_module": "@jupyter-widgets/controls",
          "model_name": "HBoxModel",
          "state": {
            "_view_name": "HBoxView",
            "_dom_classes": [],
            "_model_name": "HBoxModel",
            "_view_module": "@jupyter-widgets/controls",
            "_model_module_version": "1.5.0",
            "_view_count": null,
            "_view_module_version": "1.5.0",
            "box_style": "",
            "layout": "IPY_MODEL_1672c737ee374666a10e16600d511314",
            "_model_module": "@jupyter-widgets/controls",
            "children": [
              "IPY_MODEL_550ce493d7074a9fb0a895ac7113a06c",
              "IPY_MODEL_48ae328765024e2babd50fd9d2e21647"
            ]
          }
        },
        "1672c737ee374666a10e16600d511314": {
          "model_module": "@jupyter-widgets/base",
          "model_name": "LayoutModel",
          "state": {
            "_view_name": "LayoutView",
            "grid_template_rows": null,
            "right": null,
            "justify_content": null,
            "_view_module": "@jupyter-widgets/base",
            "overflow": null,
            "_model_module_version": "1.2.0",
            "_view_count": null,
            "flex_flow": null,
            "width": null,
            "min_width": null,
            "border": null,
            "align_items": null,
            "bottom": null,
            "_model_module": "@jupyter-widgets/base",
            "top": null,
            "grid_column": null,
            "overflow_y": null,
            "overflow_x": null,
            "grid_auto_flow": null,
            "grid_area": null,
            "grid_template_columns": null,
            "flex": null,
            "_model_name": "LayoutModel",
            "justify_items": null,
            "grid_row": null,
            "max_height": null,
            "align_content": null,
            "visibility": null,
            "align_self": null,
            "height": null,
            "min_height": null,
            "padding": null,
            "grid_auto_rows": null,
            "grid_gap": null,
            "max_width": null,
            "order": null,
            "_view_module_version": "1.2.0",
            "grid_template_areas": null,
            "object_position": null,
            "object_fit": null,
            "grid_auto_columns": null,
            "margin": null,
            "display": null,
            "left": null
          }
        },
        "550ce493d7074a9fb0a895ac7113a06c": {
          "model_module": "@jupyter-widgets/controls",
          "model_name": "FloatProgressModel",
          "state": {
            "_view_name": "ProgressView",
            "style": "IPY_MODEL_95f1ac6756ef49a0bddd9ee9baf47de2",
            "_dom_classes": [],
            "description": "100%",
            "_model_name": "FloatProgressModel",
            "bar_style": "success",
            "max": 2956,
            "_view_module": "@jupyter-widgets/controls",
            "_model_module_version": "1.5.0",
            "value": 2956,
            "_view_count": null,
            "_view_module_version": "1.5.0",
            "orientation": "horizontal",
            "min": 0,
            "description_tooltip": null,
            "_model_module": "@jupyter-widgets/controls",
            "layout": "IPY_MODEL_30fff4f6f2b1493fa63cca2233ef3b1c"
          }
        },
        "48ae328765024e2babd50fd9d2e21647": {
          "model_module": "@jupyter-widgets/controls",
          "model_name": "HTMLModel",
          "state": {
            "_view_name": "HTMLView",
            "style": "IPY_MODEL_137d558234bd480482cff3da8120a778",
            "_dom_classes": [],
            "description": "",
            "_model_name": "HTMLModel",
            "placeholder": "​",
            "_view_module": "@jupyter-widgets/controls",
            "_model_module_version": "1.5.0",
            "value": " 2956/2956 [00:26&lt;00:00, 110.81ex/s]",
            "_view_count": null,
            "_view_module_version": "1.5.0",
            "description_tooltip": null,
            "_model_module": "@jupyter-widgets/controls",
            "layout": "IPY_MODEL_42fd1d847d004caba016fd76fa090954"
          }
        },
        "95f1ac6756ef49a0bddd9ee9baf47de2": {
          "model_module": "@jupyter-widgets/controls",
          "model_name": "ProgressStyleModel",
          "state": {
            "_view_name": "StyleView",
            "_model_name": "ProgressStyleModel",
            "description_width": "initial",
            "_view_module": "@jupyter-widgets/base",
            "_model_module_version": "1.5.0",
            "_view_count": null,
            "_view_module_version": "1.2.0",
            "bar_color": null,
            "_model_module": "@jupyter-widgets/controls"
          }
        },
        "30fff4f6f2b1493fa63cca2233ef3b1c": {
          "model_module": "@jupyter-widgets/base",
          "model_name": "LayoutModel",
          "state": {
            "_view_name": "LayoutView",
            "grid_template_rows": null,
            "right": null,
            "justify_content": null,
            "_view_module": "@jupyter-widgets/base",
            "overflow": null,
            "_model_module_version": "1.2.0",
            "_view_count": null,
            "flex_flow": null,
            "width": null,
            "min_width": null,
            "border": null,
            "align_items": null,
            "bottom": null,
            "_model_module": "@jupyter-widgets/base",
            "top": null,
            "grid_column": null,
            "overflow_y": null,
            "overflow_x": null,
            "grid_auto_flow": null,
            "grid_area": null,
            "grid_template_columns": null,
            "flex": null,
            "_model_name": "LayoutModel",
            "justify_items": null,
            "grid_row": null,
            "max_height": null,
            "align_content": null,
            "visibility": null,
            "align_self": null,
            "height": null,
            "min_height": null,
            "padding": null,
            "grid_auto_rows": null,
            "grid_gap": null,
            "max_width": null,
            "order": null,
            "_view_module_version": "1.2.0",
            "grid_template_areas": null,
            "object_position": null,
            "object_fit": null,
            "grid_auto_columns": null,
            "margin": null,
            "display": null,
            "left": null
          }
        },
        "137d558234bd480482cff3da8120a778": {
          "model_module": "@jupyter-widgets/controls",
          "model_name": "DescriptionStyleModel",
          "state": {
            "_view_name": "StyleView",
            "_model_name": "DescriptionStyleModel",
            "description_width": "",
            "_view_module": "@jupyter-widgets/base",
            "_model_module_version": "1.5.0",
            "_view_count": null,
            "_view_module_version": "1.2.0",
            "_model_module": "@jupyter-widgets/controls"
          }
        },
        "42fd1d847d004caba016fd76fa090954": {
          "model_module": "@jupyter-widgets/base",
          "model_name": "LayoutModel",
          "state": {
            "_view_name": "LayoutView",
            "grid_template_rows": null,
            "right": null,
            "justify_content": null,
            "_view_module": "@jupyter-widgets/base",
            "overflow": null,
            "_model_module_version": "1.2.0",
            "_view_count": null,
            "flex_flow": null,
            "width": null,
            "min_width": null,
            "border": null,
            "align_items": null,
            "bottom": null,
            "_model_module": "@jupyter-widgets/base",
            "top": null,
            "grid_column": null,
            "overflow_y": null,
            "overflow_x": null,
            "grid_auto_flow": null,
            "grid_area": null,
            "grid_template_columns": null,
            "flex": null,
            "_model_name": "LayoutModel",
            "justify_items": null,
            "grid_row": null,
            "max_height": null,
            "align_content": null,
            "visibility": null,
            "align_self": null,
            "height": null,
            "min_height": null,
            "padding": null,
            "grid_auto_rows": null,
            "grid_gap": null,
            "max_width": null,
            "order": null,
            "_view_module_version": "1.2.0",
            "grid_template_areas": null,
            "object_position": null,
            "object_fit": null,
            "grid_auto_columns": null,
            "margin": null,
            "display": null,
            "left": null
          }
        },
        "8b5b914b4d3e423a91abb7c567e398f8": {
          "model_module": "@jupyter-widgets/controls",
          "model_name": "HBoxModel",
          "state": {
            "_view_name": "HBoxView",
            "_dom_classes": [],
            "_model_name": "HBoxModel",
            "_view_module": "@jupyter-widgets/controls",
            "_model_module_version": "1.5.0",
            "_view_count": null,
            "_view_module_version": "1.5.0",
            "box_style": "",
            "layout": "IPY_MODEL_74543de291f040d380b3fd11e2104e8e",
            "_model_module": "@jupyter-widgets/controls",
            "children": [
              "IPY_MODEL_60ab04c02bbb4ea38776cad12d5a8857",
              "IPY_MODEL_707a67e96abf4cbfbc7330a57fa7c5ba"
            ]
          }
        },
        "74543de291f040d380b3fd11e2104e8e": {
          "model_module": "@jupyter-widgets/base",
          "model_name": "LayoutModel",
          "state": {
            "_view_name": "LayoutView",
            "grid_template_rows": null,
            "right": null,
            "justify_content": null,
            "_view_module": "@jupyter-widgets/base",
            "overflow": null,
            "_model_module_version": "1.2.0",
            "_view_count": null,
            "flex_flow": null,
            "width": null,
            "min_width": null,
            "border": null,
            "align_items": null,
            "bottom": null,
            "_model_module": "@jupyter-widgets/base",
            "top": null,
            "grid_column": null,
            "overflow_y": null,
            "overflow_x": null,
            "grid_auto_flow": null,
            "grid_area": null,
            "grid_template_columns": null,
            "flex": null,
            "_model_name": "LayoutModel",
            "justify_items": null,
            "grid_row": null,
            "max_height": null,
            "align_content": null,
            "visibility": null,
            "align_self": null,
            "height": null,
            "min_height": null,
            "padding": null,
            "grid_auto_rows": null,
            "grid_gap": null,
            "max_width": null,
            "order": null,
            "_view_module_version": "1.2.0",
            "grid_template_areas": null,
            "object_position": null,
            "object_fit": null,
            "grid_auto_columns": null,
            "margin": null,
            "display": null,
            "left": null
          }
        },
        "60ab04c02bbb4ea38776cad12d5a8857": {
          "model_module": "@jupyter-widgets/controls",
          "model_name": "FloatProgressModel",
          "state": {
            "_view_name": "ProgressView",
            "style": "IPY_MODEL_2209b8d6130147b18b18297bc86bbf20",
            "_dom_classes": [],
            "description": "100%",
            "_model_name": "FloatProgressModel",
            "bar_style": "success",
            "max": 2984,
            "_view_module": "@jupyter-widgets/controls",
            "_model_module_version": "1.5.0",
            "value": 2984,
            "_view_count": null,
            "_view_module_version": "1.5.0",
            "orientation": "horizontal",
            "min": 0,
            "description_tooltip": null,
            "_model_module": "@jupyter-widgets/controls",
            "layout": "IPY_MODEL_07e78d263db5493ebedfc8503f1eb6a5"
          }
        },
        "707a67e96abf4cbfbc7330a57fa7c5ba": {
          "model_module": "@jupyter-widgets/controls",
          "model_name": "HTMLModel",
          "state": {
            "_view_name": "HTMLView",
            "style": "IPY_MODEL_3e208e83302e481f8fee17f7103f0537",
            "_dom_classes": [],
            "description": "",
            "_model_name": "HTMLModel",
            "placeholder": "​",
            "_view_module": "@jupyter-widgets/controls",
            "_model_module_version": "1.5.0",
            "value": " 2984/2984 [00:26&lt;00:00, 113.24ex/s]",
            "_view_count": null,
            "_view_module_version": "1.5.0",
            "description_tooltip": null,
            "_model_module": "@jupyter-widgets/controls",
            "layout": "IPY_MODEL_5c292f12587e411f810014d8126d1356"
          }
        },
        "2209b8d6130147b18b18297bc86bbf20": {
          "model_module": "@jupyter-widgets/controls",
          "model_name": "ProgressStyleModel",
          "state": {
            "_view_name": "StyleView",
            "_model_name": "ProgressStyleModel",
            "description_width": "initial",
            "_view_module": "@jupyter-widgets/base",
            "_model_module_version": "1.5.0",
            "_view_count": null,
            "_view_module_version": "1.2.0",
            "bar_color": null,
            "_model_module": "@jupyter-widgets/controls"
          }
        },
        "07e78d263db5493ebedfc8503f1eb6a5": {
          "model_module": "@jupyter-widgets/base",
          "model_name": "LayoutModel",
          "state": {
            "_view_name": "LayoutView",
            "grid_template_rows": null,
            "right": null,
            "justify_content": null,
            "_view_module": "@jupyter-widgets/base",
            "overflow": null,
            "_model_module_version": "1.2.0",
            "_view_count": null,
            "flex_flow": null,
            "width": null,
            "min_width": null,
            "border": null,
            "align_items": null,
            "bottom": null,
            "_model_module": "@jupyter-widgets/base",
            "top": null,
            "grid_column": null,
            "overflow_y": null,
            "overflow_x": null,
            "grid_auto_flow": null,
            "grid_area": null,
            "grid_template_columns": null,
            "flex": null,
            "_model_name": "LayoutModel",
            "justify_items": null,
            "grid_row": null,
            "max_height": null,
            "align_content": null,
            "visibility": null,
            "align_self": null,
            "height": null,
            "min_height": null,
            "padding": null,
            "grid_auto_rows": null,
            "grid_gap": null,
            "max_width": null,
            "order": null,
            "_view_module_version": "1.2.0",
            "grid_template_areas": null,
            "object_position": null,
            "object_fit": null,
            "grid_auto_columns": null,
            "margin": null,
            "display": null,
            "left": null
          }
        },
        "3e208e83302e481f8fee17f7103f0537": {
          "model_module": "@jupyter-widgets/controls",
          "model_name": "DescriptionStyleModel",
          "state": {
            "_view_name": "StyleView",
            "_model_name": "DescriptionStyleModel",
            "description_width": "",
            "_view_module": "@jupyter-widgets/base",
            "_model_module_version": "1.5.0",
            "_view_count": null,
            "_view_module_version": "1.2.0",
            "_model_module": "@jupyter-widgets/controls"
          }
        },
        "5c292f12587e411f810014d8126d1356": {
          "model_module": "@jupyter-widgets/base",
          "model_name": "LayoutModel",
          "state": {
            "_view_name": "LayoutView",
            "grid_template_rows": null,
            "right": null,
            "justify_content": null,
            "_view_module": "@jupyter-widgets/base",
            "overflow": null,
            "_model_module_version": "1.2.0",
            "_view_count": null,
            "flex_flow": null,
            "width": null,
            "min_width": null,
            "border": null,
            "align_items": null,
            "bottom": null,
            "_model_module": "@jupyter-widgets/base",
            "top": null,
            "grid_column": null,
            "overflow_y": null,
            "overflow_x": null,
            "grid_auto_flow": null,
            "grid_area": null,
            "grid_template_columns": null,
            "flex": null,
            "_model_name": "LayoutModel",
            "justify_items": null,
            "grid_row": null,
            "max_height": null,
            "align_content": null,
            "visibility": null,
            "align_self": null,
            "height": null,
            "min_height": null,
            "padding": null,
            "grid_auto_rows": null,
            "grid_gap": null,
            "max_width": null,
            "order": null,
            "_view_module_version": "1.2.0",
            "grid_template_areas": null,
            "object_position": null,
            "object_fit": null,
            "grid_auto_columns": null,
            "margin": null,
            "display": null,
            "left": null
          }
        },
        "bf98ec11378a40ee84ca54c9bb3bdd18": {
          "model_module": "@jupyter-widgets/controls",
          "model_name": "HBoxModel",
          "state": {
            "_view_name": "HBoxView",
            "_dom_classes": [],
            "_model_name": "HBoxModel",
            "_view_module": "@jupyter-widgets/controls",
            "_model_module_version": "1.5.0",
            "_view_count": null,
            "_view_module_version": "1.5.0",
            "box_style": "",
            "layout": "IPY_MODEL_988f937244b84d6fa067b47e4467203e",
            "_model_module": "@jupyter-widgets/controls",
            "children": [
              "IPY_MODEL_04b177434ef84b419fc2b6d576c953e8",
              "IPY_MODEL_84d63f9caca740b8aace679c2fe2a0df"
            ]
          }
        },
        "988f937244b84d6fa067b47e4467203e": {
          "model_module": "@jupyter-widgets/base",
          "model_name": "LayoutModel",
          "state": {
            "_view_name": "LayoutView",
            "grid_template_rows": null,
            "right": null,
            "justify_content": null,
            "_view_module": "@jupyter-widgets/base",
            "overflow": null,
            "_model_module_version": "1.2.0",
            "_view_count": null,
            "flex_flow": null,
            "width": null,
            "min_width": null,
            "border": null,
            "align_items": null,
            "bottom": null,
            "_model_module": "@jupyter-widgets/base",
            "top": null,
            "grid_column": null,
            "overflow_y": null,
            "overflow_x": null,
            "grid_auto_flow": null,
            "grid_area": null,
            "grid_template_columns": null,
            "flex": null,
            "_model_name": "LayoutModel",
            "justify_items": null,
            "grid_row": null,
            "max_height": null,
            "align_content": null,
            "visibility": null,
            "align_self": null,
            "height": null,
            "min_height": null,
            "padding": null,
            "grid_auto_rows": null,
            "grid_gap": null,
            "max_width": null,
            "order": null,
            "_view_module_version": "1.2.0",
            "grid_template_areas": null,
            "object_position": null,
            "object_fit": null,
            "grid_auto_columns": null,
            "margin": null,
            "display": null,
            "left": null
          }
        },
        "04b177434ef84b419fc2b6d576c953e8": {
          "model_module": "@jupyter-widgets/controls",
          "model_name": "FloatProgressModel",
          "state": {
            "_view_name": "ProgressView",
            "style": "IPY_MODEL_486c879f0606411aa1d4b6448d5f3177",
            "_dom_classes": [],
            "description": "Downloading: ",
            "_model_name": "FloatProgressModel",
            "bar_style": "success",
            "max": 1362,
            "_view_module": "@jupyter-widgets/controls",
            "_model_module_version": "1.5.0",
            "value": 1362,
            "_view_count": null,
            "_view_module_version": "1.5.0",
            "orientation": "horizontal",
            "min": 0,
            "description_tooltip": null,
            "_model_module": "@jupyter-widgets/controls",
            "layout": "IPY_MODEL_d0a944a2bf4e4f4f8e5e4ab04f45510c"
          }
        },
        "84d63f9caca740b8aace679c2fe2a0df": {
          "model_module": "@jupyter-widgets/controls",
          "model_name": "HTMLModel",
          "state": {
            "_view_name": "HTMLView",
            "style": "IPY_MODEL_d6696627aba44922a965020b3a95341b",
            "_dom_classes": [],
            "description": "",
            "_model_name": "HTMLModel",
            "placeholder": "​",
            "_view_module": "@jupyter-widgets/controls",
            "_model_module_version": "1.5.0",
            "value": " 2.92k/? [00:00&lt;00:00, 13.3kB/s]",
            "_view_count": null,
            "_view_module_version": "1.5.0",
            "description_tooltip": null,
            "_model_module": "@jupyter-widgets/controls",
            "layout": "IPY_MODEL_6d5d162f98044ac0bfae06c616bb24ee"
          }
        },
        "486c879f0606411aa1d4b6448d5f3177": {
          "model_module": "@jupyter-widgets/controls",
          "model_name": "ProgressStyleModel",
          "state": {
            "_view_name": "StyleView",
            "_model_name": "ProgressStyleModel",
            "description_width": "initial",
            "_view_module": "@jupyter-widgets/base",
            "_model_module_version": "1.5.0",
            "_view_count": null,
            "_view_module_version": "1.2.0",
            "bar_color": null,
            "_model_module": "@jupyter-widgets/controls"
          }
        },
        "d0a944a2bf4e4f4f8e5e4ab04f45510c": {
          "model_module": "@jupyter-widgets/base",
          "model_name": "LayoutModel",
          "state": {
            "_view_name": "LayoutView",
            "grid_template_rows": null,
            "right": null,
            "justify_content": null,
            "_view_module": "@jupyter-widgets/base",
            "overflow": null,
            "_model_module_version": "1.2.0",
            "_view_count": null,
            "flex_flow": null,
            "width": null,
            "min_width": null,
            "border": null,
            "align_items": null,
            "bottom": null,
            "_model_module": "@jupyter-widgets/base",
            "top": null,
            "grid_column": null,
            "overflow_y": null,
            "overflow_x": null,
            "grid_auto_flow": null,
            "grid_area": null,
            "grid_template_columns": null,
            "flex": null,
            "_model_name": "LayoutModel",
            "justify_items": null,
            "grid_row": null,
            "max_height": null,
            "align_content": null,
            "visibility": null,
            "align_self": null,
            "height": null,
            "min_height": null,
            "padding": null,
            "grid_auto_rows": null,
            "grid_gap": null,
            "max_width": null,
            "order": null,
            "_view_module_version": "1.2.0",
            "grid_template_areas": null,
            "object_position": null,
            "object_fit": null,
            "grid_auto_columns": null,
            "margin": null,
            "display": null,
            "left": null
          }
        },
        "d6696627aba44922a965020b3a95341b": {
          "model_module": "@jupyter-widgets/controls",
          "model_name": "DescriptionStyleModel",
          "state": {
            "_view_name": "StyleView",
            "_model_name": "DescriptionStyleModel",
            "description_width": "",
            "_view_module": "@jupyter-widgets/base",
            "_model_module_version": "1.5.0",
            "_view_count": null,
            "_view_module_version": "1.2.0",
            "_model_module": "@jupyter-widgets/controls"
          }
        },
        "6d5d162f98044ac0bfae06c616bb24ee": {
          "model_module": "@jupyter-widgets/base",
          "model_name": "LayoutModel",
          "state": {
            "_view_name": "LayoutView",
            "grid_template_rows": null,
            "right": null,
            "justify_content": null,
            "_view_module": "@jupyter-widgets/base",
            "overflow": null,
            "_model_module_version": "1.2.0",
            "_view_count": null,
            "flex_flow": null,
            "width": null,
            "min_width": null,
            "border": null,
            "align_items": null,
            "bottom": null,
            "_model_module": "@jupyter-widgets/base",
            "top": null,
            "grid_column": null,
            "overflow_y": null,
            "overflow_x": null,
            "grid_auto_flow": null,
            "grid_area": null,
            "grid_template_columns": null,
            "flex": null,
            "_model_name": "LayoutModel",
            "justify_items": null,
            "grid_row": null,
            "max_height": null,
            "align_content": null,
            "visibility": null,
            "align_self": null,
            "height": null,
            "min_height": null,
            "padding": null,
            "grid_auto_rows": null,
            "grid_gap": null,
            "max_width": null,
            "order": null,
            "_view_module_version": "1.2.0",
            "grid_template_areas": null,
            "object_position": null,
            "object_fit": null,
            "grid_auto_columns": null,
            "margin": null,
            "display": null,
            "left": null
          }
        },
        "82637c6ec05b4db7806daef4b5e61335": {
          "model_module": "@jupyter-widgets/controls",
          "model_name": "HBoxModel",
          "state": {
            "_view_name": "HBoxView",
            "_dom_classes": [],
            "_model_name": "HBoxModel",
            "_view_module": "@jupyter-widgets/controls",
            "_model_module_version": "1.5.0",
            "_view_count": null,
            "_view_module_version": "1.5.0",
            "box_style": "",
            "layout": "IPY_MODEL_56c8709a14d244039c18e1b782cc9fbb",
            "_model_module": "@jupyter-widgets/controls",
            "children": [
              "IPY_MODEL_f33deb96afe04aee892a401c3e218888",
              "IPY_MODEL_9e2a089f4cfb434caf2d268f1a28c23e"
            ]
          }
        },
        "56c8709a14d244039c18e1b782cc9fbb": {
          "model_module": "@jupyter-widgets/base",
          "model_name": "LayoutModel",
          "state": {
            "_view_name": "LayoutView",
            "grid_template_rows": null,
            "right": null,
            "justify_content": null,
            "_view_module": "@jupyter-widgets/base",
            "overflow": null,
            "_model_module_version": "1.2.0",
            "_view_count": null,
            "flex_flow": null,
            "width": null,
            "min_width": null,
            "border": null,
            "align_items": null,
            "bottom": null,
            "_model_module": "@jupyter-widgets/base",
            "top": null,
            "grid_column": null,
            "overflow_y": null,
            "overflow_x": null,
            "grid_auto_flow": null,
            "grid_area": null,
            "grid_template_columns": null,
            "flex": null,
            "_model_name": "LayoutModel",
            "justify_items": null,
            "grid_row": null,
            "max_height": null,
            "align_content": null,
            "visibility": null,
            "align_self": null,
            "height": null,
            "min_height": null,
            "padding": null,
            "grid_auto_rows": null,
            "grid_gap": null,
            "max_width": null,
            "order": null,
            "_view_module_version": "1.2.0",
            "grid_template_areas": null,
            "object_position": null,
            "object_fit": null,
            "grid_auto_columns": null,
            "margin": null,
            "display": null,
            "left": null
          }
        },
        "f33deb96afe04aee892a401c3e218888": {
          "model_module": "@jupyter-widgets/controls",
          "model_name": "FloatProgressModel",
          "state": {
            "_view_name": "ProgressView",
            "style": "IPY_MODEL_e0bd398c667649c890bc45ffd922acb7",
            "_dom_classes": [],
            "description": "100%",
            "_model_name": "FloatProgressModel",
            "bar_style": "success",
            "max": 24,
            "_view_module": "@jupyter-widgets/controls",
            "_model_module_version": "1.5.0",
            "value": 24,
            "_view_count": null,
            "_view_module_version": "1.5.0",
            "orientation": "horizontal",
            "min": 0,
            "description_tooltip": null,
            "_model_module": "@jupyter-widgets/controls",
            "layout": "IPY_MODEL_aa9ca17f04e840119eacf45589df024f"
          }
        },
        "9e2a089f4cfb434caf2d268f1a28c23e": {
          "model_module": "@jupyter-widgets/controls",
          "model_name": "HTMLModel",
          "state": {
            "_view_name": "HTMLView",
            "style": "IPY_MODEL_7b16971ff62445c3a5f2ee668c5d8150",
            "_dom_classes": [],
            "description": "",
            "_model_name": "HTMLModel",
            "placeholder": "​",
            "_view_module": "@jupyter-widgets/controls",
            "_model_module_version": "1.5.0",
            "value": " 24/24 [00:05&lt;00:00,  4.76ba/s]",
            "_view_count": null,
            "_view_module_version": "1.5.0",
            "description_tooltip": null,
            "_model_module": "@jupyter-widgets/controls",
            "layout": "IPY_MODEL_7f49f05c87b64ddca5b4fe065f5a4bbf"
          }
        },
        "e0bd398c667649c890bc45ffd922acb7": {
          "model_module": "@jupyter-widgets/controls",
          "model_name": "ProgressStyleModel",
          "state": {
            "_view_name": "StyleView",
            "_model_name": "ProgressStyleModel",
            "description_width": "initial",
            "_view_module": "@jupyter-widgets/base",
            "_model_module_version": "1.5.0",
            "_view_count": null,
            "_view_module_version": "1.2.0",
            "bar_color": null,
            "_model_module": "@jupyter-widgets/controls"
          }
        },
        "aa9ca17f04e840119eacf45589df024f": {
          "model_module": "@jupyter-widgets/base",
          "model_name": "LayoutModel",
          "state": {
            "_view_name": "LayoutView",
            "grid_template_rows": null,
            "right": null,
            "justify_content": null,
            "_view_module": "@jupyter-widgets/base",
            "overflow": null,
            "_model_module_version": "1.2.0",
            "_view_count": null,
            "flex_flow": null,
            "width": null,
            "min_width": null,
            "border": null,
            "align_items": null,
            "bottom": null,
            "_model_module": "@jupyter-widgets/base",
            "top": null,
            "grid_column": null,
            "overflow_y": null,
            "overflow_x": null,
            "grid_auto_flow": null,
            "grid_area": null,
            "grid_template_columns": null,
            "flex": null,
            "_model_name": "LayoutModel",
            "justify_items": null,
            "grid_row": null,
            "max_height": null,
            "align_content": null,
            "visibility": null,
            "align_self": null,
            "height": null,
            "min_height": null,
            "padding": null,
            "grid_auto_rows": null,
            "grid_gap": null,
            "max_width": null,
            "order": null,
            "_view_module_version": "1.2.0",
            "grid_template_areas": null,
            "object_position": null,
            "object_fit": null,
            "grid_auto_columns": null,
            "margin": null,
            "display": null,
            "left": null
          }
        },
        "7b16971ff62445c3a5f2ee668c5d8150": {
          "model_module": "@jupyter-widgets/controls",
          "model_name": "DescriptionStyleModel",
          "state": {
            "_view_name": "StyleView",
            "_model_name": "DescriptionStyleModel",
            "description_width": "",
            "_view_module": "@jupyter-widgets/base",
            "_model_module_version": "1.5.0",
            "_view_count": null,
            "_view_module_version": "1.2.0",
            "_model_module": "@jupyter-widgets/controls"
          }
        },
        "7f49f05c87b64ddca5b4fe065f5a4bbf": {
          "model_module": "@jupyter-widgets/base",
          "model_name": "LayoutModel",
          "state": {
            "_view_name": "LayoutView",
            "grid_template_rows": null,
            "right": null,
            "justify_content": null,
            "_view_module": "@jupyter-widgets/base",
            "overflow": null,
            "_model_module_version": "1.2.0",
            "_view_count": null,
            "flex_flow": null,
            "width": null,
            "min_width": null,
            "border": null,
            "align_items": null,
            "bottom": null,
            "_model_module": "@jupyter-widgets/base",
            "top": null,
            "grid_column": null,
            "overflow_y": null,
            "overflow_x": null,
            "grid_auto_flow": null,
            "grid_area": null,
            "grid_template_columns": null,
            "flex": null,
            "_model_name": "LayoutModel",
            "justify_items": null,
            "grid_row": null,
            "max_height": null,
            "align_content": null,
            "visibility": null,
            "align_self": null,
            "height": null,
            "min_height": null,
            "padding": null,
            "grid_auto_rows": null,
            "grid_gap": null,
            "max_width": null,
            "order": null,
            "_view_module_version": "1.2.0",
            "grid_template_areas": null,
            "object_position": null,
            "object_fit": null,
            "grid_auto_columns": null,
            "margin": null,
            "display": null,
            "left": null
          }
        },
        "3434835eef1446978c4cbcff2aa7fe64": {
          "model_module": "@jupyter-widgets/controls",
          "model_name": "HBoxModel",
          "state": {
            "_view_name": "HBoxView",
            "_dom_classes": [],
            "_model_name": "HBoxModel",
            "_view_module": "@jupyter-widgets/controls",
            "_model_module_version": "1.5.0",
            "_view_count": null,
            "_view_module_version": "1.5.0",
            "box_style": "",
            "layout": "IPY_MODEL_0acf391c18584de78ca696cbc6a5be5e",
            "_model_module": "@jupyter-widgets/controls",
            "children": [
              "IPY_MODEL_289c11a0f6484d34bc9b7948ea35800c",
              "IPY_MODEL_1702b7a9ed03424e80301d1251c9262c"
            ]
          }
        },
        "0acf391c18584de78ca696cbc6a5be5e": {
          "model_module": "@jupyter-widgets/base",
          "model_name": "LayoutModel",
          "state": {
            "_view_name": "LayoutView",
            "grid_template_rows": null,
            "right": null,
            "justify_content": null,
            "_view_module": "@jupyter-widgets/base",
            "overflow": null,
            "_model_module_version": "1.2.0",
            "_view_count": null,
            "flex_flow": null,
            "width": null,
            "min_width": null,
            "border": null,
            "align_items": null,
            "bottom": null,
            "_model_module": "@jupyter-widgets/base",
            "top": null,
            "grid_column": null,
            "overflow_y": null,
            "overflow_x": null,
            "grid_auto_flow": null,
            "grid_area": null,
            "grid_template_columns": null,
            "flex": null,
            "_model_name": "LayoutModel",
            "justify_items": null,
            "grid_row": null,
            "max_height": null,
            "align_content": null,
            "visibility": null,
            "align_self": null,
            "height": null,
            "min_height": null,
            "padding": null,
            "grid_auto_rows": null,
            "grid_gap": null,
            "max_width": null,
            "order": null,
            "_view_module_version": "1.2.0",
            "grid_template_areas": null,
            "object_position": null,
            "object_fit": null,
            "grid_auto_columns": null,
            "margin": null,
            "display": null,
            "left": null
          }
        },
        "289c11a0f6484d34bc9b7948ea35800c": {
          "model_module": "@jupyter-widgets/controls",
          "model_name": "FloatProgressModel",
          "state": {
            "_view_name": "ProgressView",
            "style": "IPY_MODEL_a54f889ec03440bdbb4de891135f5982",
            "_dom_classes": [],
            "description": "100%",
            "_model_name": "FloatProgressModel",
            "bar_style": "success",
            "max": 3,
            "_view_module": "@jupyter-widgets/controls",
            "_model_module_version": "1.5.0",
            "value": 3,
            "_view_count": null,
            "_view_module_version": "1.5.0",
            "orientation": "horizontal",
            "min": 0,
            "description_tooltip": null,
            "_model_module": "@jupyter-widgets/controls",
            "layout": "IPY_MODEL_d99ae7f11347483abad8127f469b09f2"
          }
        },
        "1702b7a9ed03424e80301d1251c9262c": {
          "model_module": "@jupyter-widgets/controls",
          "model_name": "HTMLModel",
          "state": {
            "_view_name": "HTMLView",
            "style": "IPY_MODEL_c8cdb7c14ad44c599ac1eb5ce15a201f",
            "_dom_classes": [],
            "description": "",
            "_model_name": "HTMLModel",
            "placeholder": "​",
            "_view_module": "@jupyter-widgets/controls",
            "_model_module_version": "1.5.0",
            "value": " 3/3 [00:03&lt;00:00,  1.16s/ba]",
            "_view_count": null,
            "_view_module_version": "1.5.0",
            "description_tooltip": null,
            "_model_module": "@jupyter-widgets/controls",
            "layout": "IPY_MODEL_3623337a4e9f4954a814e0651647f043"
          }
        },
        "a54f889ec03440bdbb4de891135f5982": {
          "model_module": "@jupyter-widgets/controls",
          "model_name": "ProgressStyleModel",
          "state": {
            "_view_name": "StyleView",
            "_model_name": "ProgressStyleModel",
            "description_width": "initial",
            "_view_module": "@jupyter-widgets/base",
            "_model_module_version": "1.5.0",
            "_view_count": null,
            "_view_module_version": "1.2.0",
            "bar_color": null,
            "_model_module": "@jupyter-widgets/controls"
          }
        },
        "d99ae7f11347483abad8127f469b09f2": {
          "model_module": "@jupyter-widgets/base",
          "model_name": "LayoutModel",
          "state": {
            "_view_name": "LayoutView",
            "grid_template_rows": null,
            "right": null,
            "justify_content": null,
            "_view_module": "@jupyter-widgets/base",
            "overflow": null,
            "_model_module_version": "1.2.0",
            "_view_count": null,
            "flex_flow": null,
            "width": null,
            "min_width": null,
            "border": null,
            "align_items": null,
            "bottom": null,
            "_model_module": "@jupyter-widgets/base",
            "top": null,
            "grid_column": null,
            "overflow_y": null,
            "overflow_x": null,
            "grid_auto_flow": null,
            "grid_area": null,
            "grid_template_columns": null,
            "flex": null,
            "_model_name": "LayoutModel",
            "justify_items": null,
            "grid_row": null,
            "max_height": null,
            "align_content": null,
            "visibility": null,
            "align_self": null,
            "height": null,
            "min_height": null,
            "padding": null,
            "grid_auto_rows": null,
            "grid_gap": null,
            "max_width": null,
            "order": null,
            "_view_module_version": "1.2.0",
            "grid_template_areas": null,
            "object_position": null,
            "object_fit": null,
            "grid_auto_columns": null,
            "margin": null,
            "display": null,
            "left": null
          }
        },
        "c8cdb7c14ad44c599ac1eb5ce15a201f": {
          "model_module": "@jupyter-widgets/controls",
          "model_name": "DescriptionStyleModel",
          "state": {
            "_view_name": "StyleView",
            "_model_name": "DescriptionStyleModel",
            "description_width": "",
            "_view_module": "@jupyter-widgets/base",
            "_model_module_version": "1.5.0",
            "_view_count": null,
            "_view_module_version": "1.2.0",
            "_model_module": "@jupyter-widgets/controls"
          }
        },
        "3623337a4e9f4954a814e0651647f043": {
          "model_module": "@jupyter-widgets/base",
          "model_name": "LayoutModel",
          "state": {
            "_view_name": "LayoutView",
            "grid_template_rows": null,
            "right": null,
            "justify_content": null,
            "_view_module": "@jupyter-widgets/base",
            "overflow": null,
            "_model_module_version": "1.2.0",
            "_view_count": null,
            "flex_flow": null,
            "width": null,
            "min_width": null,
            "border": null,
            "align_items": null,
            "bottom": null,
            "_model_module": "@jupyter-widgets/base",
            "top": null,
            "grid_column": null,
            "overflow_y": null,
            "overflow_x": null,
            "grid_auto_flow": null,
            "grid_area": null,
            "grid_template_columns": null,
            "flex": null,
            "_model_name": "LayoutModel",
            "justify_items": null,
            "grid_row": null,
            "max_height": null,
            "align_content": null,
            "visibility": null,
            "align_self": null,
            "height": null,
            "min_height": null,
            "padding": null,
            "grid_auto_rows": null,
            "grid_gap": null,
            "max_width": null,
            "order": null,
            "_view_module_version": "1.2.0",
            "grid_template_areas": null,
            "object_position": null,
            "object_fit": null,
            "grid_auto_columns": null,
            "margin": null,
            "display": null,
            "left": null
          }
        },
        "0bd03be915d24cef8f59cfca0758fcab": {
          "model_module": "@jupyter-widgets/controls",
          "model_name": "HBoxModel",
          "state": {
            "_view_name": "HBoxView",
            "_dom_classes": [],
            "_model_name": "HBoxModel",
            "_view_module": "@jupyter-widgets/controls",
            "_model_module_version": "1.5.0",
            "_view_count": null,
            "_view_module_version": "1.5.0",
            "box_style": "",
            "layout": "IPY_MODEL_46f44aa49c064ccc917599da84d9ed9e",
            "_model_module": "@jupyter-widgets/controls",
            "children": [
              "IPY_MODEL_6a6489becb84493b8c21de608b7041f5",
              "IPY_MODEL_6090156f72754a8cb3d4f4cf85dbf47b"
            ]
          }
        },
        "46f44aa49c064ccc917599da84d9ed9e": {
          "model_module": "@jupyter-widgets/base",
          "model_name": "LayoutModel",
          "state": {
            "_view_name": "LayoutView",
            "grid_template_rows": null,
            "right": null,
            "justify_content": null,
            "_view_module": "@jupyter-widgets/base",
            "overflow": null,
            "_model_module_version": "1.2.0",
            "_view_count": null,
            "flex_flow": null,
            "width": null,
            "min_width": null,
            "border": null,
            "align_items": null,
            "bottom": null,
            "_model_module": "@jupyter-widgets/base",
            "top": null,
            "grid_column": null,
            "overflow_y": null,
            "overflow_x": null,
            "grid_auto_flow": null,
            "grid_area": null,
            "grid_template_columns": null,
            "flex": null,
            "_model_name": "LayoutModel",
            "justify_items": null,
            "grid_row": null,
            "max_height": null,
            "align_content": null,
            "visibility": null,
            "align_self": null,
            "height": null,
            "min_height": null,
            "padding": null,
            "grid_auto_rows": null,
            "grid_gap": null,
            "max_width": null,
            "order": null,
            "_view_module_version": "1.2.0",
            "grid_template_areas": null,
            "object_position": null,
            "object_fit": null,
            "grid_auto_columns": null,
            "margin": null,
            "display": null,
            "left": null
          }
        },
        "6a6489becb84493b8c21de608b7041f5": {
          "model_module": "@jupyter-widgets/controls",
          "model_name": "FloatProgressModel",
          "state": {
            "_view_name": "ProgressView",
            "style": "IPY_MODEL_a52b95f4123e4c1cab9ab9399cfc0863",
            "_dom_classes": [],
            "description": "100%",
            "_model_name": "FloatProgressModel",
            "bar_style": "success",
            "max": 3,
            "_view_module": "@jupyter-widgets/controls",
            "_model_module_version": "1.5.0",
            "value": 3,
            "_view_count": null,
            "_view_module_version": "1.5.0",
            "orientation": "horizontal",
            "min": 0,
            "description_tooltip": null,
            "_model_module": "@jupyter-widgets/controls",
            "layout": "IPY_MODEL_ece5f074fdcd410cb5ea09dcc3e70a30"
          }
        },
        "6090156f72754a8cb3d4f4cf85dbf47b": {
          "model_module": "@jupyter-widgets/controls",
          "model_name": "HTMLModel",
          "state": {
            "_view_name": "HTMLView",
            "style": "IPY_MODEL_75a61758d7f441c0b910540e43976a2f",
            "_dom_classes": [],
            "description": "",
            "_model_name": "HTMLModel",
            "placeholder": "​",
            "_view_module": "@jupyter-widgets/controls",
            "_model_module_version": "1.5.0",
            "value": " 3/3 [00:03&lt;00:00,  1.09s/ba]",
            "_view_count": null,
            "_view_module_version": "1.5.0",
            "description_tooltip": null,
            "_model_module": "@jupyter-widgets/controls",
            "layout": "IPY_MODEL_08194e865ed84123a7f3079366e7c388"
          }
        },
        "a52b95f4123e4c1cab9ab9399cfc0863": {
          "model_module": "@jupyter-widgets/controls",
          "model_name": "ProgressStyleModel",
          "state": {
            "_view_name": "StyleView",
            "_model_name": "ProgressStyleModel",
            "description_width": "initial",
            "_view_module": "@jupyter-widgets/base",
            "_model_module_version": "1.5.0",
            "_view_count": null,
            "_view_module_version": "1.2.0",
            "bar_color": null,
            "_model_module": "@jupyter-widgets/controls"
          }
        },
        "ece5f074fdcd410cb5ea09dcc3e70a30": {
          "model_module": "@jupyter-widgets/base",
          "model_name": "LayoutModel",
          "state": {
            "_view_name": "LayoutView",
            "grid_template_rows": null,
            "right": null,
            "justify_content": null,
            "_view_module": "@jupyter-widgets/base",
            "overflow": null,
            "_model_module_version": "1.2.0",
            "_view_count": null,
            "flex_flow": null,
            "width": null,
            "min_width": null,
            "border": null,
            "align_items": null,
            "bottom": null,
            "_model_module": "@jupyter-widgets/base",
            "top": null,
            "grid_column": null,
            "overflow_y": null,
            "overflow_x": null,
            "grid_auto_flow": null,
            "grid_area": null,
            "grid_template_columns": null,
            "flex": null,
            "_model_name": "LayoutModel",
            "justify_items": null,
            "grid_row": null,
            "max_height": null,
            "align_content": null,
            "visibility": null,
            "align_self": null,
            "height": null,
            "min_height": null,
            "padding": null,
            "grid_auto_rows": null,
            "grid_gap": null,
            "max_width": null,
            "order": null,
            "_view_module_version": "1.2.0",
            "grid_template_areas": null,
            "object_position": null,
            "object_fit": null,
            "grid_auto_columns": null,
            "margin": null,
            "display": null,
            "left": null
          }
        },
        "75a61758d7f441c0b910540e43976a2f": {
          "model_module": "@jupyter-widgets/controls",
          "model_name": "DescriptionStyleModel",
          "state": {
            "_view_name": "StyleView",
            "_model_name": "DescriptionStyleModel",
            "description_width": "",
            "_view_module": "@jupyter-widgets/base",
            "_model_module_version": "1.5.0",
            "_view_count": null,
            "_view_module_version": "1.2.0",
            "_model_module": "@jupyter-widgets/controls"
          }
        },
        "08194e865ed84123a7f3079366e7c388": {
          "model_module": "@jupyter-widgets/base",
          "model_name": "LayoutModel",
          "state": {
            "_view_name": "LayoutView",
            "grid_template_rows": null,
            "right": null,
            "justify_content": null,
            "_view_module": "@jupyter-widgets/base",
            "overflow": null,
            "_model_module_version": "1.2.0",
            "_view_count": null,
            "flex_flow": null,
            "width": null,
            "min_width": null,
            "border": null,
            "align_items": null,
            "bottom": null,
            "_model_module": "@jupyter-widgets/base",
            "top": null,
            "grid_column": null,
            "overflow_y": null,
            "overflow_x": null,
            "grid_auto_flow": null,
            "grid_area": null,
            "grid_template_columns": null,
            "flex": null,
            "_model_name": "LayoutModel",
            "justify_items": null,
            "grid_row": null,
            "max_height": null,
            "align_content": null,
            "visibility": null,
            "align_self": null,
            "height": null,
            "min_height": null,
            "padding": null,
            "grid_auto_rows": null,
            "grid_gap": null,
            "max_width": null,
            "order": null,
            "_view_module_version": "1.2.0",
            "grid_template_areas": null,
            "object_position": null,
            "object_fit": null,
            "grid_auto_columns": null,
            "margin": null,
            "display": null,
            "left": null
          }
        },
        "ce49c52fc6054480bbe9d871ddb703ba": {
          "model_module": "@jupyter-widgets/controls",
          "model_name": "HBoxModel",
          "state": {
            "_view_name": "HBoxView",
            "_dom_classes": [],
            "_model_name": "HBoxModel",
            "_view_module": "@jupyter-widgets/controls",
            "_model_module_version": "1.5.0",
            "_view_count": null,
            "_view_module_version": "1.5.0",
            "box_style": "",
            "layout": "IPY_MODEL_378541d600b74d1391bd5385ec016409",
            "_model_module": "@jupyter-widgets/controls",
            "children": [
              "IPY_MODEL_593378a2cc834596b1f0d05adee70621",
              "IPY_MODEL_bb11c68aeb4745c8901cbf6db2f60002"
            ]
          }
        },
        "378541d600b74d1391bd5385ec016409": {
          "model_module": "@jupyter-widgets/base",
          "model_name": "LayoutModel",
          "state": {
            "_view_name": "LayoutView",
            "grid_template_rows": null,
            "right": null,
            "justify_content": null,
            "_view_module": "@jupyter-widgets/base",
            "overflow": null,
            "_model_module_version": "1.2.0",
            "_view_count": null,
            "flex_flow": null,
            "width": null,
            "min_width": null,
            "border": null,
            "align_items": null,
            "bottom": null,
            "_model_module": "@jupyter-widgets/base",
            "top": null,
            "grid_column": null,
            "overflow_y": null,
            "overflow_x": null,
            "grid_auto_flow": null,
            "grid_area": null,
            "grid_template_columns": null,
            "flex": null,
            "_model_name": "LayoutModel",
            "justify_items": null,
            "grid_row": null,
            "max_height": null,
            "align_content": null,
            "visibility": null,
            "align_self": null,
            "height": null,
            "min_height": null,
            "padding": null,
            "grid_auto_rows": null,
            "grid_gap": null,
            "max_width": null,
            "order": null,
            "_view_module_version": "1.2.0",
            "grid_template_areas": null,
            "object_position": null,
            "object_fit": null,
            "grid_auto_columns": null,
            "margin": null,
            "display": null,
            "left": null
          }
        },
        "593378a2cc834596b1f0d05adee70621": {
          "model_module": "@jupyter-widgets/controls",
          "model_name": "FloatProgressModel",
          "state": {
            "_view_name": "ProgressView",
            "style": "IPY_MODEL_93ac0784315c4e53a7d5b5bffb8953e5",
            "_dom_classes": [],
            "description": "100%",
            "_model_name": "FloatProgressModel",
            "bar_style": "success",
            "max": 23485,
            "_view_module": "@jupyter-widgets/controls",
            "_model_module_version": "1.5.0",
            "value": 23485,
            "_view_count": null,
            "_view_module_version": "1.5.0",
            "orientation": "horizontal",
            "min": 0,
            "description_tooltip": null,
            "_model_module": "@jupyter-widgets/controls",
            "layout": "IPY_MODEL_3b025d4484714551831c4dbd2dfdca2e"
          }
        },
        "bb11c68aeb4745c8901cbf6db2f60002": {
          "model_module": "@jupyter-widgets/controls",
          "model_name": "HTMLModel",
          "state": {
            "_view_name": "HTMLView",
            "style": "IPY_MODEL_57b98c1343e54eaeaa2aa9808209aa54",
            "_dom_classes": [],
            "description": "",
            "_model_name": "HTMLModel",
            "placeholder": "​",
            "_view_module": "@jupyter-widgets/controls",
            "_model_module_version": "1.5.0",
            "value": " 23485/23485 [00:03&lt;00:00, 7677.61ex/s]",
            "_view_count": null,
            "_view_module_version": "1.5.0",
            "description_tooltip": null,
            "_model_module": "@jupyter-widgets/controls",
            "layout": "IPY_MODEL_5969301adc03461aaaecd3db61465365"
          }
        },
        "93ac0784315c4e53a7d5b5bffb8953e5": {
          "model_module": "@jupyter-widgets/controls",
          "model_name": "ProgressStyleModel",
          "state": {
            "_view_name": "StyleView",
            "_model_name": "ProgressStyleModel",
            "description_width": "initial",
            "_view_module": "@jupyter-widgets/base",
            "_model_module_version": "1.5.0",
            "_view_count": null,
            "_view_module_version": "1.2.0",
            "bar_color": null,
            "_model_module": "@jupyter-widgets/controls"
          }
        },
        "3b025d4484714551831c4dbd2dfdca2e": {
          "model_module": "@jupyter-widgets/base",
          "model_name": "LayoutModel",
          "state": {
            "_view_name": "LayoutView",
            "grid_template_rows": null,
            "right": null,
            "justify_content": null,
            "_view_module": "@jupyter-widgets/base",
            "overflow": null,
            "_model_module_version": "1.2.0",
            "_view_count": null,
            "flex_flow": null,
            "width": null,
            "min_width": null,
            "border": null,
            "align_items": null,
            "bottom": null,
            "_model_module": "@jupyter-widgets/base",
            "top": null,
            "grid_column": null,
            "overflow_y": null,
            "overflow_x": null,
            "grid_auto_flow": null,
            "grid_area": null,
            "grid_template_columns": null,
            "flex": null,
            "_model_name": "LayoutModel",
            "justify_items": null,
            "grid_row": null,
            "max_height": null,
            "align_content": null,
            "visibility": null,
            "align_self": null,
            "height": null,
            "min_height": null,
            "padding": null,
            "grid_auto_rows": null,
            "grid_gap": null,
            "max_width": null,
            "order": null,
            "_view_module_version": "1.2.0",
            "grid_template_areas": null,
            "object_position": null,
            "object_fit": null,
            "grid_auto_columns": null,
            "margin": null,
            "display": null,
            "left": null
          }
        },
        "57b98c1343e54eaeaa2aa9808209aa54": {
          "model_module": "@jupyter-widgets/controls",
          "model_name": "DescriptionStyleModel",
          "state": {
            "_view_name": "StyleView",
            "_model_name": "DescriptionStyleModel",
            "description_width": "",
            "_view_module": "@jupyter-widgets/base",
            "_model_module_version": "1.5.0",
            "_view_count": null,
            "_view_module_version": "1.2.0",
            "_model_module": "@jupyter-widgets/controls"
          }
        },
        "5969301adc03461aaaecd3db61465365": {
          "model_module": "@jupyter-widgets/base",
          "model_name": "LayoutModel",
          "state": {
            "_view_name": "LayoutView",
            "grid_template_rows": null,
            "right": null,
            "justify_content": null,
            "_view_module": "@jupyter-widgets/base",
            "overflow": null,
            "_model_module_version": "1.2.0",
            "_view_count": null,
            "flex_flow": null,
            "width": null,
            "min_width": null,
            "border": null,
            "align_items": null,
            "bottom": null,
            "_model_module": "@jupyter-widgets/base",
            "top": null,
            "grid_column": null,
            "overflow_y": null,
            "overflow_x": null,
            "grid_auto_flow": null,
            "grid_area": null,
            "grid_template_columns": null,
            "flex": null,
            "_model_name": "LayoutModel",
            "justify_items": null,
            "grid_row": null,
            "max_height": null,
            "align_content": null,
            "visibility": null,
            "align_self": null,
            "height": null,
            "min_height": null,
            "padding": null,
            "grid_auto_rows": null,
            "grid_gap": null,
            "max_width": null,
            "order": null,
            "_view_module_version": "1.2.0",
            "grid_template_areas": null,
            "object_position": null,
            "object_fit": null,
            "grid_auto_columns": null,
            "margin": null,
            "display": null,
            "left": null
          }
        },
        "bf0adb915fee4d68a6f9a7c36928a460": {
          "model_module": "@jupyter-widgets/controls",
          "model_name": "HBoxModel",
          "state": {
            "_view_name": "HBoxView",
            "_dom_classes": [],
            "_model_name": "HBoxModel",
            "_view_module": "@jupyter-widgets/controls",
            "_model_module_version": "1.5.0",
            "_view_count": null,
            "_view_module_version": "1.5.0",
            "box_style": "",
            "layout": "IPY_MODEL_3586da83aa8c42feb1aadd56dc6c7662",
            "_model_module": "@jupyter-widgets/controls",
            "children": [
              "IPY_MODEL_a2d90cb7d52e4e7dbaf7b3c6205920b7",
              "IPY_MODEL_c253a2014ed54848ab4c3dc2d70fc87c"
            ]
          }
        },
        "3586da83aa8c42feb1aadd56dc6c7662": {
          "model_module": "@jupyter-widgets/base",
          "model_name": "LayoutModel",
          "state": {
            "_view_name": "LayoutView",
            "grid_template_rows": null,
            "right": null,
            "justify_content": null,
            "_view_module": "@jupyter-widgets/base",
            "overflow": null,
            "_model_module_version": "1.2.0",
            "_view_count": null,
            "flex_flow": null,
            "width": null,
            "min_width": null,
            "border": null,
            "align_items": null,
            "bottom": null,
            "_model_module": "@jupyter-widgets/base",
            "top": null,
            "grid_column": null,
            "overflow_y": null,
            "overflow_x": null,
            "grid_auto_flow": null,
            "grid_area": null,
            "grid_template_columns": null,
            "flex": null,
            "_model_name": "LayoutModel",
            "justify_items": null,
            "grid_row": null,
            "max_height": null,
            "align_content": null,
            "visibility": null,
            "align_self": null,
            "height": null,
            "min_height": null,
            "padding": null,
            "grid_auto_rows": null,
            "grid_gap": null,
            "max_width": null,
            "order": null,
            "_view_module_version": "1.2.0",
            "grid_template_areas": null,
            "object_position": null,
            "object_fit": null,
            "grid_auto_columns": null,
            "margin": null,
            "display": null,
            "left": null
          }
        },
        "a2d90cb7d52e4e7dbaf7b3c6205920b7": {
          "model_module": "@jupyter-widgets/controls",
          "model_name": "FloatProgressModel",
          "state": {
            "_view_name": "ProgressView",
            "style": "IPY_MODEL_20172f33159f42c19a0754231aa4e840",
            "_dom_classes": [],
            "description": "100%",
            "_model_name": "FloatProgressModel",
            "bar_style": "success",
            "max": 2956,
            "_view_module": "@jupyter-widgets/controls",
            "_model_module_version": "1.5.0",
            "value": 2956,
            "_view_count": null,
            "_view_module_version": "1.5.0",
            "orientation": "horizontal",
            "min": 0,
            "description_tooltip": null,
            "_model_module": "@jupyter-widgets/controls",
            "layout": "IPY_MODEL_fe28d014dee94256ae27ac81566fd56f"
          }
        },
        "c253a2014ed54848ab4c3dc2d70fc87c": {
          "model_module": "@jupyter-widgets/controls",
          "model_name": "HTMLModel",
          "state": {
            "_view_name": "HTMLView",
            "style": "IPY_MODEL_48212be975954101a8a277a551c42c02",
            "_dom_classes": [],
            "description": "",
            "_model_name": "HTMLModel",
            "placeholder": "​",
            "_view_module": "@jupyter-widgets/controls",
            "_model_module_version": "1.5.0",
            "value": " 2956/2956 [00:00&lt;00:00, 4856.02ex/s]",
            "_view_count": null,
            "_view_module_version": "1.5.0",
            "description_tooltip": null,
            "_model_module": "@jupyter-widgets/controls",
            "layout": "IPY_MODEL_a90246beaddd4751b1ee4493e73040e1"
          }
        },
        "20172f33159f42c19a0754231aa4e840": {
          "model_module": "@jupyter-widgets/controls",
          "model_name": "ProgressStyleModel",
          "state": {
            "_view_name": "StyleView",
            "_model_name": "ProgressStyleModel",
            "description_width": "initial",
            "_view_module": "@jupyter-widgets/base",
            "_model_module_version": "1.5.0",
            "_view_count": null,
            "_view_module_version": "1.2.0",
            "bar_color": null,
            "_model_module": "@jupyter-widgets/controls"
          }
        },
        "fe28d014dee94256ae27ac81566fd56f": {
          "model_module": "@jupyter-widgets/base",
          "model_name": "LayoutModel",
          "state": {
            "_view_name": "LayoutView",
            "grid_template_rows": null,
            "right": null,
            "justify_content": null,
            "_view_module": "@jupyter-widgets/base",
            "overflow": null,
            "_model_module_version": "1.2.0",
            "_view_count": null,
            "flex_flow": null,
            "width": null,
            "min_width": null,
            "border": null,
            "align_items": null,
            "bottom": null,
            "_model_module": "@jupyter-widgets/base",
            "top": null,
            "grid_column": null,
            "overflow_y": null,
            "overflow_x": null,
            "grid_auto_flow": null,
            "grid_area": null,
            "grid_template_columns": null,
            "flex": null,
            "_model_name": "LayoutModel",
            "justify_items": null,
            "grid_row": null,
            "max_height": null,
            "align_content": null,
            "visibility": null,
            "align_self": null,
            "height": null,
            "min_height": null,
            "padding": null,
            "grid_auto_rows": null,
            "grid_gap": null,
            "max_width": null,
            "order": null,
            "_view_module_version": "1.2.0",
            "grid_template_areas": null,
            "object_position": null,
            "object_fit": null,
            "grid_auto_columns": null,
            "margin": null,
            "display": null,
            "left": null
          }
        },
        "48212be975954101a8a277a551c42c02": {
          "model_module": "@jupyter-widgets/controls",
          "model_name": "DescriptionStyleModel",
          "state": {
            "_view_name": "StyleView",
            "_model_name": "DescriptionStyleModel",
            "description_width": "",
            "_view_module": "@jupyter-widgets/base",
            "_model_module_version": "1.5.0",
            "_view_count": null,
            "_view_module_version": "1.2.0",
            "_model_module": "@jupyter-widgets/controls"
          }
        },
        "a90246beaddd4751b1ee4493e73040e1": {
          "model_module": "@jupyter-widgets/base",
          "model_name": "LayoutModel",
          "state": {
            "_view_name": "LayoutView",
            "grid_template_rows": null,
            "right": null,
            "justify_content": null,
            "_view_module": "@jupyter-widgets/base",
            "overflow": null,
            "_model_module_version": "1.2.0",
            "_view_count": null,
            "flex_flow": null,
            "width": null,
            "min_width": null,
            "border": null,
            "align_items": null,
            "bottom": null,
            "_model_module": "@jupyter-widgets/base",
            "top": null,
            "grid_column": null,
            "overflow_y": null,
            "overflow_x": null,
            "grid_auto_flow": null,
            "grid_area": null,
            "grid_template_columns": null,
            "flex": null,
            "_model_name": "LayoutModel",
            "justify_items": null,
            "grid_row": null,
            "max_height": null,
            "align_content": null,
            "visibility": null,
            "align_self": null,
            "height": null,
            "min_height": null,
            "padding": null,
            "grid_auto_rows": null,
            "grid_gap": null,
            "max_width": null,
            "order": null,
            "_view_module_version": "1.2.0",
            "grid_template_areas": null,
            "object_position": null,
            "object_fit": null,
            "grid_auto_columns": null,
            "margin": null,
            "display": null,
            "left": null
          }
        },
        "d05df6827126423eb15c5929f059b658": {
          "model_module": "@jupyter-widgets/controls",
          "model_name": "HBoxModel",
          "state": {
            "_view_name": "HBoxView",
            "_dom_classes": [],
            "_model_name": "HBoxModel",
            "_view_module": "@jupyter-widgets/controls",
            "_model_module_version": "1.5.0",
            "_view_count": null,
            "_view_module_version": "1.5.0",
            "box_style": "",
            "layout": "IPY_MODEL_f15c0941a1624157b48f443f8b53b120",
            "_model_module": "@jupyter-widgets/controls",
            "children": [
              "IPY_MODEL_1865cd4ec9fb49f88f2d5bfa3cfe489d",
              "IPY_MODEL_d2552edc8e994830b7c141ecdffba7a9"
            ]
          }
        },
        "f15c0941a1624157b48f443f8b53b120": {
          "model_module": "@jupyter-widgets/base",
          "model_name": "LayoutModel",
          "state": {
            "_view_name": "LayoutView",
            "grid_template_rows": null,
            "right": null,
            "justify_content": null,
            "_view_module": "@jupyter-widgets/base",
            "overflow": null,
            "_model_module_version": "1.2.0",
            "_view_count": null,
            "flex_flow": null,
            "width": null,
            "min_width": null,
            "border": null,
            "align_items": null,
            "bottom": null,
            "_model_module": "@jupyter-widgets/base",
            "top": null,
            "grid_column": null,
            "overflow_y": null,
            "overflow_x": null,
            "grid_auto_flow": null,
            "grid_area": null,
            "grid_template_columns": null,
            "flex": null,
            "_model_name": "LayoutModel",
            "justify_items": null,
            "grid_row": null,
            "max_height": null,
            "align_content": null,
            "visibility": null,
            "align_self": null,
            "height": null,
            "min_height": null,
            "padding": null,
            "grid_auto_rows": null,
            "grid_gap": null,
            "max_width": null,
            "order": null,
            "_view_module_version": "1.2.0",
            "grid_template_areas": null,
            "object_position": null,
            "object_fit": null,
            "grid_auto_columns": null,
            "margin": null,
            "display": null,
            "left": null
          }
        },
        "1865cd4ec9fb49f88f2d5bfa3cfe489d": {
          "model_module": "@jupyter-widgets/controls",
          "model_name": "FloatProgressModel",
          "state": {
            "_view_name": "ProgressView",
            "style": "IPY_MODEL_cf9a6420f5a14280b53e822e60bf90e0",
            "_dom_classes": [],
            "description": "100%",
            "_model_name": "FloatProgressModel",
            "bar_style": "success",
            "max": 2984,
            "_view_module": "@jupyter-widgets/controls",
            "_model_module_version": "1.5.0",
            "value": 2984,
            "_view_count": null,
            "_view_module_version": "1.5.0",
            "orientation": "horizontal",
            "min": 0,
            "description_tooltip": null,
            "_model_module": "@jupyter-widgets/controls",
            "layout": "IPY_MODEL_efc7d759c54349d9b0efab0d5e16602c"
          }
        },
        "d2552edc8e994830b7c141ecdffba7a9": {
          "model_module": "@jupyter-widgets/controls",
          "model_name": "HTMLModel",
          "state": {
            "_view_name": "HTMLView",
            "style": "IPY_MODEL_e528bfee72744bc8999222e7d04cb72f",
            "_dom_classes": [],
            "description": "",
            "_model_name": "HTMLModel",
            "placeholder": "​",
            "_view_module": "@jupyter-widgets/controls",
            "_model_module_version": "1.5.0",
            "value": " 2984/2984 [01:06&lt;00:00, 44.88ex/s]",
            "_view_count": null,
            "_view_module_version": "1.5.0",
            "description_tooltip": null,
            "_model_module": "@jupyter-widgets/controls",
            "layout": "IPY_MODEL_9d6a8e97e26241b683865055e2a6d168"
          }
        },
        "cf9a6420f5a14280b53e822e60bf90e0": {
          "model_module": "@jupyter-widgets/controls",
          "model_name": "ProgressStyleModel",
          "state": {
            "_view_name": "StyleView",
            "_model_name": "ProgressStyleModel",
            "description_width": "initial",
            "_view_module": "@jupyter-widgets/base",
            "_model_module_version": "1.5.0",
            "_view_count": null,
            "_view_module_version": "1.2.0",
            "bar_color": null,
            "_model_module": "@jupyter-widgets/controls"
          }
        },
        "efc7d759c54349d9b0efab0d5e16602c": {
          "model_module": "@jupyter-widgets/base",
          "model_name": "LayoutModel",
          "state": {
            "_view_name": "LayoutView",
            "grid_template_rows": null,
            "right": null,
            "justify_content": null,
            "_view_module": "@jupyter-widgets/base",
            "overflow": null,
            "_model_module_version": "1.2.0",
            "_view_count": null,
            "flex_flow": null,
            "width": null,
            "min_width": null,
            "border": null,
            "align_items": null,
            "bottom": null,
            "_model_module": "@jupyter-widgets/base",
            "top": null,
            "grid_column": null,
            "overflow_y": null,
            "overflow_x": null,
            "grid_auto_flow": null,
            "grid_area": null,
            "grid_template_columns": null,
            "flex": null,
            "_model_name": "LayoutModel",
            "justify_items": null,
            "grid_row": null,
            "max_height": null,
            "align_content": null,
            "visibility": null,
            "align_self": null,
            "height": null,
            "min_height": null,
            "padding": null,
            "grid_auto_rows": null,
            "grid_gap": null,
            "max_width": null,
            "order": null,
            "_view_module_version": "1.2.0",
            "grid_template_areas": null,
            "object_position": null,
            "object_fit": null,
            "grid_auto_columns": null,
            "margin": null,
            "display": null,
            "left": null
          }
        },
        "e528bfee72744bc8999222e7d04cb72f": {
          "model_module": "@jupyter-widgets/controls",
          "model_name": "DescriptionStyleModel",
          "state": {
            "_view_name": "StyleView",
            "_model_name": "DescriptionStyleModel",
            "description_width": "",
            "_view_module": "@jupyter-widgets/base",
            "_model_module_version": "1.5.0",
            "_view_count": null,
            "_view_module_version": "1.2.0",
            "_model_module": "@jupyter-widgets/controls"
          }
        },
        "9d6a8e97e26241b683865055e2a6d168": {
          "model_module": "@jupyter-widgets/base",
          "model_name": "LayoutModel",
          "state": {
            "_view_name": "LayoutView",
            "grid_template_rows": null,
            "right": null,
            "justify_content": null,
            "_view_module": "@jupyter-widgets/base",
            "overflow": null,
            "_model_module_version": "1.2.0",
            "_view_count": null,
            "flex_flow": null,
            "width": null,
            "min_width": null,
            "border": null,
            "align_items": null,
            "bottom": null,
            "_model_module": "@jupyter-widgets/base",
            "top": null,
            "grid_column": null,
            "overflow_y": null,
            "overflow_x": null,
            "grid_auto_flow": null,
            "grid_area": null,
            "grid_template_columns": null,
            "flex": null,
            "_model_name": "LayoutModel",
            "justify_items": null,
            "grid_row": null,
            "max_height": null,
            "align_content": null,
            "visibility": null,
            "align_self": null,
            "height": null,
            "min_height": null,
            "padding": null,
            "grid_auto_rows": null,
            "grid_gap": null,
            "max_width": null,
            "order": null,
            "_view_module_version": "1.2.0",
            "grid_template_areas": null,
            "object_position": null,
            "object_fit": null,
            "grid_auto_columns": null,
            "margin": null,
            "display": null,
            "left": null
          }
        }
      }
    }
  },
  "cells": [
    {
      "cell_type": "markdown",
      "metadata": {
        "id": "kURC-RTZdb2k"
      },
      "source": [
        "This homework is based off a notebook. \n",
        "1. You will alter this as need for your results / questions. \n",
        "2. When you've successfully run them on a colab, download as an .ipynb and submit on the LMS."
      ]
    },
    {
      "cell_type": "markdown",
      "metadata": {
        "id": "pkZH14NyOLir"
      },
      "source": [
        "Make certain you are on a GPU Runtime first, by going to Runtime and selecting \"Change Runtime Type\", and then choosing Hardware Accelerator as GPU."
      ]
    },
    {
      "cell_type": "markdown",
      "metadata": {
        "id": "Y679JqaaBxuT"
      },
      "source": [
        "In this homework, you will build an emotion classifier based on a Huggingface emotions dataset."
      ]
    },
    {
      "cell_type": "markdown",
      "metadata": {
        "id": "X4cRE8IbIrIV"
      },
      "source": [
        "You will need to install 🤗 Transformers, numpy and 🤗 Datasets. Run the following three cells."
      ]
    },
    {
      "cell_type": "code",
      "metadata": {
        "id": "V8ikICyaFysJ",
        "colab": {
          "base_uri": "https://localhost:8080/"
        },
        "outputId": "deeef87d-c5a1-4dba-b165-fb01bba0b718"
      },
      "source": [
        "pip install torch torchvision"
      ],
      "execution_count": 2,
      "outputs": [
        {
          "output_type": "stream",
          "text": [
            "Requirement already satisfied: torch in /usr/local/lib/python3.7/dist-packages (1.8.0+cu101)\n",
            "Requirement already satisfied: torchvision in /usr/local/lib/python3.7/dist-packages (0.9.0+cu101)\n",
            "Requirement already satisfied: typing-extensions in /usr/local/lib/python3.7/dist-packages (from torch) (3.7.4.3)\n",
            "Requirement already satisfied: numpy in /usr/local/lib/python3.7/dist-packages (from torch) (1.19.5)\n",
            "Requirement already satisfied: pillow>=4.1.1 in /usr/local/lib/python3.7/dist-packages (from torchvision) (7.0.0)\n"
          ],
          "name": "stdout"
        }
      ]
    },
    {
      "cell_type": "code",
      "metadata": {
        "id": "zC57WTRuFysK",
        "colab": {
          "base_uri": "https://localhost:8080/"
        },
        "outputId": "7d816d30-de0c-46de-89f3-b5e4098b47ba"
      },
      "source": [
        "pip install optuna"
      ],
      "execution_count": 3,
      "outputs": [
        {
          "output_type": "stream",
          "text": [
            "Collecting optuna\n",
            "\u001b[?25l  Downloading https://files.pythonhosted.org/packages/50/67/ed0af7c66bcfb9a9a56fbafcca7d848452d78433208b59b003741879cc69/optuna-2.6.0-py3-none-any.whl (293kB)\n",
            "\u001b[K     |████████████████████████████████| 296kB 17.2MB/s \n",
            "\u001b[?25hCollecting alembic\n",
            "\u001b[?25l  Downloading https://files.pythonhosted.org/packages/f7/29/ed5c134aba874053859ba3e8d4705b4a5c1b66156deabc26cbe643e83f2e/alembic-1.5.7-py2.py3-none-any.whl (159kB)\n",
            "\u001b[K     |████████████████████████████████| 163kB 55.4MB/s \n",
            "\u001b[?25hCollecting colorlog\n",
            "  Downloading https://files.pythonhosted.org/packages/5e/39/0230290df0519d528d8d0ffdfd900150ed24e0076d13b1f19e279444aab1/colorlog-4.7.2-py2.py3-none-any.whl\n",
            "Requirement already satisfied: numpy<1.20.0 in /usr/local/lib/python3.7/dist-packages (from optuna) (1.19.5)\n",
            "Collecting cliff\n",
            "\u001b[?25l  Downloading https://files.pythonhosted.org/packages/a2/d6/7d9acb68a77acd140be7fececb7f2701b2a29d2da9c54184cb8f93509590/cliff-3.7.0-py3-none-any.whl (80kB)\n",
            "\u001b[K     |████████████████████████████████| 81kB 11.5MB/s \n",
            "\u001b[?25hCollecting cmaes>=0.8.2\n",
            "  Downloading https://files.pythonhosted.org/packages/01/1f/43b01223a0366171f474320c6e966c39a11587287f098a5f09809b45e05f/cmaes-0.8.2-py3-none-any.whl\n",
            "Requirement already satisfied: tqdm in /usr/local/lib/python3.7/dist-packages (from optuna) (4.41.1)\n",
            "Requirement already satisfied: sqlalchemy>=1.1.0 in /usr/local/lib/python3.7/dist-packages (from optuna) (1.3.23)\n",
            "Requirement already satisfied: packaging>=20.0 in /usr/local/lib/python3.7/dist-packages (from optuna) (20.9)\n",
            "Requirement already satisfied: scipy!=1.4.0 in /usr/local/lib/python3.7/dist-packages (from optuna) (1.4.1)\n",
            "Collecting python-editor>=0.3\n",
            "  Downloading https://files.pythonhosted.org/packages/c6/d3/201fc3abe391bbae6606e6f1d598c15d367033332bd54352b12f35513717/python_editor-1.0.4-py3-none-any.whl\n",
            "Collecting Mako\n",
            "\u001b[?25l  Downloading https://files.pythonhosted.org/packages/f3/54/dbc07fbb20865d3b78fdb7cf7fa713e2cba4f87f71100074ef2dc9f9d1f7/Mako-1.1.4-py2.py3-none-any.whl (75kB)\n",
            "\u001b[K     |████████████████████████████████| 81kB 10.8MB/s \n",
            "\u001b[?25hRequirement already satisfied: python-dateutil in /usr/local/lib/python3.7/dist-packages (from alembic->optuna) (2.8.1)\n",
            "Collecting stevedore>=2.0.1\n",
            "\u001b[?25l  Downloading https://files.pythonhosted.org/packages/d4/49/b602307aeac3df3384ff1fcd05da9c0376c622a6c48bb5325f28ab165b57/stevedore-3.3.0-py3-none-any.whl (49kB)\n",
            "\u001b[K     |████████████████████████████████| 51kB 5.9MB/s \n",
            "\u001b[?25hRequirement already satisfied: PrettyTable>=0.7.2 in /usr/local/lib/python3.7/dist-packages (from cliff->optuna) (2.1.0)\n",
            "Collecting pbr!=2.1.0,>=2.0.0\n",
            "\u001b[?25l  Downloading https://files.pythonhosted.org/packages/fb/48/69046506f6ac61c1eaa9a0d42d22d54673b69e176d30ca98e3f61513e980/pbr-5.5.1-py2.py3-none-any.whl (106kB)\n",
            "\u001b[K     |████████████████████████████████| 112kB 24.4MB/s \n",
            "\u001b[?25hRequirement already satisfied: pyparsing>=2.1.0 in /usr/local/lib/python3.7/dist-packages (from cliff->optuna) (2.4.7)\n",
            "Collecting cmd2>=1.0.0\n",
            "\u001b[?25l  Downloading https://files.pythonhosted.org/packages/15/8b/15061b32332bb35ea2a2f6263d0f616779d576e82739ec8e7fcf3c94abf5/cmd2-1.5.0-py3-none-any.whl (133kB)\n",
            "\u001b[K     |████████████████████████████████| 143kB 41.5MB/s \n",
            "\u001b[?25hRequirement already satisfied: PyYAML>=3.12 in /usr/local/lib/python3.7/dist-packages (from cliff->optuna) (3.13)\n",
            "Requirement already satisfied: MarkupSafe>=0.9.2 in /usr/local/lib/python3.7/dist-packages (from Mako->alembic->optuna) (1.1.1)\n",
            "Requirement already satisfied: six>=1.5 in /usr/local/lib/python3.7/dist-packages (from python-dateutil->alembic->optuna) (1.15.0)\n",
            "Requirement already satisfied: importlib-metadata>=1.7.0; python_version < \"3.8\" in /usr/local/lib/python3.7/dist-packages (from stevedore>=2.0.1->cliff->optuna) (3.7.2)\n",
            "Requirement already satisfied: wcwidth in /usr/local/lib/python3.7/dist-packages (from PrettyTable>=0.7.2->cliff->optuna) (0.2.5)\n",
            "Collecting pyperclip>=1.6\n",
            "  Downloading https://files.pythonhosted.org/packages/a7/2c/4c64579f847bd5d539803c8b909e54ba087a79d01bb3aba433a95879a6c5/pyperclip-1.8.2.tar.gz\n",
            "Collecting colorama>=0.3.7\n",
            "  Downloading https://files.pythonhosted.org/packages/44/98/5b86278fbbf250d239ae0ecb724f8572af1c91f4a11edf4d36a206189440/colorama-0.4.4-py2.py3-none-any.whl\n",
            "Requirement already satisfied: attrs>=16.3.0 in /usr/local/lib/python3.7/dist-packages (from cmd2>=1.0.0->cliff->optuna) (20.3.0)\n",
            "Requirement already satisfied: typing-extensions>=3.6.4; python_version < \"3.8\" in /usr/local/lib/python3.7/dist-packages (from importlib-metadata>=1.7.0; python_version < \"3.8\"->stevedore>=2.0.1->cliff->optuna) (3.7.4.3)\n",
            "Requirement already satisfied: zipp>=0.5 in /usr/local/lib/python3.7/dist-packages (from importlib-metadata>=1.7.0; python_version < \"3.8\"->stevedore>=2.0.1->cliff->optuna) (3.4.1)\n",
            "Building wheels for collected packages: pyperclip\n",
            "  Building wheel for pyperclip (setup.py) ... \u001b[?25l\u001b[?25hdone\n",
            "  Created wheel for pyperclip: filename=pyperclip-1.8.2-cp37-none-any.whl size=11107 sha256=3582849eb12df4c4a062e88be0ce5ccf30251b15ca56b62bab3fccec3b0be2fa\n",
            "  Stored in directory: /root/.cache/pip/wheels/25/af/b8/3407109267803f4015e1ee2ff23be0c8c19ce4008665931ee1\n",
            "Successfully built pyperclip\n",
            "Installing collected packages: python-editor, Mako, alembic, colorlog, pbr, stevedore, pyperclip, colorama, cmd2, cliff, cmaes, optuna\n",
            "Successfully installed Mako-1.1.4 alembic-1.5.7 cliff-3.7.0 cmaes-0.8.2 cmd2-1.5.0 colorama-0.4.4 colorlog-4.7.2 optuna-2.6.0 pbr-5.5.1 pyperclip-1.8.2 python-editor-1.0.4 stevedore-3.3.0\n"
          ],
          "name": "stdout"
        }
      ]
    },
    {
      "cell_type": "code",
      "metadata": {
        "id": "db5kd2fzFysL",
        "colab": {
          "base_uri": "https://localhost:8080/"
        },
        "outputId": "6254ee14-dd33-4f2f-b35f-efd5c9fe11ae"
      },
      "source": [
        "pip install sklearn"
      ],
      "execution_count": 4,
      "outputs": [
        {
          "output_type": "stream",
          "text": [
            "Requirement already satisfied: sklearn in /usr/local/lib/python3.7/dist-packages (0.0)\n",
            "Requirement already satisfied: scikit-learn in /usr/local/lib/python3.7/dist-packages (from sklearn) (0.22.2.post1)\n",
            "Requirement already satisfied: numpy>=1.11.0 in /usr/local/lib/python3.7/dist-packages (from scikit-learn->sklearn) (1.19.5)\n",
            "Requirement already satisfied: joblib>=0.11 in /usr/local/lib/python3.7/dist-packages (from scikit-learn->sklearn) (1.0.1)\n",
            "Requirement already satisfied: scipy>=0.17.0 in /usr/local/lib/python3.7/dist-packages (from scikit-learn->sklearn) (1.4.1)\n"
          ],
          "name": "stdout"
        }
      ]
    },
    {
      "cell_type": "code",
      "metadata": {
        "id": "MOsHUjgdIrIW",
        "colab": {
          "base_uri": "https://localhost:8080/"
        },
        "outputId": "cc0f268a-9afe-455d-9a68-a22a58d792c8"
      },
      "source": [
        "pip install datasets==1.3.0"
      ],
      "execution_count": 5,
      "outputs": [
        {
          "output_type": "stream",
          "text": [
            "Collecting datasets==1.3.0\n",
            "\u001b[?25l  Downloading https://files.pythonhosted.org/packages/a2/12/5fd53adc5ba8a8d562b19f2c1c859547659e96b87a767cd52556538d205e/datasets-1.3.0-py3-none-any.whl (181kB)\n",
            "\r\u001b[K     |█▉                              | 10kB 14.0MB/s eta 0:00:01\r\u001b[K     |███▋                            | 20kB 20.3MB/s eta 0:00:01\r\u001b[K     |█████▍                          | 30kB 21.4MB/s eta 0:00:01\r\u001b[K     |███████▎                        | 40kB 24.4MB/s eta 0:00:01\r\u001b[K     |█████████                       | 51kB 24.3MB/s eta 0:00:01\r\u001b[K     |██████████▉                     | 61kB 26.8MB/s eta 0:00:01\r\u001b[K     |████████████▋                   | 71kB 17.8MB/s eta 0:00:01\r\u001b[K     |██████████████▌                 | 81kB 18.7MB/s eta 0:00:01\r\u001b[K     |████████████████▎               | 92kB 17.4MB/s eta 0:00:01\r\u001b[K     |██████████████████              | 102kB 17.7MB/s eta 0:00:01\r\u001b[K     |████████████████████            | 112kB 17.7MB/s eta 0:00:01\r\u001b[K     |█████████████████████▊          | 122kB 17.7MB/s eta 0:00:01\r\u001b[K     |███████████████████████▌        | 133kB 17.7MB/s eta 0:00:01\r\u001b[K     |█████████████████████████▎      | 143kB 17.7MB/s eta 0:00:01\r\u001b[K     |███████████████████████████▏    | 153kB 17.7MB/s eta 0:00:01\r\u001b[K     |█████████████████████████████   | 163kB 17.7MB/s eta 0:00:01\r\u001b[K     |██████████████████████████████▊ | 174kB 17.7MB/s eta 0:00:01\r\u001b[K     |████████████████████████████████| 184kB 17.7MB/s \n",
            "\u001b[?25hRequirement already satisfied: importlib-metadata; python_version < \"3.8\" in /usr/local/lib/python3.7/dist-packages (from datasets==1.3.0) (3.7.2)\n",
            "Requirement already satisfied: requests>=2.19.0 in /usr/local/lib/python3.7/dist-packages (from datasets==1.3.0) (2.23.0)\n",
            "Requirement already satisfied: dill in /usr/local/lib/python3.7/dist-packages (from datasets==1.3.0) (0.3.3)\n",
            "Collecting xxhash\n",
            "\u001b[?25l  Downloading https://files.pythonhosted.org/packages/e7/27/1c0b37c53a7852f1c190ba5039404d27b3ae96a55f48203a74259f8213c9/xxhash-2.0.0-cp37-cp37m-manylinux2010_x86_64.whl (243kB)\n",
            "\u001b[K     |████████████████████████████████| 245kB 42.9MB/s \n",
            "\u001b[?25hRequirement already satisfied: pyarrow>=0.17.1 in /usr/local/lib/python3.7/dist-packages (from datasets==1.3.0) (3.0.0)\n",
            "Collecting huggingface-hub==0.0.2\n",
            "  Downloading https://files.pythonhosted.org/packages/b5/93/7cb0755c62c36cdadc70c79a95681df685b52cbaf76c724facb6ecac3272/huggingface_hub-0.0.2-py3-none-any.whl\n",
            "Requirement already satisfied: pandas in /usr/local/lib/python3.7/dist-packages (from datasets==1.3.0) (1.1.5)\n",
            "Requirement already satisfied: multiprocess in /usr/local/lib/python3.7/dist-packages (from datasets==1.3.0) (0.70.11.1)\n",
            "Collecting fsspec\n",
            "\u001b[?25l  Downloading https://files.pythonhosted.org/packages/91/0d/a6bfee0ddf47b254286b9bd574e6f50978c69897647ae15b14230711806e/fsspec-0.8.7-py3-none-any.whl (103kB)\n",
            "\u001b[K     |████████████████████████████████| 112kB 54.4MB/s \n",
            "\u001b[?25hRequirement already satisfied: numpy>=1.17 in /usr/local/lib/python3.7/dist-packages (from datasets==1.3.0) (1.19.5)\n",
            "Requirement already satisfied: tqdm<4.50.0,>=4.27 in /usr/local/lib/python3.7/dist-packages (from datasets==1.3.0) (4.41.1)\n",
            "Requirement already satisfied: typing-extensions>=3.6.4; python_version < \"3.8\" in /usr/local/lib/python3.7/dist-packages (from importlib-metadata; python_version < \"3.8\"->datasets==1.3.0) (3.7.4.3)\n",
            "Requirement already satisfied: zipp>=0.5 in /usr/local/lib/python3.7/dist-packages (from importlib-metadata; python_version < \"3.8\"->datasets==1.3.0) (3.4.1)\n",
            "Requirement already satisfied: certifi>=2017.4.17 in /usr/local/lib/python3.7/dist-packages (from requests>=2.19.0->datasets==1.3.0) (2020.12.5)\n",
            "Requirement already satisfied: urllib3!=1.25.0,!=1.25.1,<1.26,>=1.21.1 in /usr/local/lib/python3.7/dist-packages (from requests>=2.19.0->datasets==1.3.0) (1.24.3)\n",
            "Requirement already satisfied: idna<3,>=2.5 in /usr/local/lib/python3.7/dist-packages (from requests>=2.19.0->datasets==1.3.0) (2.10)\n",
            "Requirement already satisfied: chardet<4,>=3.0.2 in /usr/local/lib/python3.7/dist-packages (from requests>=2.19.0->datasets==1.3.0) (3.0.4)\n",
            "Requirement already satisfied: filelock in /usr/local/lib/python3.7/dist-packages (from huggingface-hub==0.0.2->datasets==1.3.0) (3.0.12)\n",
            "Requirement already satisfied: python-dateutil>=2.7.3 in /usr/local/lib/python3.7/dist-packages (from pandas->datasets==1.3.0) (2.8.1)\n",
            "Requirement already satisfied: pytz>=2017.2 in /usr/local/lib/python3.7/dist-packages (from pandas->datasets==1.3.0) (2018.9)\n",
            "Requirement already satisfied: six>=1.5 in /usr/local/lib/python3.7/dist-packages (from python-dateutil>=2.7.3->pandas->datasets==1.3.0) (1.15.0)\n",
            "Installing collected packages: xxhash, huggingface-hub, fsspec, datasets\n",
            "Successfully installed datasets-1.3.0 fsspec-0.8.7 huggingface-hub-0.0.2 xxhash-2.0.0\n"
          ],
          "name": "stdout"
        }
      ]
    },
    {
      "cell_type": "code",
      "metadata": {
        "id": "B9lgfCA1OC0M",
        "colab": {
          "base_uri": "https://localhost:8080/"
        },
        "outputId": "f87a42e3-f7a3-4104-f597-54a67f448f24"
      },
      "source": [
        "pip install transformers"
      ],
      "execution_count": 6,
      "outputs": [
        {
          "output_type": "stream",
          "text": [
            "Collecting transformers\n",
            "\u001b[?25l  Downloading https://files.pythonhosted.org/packages/ed/d5/f4157a376b8a79489a76ce6cfe147f4f3be1e029b7144fa7b8432e8acb26/transformers-4.4.2-py3-none-any.whl (2.0MB)\n",
            "\u001b[K     |████████████████████████████████| 2.0MB 17.3MB/s \n",
            "\u001b[?25hCollecting tokenizers<0.11,>=0.10.1\n",
            "\u001b[?25l  Downloading https://files.pythonhosted.org/packages/71/23/2ddc317b2121117bf34dd00f5b0de194158f2a44ee2bf5e47c7166878a97/tokenizers-0.10.1-cp37-cp37m-manylinux2010_x86_64.whl (3.2MB)\n",
            "\u001b[K     |████████████████████████████████| 3.2MB 48.8MB/s \n",
            "\u001b[?25hRequirement already satisfied: requests in /usr/local/lib/python3.7/dist-packages (from transformers) (2.23.0)\n",
            "Collecting sacremoses\n",
            "\u001b[?25l  Downloading https://files.pythonhosted.org/packages/7d/34/09d19aff26edcc8eb2a01bed8e98f13a1537005d31e95233fd48216eed10/sacremoses-0.0.43.tar.gz (883kB)\n",
            "\u001b[K     |████████████████████████████████| 890kB 44.0MB/s \n",
            "\u001b[?25hRequirement already satisfied: regex!=2019.12.17 in /usr/local/lib/python3.7/dist-packages (from transformers) (2019.12.20)\n",
            "Requirement already satisfied: numpy>=1.17 in /usr/local/lib/python3.7/dist-packages (from transformers) (1.19.5)\n",
            "Requirement already satisfied: tqdm>=4.27 in /usr/local/lib/python3.7/dist-packages (from transformers) (4.41.1)\n",
            "Requirement already satisfied: importlib-metadata; python_version < \"3.8\" in /usr/local/lib/python3.7/dist-packages (from transformers) (3.7.2)\n",
            "Requirement already satisfied: filelock in /usr/local/lib/python3.7/dist-packages (from transformers) (3.0.12)\n",
            "Requirement already satisfied: packaging in /usr/local/lib/python3.7/dist-packages (from transformers) (20.9)\n",
            "Requirement already satisfied: idna<3,>=2.5 in /usr/local/lib/python3.7/dist-packages (from requests->transformers) (2.10)\n",
            "Requirement already satisfied: chardet<4,>=3.0.2 in /usr/local/lib/python3.7/dist-packages (from requests->transformers) (3.0.4)\n",
            "Requirement already satisfied: certifi>=2017.4.17 in /usr/local/lib/python3.7/dist-packages (from requests->transformers) (2020.12.5)\n",
            "Requirement already satisfied: urllib3!=1.25.0,!=1.25.1,<1.26,>=1.21.1 in /usr/local/lib/python3.7/dist-packages (from requests->transformers) (1.24.3)\n",
            "Requirement already satisfied: six in /usr/local/lib/python3.7/dist-packages (from sacremoses->transformers) (1.15.0)\n",
            "Requirement already satisfied: click in /usr/local/lib/python3.7/dist-packages (from sacremoses->transformers) (7.1.2)\n",
            "Requirement already satisfied: joblib in /usr/local/lib/python3.7/dist-packages (from sacremoses->transformers) (1.0.1)\n",
            "Requirement already satisfied: zipp>=0.5 in /usr/local/lib/python3.7/dist-packages (from importlib-metadata; python_version < \"3.8\"->transformers) (3.4.1)\n",
            "Requirement already satisfied: typing-extensions>=3.6.4; python_version < \"3.8\" in /usr/local/lib/python3.7/dist-packages (from importlib-metadata; python_version < \"3.8\"->transformers) (3.7.4.3)\n",
            "Requirement already satisfied: pyparsing>=2.0.2 in /usr/local/lib/python3.7/dist-packages (from packaging->transformers) (2.4.7)\n",
            "Building wheels for collected packages: sacremoses\n",
            "  Building wheel for sacremoses (setup.py) ... \u001b[?25l\u001b[?25hdone\n",
            "  Created wheel for sacremoses: filename=sacremoses-0.0.43-cp37-none-any.whl size=893262 sha256=35f905b87c55161b6a1f2a1b85bdbab6cac52783a3a1155c60633df205d26754\n",
            "  Stored in directory: /root/.cache/pip/wheels/29/3c/fd/7ce5c3f0666dab31a50123635e6fb5e19ceb42ce38d4e58f45\n",
            "Successfully built sacremoses\n",
            "Installing collected packages: tokenizers, sacremoses, transformers\n",
            "Successfully installed sacremoses-0.0.43 tokenizers-0.10.1 transformers-4.4.2\n"
          ],
          "name": "stdout"
        }
      ]
    },
    {
      "cell_type": "code",
      "metadata": {
        "id": "63YCXee080As",
        "colab": {
          "base_uri": "https://localhost:8080/",
          "height": 327
        },
        "outputId": "76c393b6-01c4-4f68-f59d-09d44139c6c6"
      },
      "source": [
        "pip install numpy==1.20.1"
      ],
      "execution_count": 7,
      "outputs": [
        {
          "output_type": "stream",
          "text": [
            "Collecting numpy==1.20.1\n",
            "\u001b[?25l  Downloading https://files.pythonhosted.org/packages/70/8a/064b4077e3d793f877e3b77aa64f56fa49a4d37236a53f78ee28be009a16/numpy-1.20.1-cp37-cp37m-manylinux2010_x86_64.whl (15.3MB)\n",
            "\u001b[K     |████████████████████████████████| 15.3MB 194kB/s \n",
            "\u001b[31mERROR: tensorflow 2.4.1 has requirement numpy~=1.19.2, but you'll have numpy 1.20.1 which is incompatible.\u001b[0m\n",
            "\u001b[31mERROR: optuna 2.6.0 has requirement numpy<1.20.0, but you'll have numpy 1.20.1 which is incompatible.\u001b[0m\n",
            "\u001b[31mERROR: datascience 0.10.6 has requirement folium==0.2.1, but you'll have folium 0.8.3 which is incompatible.\u001b[0m\n",
            "\u001b[31mERROR: albumentations 0.1.12 has requirement imgaug<0.2.7,>=0.2.5, but you'll have imgaug 0.2.9 which is incompatible.\u001b[0m\n",
            "\u001b[?25hInstalling collected packages: numpy\n",
            "  Found existing installation: numpy 1.19.5\n",
            "    Uninstalling numpy-1.19.5:\n",
            "      Successfully uninstalled numpy-1.19.5\n",
            "Successfully installed numpy-1.20.1\n"
          ],
          "name": "stdout"
        },
        {
          "output_type": "display_data",
          "data": {
            "application/vnd.colab-display-data+json": {
              "pip_warning": {
                "packages": [
                  "numpy"
                ]
              }
            }
          },
          "metadata": {
            "tags": []
          }
        }
      ]
    },
    {
      "cell_type": "code",
      "metadata": {
        "id": "YZbiBDuGIrId",
        "colab": {
          "base_uri": "https://localhost:8080/",
          "height": 333,
          "referenced_widgets": [
            "0ca58240ca7b45d3bacc43a15661ee7f",
            "0a0556e4689443fc8cfcc945e52de056",
            "45a544475a3d45ffae1e5eefd2b7eb03",
            "e9d437f463ba434c87a97b5a51170335",
            "1937e47ffc4f43c9b5f9859a50ef8ffe",
            "a5c94fe7011d4058ab7a59be1e101609",
            "02d7fa954a59402cb0912f7eef0a20a1",
            "68395af853a346a38154000876c097e3",
            "eb41a01e206e44ca8d9280860c1e372e",
            "1e8448834b1d4423bf548f863aea248e",
            "25d14ef6f9c7460cb2488b5e52c6f2ee",
            "4416a05a4b15479cb63b2a5e8d38db4a",
            "5c289e252437448892b454e809cd325b",
            "eb795294f83541afbe14dbb7ac3d8165",
            "4cfbb05b12af4ec092c26bd6df1f84c0",
            "6e82f235e9ce4d28a8b8d0f4b2d12214",
            "0431d3239cf34b08b7352a8c71020296",
            "b5bb7b996f1a4f238ef3506ddaafa94c",
            "118b0871e86c4eab82c44b8db9055066",
            "71c5bc110d8c4903a910d03ccd4236d1",
            "028cab7d896d4f01a8b453cc2eab23e9",
            "c13e40ec406145caa4115432235a19cc",
            "50a6831e85934a3895f13c02a4457725",
            "a1dd946b95cc484f9b50c7c4d1c1cb7e",
            "2b568ed0fe4c45a1bcf8417a6ab28d9d",
            "0a0954a2cd9345a5ae6cb42024895f6b",
            "7dbb10dc54e942c197b490ca1eee3c0b",
            "27c9f3104891467092bcc7ec331620cd",
            "ded4c15c31ba4f07b06d808b8c19c75c",
            "4d6201cc47a04e2da83dd1666bbb0e14",
            "f4f0c1c3310d4b0bacdd7c144204d525",
            "8ef9abb45695417194e557e066acc76b",
            "cf35d2154c3c44d2ab607fdab84ce5d7",
            "a51d8dcfc8514e92b3330f8c8ce291d3",
            "42a574cc9c6c42d1b1a03c713cb7da37",
            "a2af0812df0f47289cc38e208db30a00",
            "bdf1e91e755c43c9ac80d8eb7fb125dd",
            "7c9d1a3fee4547568793deabce56af7a",
            "4e45023ca55644bfb15a36ba6063edef",
            "5f68c603a5024ad0b03b79e9f21121c5",
            "7cd9fff4249b4c95b26fb4348165390f",
            "67c9b304e6a94a8289ab26192b9bf782",
            "04046c40d599411cb96e982d2a5fd235",
            "4a0c6971956a49c4979eae8682c9a294",
            "90cc92aec80142788530a78da9ac55ec",
            "1ee89b25f4ad48b49234dd165e7cbc9a",
            "50915845eb124dd0a7270bcc84ac902e",
            "f0c894c2841b4729936b8e2472d9cdc0",
            "8d948efd9bdb4d33b97addc709ec0370",
            "f212964c052040c980a85dd78825515e",
            "5c04d68d772a4f7a9557483f3a41e516",
            "9dc03d6a967645669f24bee6d209c5e2",
            "50ee308306ca4066b4fff5ca62ad1943",
            "14e1ce1833524f95aa1d375f10a7feb9",
            "c3e41a4597874d299ebaf5556b7cfa8a",
            "67aafab529d54ef0a51e57ce24aa0e29",
            "baadf28b4dc6410aa0db5e5330aa8221",
            "24acc3c736f0482eaa8e9f07d40f2bf2",
            "996b6db98b6f40d0ac18ac502238c1d5",
            "ac2fd9362e9c4f0abca826d31cf6ad61",
            "a29ead4301044af099c9105862c81b50",
            "2ecb8c5497414ecab5412bffb13c11b3",
            "f5f3d2c7e8e641e3878e1e466577a2db",
            "5eb6c85e214d433293e2577bad737e2a"
          ]
        },
        "outputId": "774f02c2-ad8a-4827-b8d8-775d208d3729"
      },
      "source": [
        "from datasets import load_dataset\n",
        "emotions_dataset = load_dataset('go_emotions', 'simplified')\n",
        "print(emotions_dataset['train']['labels'])"
      ],
      "execution_count": 8,
      "outputs": [
        {
          "output_type": "display_data",
          "data": {
            "application/vnd.jupyter.widget-view+json": {
              "model_id": "0ca58240ca7b45d3bacc43a15661ee7f",
              "version_minor": 0,
              "version_major": 2
            },
            "text/plain": [
              "HBox(children=(FloatProgress(value=0.0, description='Downloading', max=2042.0, style=ProgressStyle(description…"
            ]
          },
          "metadata": {
            "tags": []
          }
        },
        {
          "output_type": "stream",
          "text": [
            "\n"
          ],
          "name": "stdout"
        },
        {
          "output_type": "display_data",
          "data": {
            "application/vnd.jupyter.widget-view+json": {
              "model_id": "eb41a01e206e44ca8d9280860c1e372e",
              "version_minor": 0,
              "version_major": 2
            },
            "text/plain": [
              "HBox(children=(FloatProgress(value=0.0, description='Downloading', max=1672.0, style=ProgressStyle(description…"
            ]
          },
          "metadata": {
            "tags": []
          }
        },
        {
          "output_type": "stream",
          "text": [
            "\n",
            "Downloading and preparing dataset go_emotions/simplified (download: 4.19 MiB, generated: 5.03 MiB, post-processed: Unknown size, total: 9.22 MiB) to /root/.cache/huggingface/datasets/go_emotions/simplified/0.0.0/ef1c18ea192c771555f1e0d638889dd5f1896255782c57c6a0b934d5f94f779e...\n"
          ],
          "name": "stdout"
        },
        {
          "output_type": "display_data",
          "data": {
            "application/vnd.jupyter.widget-view+json": {
              "model_id": "0431d3239cf34b08b7352a8c71020296",
              "version_minor": 0,
              "version_major": 2
            },
            "text/plain": [
              "HBox(children=(FloatProgress(value=0.0, description='Downloading', max=1611423.0, style=ProgressStyle(descript…"
            ]
          },
          "metadata": {
            "tags": []
          }
        },
        {
          "output_type": "stream",
          "text": [
            "\n"
          ],
          "name": "stdout"
        },
        {
          "output_type": "display_data",
          "data": {
            "application/vnd.jupyter.widget-view+json": {
              "model_id": "2b568ed0fe4c45a1bcf8417a6ab28d9d",
              "version_minor": 0,
              "version_major": 2
            },
            "text/plain": [
              "HBox(children=(FloatProgress(value=0.0, description='Downloading', max=202559.0, style=ProgressStyle(descripti…"
            ]
          },
          "metadata": {
            "tags": []
          }
        },
        {
          "output_type": "stream",
          "text": [
            "\n"
          ],
          "name": "stdout"
        },
        {
          "output_type": "display_data",
          "data": {
            "application/vnd.jupyter.widget-view+json": {
              "model_id": "cf35d2154c3c44d2ab607fdab84ce5d7",
              "version_minor": 0,
              "version_major": 2
            },
            "text/plain": [
              "HBox(children=(FloatProgress(value=0.0, description='Downloading', max=201089.0, style=ProgressStyle(descripti…"
            ]
          },
          "metadata": {
            "tags": []
          }
        },
        {
          "output_type": "stream",
          "text": [
            "\n"
          ],
          "name": "stdout"
        },
        {
          "output_type": "display_data",
          "data": {
            "application/vnd.jupyter.widget-view+json": {
              "model_id": "7cd9fff4249b4c95b26fb4348165390f",
              "version_minor": 0,
              "version_major": 2
            },
            "text/plain": [
              "HBox(children=(FloatProgress(value=1.0, bar_style='info', max=1.0), HTML(value='')))"
            ]
          },
          "metadata": {
            "tags": []
          }
        },
        {
          "output_type": "stream",
          "text": [
            "\r"
          ],
          "name": "stdout"
        },
        {
          "output_type": "display_data",
          "data": {
            "application/vnd.jupyter.widget-view+json": {
              "model_id": "8d948efd9bdb4d33b97addc709ec0370",
              "version_minor": 0,
              "version_major": 2
            },
            "text/plain": [
              "HBox(children=(FloatProgress(value=1.0, bar_style='info', max=1.0), HTML(value='')))"
            ]
          },
          "metadata": {
            "tags": []
          }
        },
        {
          "output_type": "stream",
          "text": [
            "\r"
          ],
          "name": "stdout"
        },
        {
          "output_type": "display_data",
          "data": {
            "application/vnd.jupyter.widget-view+json": {
              "model_id": "baadf28b4dc6410aa0db5e5330aa8221",
              "version_minor": 0,
              "version_major": 2
            },
            "text/plain": [
              "HBox(children=(FloatProgress(value=1.0, bar_style='info', max=1.0), HTML(value='')))"
            ]
          },
          "metadata": {
            "tags": []
          }
        },
        {
          "output_type": "stream",
          "text": [
            "\rDataset go_emotions downloaded and prepared to /root/.cache/huggingface/datasets/go_emotions/simplified/0.0.0/ef1c18ea192c771555f1e0d638889dd5f1896255782c57c6a0b934d5f94f779e. Subsequent calls will reuse this data.\n",
            "[[27], [27], [2], [14], [3], [26], [15], [8, 20], [0], [27], [6], [1, 4], [27], [5], [3], [3, 12], [15], [2], [27], [6, 22], [6, 9, 27], [12], [27], [27], [27], [2], [27], [16, 25], [15], [27], [2], [6], [27], [2, 7], [6], [17], [27], [0], [25], [27], [0, 15], [15, 18], [16, 27], [27], [7, 13], [10], [20], [27], [27], [27], [27], [27], [4], [27], [13, 15], [10], [27], [27], [27], [15], [0, 1], [12], [27], [13], [27], [0, 15], [27], [1], [27], [0], [27], [0, 5], [3], [27], [27], [27], [0, 13, 15], [0], [27], [1], [13], [4], [25], [4], [27], [25], [0, 15], [9], [4, 22], [27], [4], [27], [24], [18], [4], [27], [7], [27], [7], [27], [0], [3], [10], [27], [27], [5], [27], [6, 7], [27], [15], [27], [0], [22], [27], [17], [27], [2], [2], [27], [27], [9, 27], [4, 5], [27], [3], [2, 3], [26], [7], [2], [27], [0, 8, 15, 17], [15], [27], [11], [27], [27], [9], [7, 15], [22], [27], [2], [3, 9, 26], [13], [27], [27], [13, 18], [9], [15], [23], [1, 27], [0, 1], [1], [15], [7, 18], [10, 22], [27], [27], [0], [14], [18], [27], [4, 15], [27], [3], [27], [5], [27], [0], [27], [14], [6, 7], [18], [27], [20], [27], [27], [0], [27], [0], [17], [27], [26], [7], [15], [0, 26], [0], [10], [27], [17], [27], [7], [4], [2], [3], [4], [0, 15], [27], [27], [11], [27], [18], [27], [7], [7], [9, 27], [17], [10, 27], [27], [15], [0], [27], [4], [18], [27], [6], [27], [1, 26], [27], [26], [27], [25], [0], [4, 15], [25], [15, 18], [0], [20], [7], [5, 27], [27], [27], [27], [17], [27], [11], [27], [4], [27], [8, 27], [6], [17, 20], [10, 20], [10], [6], [7], [27], [27], [4], [4], [27], [1], [0], [27], [25], [10], [27], [3, 24], [27], [7], [2, 27], [1], [3], [25], [5], [27], [27], [27], [9], [1], [18], [1], [27], [27], [15], [4, 8], [27], [3, 27], [3], [15], [11], [0, 15], [9], [26], [9], [27], [0, 7], [15], [27], [27], [15], [4], [27], [7], [3, 27], [6], [4], [14], [27], [8, 18], [27], [17, 26], [27], [10], [1], [27], [17], [3, 9], [21], [27], [27], [0], [20], [18, 27], [3], [10], [1], [27], [27], [27], [22], [25], [20], [1], [27], [27], [27], [7], [27], [26], [3], [1], [27], [1], [10], [0, 4], [15], [4, 5], [1], [26], [27], [3], [4, 7], [14], [27], [27], [27], [27], [3], [0, 20], [0], [1], [16], [7], [3], [20], [11], [27], [10, 11], [26], [13], [15], [17], [27], [27], [27], [18], [0, 1, 17], [27], [3], [14], [0], [7, 26], [6], [14, 26], [7], [27], [3], [17, 23], [1], [26], [27], [15], [27], [3], [0, 1], [0], [27], [9], [16, 25], [13], [5], [4], [27], [12], [27], [3], [5], [27], [4], [1], [24, 25], [0], [14], [10], [27], [25], [27], [24], [9, 25], [20], [14], [15], [27], [3, 22], [27], [27], [27], [7], [27], [6], [1, 18], [1, 5], [4], [0, 7], [4, 15], [27], [0, 4], [10], [9], [18], [27], [27], [4], [4], [0], [27], [1], [27], [0], [3], [5], [7, 10], [3], [27], [27], [27], [27], [6], [27], [0, 18], [4], [0], [4, 22], [0], [0], [7], [17], [3, 10], [27], [27], [7], [7, 25], [27], [2], [27], [11], [1], [6, 9], [27], [3, 18], [0, 15], [27], [18], [15], [9], [1], [8], [27], [0, 18], [27], [27], [22], [27], [27], [0, 27], [6], [8], [0], [3], [27], [18], [0], [15], [27], [27], [27], [3, 10, 11], [3, 6], [0], [22], [18], [27], [26], [10], [20], [1, 18], [18], [3], [9], [20], [27], [27], [3], [0, 4], [27], [15], [5], [26], [7], [1], [0, 4, 20], [6, 7], [3, 10], [17, 20], [0, 25], [0, 27], [10], [18], [3], [19], [1], [9], [26], [17], [27], [27], [24], [27], [15, 17], [0], [18], [27], [7, 27], [18], [7], [27], [2, 3], [27], [19], [26], [8], [27], [0], [10], [12], [11], [27], [20], [10, 27], [17], [4, 15], [4], [27], [2], [17], [9], [0], [27], [27], [27], [25, 27], [27], [3], [16], [2, 27], [27], [1, 17], [7], [5], [1], [20], [9], [1], [1], [1, 27], [27], [26], [4], [1], [27], [27], [0], [1], [0], [0], [27], [10], [7], [6], [27], [4, 17], [3, 10], [18], [27], [26], [17], [20], [7], [2], [4, 22], [10], [15, 17], [27], [3], [5, 27], [2], [27], [10], [4], [15, 17], [0, 17], [17], [4], [27], [27], [26], [3], [2], [2], [18], [4], [2], [24], [0], [1], [4], [27], [27], [2], [24], [27], [0, 18], [27], [27], [6, 7], [4], [26], [1, 27], [0, 4, 26], [10], [22], [2, 3], [27], [3], [27], [15], [27], [27], [4], [15, 18], [1], [27], [6], [27], [6], [25], [2, 11], [3], [0], [10], [27], [27], [22, 27], [20], [27], [27], [27], [0], [1], [27], [25], [1, 20], [10], [7], [27], [15], [0], [1], [15], [27], [0], [27], [4], [27], [3], [2], [0], [1], [27], [2], [27], [1], [1], [18], [10], [0], [1], [27], [3], [4], [13, 26], [20], [25], [15], [10], [1], [20, 26], [0, 27], [7], [9], [10], [27], [2, 11], [27], [18], [27], [27], [3, 27], [7], [15, 27], [9], [12], [27], [0, 27], [2], [18, 27], [27], [27], [0, 4], [4], [8], [22], [9], [27], [27], [9, 18], [15], [27], [3], [27], [27], [27], [6], [1, 25], [26], [1], [2], [10], [27], [2, 27], [0], [18], [10], [18], [7], [25], [1], [17], [27], [0], [17], [27], [0], [10], [6, 7, 9, 26], [6, 22, 27], [27], [27], [1], [3], [25], [19], [10], [27], [13], [0], [0, 17], [5, 7], [27], [0], [18], [15], [27], [0], [24], [6, 22], [6], [9, 25], [4, 27], [17], [3], [27], [27], [18], [9, 25], [0], [10], [27], [4, 27], [7], [27], [15], [27], [2, 10], [27], [27], [27], [15], [27], [2], [27], [11], [10, 27], [27], [2, 9, 25], [27], [2], [16, 25], [27], [6], [4], [25], [26], [27], [4], [27], [0], [10], [15], [5], [27], [0], [0, 15], [3], [27], [9, 10, 25], [4], [25], [5], [27], [0], [27], [13, 17], [4], [0, 26], [10], [27], [27], [15], [4, 8, 20, 22], [17], [27], [6], [7], [8], [20], [27], [24], [1], [27], [1, 22], [26], [27], [10], [10], [27], [27], [7], [18], [2], [1], [8], [9], [27], [27], [1], [18], [15], [18], [17], [4], [2], [27], [7], [27], [0, 15, 17], [20], [2, 3], [6], [4], [27], [27], [27], [5], [27], [6], [27], [10], [27], [18], [4], [27], [0, 15], [18], [27], [27], [27], [0, 18], [0, 13, 15], [1, 10, 18], [4], [0], [4, 7], [2], [27], [4], [15, 26], [0], [9], [3], [22], [27], [2], [15, 25], [27], [20], [17], [27], [27], [27], [25], [1, 27], [0], [4, 27], [27], [27], [26], [27], [3], [3], [27], [0, 4, 20], [25], [9], [27], [27], [27], [27], [0], [10], [8], [2], [9], [4], [17], [15, 17], [0], [20], [11], [27], [4], [6], [15], [6], [27], [27], [27], [10], [27], [7, 26], [9], [14], [27], [7], [0, 17], [15, 17, 18], [5], [0], [26], [27], [0], [1], [2, 3], [5], [27], [1], [18], [20], [27], [4, 15], [27], [4], [20], [27], [2, 3], [27], [9, 11], [10], [4], [9], [7], [27], [0, 4], [27], [27], [22], [0, 18], [9], [27], [11], [9, 22], [0, 7], [18], [27], [1], [2, 3, 9], [26], [1], [27], [2], [6, 10], [20], [1], [27], [27], [27], [27], [1, 3, 8], [27], [17], [0, 20], [8], [10], [27], [27], [3, 25], [27], [0], [0], [27], [9, 27], [13], [27], [6], [10], [27], [0], [7], [7, 26], [0], [27], [3], [17], [27], [26], [26], [27], [9], [22], [11], [27], [25], [2], [1], [27], [24], [14], [0, 6], [20], [6], [27], [4], [10, 18], [15], [27], [27], [27], [4, 6], [1], [11], [27], [27], [5], [1, 15], [27], [10], [27], [0], [27], [18], [24], [27], [0, 17], [27], [27], [27], [27], [22, 27], [4, 17, 20], [27], [7], [27], [27], [27], [0], [9, 24], [0], [1], [27], [27], [5, 27], [0, 7], [25], [26], [9], [5], [7, 24, 25], [9, 18], [6], [18], [4], [0, 4], [4], [5, 10], [27], [1], [0], [0], [27], [27], [5], [26], [27], [27], [25], [27], [2, 27], [0, 10], [1], [27], [27], [0], [4], [27], [3], [27], [0, 4], [20], [2, 3], [27], [0], [0], [4, 7], [2, 3], [0], [0, 1, 4], [5, 24], [27], [27], [27], [27], [4], [0], [3], [15], [27], [18], [0], [3], [1], [7, 11], [0, 15, 18], [27], [27], [6], [0, 13], [1, 20], [18], [2, 3], [17], [0], [27], [27], [27], [15], [27], [4], [27], [27], [7], [0], [3], [18], [26], [15, 18], [2], [17], [13], [4], [0], [3], [0], [9], [0, 15], [20], [27], [4], [4], [4], [27], [27], [27], [27], [7], [27], [14], [25], [27], [0], [27], [0], [3], [12], [18], [27], [27], [10], [3, 27], [7, 12], [27], [0, 15, 18], [23], [26], [22], [27], [20], [0], [27], [9, 27], [27], [15], [20], [0], [26], [6], [2], [22], [2], [17], [27], [0], [27], [27], [27], [27], [0], [17], [1], [27], [20], [7], [9, 26], [4], [10, 27], [1, 17], [0, 27], [4], [10], [6], [10], [3], [15], [8, 18], [0], [27], [4, 20], [4], [17], [9], [27], [4, 27], [4], [16], [27], [18], [2], [27], [27], [27], [27], [11], [2], [27], [10], [4], [10, 18], [24], [0], [1], [22], [27], [6, 7], [27], [27], [17], [18], [27], [15], [27], [22], [6], [27], [7], [27], [26], [27], [15], [27], [8, 25], [0], [4, 27], [24], [20], [4], [7], [0], [27], [27], [0], [0, 15], [18], [1], [0], [5], [3], [4, 20], [13], [9], [0], [9, 25], [27], [20], [17], [17, 23], [1], [27], [27], [27], [10], [18], [27], [0], [27], [1], [15], [9, 17], [1], [27], [6], [5], [25], [6], [3], [27], [27], [18], [9], [17], [27], [3, 8], [18], [4], [0, 15], [0, 17], [26], [27], [6], [6, 7, 27], [1], [4], [18], [27], [27], [0], [27], [27], [18], [27], [7], [10], [27], [27], [27], [27], [2], [27], [27], [15], [3, 27], [27], [27], [13], [6, 7, 14], [8], [4], [18], [17], [2], [27], [27], [27], [4, 20], [10], [15], [27], [6], [20], [27], [15], [27], [4], [19], [10], [27], [2], [18], [27], [27], [27], [4], [18], [9], [9], [10], [3], [0], [27], [2, 9], [27], [25], [27], [27], [7, 22], [27], [0, 23], [7], [27], [3], [20], [2, 3], [27], [0], [0], [9, 10], [27], [4], [14, 19], [27], [1, 6], [15], [27], [22], [27], [27], [1], [7], [7], [4], [18], [27], [2], [4], [9], [15], [4, 27], [27], [18], [15], [6], [6, 7], [27], [3], [14], [10], [27], [2], [0], [27], [26], [15, 27], [27], [25], [9, 25], [3], [15], [15], [4, 17], [6], [10], [27], [4], [15], [10], [2, 3], [10], [27], [6, 7], [7], [12], [20, 26], [23], [26], [27], [0, 4], [13, 26], [26], [27], [27], [13], [2], [2], [11, 25], [10, 20], [5], [0], [27], [27], [27], [27], [4, 20, 27], [27], [0], [27], [2], [26], [6], [5, 27], [10], [27], [24], [17], [27], [2], [27], [13], [10, 27], [0], [20], [17], [27], [2, 3], [27], [27], [26], [17], [0], [15], [9, 10], [15], [27], [10], [10], [0], [27], [4, 10], [9], [5], [17], [25], [10], [27], [2], [8], [2], [0], [20], [8, 20], [27], [27], [25], [5, 25], [20], [0, 7], [17], [15], [3, 4], [22], [27], [3], [3], [27], [27], [11, 27], [27], [27], [27], [4], [3], [27], [27], [5], [14], [27], [27], [20], [27], [5], [5], [1], [3], [6], [5], [27], [27], [1], [3], [4], [27], [3], [27], [4], [20], [10, 27], [27], [19], [0], [0], [20], [22], [11], [1], [2], [0, 4], [4], [2], [9], [7], [3], [4], [27], [18], [23], [3, 10], [27], [0, 18], [2], [15], [1], [9, 25], [0, 4], [27], [4], [0], [0], [27], [10], [7], [10], [0], [0], [15, 24], [27], [25], [1], [20], [17], [25, 27], [15], [0], [27], [27], [22], [11], [18], [3, 10], [27], [2, 9], [24, 25], [3, 15], [1], [27], [0], [7], [27], [0, 20], [18], [17], [2], [27], [5], [1], [27], [0], [27], [7, 27], [27], [26], [15], [15], [27], [15], [27], [4], [11], [5, 20], [27], [15], [15], [18], [25], [0, 17], [14], [27], [0], [27], [25], [7, 27], [27], [27], [27], [4], [2, 3], [27], [5, 10], [27], [27], [10], [27], [15], [7], [7, 27], [14], [27], [15], [4], [13], [18], [27], [18], [27], [27], [1], [1], [11], [1], [23], [27], [20], [1], [27], [27], [27], [15], [27], [7, 13, 17], [27], [27], [27], [10], [0], [27], [4, 27], [27], [15], [27], [7], [2], [7], [27], [27], [11, 14], [3], [18], [9], [11, 14], [13], [27], [27], [27], [8], [27], [18], [3, 27], [0, 4], [1], [27], [27], [15], [17], [27], [3], [0], [1, 10], [4], [27], [20], [18], [27], [20, 27], [27], [7], [7], [20], [13], [3, 20], [0, 4], [4], [5], [27], [17], [27], [5, 22], [10], [2, 3], [3], [9], [15], [27], [26, 27], [18], [0], [18], [6, 8], [3], [0, 18], [0], [27], [1], [15], [17], [17], [10], [22], [27], [4], [0, 1], [3, 27], [3], [4], [15], [7], [26], [15], [3], [18], [27], [27], [21], [27], [25], [27], [18], [4], [27], [0], [0], [2], [6], [15], [18], [27], [27], [27], [25], [7], [18], [18], [5], [20, 25], [18], [22], [3, 10], [27], [4], [0], [10], [0, 8, 15], [27], [1, 20], [20, 27], [0], [1], [15], [1, 18], [9], [27], [15, 21], [20], [27], [26], [20], [4], [22], [25], [4], [1, 15], [27], [24], [17], [7], [27], [1, 27], [26], [15], [4], [0], [20], [13, 26], [27], [15], [27], [27], [27], [9], [20, 27], [27], [27], [10], [3], [27], [2, 3], [15], [17], [12, 27], [13], [18], [27], [4], [27], [18], [1], [10], [27], [3, 27], [27], [18], [15], [27], [0], [18], [27], [4], [27], [4, 27], [3], [4], [8], [4, 18], [22], [27], [27], [14], [27], [2], [0, 17, 20], [1, 15], [17], [3, 27], [10], [27], [11], [27], [0, 4], [13], [2], [27], [3, 9], [9], [4, 27], [0, 18], [18], [25], [27], [4, 8], [15], [27], [27], [27], [1], [1], [0], [18], [4], [15], [0, 1], [27], [24], [0], [18], [27], [27], [27], [18], [15], [1, 18], [27], [27], [4, 15], [18], [27], [8], [20], [18], [1, 18], [0], [27], [27], [0], [25], [25], [0], [15], [17], [6], [3], [0, 13], [8], [27], [8, 27], [1], [20], [8], [9, 22], [7], [20], [14, 27], [27], [27], [15], [19], [26], [27], [6], [7, 27], [2], [24], [1], [1], [27], [27], [13, 17], [27], [17], [27], [27], [0], [8], [5], [27], [27], [15], [0, 1], [24], [26], [27], [27], [1], [27], [15], [15], [27], [18], [27], [18], [17], [0], [10], [0], [3, 9, 27], [17], [7], [25], [27], [13], [10, 18], [13], [0], [3, 25], [27], [18], [19], [6], [27], [27], [1], [27], [4, 27], [0, 1], [17], [0], [22], [13, 17], [7], [27], [17], [0], [27], [27], [27], [27], [0], [27], [27], [15, 20], [24], [7, 27], [6], [15], [18], [9], [27], [15, 25], [8], [1, 25], [15], [9], [15], [1], [14], [0], [27], [0], [27], [0], [18], [5], [27], [18], [27], [27], [17], [13], [24], [14, 22], [10], [27], [2, 3], [27], [10], [27], [27], [25], [27], [4, 5], [13], [27], [0], [8, 25], [1], [2, 27], [27], [18], [27], [6, 13], [27], [0, 4], [27], [12], [3], [6], [10, 27], [27], [15], [0, 15], [1], [10], [25], [4, 11], [10], [24, 25], [22], [18], [15], [0], [1, 27], [9, 27], [25], [20], [1], [14], [18], [27], [27], [27], [9], [0], [6, 7], [17], [27], [2], [3], [26, 27], [6], [22], [6, 7], [4, 14], [3], [27], [20], [4, 20], [3], [4], [10], [0, 18], [27], [27], [1, 4], [5], [0], [27], [23], [10], [4], [3, 25], [1], [22], [0], [27], [24], [15], [4], [27], [15, 25], [10], [27], [14], [3], [27], [18], [27], [9, 27], [4], [8], [0], [6], [11], [27], [11], [8], [27], [9, 17], [22], [0, 17], [27], [27], [27], [10, 27], [27], [27], [7], [27], [0], [27], [9], [2], [0], [20], [3], [1], [3], [22, 25], [15], [2], [27], [27], [7], [20], [27], [27], [27], [10], [27], [4, 20], [6], [0], [18], [0, 13, 15], [7, 13], [27], [3], [27], [0, 4], [27], [27], [0], [0, 15], [27], [19], [17], [13], [27], [27], [27], [27], [6, 7], [0, 8], [0], [27], [26], [17, 27], [27], [6], [0, 26], [5], [1], [15, 26], [27], [11], [4], [27], [25], [0], [25, 27], [4, 6], [27], [7], [18], [27], [15], [27], [0], [25], [7], [10], [24], [0, 15], [27], [13], [4], [27], [27], [17], [9, 14], [1], [0, 9], [27], [27], [3, 10], [8], [27], [27], [27], [26], [4, 27], [20], [27], [27], [1], [9], [27], [3, 10], [1], [10], [18], [15], [27], [15, 25], [27], [27], [0], [25], [0], [9, 27], [3], [3], [2], [27], [0, 17], [0], [0, 17], [27], [27], [0], [9, 20], [15], [25], [27], [18], [20, 27], [0, 17], [3, 4], [0], [0], [25], [27], [0], [8], [14], [10], [2], [0], [17], [17], [6], [3], [14, 19], [6], [14], [14], [11], [27], [13], [15], [2, 3], [2], [9, 19], [27], [27], [0], [3], [5], [20], [27], [9], [0], [10], [27], [0], [9], [0], [27], [17, 18], [27], [27], [27], [11], [4], [20], [27], [0], [3], [6], [8], [1], [0, 7], [2], [6], [27], [0], [4], [0, 15], [4], [27], [15], [27], [2], [4], [0], [27], [12], [1], [27], [27], [17], [18], [25], [14], [2], [27], [11, 27], [0], [7], [1, 15], [27], [2, 3], [27], [4, 27], [17], [20], [3], [27], [2], [27], [27], [15], [7], [20], [13], [3, 10], [27], [1], [27], [0, 17], [27], [13], [12], [17], [7], [27], [27], [3], [1], [2, 27], [17], [15], [20], [10], [17], [25], [5, 20], [9, 27], [10, 20], [0, 4], [9], [22], [10], [3, 22], [2, 3], [4, 27], [27], [24], [27], [27], [27], [4], [1], [27], [20], [2], [0], [27], [4, 6], [27], [27], [2, 27], [27], [6], [3], [13], [27], [27], [27], [27], [0], [27], [4, 15], [3, 9], [0], [1], [0], [27], [27], [15], [0], [27], [0], [4], [27], [1], [27], [13], [15], [22, 26], [10], [27], [2, 3, 10], [5], [27], [15], [27], [0], [15], [11], [27], [17], [27], [2, 3], [15], [9], [27], [22], [4, 15], [27], [10], [3], [27], [4], [1], [11], [7], [19, 22], [7, 18], [27], [10], [14], [22], [3, 12], [18], [27], [6], [24, 25], [0, 17], [1, 15, 17], [18], [11], [0, 1], [27], [27], [5], [14, 19], [2, 27], [1, 15, 17], [27], [20], [15], [9, 10], [0, 18], [20], [27], [18], [27], [4], [0], [6], [18], [7], [19, 22], [0, 27], [8], [10], [27], [18], [1, 6], [18], [27], [20], [4, 27], [7], [18], [27], [4], [3], [13, 18], [12], [26], [0, 20], [27], [27], [15], [27], [2], [27], [0], [27], [4, 27], [0, 4], [18, 26], [13, 18], [18], [27], [20], [27], [22], [15], [1], [27], [10], [27], [18], [3], [10], [27], [17, 18], [4], [0], [27], [0], [1], [23], [15], [18], [27], [2, 3, 10, 11], [3], [0, 14, 26], [1, 3], [25], [10, 18], [20], [27], [27], [27], [9], [15, 22], [26], [10], [0, 4, 18], [11], [3, 27], [18], [9], [0], [11], [7], [6], [10], [10], [9, 10], [27], [0], [3, 10], [27], [27], [7, 20], [27], [27], [15], [0], [18], [27], [27], [27], [7], [27], [3], [10], [26], [27], [2], [15], [27], [0], [1], [27], [4, 27], [0, 4], [27], [27], [10], [7], [7], [27], [18], [27], [22], [2], [27], [9], [15], [0, 18], [25], [27], [9], [27], [26], [27], [27], [8, 18], [18], [10], [5, 22], [15], [13], [27], [0], [25], [27], [27], [12], [15], [27], [27], [25], [27], [10], [16, 25], [8], [27], [3], [4], [17, 22], [27], [6, 7], [4], [0], [0, 4, 5, 17], [27], [27], [27], [27], [27], [27], [10], [6, 7, 27], [27], [15, 23], [0], [25], [17], [27], [27], [27], [18], [13], [15], [2], [18], [14], [27], [27], [10, 11], [27], [5], [27], [27], [3], [22], [1], [0, 17], [27], [3], [27], [5], [27], [27], [17], [17], [10, 19], [27], [27], [27], [10, 25], [18], [24], [4], [27], [20], [27], [0], [17], [27], [6], [3], [27], [6, 26], [27], [27], [26], [27], [0], [0], [4, 27], [14, 19], [27], [11], [26], [3, 27], [1], [25], [27], [7, 13], [0], [11], [22], [0, 18], [27], [18], [0, 20], [13, 17, 21], [27], [20], [27], [4], [0], [17], [27], [27], [8], [9, 20, 25], [5], [3], [27], [4], [27], [11], [7, 26], [3], [18], [5], [15], [27], [27], [27], [0], [27], [27], [27], [1, 13], [22], [1], [1, 20], [27], [27], [9, 25], [1], [26], [10, 22], [10], [15], [9], [25], [11, 14], [27], [4], [15], [18], [20], [17], [0], [22], [27], [27], [27], [4], [15], [7, 27], [9], [1, 18], [4], [10], [27], [27], [15], [0], [0], [27], [22, 27], [17], [6], [9], [4], [10], [20], [18], [27], [27], [27], [20], [17], [14], [27], [5, 25], [22], [0], [27], [3], [27], [2], [0, 22], [27], [27], [2], [27], [15], [2], [24], [3], [6], [27], [1], [27], [27], [0, 8, 20], [14], [15], [4], [9, 27], [17], [15], [2, 3], [27], [0], [27], [27], [16, 25], [2, 3], [27], [27], [0, 1], [4], [9, 10], [8, 9, 20], [5], [20], [27], [15], [1], [15, 20], [26], [22], [26], [27], [18], [17], [27], [27], [1], [15], [27], [2, 11], [10], [18, 27], [6], [0], [27], [9, 22], [2], [0], [27], [17], [0], [27], [11], [9, 25], [7], [27], [7, 20], [22], [3], [25], [27], [7], [17], [10], [3], [10, 12], [27], [27], [3, 11], [27], [9], [27], [14], [27], [27], [0, 15], [15], [27], [10], [12, 25], [9], [18], [17], [8, 20], [22, 27], [0], [1], [0], [17], [27], [22], [25], [27], [27], [0], [5, 24], [3, 22], [27], [27], [27], [20], [27], [20], [18], [20, 27], [3], [9], [27], [0], [0, 27], [27], [27], [27], [10], [1], [17], [7], [27], [27], [27], [27], [22], [27], [4], [27], [2], [25, 27], [7], [7], [10], [3], [0], [14], [2], [1, 4], [0], [27], [7], [27], [5], [18], [13, 15], [2], [9], [15], [0], [0, 15], [27], [27], [27], [9, 24], [7, 26], [27], [0, 10], [8, 20], [0], [4], [5], [6, 27], [0, 18], [27], [18], [3], [17, 18], [18, 26], [27], [7], [27], [8], [3], [27], [20], [11], [0], [6], [27], [9], [11], [15], [5], [3, 11], [27], [25], [27], [8, 9], [15], [27], [27], [27], [1], [6], [27], [25], [13, 27], [1], [17], [0, 8, 18], [17], [11], [27], [18], [27], [1], [1, 20], [27], [27], [27], [0], [20], [24], [27], [15], [27], [1], [18], [18], [27], [24], [15], [2, 11, 12], [15], [0], [27], [27], [10], [27], [6, 27], [27], [1, 24], [7], [27], [27], [25], [27], [24], [0, 4], [20], [4, 22], [2], [1], [27], [7], [3], [27], [14], [1], [10], [1], [9], [0], [27], [12], [27], [4], [7], [1], [6], [27], [6, 7, 22], [27], [18], [6, 9], [14], [25], [0, 4], [27], [10], [12], [26], [3], [0], [15], [10], [1], [2, 3], [18], [8], [1, 4], [27], [26], [3], [1], [24], [27], [9], [13], [13, 26], [0], [22], [9, 25], [2], [27], [0], [17], [27], [15], [9], [27], [27], [27], [26], [0, 4], [22], [15, 26], [18], [4], [4], [14], [4, 17], [5], [17], [18], [27], [6, 27], [27], [13, 18], [27], [27], [7], [25], [27], [18], [3], [7], [15], [2, 27], [1], [3, 27], [27], [27], [2], [27], [27], [0, 15], [27], [15], [1, 2], [15], [27], [0], [22], [14], [7], [2], [18], [15], [2, 11, 27], [4], [3, 9], [27], [7], [1, 18], [22, 27], [7], [27], [27], [11], [27], [18], [27], [10, 14], [15], [0], [27], [9], [27], [17, 26], [27], [0, 20], [4], [7], [2, 11, 27], [18], [2], [0, 18], [15], [27], [7], [15], [27], [27], [0], [3, 10], [27], [27], [4], [13], [9, 10], [6, 18], [2], [1], [27], [27], [15], [1, 10], [27], [25], [1, 18], [1], [24], [15], [27], [25], [27], [0, 25], [6], [27], [9], [10], [3], [27], [27], [7], [0], [4], [14], [0, 18], [6], [25], [27], [27], [4], [1], [24], [9, 25], [27], [3, 27], [4], [7], [10], [27], [1], [5, 7], [3], [3], [18], [0, 13], [5, 20], [3, 12], [18], [27], [0, 17], [27], [4], [5], [2], [10], [4, 5], [2], [0], [20], [25], [1], [27], [27], [27], [27], [27], [27], [24], [1, 17], [27], [10], [13], [27], [1], [27], [15], [27], [15], [0], [8], [1], [27], [27], [27], [9], [0, 4], [13, 27], [9], [17], [6], [25], [26], [22], [2], [27], [2], [27], [24], [20], [4], [7, 26], [27], [3], [3], [1, 27], [0], [15], [3], [15], [27], [6], [27], [15], [1], [26], [27], [1, 11], [27], [4], [25], [27], [24], [27], [4], [7, 27], [27], [4, 25], [15], [27], [11], [9], [0], [2, 10], [4], [4], [8], [26], [0], [27], [13], [27], [27], [11], [27], [27], [25], [3, 10], [26], [10, 14], [9, 17], [9], [26], [27], [22], [27], [27], [27], [27], [27], [10], [4], [10], [4], [10], [27], [11], [22], [0, 8, 20], [0, 5], [27], [27], [2], [0, 15], [27], [0, 15], [22], [13, 17, 22], [0], [9], [25], [10, 20], [4], [22], [27], [27], [27], [0, 18], [0], [27], [17], [4], [27], [0], [4], [27], [7], [3, 10], [9], [27], [15], [3], [27], [0], [10], [27], [3], [27], [4, 10], [27], [27], [10], [4], [27], [0], [27], [27], [7], [2], [27], [27], [22], [27], [27], [0, 21], [3, 15], [8], [4], [27], [27], [27], [5, 6], [4], [27], [27], [7], [5, 18], [27], [27], [27], [9], [26], [0, 6], [24], [27], [3, 5], [6], [27], [6, 7], [0], [14], [27], [27], [27], [7], [0], [18], [27], [26], [25], [9], [27], [27], [2], [0, 4], [10], [1], [9, 10, 27], [27], [7], [8], [27], [1], [27], [27], [27], [27], [13], [27], [27], [1, 27], [10, 27], [20], [27], [24], [27], [5, 18], [27], [17, 20], [2], [27], [10, 24], [27], [22], [27], [0], [10], [18], [14], [27], [18], [1], [0, 13], [27], [27], [10], [27], [7], [0, 8], [15], [1], [10], [3], [27], [27], [2], [10, 11], [27], [25], [10], [27], [0, 4], [25], [11], [0, 4], [3, 6], [11], [4], [15], [25], [6], [20, 27], [27], [17], [7, 18], [1], [13], [10], [27], [27], [3], [27], [13], [27], [24], [15], [0, 4], [11], [15], [18], [18], [27], [26], [15], [9], [9], [18], [13], [15], [0], [1, 7, 15], [5], [4], [27], [25, 27], [27], [27], [26], [27], [27], [27], [10], [5, 18], [0], [27], [25], [3], [17], [1], [24], [2], [18], [27], [27], [0], [24], [0], [4], [0, 17], [4, 22], [27], [1, 7], [18], [13, 17], [25], [18], [14, 19], [14], [4, 20], [1], [14], [0], [1, 25], [15], [0, 1], [24], [3, 27], [13], [27], [4, 15, 23], [27], [3, 11], [27], [15], [0, 15], [27], [1], [27], [25], [6, 7, 27], [27], [1], [2], [7], [0], [4], [27], [4], [15], [27], [27], [1], [27], [22], [10, 27], [0], [18], [27], [8], [3, 27], [20], [4], [7], [4, 18], [10], [15], [1, 2], [27], [3], [5], [5], [17], [27], [0, 18], [11, 27], [27], [15], [10], [12, 22], [6, 7, 27], [27], [17], [0], [27], [15], [15], [22], [1, 20, 24], [27], [27], [0], [27], [6], [1], [20], [27], [27], [25, 27], [5], [27], [27], [4, 26], [27], [3, 10, 11], [17, 20], [27], [10], [18], [0, 5], [27], [18], [27], [0], [27], [0], [1], [27], [27], [1], [18], [11], [27], [27], [1], [27], [5, 8], [27], [13], [27], [1], [6, 7], [25], [0], [27], [17], [27], [27], [27], [4], [4], [0], [4], [15], [4], [0], [27], [27], [27], [15], [0], [2, 6], [6, 15, 26], [8], [5], [8], [27], [27], [11], [0, 20], [27], [27], [17], [5], [0], [27], [11], [27], [27], [27], [27], [3, 9], [2, 10], [27], [20], [27], [25], [27], [0, 13], [10], [17, 18], [15, 17], [2], [27], [2], [0], [27], [27], [22], [17], [27], [18], [27], [27], [2], [27], [0], [9, 24], [27], [27], [25], [0], [0], [27], [7, 27], [0, 15], [13], [13], [27], [20], [4], [6, 27], [4], [10], [27], [3], [10], [27], [3, 10], [1], [27], [17], [25], [0, 4], [10], [18], [14], [5, 25], [27], [20], [27], [27], [0, 15], [18], [27], [24], [27], [3, 11], [18], [27], [27], [15], [0, 20], [26, 27], [6], [7, 17], [27], [27], [4], [17], [18, 27], [22], [27], [13], [3], [27], [0], [3], [27], [0], [27], [2, 11], [27], [10], [27], [23, 27], [15], [0], [0], [27], [18], [0, 15], [0], [3, 12], [27], [25], [27], [27], [27], [6], [4], [14], [27], [27], [18], [2], [5], [13, 27], [26], [11], [4], [2, 27], [2, 3], [27], [0, 15], [15], [7], [4], [6], [7], [0, 20], [27], [25], [7], [5], [27], [10], [3], [15], [10], [1], [27], [15], [0], [0], [0], [18], [9], [20], [27], [10, 21], [1, 12, 20], [27], [8], [25], [15], [15], [9], [7], [4], [4, 17, 22], [22], [27], [22], [17], [0], [15], [7], [15], [13, 22], [10], [22, 27], [27], [3], [7, 20], [3], [0, 15], [18], [27], [27], [4], [27], [5], [10], [2], [4, 27], [15], [27], [27], [13], [27], [27], [27], [27], [15], [27], [2, 3, 5], [17], [10], [27], [7], [2], [0], [13], [7], [18], [24], [27], [7], [5], [10], [13], [27], [10], [27], [1], [27], [25], [1], [27], [8], [10], [20], [5], [7], [12], [27], [4], [27], [27], [27], [27], [7, 27], [26], [27], [0, 20], [27], [27], [1, 18], [6, 7, 27], [3], [17], [1], [27], [1], [27], [27], [7, 13], [23], [27], [1], [3], [4], [2, 9, 11], [27], [4], [13], [2], [10], [9, 24, 25], [10], [27], [10], [27], [0], [27], [3], [20], [2], [0], [6, 18], [17, 20], [5], [27], [0, 18], [17], [0], [0], [2, 3], [0], [15, 23], [27], [13], [0], [15], [0], [20], [1], [1, 15], [13, 18], [9, 27], [14], [15], [27], [1], [14], [1, 27], [27], [3, 10], [27], [27], [5], [14, 18], [27], [11], [4, 9], [0, 4], [0], [7], [0], [0], [27], [8], [17], [2], [14], [18], [11], [27], [27], [27], [20, 27], [0], [6], [10], [15], [3], [15], [17], [27], [27], [1], [15], [27], [27], [0], [27], [11], [3], [6, 7], [27], [21, 27], [5], [17], [24], [1], [4], [10], [27], [7, 27], [10], [4], [27], [2], [27], [0], [7, 15], [0, 4], [7], [13, 17], [4, 15], [3, 11], [27], [27], [12], [27], [27], [2], [15], [27], [26], [10, 22], [9], [27], [15], [4, 27], [1], [2, 3, 22], [15], [27], [0, 17], [5], [27], [27], [3], [27], [1, 2], [0], [1], [2], [9], [7], [27], [27], [3], [4], [4, 15], [25], [6], [3], [27], [4], [3, 10], [4], [4], [0], [11], [27], [9], [27], [27], [4], [27], [0, 15], [4], [0], [0], [27], [27], [27], [9], [27], [24, 25], [2], [24], [13], [27], [1], [18], [27], [7], [1], [27], [6, 26], [27], [24], [3], [27], [25], [6], [27], [15], [4], [2], [10], [27], [27], [5], [27], [0], [27], [7], [27], [27], [8], [27], [27], [2], [0], [25], [18], [15], [0, 15], [5], [27], [0], [6], [15], [0], [27], [20], [7], [15], [5], [8], [15], [25], [13], [0], [7, 20], [27], [10, 22], [27], [3], [22], [15], [16, 25], [0, 15, 26], [27], [10], [18], [10], [25], [1], [0], [25], [15], [27], [27], [27], [7], [27], [22], [27], [27], [5, 17], [0], [0], [26], [27], [27], [18], [27], [27], [20], [27], [27], [4], [18], [4], [27], [27], [8], [27], [4, 23], [7], [4], [13, 26], [27], [9], [27], [27], [27], [27], [27], [27], [13, 17], [27], [15, 18], [27], [27], [7, 11], [19], [27], [3], [20], [6], [27], [1, 3], [27], [6], [10], [1, 4], [18], [22], [20], [4], [27], [7], [6], [6], [27], [3, 4], [0], [24], [3], [1], [5], [0], [27], [1], [9], [27], [6, 7], [1], [19], [27], [27], [11], [27], [4], [15], [23], [22], [0], [1], [17], [27], [17, 18], [18], [0], [7], [27], [15, 20], [27], [27], [10], [27], [7], [27], [0], [13], [2], [16], [0, 15], [10], [7, 26], [15], [7], [5], [27], [11], [1], [27], [13], [13], [2], [24], [19], [22], [27], [0], [27], [2], [27], [20], [27], [0, 1], [27], [18], [0], [26], [15], [1, 27], [9, 10], [15], [27], [4], [27], [15, 26], [10], [27], [27], [4, 22], [5, 7], [20, 24], [27], [2], [15], [17], [0], [3], [25], [27], [27], [0], [5], [0], [27], [27], [7], [27], [25], [0], [27], [10], [10], [8, 14], [15], [1], [13], [15], [15], [18], [0, 17], [3], [27], [15, 17], [5, 8, 20], [10], [27], [24], [27], [4], [27], [27], [27], [13], [26], [8, 15], [9], [9], [8, 10], [27], [27], [18], [2, 10], [27], [11], [5, 7], [9], [27], [27], [2], [7, 26], [4], [7, 10, 17], [6], [8, 9], [15], [18], [6], [25], [26], [27], [7], [0], [26], [6, 11], [0], [3, 27], [27], [27], [5], [5], [27], [27], [6], [1], [3, 4], [26], [5, 9, 25], [15], [4, 5], [26], [27], [18], [10], [18], [27], [27], [7], [10], [1, 2], [13], [27], [10], [27], [10], [4], [24, 25], [27], [9], [4], [20], [15], [27], [7], [0, 3], [5], [6], [20], [17], [18], [2, 20], [27], [0], [10], [26], [18], [1, 15], [4], [27], [0], [27], [27], [0], [10], [0, 15], [13, 17], [27], [0], [14], [11], [27], [17], [27], [15], [19], [27], [1, 15, 22], [17], [15], [27], [17], [0, 17], [4, 21], [5], [27], [3], [15], [6], [27], [2, 3], [20], [27], [27], [18], [27], [27], [4], [9], [15], [18], [4], [25], [27], [27], [27], [10], [2], [26], [27], [26], [5, 20], [1], [0, 4], [5], [15], [1], [1], [27], [8, 22], [1], [3, 10], [27], [2], [27], [0], [3], [1], [6, 15], [3], [18], [0], [22, 24], [27], [6], [27], [0], [2], [22, 25], [27], [1], [3], [17], [25], [0], [18], [3, 10], [27], [27], [6], [14], [25, 27], [27], [4, 22], [4], [9], [15], [5, 22], [7], [27], [27], [1, 4], [27], [27], [1], [15], [6, 15, 22], [4, 18], [3, 22], [27], [7], [27], [0, 4], [18], [27], [20], [0], [27], [20], [10], [2, 3], [1, 7], [0, 1], [22], [27], [8, 20], [7], [27], [3], [27], [9], [20], [13], [22], [9, 27], [27], [27], [5, 20], [27], [8, 24], [26], [15], [27], [22, 27], [0], [7], [1], [0], [27], [6], [14, 27], [8, 24], [0], [20], [0], [24], [9, 19], [1], [11, 20], [27], [27], [27], [27], [27], [3, 10], [27], [27], [22], [13, 20], [27], [27], [27], [1], [0, 1], [0, 20], [27], [11], [27], [20], [17], [4], [26], [1], [1], [27], [10], [4], [17], [25], [27], [27], [7], [27], [0, 21], [6, 7], [15], [0, 4], [27], [0, 20], [27], [7], [27], [8], [27], [1], [15], [27], [8], [7], [20], [27], [27], [20], [4], [26], [5, 20], [15], [10], [18], [14], [17], [7], [2], [4], [5, 15], [17], [27], [10], [15], [27], [10], [27], [10], [1], [3], [7], [25], [27], [27], [10, 22], [18], [1, 27], [27], [27], [27], [27], [2, 3], [0], [17, 25], [15, 23], [0, 17], [27], [18], [5, 27], [15], [7], [13], [6, 7], [3], [0], [10], [9], [5], [15], [2], [25], [27], [27], [27], [7], [10], [27], [26], [20], [6], [1], [11], [10, 27], [0], [0, 18], [0], [0, 17], [27], [27], [7], [4], [12], [0], [3], [15], [27], [3, 11], [6], [13, 27], [0], [0], [5], [16, 19], [3, 7, 20], [27], [15], [4, 27], [9, 25], [27], [27], [25], [0, 10, 15, 22], [0], [3, 6], [27], [27], [10], [4], [27], [0], [14], [15], [1, 25], [6, 7], [27], [0], [27], [27], [1], [27], [27], [22], [4], [4, 27], [1], [27], [7], [9, 25], [18, 22], [27], [27], [1, 22], [27], [1, 20], [4], [9], [27], [27], [27], [14], [3, 10], [15, 20], [1], [1], [22], [3], [10], [9, 25], [27], [27], [18, 24], [0], [27], [15], [18], [15], [27], [27], [3], [20], [11], [9], [18], [27], [27], [27], [1, 4], [27], [10], [27], [27], [7], [4, 15, 24], [27], [27], [0], [15], [27], [27], [5], [27], [0], [15], [27], [17], [0, 4], [0], [27], [15], [27], [15], [27], [27], [2, 27], [27], [27], [9], [11], [14], [27], [27], [4], [27], [4, 18], [0], [27], [0, 20], [3, 11], [5], [26], [0, 15, 27], [27], [27], [4], [1], [27], [15, 24], [27], [10], [13, 27], [4, 15], [0], [8], [27], [18], [27], [27], [14], [4], [0], [1], [27], [27], [27], [4, 20], [27], [20], [27], [27], [15], [5], [27], [9], [27], [7, 12], [27], [1], [27], [17], [27], [27], [2], [5], [14], [18, 20], [10, 25], [4], [1], [17, 22], [18], [25], [2], [15], [0], [5], [20], [12], [3, 13], [13], [27], [4], [12, 16], [27], [15], [6], [15], [10], [3], [6, 7], [1], [27], [2], [0], [1, 15], [27], [2], [3, 22], [27], [20], [18], [7], [27], [0, 26], [27], [0], [27], [7], [5], [27], [18], [7], [6], [27], [27], [4], [27], [0], [3], [2], [27], [20], [7, 27], [27], [3, 10], [27], [7], [1], [5], [0], [13, 17], [27], [15], [10], [18], [4], [6, 7], [27], [4, 11], [27], [27], [18], [7], [27], [27], [20], [3], [4], [15], [3], [7], [0, 1], [2], [18], [27], [18], [27], [27], [15], [15], [4], [27], [17], [0, 4], [1], [4], [12], [27], [10, 27], [27], [3], [2, 20], [26], [27], [27], [7], [27], [27], [10], [0, 15, 17], [4], [15], [18], [14], [3, 25], [20], [0], [0], [27], [27], [15], [27], [0], [27], [27], [4], [24], [3], [27], [17], [4], [4], [6], [0], [26], [25], [15, 22], [15], [15], [7, 18], [4, 20, 27], [27], [24], [24], [27], [26], [7], [15], [27], [15], [27], [3], [4], [6], [27], [15], [4], [2], [27], [27], [15], [22], [7, 10], [27], [24], [27], [5, 20], [2, 3, 27], [27], [0], [27], [13], [5], [0], [0], [27], [0], [27], [27], [1], [27], [24, 25], [27], [27], [17], [24], [2, 15], [1], [3], [3], [27], [27], [3, 27], [25], [27], [27], [27], [27], [27], [0], [5], [27], [11], [27], [18], [9], [27], [27], [0, 22], [24], [0], [26], [27], [2], [27], [3, 10], [27], [18], [5], [0, 4], [18], [15, 20], [26], [26], [5], [6, 27], [9, 10], [17], [27], [27], [3, 27], [27], [1], [4], [14], [27], [5, 27], [0], [27], [9], [22], [9], [27], [27], [10], [27], [2], [22], [20], [1], [0], [5], [27], [27], [11, 15], [9, 25], [27], [27], [0], [3, 4], [24, 25], [10], [27], [27], [15], [27], [9], [3], [6, 7], [7], [0], [27], [15, 21], [27], [27], [2], [27], [27], [0], [7, 27], [27], [27], [27], [7], [0, 5, 15], [4], [6], [20], [10], [27], [0], [27], [14], [4], [27], [27], [0], [11, 20], [4], [1], [2], [27], [1], [27], [1, 9, 22], [20, 27], [0], [27], [27], [8, 18], [0], [18], [5, 27], [27], [0], [27], [27], [27], [9], [27], [17], [27], [20], [13], [5], [27], [27], [22, 27], [0, 4], [4], [22], [27], [8], [3], [17], [27], [4], [10], [24], [13], [3, 11], [0], [11], [18], [26], [27], [10], [0], [15], [1], [27], [1], [2], [13], [27], [27], [9], [27], [27], [7, 27], [27], [27], [20], [27], [27], [3], [3], [27], [2, 3, 9], [1], [4], [27], [0], [25], [9], [19], [27], [6, 7, 15], [1, 22], [27], [7], [27], [12], [0, 15], [27], [17], [2], [4], [1], [10], [0, 3], [27], [27], [27], [14, 19], [15], [27], [27], [15], [27], [22], [7], [27], [5], [27], [18], [18], [27], [3], [0, 21], [0, 1], [4], [27], [27], [27], [27], [6], [27], [9], [7], [1], [0], [27], [2], [27], [27], [20], [27], [2, 25], [14], [9], [27], [3], [10], [27], [0, 1], [9, 25], [0, 4, 20], [13], [15], [8], [5, 20], [27], [20], [27], [13], [27], [4], [0], [20], [1], [27], [10], [5], [9, 25], [14], [1], [0, 13], [11], [27], [3], [13], [18], [0, 25], [2], [10], [26], [3], [1], [27], [20], [17, 27], [27], [11], [4], [15], [5, 18], [27], [4, 27], [27], [7, 27], [14], [25], [7], [0], [0], [0], [27], [19], [10], [8], [27], [6, 15], [17], [1, 20], [27], [1, 20], [5, 7, 10], [7], [3], [13, 15], [27], [0, 26], [8], [27], [0, 15], [1], [7], [27], [2], [0], [10, 27], [18], [27], [20], [3, 5], [9], [0, 7], [27], [0], [10], [2], [25], [7], [18], [27], [27], [0], [1], [1], [3], [8], [18], [27], [1], [27], [2, 3], [18], [4], [0], [27], [16, 26], [3], [24, 25], [3], [13], [27], [4], [0], [27], [9], [22], [26], [7, 27], [27], [3], [6], [27], [9], [26], [3, 10], [27], [20], [27], [14], [7], [27], [20], [27], [4, 22], [3], [27], [0, 20], [17], [27], [25], [27], [27], [0, 18], [27], [5, 18], [7], [10], [0], [27], [15], [18], [1], [27], [27], [15, 20], [4], [27], [1], [27], [27], [27], [20], [13], [17], [27], [3], [10], [4], [1], [9, 11], [4], [7, 24], [0], [4], [11], [8], [3], [2], [27], [27], [27], [15], [27], [27], [0], [0], [14], [27], [24], [27], [27], [10], [27], [0], [27], [17], [4], [4], [12], [27], [27], [1, 7], [0, 1], [1], [27], [7], [13, 17, 18], [13], [25], [9, 25], [14, 19], [12], [0, 27], [27], [27], [27], [3, 27], [18], [0], [22], [18], [1], [27], [4], [15], [27], [14], [18], [4], [7, 26], [15], [22], [27], [22], [0], [10], [15], [4, 22], [6, 14], [2], [1], [9], [9], [27], [27], [27], [10], [26], [27], [3, 10], [18], [15], [0], [20, 27], [5], [7], [3], [1], [20], [5], [27], [25], [27], [0, 18, 25], [4], [3], [0], [14], [0], [15], [0], [4], [27], [17], [14], [27], [20], [4], [4, 22], [27], [1, 18], [27], [27], [5], [9], [27], [1], [25, 27], [22], [27], [4], [4], [17], [26], [27], [0], [0], [27], [22], [15, 18], [27], [9], [0, 21], [5, 15], [27], [27], [5], [27], [27], [4], [27], [20], [3, 27], [26], [27], [2, 3], [27], [13], [4, 15], [0], [27], [0], [10], [0, 17], [2], [27], [7], [27], [3], [17], [13], [0], [0], [27], [4], [3], [10], [15], [27], [18], [4, 27], [10], [15], [17], [6, 27], [27], [27], [9, 11], [1], [15], [2], [6], [3, 11], [0, 17], [27], [27], [27], [27], [27], [27], [27], [25], [15], [24], [0], [8, 11], [27], [9, 27], [7], [0, 18], [4], [4, 27], [27], [0], [27], [18], [15], [27], [27], [3, 27], [1], [27], [17], [0], [4, 27], [1, 15], [5], [8, 18], [27], [18], [7], [10, 27], [18, 20], [7], [0], [8], [10], [1], [4], [0, 14], [12], [4], [17], [27], [0], [11, 22], [27], [27], [26], [7, 20], [7], [18], [20], [27], [27], [25], [0], [4], [4], [10], [3], [0], [27], [7], [27], [7], [8], [10, 27], [0], [0, 18], [17, 18], [18], [11, 25], [4], [7], [27], [15], [1, 18], [5, 13], [27], [0], [1, 4], [8, 20], [27], [2], [20], [19, 27], [0], [10], [27], [9], [7], [15], [10], [13], [3, 24], [27], [5], [27], [0], [2], [4, 5], [27], [27], [9, 27], [27], [1], [2], [27], [27], [27], [27], [10], [7, 27], [27], [17], [4], [10], [27], [0], [27], [27], [17], [27], [9], [18], [27], [27], [27], [27], [4], [27], [27], [3], [4], [4], [18], [9], [8], [27], [27], [5], [7], [27], [26], [6], [27], [15], [20], [2], [24, 25], [27], [4], [22, 27], [0, 20], [3, 17], [0], [27], [27], [25], [27], [27], [27], [27], [1], [5, 24], [4, 18], [27], [3, 27], [1, 15], [22], [4, 22], [27], [13], [1], [27], [25], [27], [25], [5, 27], [0, 17, 18], [18], [27], [12], [0], [25], [1], [15], [5, 14, 19], [9], [0, 20, 21], [4, 15], [27], [15], [0], [1], [7], [22], [3, 9], [15], [11, 27], [27], [27], [18], [18], [10], [27], [15], [18], [18], [27], [2, 11], [27], [26], [2], [2], [18], [27], [27], [4], [0, 4], [17], [27], [27], [1], [27], [4, 27], [3, 25], [7, 10], [1], [17], [27], [4, 20], [3, 9], [20], [13, 17], [18], [27], [2], [17], [27], [1], [27], [9], [27], [7], [27], [4, 18], [27], [6], [0, 17], [4], [27], [9], [0], [24], [22, 27], [4], [7, 9, 26], [27], [0], [7], [18], [27], [4], [25], [10], [27], [0, 20], [3, 9], [14], [3, 11], [27], [4], [8], [27], [27], [4, 11], [27], [7, 22], [27], [11], [27], [13], [18], [0, 23], [27], [15], [27], [7, 11], [15], [13], [27], [27], [15], [27], [4], [14], [27], [27], [1, 3], [4], [3], [3], [27], [27], [27], [26], [3], [6], [5], [27], [27], [7], [20], [3], [18], [0, 7], [10], [27], [26], [6, 25], [27], [27], [18], [26], [4], [0, 4], [27], [27], [2, 22], [27], [27], [22], [27], [27], [13], [27], [10], [10], [27], [27], [22], [13], [4], [27], [27], [10], [1], [7], [27], [4], [7], [27], [1], [5, 27], [15], [11], [27], [27], [5], [24], [27], [9], [0, 4], [10], [27], [7], [25], [4, 5], [27], [22], [6], [7], [27], [27], [4, 15], [25, 27], [9, 25], [3], [27], [20], [15, 20], [27], [13], [3], [0, 17], [3, 22], [26], [12], [25], [15], [9], [4], [3], [12], [17, 27], [9], [5], [27], [27], [1, 18, 24], [27], [27], [0, 15], [1], [0, 3], [18], [0], [15], [0, 17], [22, 25], [10], [17], [0], [27], [1], [18], [20], [20], [27], [4], [1, 17], [0], [0], [4], [4], [27], [27], [4, 10], [10], [27], [27], [0, 27], [4, 17, 22], [3], [27], [1, 6], [0], [27], [27], [0], [1], [27], [4], [5, 27], [27], [26], [0, 1], [11], [27], [1], [17], [5, 27], [7], [26], [4], [0, 18], [27], [27], [10], [4, 22], [27], [0, 15], [27], [17], [27], [27], [13, 23], [15], [9], [27], [10], [7, 18, 25], [4], [26], [10, 27], [27], [15], [27], [15], [26], [27], [4], [27], [27], [10], [12], [17, 27], [27], [17], [3, 27], [0], [0], [15], [27], [2, 3, 10], [0], [0, 7], [27], [22], [8, 20], [18], [27], [0, 6, 27], [27], [20], [3, 7], [27], [10, 15], [13, 17], [27], [0], [18], [2, 9], [27], [27], [27], [27], [27], [27], [2], [7], [27], [17], [0], [27], [0], [0, 13], [27], [1], [15], [0, 4], [17], [11], [3], [11], [15], [17, 27], [0, 26], [6, 7], [2], [3, 11], [4, 27], [8], [27], [0, 4], [26], [2], [5], [27], [15], [4], [7], [27], [5, 20], [27], [18], [9], [9], [22], [27], [15], [14], [27], [0, 13], [7], [15], [2, 3], [0, 27], [27], [27], [5, 8], [8, 20], [27], [3], [4], [6], [10, 25], [16], [27], [10], [27], [25], [4], [12], [24], [1], [15], [27], [27], [0], [1], [1], [4, 26], [0], [16], [7], [27], [3], [27], [7], [27], [18], [1], [17], [0, 17], [27], [22], [15], [27], [13, 17], [4], [27], [27], [27], [27], [27], [1], [27], [2, 3], [15], [0, 4], [24], [2], [0], [0], [10], [27], [0, 18], [10], [18], [26], [6], [1], [27], [27], [27], [27], [10], [17], [27], [7], [20], [0], [22], [1], [27], [8], [0], [27], [5], [9], [0], [6], [2], [1], [3], [27], [2], [27], [4], [8, 20, 22], [27], [17], [17], [27], [15], [2], [6, 10], [15], [27], [11], [2], [27], [21], [11], [0], [10, 15], [15], [4, 22], [22, 25], [27], [11], [1], [27], [27], [11], [0], [6], [0], [11], [27], [27], [7, 27], [27], [22], [3], [15], [15], [1], [7], [27], [11], [0], [10, 26], [27], [27], [27], [18], [7], [17], [27], [27], [9], [27], [3, 27], [27], [0], [10], [7, 10], [0], [15], [4, 27], [27], [15], [7], [9], [27], [0], [27], [3, 10], [6, 27], [27], [3], [4], [17, 18], [17], [0, 18], [25], [4], [27], [20], [1, 27], [7], [26], [6], [4], [9], [2], [8], [3, 4], [10], [27], [9], [10], [15], [7], [1], [27], [2], [27], [27], [19], [20, 24], [27], [0], [27], [27], [3], [27], [0], [27], [4], [9], [7], [17], [27], [4], [7], [27], [27], [0, 24], [9], [4, 20], [27], [0], [10], [11], [25], [20], [26], [27], [5, 27], [2, 27], [27], [2, 11], [6], [27], [1], [27], [2], [15], [0], [18], [27], [27], [3, 11], [27], [0], [10], [27], [10], [2, 3], [3], [5], [27], [1, 18], [22], [1], [9, 27], [6], [2], [0], [27], [20, 27], [9], [20], [27], [15], [27], [5], [18, 27], [27], [27], [1, 3], [2], [27], [25], [27], [2], [15, 20], [10], [15], [4], [15], [2], [0], [13, 27], [27], [6], [1], [3, 9], [0, 4], [4], [27], [27], [10], [15], [27], [18, 27], [18], [15], [15], [27], [27], [0], [4], [27], [5, 27], [25], [11], [4], [27], [27], [27], [27], [27], [7], [7], [1, 3], [27], [26], [0], [27], [27], [6], [15], [18], [27], [26], [7], [7], [4], [27], [9], [15], [2], [3], [5], [27], [27], [2], [13, 17, 18, 26], [7], [18], [10], [4], [27], [19], [24], [20], [27], [17], [22], [18], [27], [17], [17], [2], [27], [27], [13], [13], [24], [25], [11], [1, 17], [14], [17], [20], [11, 27], [27], [1], [26], [9, 27], [27], [10], [27], [6], [9], [4], [27], [15], [1], [20], [27], [27], [15], [7], [0], [27], [0, 18], [27], [27], [27], [17], [4], [0], [3], [15], [4, 20], [3, 27], [27], [17], [27], [13], [10], [18], [9, 27], [27], [27], [27], [16, 24, 25], [13], [9], [7], [6, 27], [27], [11], [27], [2], [26], [27], [27], [27], [26], [27], [4], [0], [18], [0], [5], [27], [27], [15], [7], [27], [27], [14], [12], [3], [0], [14, 25], [27], [9], [0], [27], [20], [18], [6, 7], [0], [27], [3, 9], [27], [9, 25], [10], [4], [27], [8, 27], [24], [27], [4, 27], [4], [17], [3], [20], [3], [1], [15], [10], [11, 18], [13], [3, 9, 25], [27], [16], [27], [27], [27], [27], [11], [27], [18], [27], [22], [20], [27], [0], [27], [18], [4, 27], [27], [3, 7], [15], [27], [0], [27], [24], [18], [17], [25], [10], [7], [4, 7], [4], [27], [4], [5], [8, 9], [4], [6], [7], [12], [4, 20], [18], [4, 17], [27], [2], [18], [27], [27], [0, 27], [27], [27], [9], [8], [15], [1], [10], [10], [27], [27], [27], [10], [27], [25], [5], [27], [27], [27], [5], [8], [3], [9], [0, 20], [25], [4], [4], [2], [1], [27], [13], [5], [27], [12], [27], [12, 22, 24], [13], [9], [4, 27], [3], [27], [27], [0, 27], [9, 25], [3], [1, 15], [27], [27], [27], [0, 1], [0], [6], [1, 4], [11], [4, 26], [3], [15], [0], [6], [14], [27], [27], [8], [7, 20], [2, 3, 11], [10], [1], [4], [11], [15], [27], [27], [0], [27], [7], [4], [15], [27], [27], [6], [0], [0], [27], [8], [27], [4, 17], [20], [4], [24], [27], [26], [9], [9, 26], [0, 1, 4], [10], [20], [7, 17], [20], [4, 6], [9, 10], [4, 9, 25, 27], [4], [10], [27], [1, 6], [0], [25], [27], [26], [4], [10, 22], [18], [27], [25, 27], [1, 17], [27], [27], [13], [9, 27], [24], [27], [6], [27], [26, 27], [10], [27], [27], [10], [0, 1], [20], [0], [4, 26], [7], [1], [27], [15], [7], [27], [27], [15], [2, 10], [27], [27], [27], [27], [2], [0], [3], [8], [0], [27], [27], [0], [22], [11], [27], [0], [1, 6], [27], [27], [9, 27], [1], [27], [7, 13], [27], [8], [27], [10], [27], [27], [7], [22], [1], [12], [18], [3], [15], [10], [27], [27], [15], [27], [5, 27], [2, 3], [27], [27], [11], [15, 26], [2], [19, 25], [7], [21], [1], [2], [17], [14], [27], [27], [1, 4], [27], [27], [15], [1], [27], [27], [7], [0], [0], [7], [4, 22], [27], [0], [27], [4], [0], [15], [15], [0, 15], [1], [19], [0], [27], [27], [27], [1], [0], [3], [0, 22], [8], [7, 9], [27], [27], [6], [1, 17], [0], [18, 20], [20], [27], [1, 11], [0], [1, 27], [27], [1], [27], [20, 22], [2], [7], [20, 27], [27], [4], [18], [3], [7], [2], [23], [24, 25], [27], [0], [4], [11, 25], [0, 15], [0], [22], [3], [27], [27], [0], [25], [3, 10], [27], [12, 17], [25], [20], [2], [4, 27], [27], [25], [14], [3], [8], [25], [10], [7], [0, 15], [1], [0], [27], [25], [0], [27], [0, 15], [6], [27], [27], [2], [20], [0, 18], [27], [15], [27], [3], [2, 23], [15], [18], [3], [3, 20], [5], [27], [27], [27], [27], [6], [27], [27], [17], [6], [26, 27], [6], [15, 20], [18], [27], [0], [27], [0], [27], [20], [1, 15], [0, 1], [0], [18, 20], [22], [13], [27], [6, 7, 27], [27], [27], [4, 18], [13], [10], [6], [10], [27], [2], [17], [0, 3], [6], [2], [18], [0], [10], [27], [1], [10], [6, 7, 27], [27], [27], [22], [27], [0, 15], [24], [7], [25], [0], [27], [10], [13], [13], [11], [27], [7], [0], [22], [27], [10, 27], [1], [3], [10], [27], [9], [4], [27], [17], [20], [0, 4], [27], [27], [27], [27], [11], [20], [11], [10], [13], [4], [27], [10], [27], [25], [1], [27], [27], [27], [20], [8, 20], [27], [25], [2], [14], [7], [15], [27], [27], [27], [24, 25], [27], [22], [0], [4, 20], [0, 3], [27], [15], [3], [11], [1, 4], [1, 17], [3], [25], [7], [13, 17], [27], [22], [27], [27], [27], [0], [5, 7, 19], [7], [15], [2, 27], [17], [27], [2], [27], [11], [18], [27], [27], [2, 3], [3], [27], [26], [24, 25], [3], [15], [1], [4], [27], [15], [27], [15], [3], [6, 10], [27], [0], [27], [27], [3, 10], [27], [3], [27], [27], [22], [27], [1, 26], [27], [24, 25], [2], [27], [18], [27], [1], [27], [15], [2], [0, 1], [18], [9], [0], [4], [11], [15], [27], [15], [18], [27], [27], [27], [0], [27], [13], [4], [25], [27], [0], [1], [27], [0], [2], [27], [18, 27], [27], [27], [10], [18], [27], [27], [4], [10], [27], [0], [10], [17], [1], [27], [15], [14], [27], [0], [1], [27], [0, 15], [0], [7], [27], [27], [0], [0], [17], [5, 17], [9, 25], [27], [1], [2], [15], [7], [15], [20], [27], [1], [6, 7], [4], [9, 10], [27], [27], [16], [13], [0, 17], [0], [4], [10, 12], [10], [27], [7], [0], [27], [27], [17], [27], [14], [15], [20], [1], [1], [6], [27], [27], [7, 13], [1, 3], [18], [27], [6], [27], [15], [27], [26], [1], [27], [27], [3, 5], [0], [6], [2, 3], [1, 24], [27], [1], [18], [7], [3], [27], [6, 24], [5], [15], [10], [0, 1], [27], [14, 19], [26, 27], [6], [27], [12], [4], [10], [1], [8, 15, 20], [15], [27], [8, 18], [7], [27], [15, 20], [18], [0, 15], [6], [27], [20], [27], [1, 22], [1], [5, 15], [15], [27], [26], [1], [27], [27], [4], [27], [27], [0, 27], [27], [27], [7], [9], [2, 15], [4], [17], [27], [27], [9, 27], [4], [10], [10], [27], [27], [5, 20], [27], [27], [20], [20], [1], [15], [27], [4], [3], [0], [27], [27], [1, 15], [13, 17, 22], [17], [27], [1], [1], [27], [27], [4], [17], [27], [15], [27], [1], [4], [11], [27], [27], [27], [3], [3, 18], [27], [3], [5], [27], [27], [27], [3], [0, 25], [6], [27], [15], [1], [6], [27], [14], [27], [27], [7], [27], [27], [25], [27], [27], [27], [27], [27], [2], [27], [4], [10], [0], [15], [0], [3, 27], [13], [15], [3], [26], [2], [27], [26], [27], [18], [19, 27], [4], [27], [15], [21], [0, 4, 20], [27], [27], [27], [9], [27], [5, 18], [27], [18], [19], [6], [27], [27], [3], [26], [27], [26], [27], [7], [0, 17], [3], [9], [3], [3, 18], [5], [14, 26], [27], [3], [0], [27], [7], [1, 18], [27], [27], [10, 11], [27], [14], [20], [24], [4], [15], [7], [26], [9, 10], [4, 18, 20], [2], [27], [27], [13], [15], [22], [2], [20], [9], [10, 27], [27], [4, 22], [3], [0], [27], [1], [27], [13, 21], [0, 15], [7], [10], [3, 4], [27], [27], [15], [27], [24], [27], [26], [27], [15], [3], [4], [27], [15, 20], [27], [0, 18], [4], [27], [25], [27], [27], [9], [27], [25, 27], [17], [1], [14], [15, 18], [27], [27], [4], [27], [3], [22], [4], [1], [4, 7], [4], [4, 27], [14], [24], [17], [20], [4, 27], [27], [10], [27], [0], [9, 12, 14, 19, 25], [4], [18], [25], [27], [1], [3, 10], [0, 17], [2], [0, 4], [24], [20, 24], [25], [5], [27], [8], [27], [15, 18], [27], [27], [10], [4], [7, 27], [17], [10], [1], [27], [27], [15], [27], [0], [0], [27], [9], [3], [6], [27], [2], [27], [1], [27], [1, 25], [4, 22], [0], [27], [4, 6], [10], [8], [25], [1, 14], [17], [27], [5, 17], [27], [0, 7], [3], [3], [27], [26], [7], [18], [0], [27], [27], [0], [0], [8, 15], [22], [15, 20], [14], [17], [11], [27], [27], [10], [10], [20], [22], [0], [27], [27], [10], [9], [27], [0], [22], [4], [13, 17], [25], [27], [0], [13, 17], [18], [3, 4], [18], [2], [15], [0], [20], [15], [11], [1], [0], [4, 10], [24], [27], [3], [14], [7, 27], [17], [7], [7], [25], [18], [0], [15], [20], [10], [27], [12], [24], [27], [27], [0], [0], [3, 11], [27], [3], [15], [18], [25], [27], [2, 3], [27], [15], [12], [4], [0], [27], [24, 25], [27], [0], [27], [16], [9], [0], [3], [27], [4], [0], [0], [27], [27], [20], [11], [7], [15], [20], [7], [0], [13], [0], [5], [27], [15], [2], [4], [27], [3], [27], [2], [27], [10], [1], [17], [15], [27], [27], [6], [27], [27], [0], [27], [2, 3], [4], [0], [4], [11], [27], [27], [4, 17, 20], [27], [1, 15], [20], [7, 17], [1], [0], [27], [27], [1], [25], [2, 5], [13], [0], [14], [12], [27], [0], [7], [25], [0], [10, 27], [14], [0, 15], [27], [3], [25], [15], [7], [18], [10], [0], [27], [27], [27], [3], [0], [1], [10], [1], [2, 3], [27], [14], [27], [0], [27], [12, 24], [27], [3, 8], [27], [27], [5], [26], [4], [27], [5, 20], [22], [3], [27], [2], [17], [18], [22, 27], [25], [27], [10], [0], [7], [27], [20], [7], [27], [4], [19], [27], [3], [4], [11], [27], [2], [3], [2], [1], [14], [7, 20], [1], [2], [1], [27], [6], [25], [27], [2, 4], [2, 11], [9], [27], [15], [27], [3, 10], [27], [15], [6], [20], [27], [3], [0], [5], [27], [27], [27], [3], [2], [15], [27], [27], [0], [10], [18], [1], [3], [26], [3], [27], [4, 7, 18], [10], [15, 20], [1, 24], [1], [25], [18], [27], [2], [27], [27], [1], [10, 27], [3], [1], [15], [27], [24], [11, 24], [22], [27], [7], [27], [27], [1], [3], [27], [0, 18], [27], [27], [27], [7], [7], [27], [27], [2], [26], [13], [0], [7], [18], [11, 22], [6, 27], [27], [7], [0], [9], [26], [0, 18], [25], [5, 20], [15], [3], [27], [0, 27], [27], [14], [7], [27], [4], [24], [27], [10], [27], [15], [5, 25], [4], [5, 27], [27], [7], [20], [27], [27], [3], [27], [7], [0, 18], [15], [15], [15, 20], [27], [4], [1], [15, 24], [7], [2, 3], [15], [15], [25], [25], [2], [9, 25], [1, 6], [27], [6], [17], [15], [8], [27], [22], [7, 25], [16], [15], [3, 27], [14], [26, 27], [27], [27], [15], [7], [25], [15, 18], [0], [4, 18], [27], [17, 27], [0], [20], [27], [17], [6], [0], [27], [10, 27], [27], [27], [10], [13, 17], [27], [27], [7], [0], [14], [4, 22, 27], [20], [27], [27], [0], [27], [24], [1, 27], [27], [27], [27], [4], [17], [1], [27], [26], [18], [10], [4], [27], [6], [1], [11], [2, 10], [15, 17], [7], [27], [27], [0], [10], [6], [4, 8], [27], [0, 6, 10], [4], [17], [27], [27], [4, 5], [25], [17], [7], [0], [4], [5, 17], [27], [1], [27], [3], [0, 18], [27], [27], [27], [1], [2], [27], [20], [0], [0], [26], [0], [0, 15], [15], [3], [27], [10], [4], [27], [3, 9, 17], [9, 20], [11], [15], [0], [25], [4], [0], [4, 15], [1], [12], [27], [27], [18, 19, 25], [17], [25], [17, 18], [2, 3], [4], [6, 7], [24], [4], [27], [27], [27], [17], [27], [5], [7], [3, 4], [6], [4], [0, 4], [18], [2, 3], [27], [27], [2], [27], [27], [27], [10], [27], [3], [6], [8, 15], [14], [7], [4, 5, 20], [27], [27], [6], [9], [7], [27], [27], [27], [27], [20], [17], [17], [27], [20], [10], [20], [27], [27], [27], [20], [12], [25], [27], [27], [2, 3], [27], [10], [0], [4, 27], [7], [1, 3], [27], [27], [9], [25], [27], [18], [7], [27], [27], [10], [26], [3, 18], [27], [15], [27], [27], [26], [2, 7], [27], [27], [0, 17, 20], [27], [3, 20], [27], [20], [0], [15], [0, 26], [6], [4, 27], [5, 27], [11], [12], [4], [18], [9, 22], [0], [1], [0, 27], [27], [1, 17], [2, 3, 9], [9], [10], [27], [20], [15], [8], [0, 20], [3], [5], [27], [5], [2], [15], [27], [20], [27], [3], [10], [27], [27], [18], [3], [1, 13], [18], [9], [6], [1], [6], [4], [27], [10, 27], [0], [27], [0], [7, 12], [4], [15], [27], [27], [14], [3, 5], [3, 9], [27], [0, 18], [27], [27], [24], [6], [14], [25], [8], [27], [4], [2], [4], [27], [14], [14], [11, 27], [1], [15], [27], [27], [0], [7], [5], [4, 5], [17], [7], [18], [15], [27], [6], [1], [3, 9], [4], [0, 15], [15, 24], [15], [27], [14], [27], [1, 3], [8], [9, 25], [15], [22], [11], [0], [15], [27], [27], [7], [15], [13], [6], [27], [3], [27], [25], [4], [27], [27], [2], [27], [27], [13], [4], [18], [25], [27], [6], [0], [27], [20], [0, 17], [15], [0], [25], [27], [0], [7], [27], [1], [27], [27], [15], [18], [27], [27], [18], [27], [27], [5, 23], [22], [20], [4], [18], [27], [21], [27], [13], [27], [6], [27], [27], [18, 23], [1], [1], [2], [12], [22], [16, 25], [0], [26], [27], [27], [3], [15], [7, 22], [1], [27], [27], [15], [27], [27], [27], [27], [18], [0], [27], [4, 18], [13, 17, 20], [27], [20], [27], [1], [17, 27], [3], [17], [27], [3, 10], [7], [18], [10], [27], [0, 1], [27], [20], [27], [25], [27], [10], [5], [3], [0], [27], [4], [13], [25], [2], [5], [10], [27], [26], [8], [3], [27], [6], [17], [1, 5], [0], [10], [8], [27], [25], [0], [0], [27], [3], [6, 7], [27], [27], [27], [25], [4, 20], [4], [2, 3], [1], [27], [10], [10, 25], [27], [1], [4, 22], [27], [4], [3], [14, 19], [27], [0], [27], [18], [27], [6, 27], [4], [1], [15], [27], [27], [4], [1], [27], [27], [8], [3], [27], [18], [14, 19], [20], [27], [7], [18], [0], [14], [27], [2, 3], [14], [27], [27], [26], [18, 20], [17], [27], [5], [27], [27], [27], [27], [7, 20], [8], [15], [18], [6], [3, 11], [2], [4], [27], [27], [0], [27], [15], [4, 7], [0, 15], [27], [4], [14], [15], [4], [4, 27], [18], [27], [4], [4], [2], [15], [4, 7], [7], [24], [7], [18], [27], [22], [4, 10], [0], [27], [1, 20], [27], [27], [3], [1], [7], [22], [15, 20], [27], [0], [17, 22], [27], [18], [5, 27], [27], [5], [18], [27], [1, 18], [7], [10], [27], [4], [6, 7], [27], [13], [1, 27], [10], [25], [27], [10], [3], [8, 10], [16], [10], [26], [27], [4], [27], [0], [22], [27], [22], [27], [18], [0], [7], [8], [2], [27], [1, 15], [27], [6, 9], [27], [18], [1, 17], [3, 9], [27], [0, 4], [0], [2], [27], [20], [27], [6, 27], [27], [4, 25], [17], [17], [6, 27], [4], [22], [3], [27], [27], [0], [27], [1], [27], [7], [18], [24], [27], [3], [27], [27], [27], [27], [3, 10], [27], [10], [11], [0], [15], [4], [27], [6], [0], [15, 18], [18], [27], [27], [24], [0], [15], [0], [14], [5, 14], [18, 26], [3], [6], [20], [27], [20], [27], [2], [8, 13], [25], [0], [27], [18], [1], [9], [0, 26], [18], [5, 22], [25], [1, 7], [6], [1], [14, 27], [22], [27], [0], [27], [2], [10], [0], [27], [27], [27], [17], [2], [0], [27], [4], [0, 8, 18], [0], [2], [3, 27], [27], [10], [27], [5], [27], [10], [3, 9], [27], [5, 11, 18], [15], [0], [4], [10, 14], [27], [12, 25], [10], [5, 20], [27], [3], [0], [0], [27], [22], [3], [27], [0], [25, 27], [27], [3, 10], [20], [18], [2], [3], [4, 25], [9], [7], [10, 27], [27], [27], [4, 27], [13, 27], [8], [15], [27], [27], [15], [27], [7, 10, 11], [27], [27], [14, 19], [0], [27], [13], [10], [27], [1, 11], [20], [10, 20], [0, 26], [12], [27], [22], [25], [25], [3, 10, 25], [27], [10, 20], [0], [27], [9, 27], [4], [4], [27], [12], [20], [27], [3], [9], [22], [10], [27], [0], [22], [7], [27], [5], [27], [15], [0], [2], [6], [3], [17], [20], [27], [18], [25, 27], [27], [3, 10], [27], [25, 27], [26], [27], [27], [25], [27], [7, 20], [6, 7], [6], [1], [27], [15], [27], [15], [10], [27], [27], [25], [1], [0], [2], [9, 22, 25], [27], [18], [13], [7], [0], [27], [18], [14], [2, 26], [2], [27], [2], [27], [3, 9], [0, 20, 21], [6], [0], [27], [6], [15], [14], [0, 4], [13], [5], [0, 26], [7, 22], [27], [7], [4], [4], [27], [4], [27], [27], [5], [3, 10], [27], [27], [0], [0, 18], [7], [0, 18], [27], [13], [7], [6], [0], [27], [25], [27], [0, 20], [27], [24], [0], [0], [25], [27], [27], [7], [27], [2], [4, 22], [20], [0, 4], [0], [15], [3, 4], [3], [27], [13], [0], [27], [0], [13], [5, 27], [27], [1, 4], [0], [17], [1], [27], [14, 25], [27], [27], [27], [9, 27], [7, 20], [3], [4], [9], [10], [27], [27], [11], [24], [0, 4], [0], [15], [3], [27], [6, 27], [27], [2, 10], [3, 9], [6, 7], [15], [7], [17], [27], [1, 20], [15], [3], [0], [10], [24], [27], [10], [10, 27], [1], [27], [0], [2], [27], [2, 3], [27], [1], [0], [7], [25], [15], [5], [14], [6, 9], [1, 4], [25], [10], [27], [1], [20], [3], [10], [6], [12], [1], [25], [27], [18], [0], [8, 25], [2, 3, 4], [0], [27], [2, 3], [15], [0], [0, 15], [2, 3], [27], [18, 27], [27], [9], [0, 13], [15], [10], [27], [26], [3], [15], [6, 27], [27], [15], [3, 11], [10, 20], [27], [27], [17], [27], [27], [27], [18], [7], [0], [27], [18], [27], [5], [6, 7], [0], [3], [4, 27], [18], [4, 27], [27], [10], [0, 13], [9, 15], [27], [9], [0], [27], [27], [0, 13], [20], [27], [10], [26], [27], [27], [6, 13], [3, 27], [4], [27], [10], [22, 27], [0], [3], [4], [27], [27], [27], [26], [13, 17], [0, 18], [14], [14], [18], [4], [27], [27], [0], [27], [24], [27], [18], [18], [25], [4], [8], [2, 25], [19], [1], [0, 21], [16], [23], [27], [22, 27], [27], [6], [1], [15], [27], [4], [1], [5], [27], [18], [27], [10, 27], [8, 27], [0], [2, 3], [27], [6], [27], [27], [17], [4, 20], [1, 27], [9], [12], [0], [6, 15], [27], [1, 17], [27], [22], [4, 22], [27], [9], [27], [27], [17], [1], [24], [0, 15], [27], [7], [26], [15], [3], [1], [10], [22, 27], [3], [17], [0], [7], [2, 3, 24], [27], [0], [13], [17], [7, 22], [4], [6], [27], [0, 26], [0], [15, 27], [27], [1], [8], [20, 27], [27], [10], [5], [18], [2], [4], [7], [27], [3], [2], [1], [27], [26], [4], [27], [20, 22], [22], [27], [4], [27], [15], [1], [1], [10], [15], [27], [27], [9, 22], [27], [0], [27], [0, 15], [15], [10], [26], [1], [27], [6], [27], [27], [27], [10], [27], [27], [4], [2, 3, 11], [27], [10], [19], [9], [27], [10], [27], [9, 25], [2], [27], [3, 11], [0], [27], [11, 25], [0], [3], [27], [15], [27], [27], [17], [18], [26], [27], [0], [7, 14], [25], [27], [1], [0, 4, 20], [27], [3], [27], [6], [0, 15], [15], [27], [11], [6, 7], [27], [18], [13, 26], [0, 9], [27], [4], [0], [27], [27], [22], [27], [15], [27], [7], [27], [27], [1, 8], [9, 25], [0, 9], [0], [27], [27], [4], [4], [0], [14, 25], [2, 3], [0], [18], [4], [18], [7, 14], [1, 3], [3], [3, 4], [0], [5], [27], [0], [27], [27], [27], [5, 18], [0], [27], [0, 1], [9], [27], [2], [7], [0], [0], [0], [18], [27], [1], [26], [9], [27], [2, 3], [18], [0], [10], [13], [24], [25], [1, 18], [6], [0], [1], [4, 15], [17, 18], [26], [6, 15], [2], [10], [6], [27], [27], [7], [15], [27], [27], [27], [27], [10], [2, 4, 5], [27], [4], [26], [4, 10], [27], [10, 27], [15], [27], [22], [15], [27], [27], [27], [17, 27], [0, 17], [10], [11], [7], [27], [18], [18], [27], [27], [27], [25], [17], [27], [0], [0], [9], [27], [27], [27], [4], [27], [27], [18], [7], [27], [10], [17], [27], [11], [4], [15], [7, 14, 22], [0], [2, 3], [4], [27], [12], [7], [11], [27], [17], [7], [15], [27], [10], [26], [27], [12], [4, 21], [0, 1], [25], [2], [13], [14], [20], [18], [18], [0, 4], [18], [4], [27], [14], [27], [3], [26], [15], [27], [27], [9], [27], [7], [2], [1], [27], [1], [18], [27], [0], [27], [27], [13], [25], [27], [27], [4], [27], [1], [27], [0], [27], [3, 18], [12, 27], [27], [27], [0], [27], [27], [18], [15], [15], [8], [27], [25], [27], [10], [10], [0], [22], [5], [27], [27], [1], [3, 26], [27], [15], [3], [18, 26], [27], [15], [27], [7], [9, 25], [27], [27], [2], [18], [15], [27], [4], [27], [4], [3], [26], [0], [27], [2], [7, 25], [27], [3, 27], [27], [10], [27], [3], [27], [13], [9], [27], [27], [27], [27], [11], [8], [27], [6], [27], [4, 27], [7, 26], [1, 15], [1], [0, 13], [20], [5], [10, 27], [0], [27], [10], [3], [27], [15], [6], [15, 20], [27], [4], [5], [20, 24], [3, 6, 7], [27], [0, 10], [0], [3, 26], [8], [27], [15], [0], [15], [3, 27], [1], [27], [27], [27], [5, 18], [17], [27], [2], [27], [27], [5, 17], [8, 17], [11], [0, 15], [0], [27], [0], [11], [26], [7], [27], [3], [27], [27], [18], [6], [3], [27], [2], [10], [27], [27], [13], [2, 3, 15], [0], [27], [13], [25], [10], [24], [27], [27], [27], [27], [27], [27], [27], [27], [4], [0], [27], [4], [27], [27], [27], [10], [15], [0], [0, 13], [27], [27], [11], [27], [11], [7], [1], [7], [3, 13], [1], [27], [27], [27], [6, 27], [0], [18], [15], [27], [4], [2], [27], [3], [27], [4, 15], [27], [27], [27], [0], [4, 27], [1, 6], [15, 17], [27], [0], [27], [27], [9, 22], [15], [2, 11], [27], [7], [27], [27], [0], [27], [24], [27], [27], [10], [15, 17], [27], [27], [2, 3, 10], [25], [5], [11], [22], [8], [15], [5, 20], [0], [0], [10, 22], [5], [27], [2], [18], [1], [5], [5], [27], [27], [13], [0, 5], [27], [0], [27], [27], [25], [13, 18], [3], [22], [10], [2], [27], [18], [4], [8], [4], [0], [1, 4], [6], [27], [17, 26], [8, 20], [27], [27], [27], [27], [10], [20], [1, 15], [1, 18], [1, 25], [27], [18], [3], [13, 17], [7], [27], [5], [1], [27], [27], [27], [27], [2], [7], [2, 3], [4], [20], [15, 20], [9], [4, 15], [27], [27], [27], [27], [1], [13], [0], [27], [1], [27], [2, 3], [4], [18], [25], [15], [27], [12], [22], [27], [27], [27], [27], [15], [7], [4], [17], [4], [7, 15], [6], [4], [22], [25], [11], [27], [7], [27], [2], [20], [15], [6], [10, 27], [27], [2], [14], [15], [6], [27], [5], [7], [2, 9], [20], [0, 26], [27], [27], [14], [4], [27], [27], [0, 7], [0, 27], [4], [9], [15], [1], [3], [3], [25], [8], [14], [27], [8, 20], [27], [0], [6], [26], [27], [27], [27], [1], [0, 10, 18], [27], [15], [22], [17, 27], [0], [18], [4], [27], [0, 13, 18], [7], [0], [25], [27], [27], [3, 9], [15], [12], [18], [27], [27], [0], [27], [7, 20], [7, 13], [7], [2], [27], [15], [27], [13, 26], [27], [27], [4, 15], [2], [27], [0, 1], [8], [22], [27], [27], [3, 10], [17], [27], [27], [27], [11], [27], [27], [4], [27], [5, 24], [27], [23, 27], [6], [6, 7], [27], [27], [3, 27], [0, 13], [3], [27], [4], [27], [20], [25], [27], [10], [17], [27], [2], [4], [27], [10], [0, 7], [27], [20], [1], [1], [27], [10], [0, 8], [27], [20, 22], [3, 10], [15, 22], [1, 3, 17], [1], [0, 4], [2, 11], [4], [1, 15, 20], [27], [7], [27], [27], [27], [27], [6], [27], [3], [1], [27], [1], [0], [1], [27], [27], [15], [27], [9], [4, 6], [17], [10], [12, 18], [8, 9], [2], [16], [10], [1], [27], [10], [4], [24], [7], [12], [27], [27], [1, 26], [2], [3, 11, 25], [5], [2], [3], [27], [15], [0], [6], [12], [27], [3, 15], [4], [27], [4], [27], [4], [6, 27], [0], [27], [5], [2], [7], [26], [27], [27], [4, 10], [13], [4], [0], [18], [7], [15], [27], [24], [0], [13, 26], [15], [4, 27], [27], [25], [3], [0], [3], [22], [25], [8], [27], [3], [25], [27], [27], [27], [17], [15], [2], [27], [5], [20], [1], [2, 3], [4], [26], [0], [1], [22], [7], [3, 7], [27], [15], [27], [15], [27], [1], [27], [1, 17], [3], [27], [0, 15], [1], [20], [4], [27], [1, 18], [7], [7], [0, 15], [18], [0], [15], [27], [11], [27], [1, 20], [6, 17], [27], [27], [3, 27], [10], [3], [3, 27], [6], [0, 4], [27], [27], [27], [27], [11], [0], [4], [27], [0], [27], [27], [0], [27], [0, 15], [27], [18], [27], [27], [27], [18], [27], [27], [15], [15], [15], [11], [18], [4], [8, 15], [27], [13], [6, 27], [0, 18], [25], [7], [0], [27], [18], [4], [27], [15], [11], [6], [8], [27], [15], [4], [0], [4], [25], [6, 27], [27], [27], [27], [17], [11], [1], [27], [8], [4, 27], [10], [13], [27], [3], [4], [5, 8], [10], [0, 18], [27], [17], [0, 3, 4], [1], [18], [1], [15, 18], [27], [27], [4], [27], [27], [27], [13], [27], [18], [0, 26], [27], [0], [11], [1], [6], [26], [11], [0], [8, 20], [27], [0, 17], [10], [10], [27], [10], [0], [20], [27], [13], [10], [27], [27], [27], [27], [27], [27], [11], [3], [0], [27], [27], [27], [15], [18], [27], [9, 25], [15], [15], [27], [17, 27], [4], [20], [0], [27], [27], [0], [2, 3], [0, 7], [7], [17, 18], [20], [27], [27], [20], [27], [1], [14], [27], [15], [20], [3], [27], [4], [1], [1, 20], [25], [15], [27], [27], [27], [10], [27], [4], [18], [27], [4], [27], [3, 7], [27], [7, 25], [3], [15], [24], [27], [27], [18], [27], [27], [3], [0], [27], [26], [27], [5, 27], [27], [22], [6], [1], [25], [6], [25, 26], [27], [3, 11], [27], [24], [3, 14], [17], [17], [27], [3], [7, 19], [3], [0, 15], [20], [15], [15], [27], [18], [27], [2], [18], [0], [27], [20], [2], [8], [2], [4, 18], [27], [1], [13], [18], [15], [0], [27], [23], [0], [0], [2], [20], [27], [0], [5], [14, 22, 25], [8], [3], [27], [1], [7], [17], [5, 20, 27], [4], [27], [11], [1], [4], [25], [27], [7], [9], [27], [3, 10], [2], [17], [4], [0], [26], [10], [8], [26], [27], [18], [27], [10], [18], [3], [9], [1], [3, 10], [27], [3], [27], [27], [15], [0], [17], [0], [3], [27], [17], [4], [27], [27], [8, 20], [27], [6], [4, 15], [4], [5], [1], [25], [0], [0, 20], [26], [24], [10, 20], [27], [1, 3, 10], [27], [27], [27], [27], [27], [0], [27], [15], [27], [24, 25], [6], [18], [4], [27], [10], [20], [2], [27], [10], [27], [25], [1], [27], [4], [18], [0], [6], [27], [27], [27], [0, 18], [27], [4, 27], [7], [4], [10, 27], [0, 7], [13], [15, 22], [27], [15], [10], [1, 22], [27], [0], [1], [25], [27], [1], [26], [10], [6], [0], [27], [27], [4], [6, 27], [5], [14], [11], [10], [27], [0], [15], [27], [4, 17], [4], [1], [27], [1], [16, 25], [27], [27], [18], [15], [4], [1, 13], [26], [6, 7], [27], [27], [3, 11], [15], [26], [0], [27], [0], [3], [1], [10], [27], [1, 20], [7], [15], [27], [13, 18], [18], [17], [27], [27], [15], [7], [7], [27], [7], [27], [10], [15], [27], [3, 10], [27], [27], [27], [2, 27], [6], [14], [2, 3], [4], [21], [2], [7], [0], [1, 17], [0], [27], [27], [27], [27], [5, 20], [27], [27], [27], [13, 26], [9], [7], [27], [7], [7], [0], [10], [3], [6], [27], [4], [27], [3], [4], [0], [3, 10], [27], [6], [27], [13], [1], [3], [0], [27], [27], [27], [0], [27], [7], [15], [27], [25], [27], [3, 27], [1], [10], [4], [4], [20], [18], [27], [6, 26], [4, 20], [27], [2, 27], [0, 17], [22], [27], [25], [3], [2], [5, 20], [4], [4], [2], [27], [8], [3], [7], [2], [7], [27], [27], [27], [4], [22], [2, 11], [0], [0], [25], [0], [18], [1], [4, 27], [1, 3], [27], [27], [2], [7, 27], [10], [20], [0], [27], [27], [7], [7, 20], [15], [2], [27], [20], [11], [2], [15], [15], [27], [27], [27], [17], [27], [27], [20], [10], [4], [15, 20], [4, 27], [27], [27], [27], [7], [0, 1, 12], [15], [7], [2], [18], [4], [27], [5, 10], [6], [4], [27], [3], [3], [26], [27], [17], [13, 26], [0, 18], [3, 6], [27], [27], [2, 10], [9, 25], [11], [27], [0], [0, 15, 18], [4], [27], [27], [3], [10], [7], [1], [4], [27], [9], [3], [7], [2, 10], [3], [26], [3], [0], [5], [27], [15], [18], [0], [6], [20, 27], [26], [27], [27], [27], [3], [13], [27], [27], [27], [3], [0, 13], [27], [8], [22], [7], [2], [27], [27], [13], [27], [6, 17, 18], [4, 25], [5], [2], [27], [11], [22], [0], [16], [3], [15], [27], [27], [15, 21], [18], [27], [27], [0], [27], [20], [0], [7], [27], [27], [3], [9], [7], [27], [20], [11], [27], [15], [0], [27], [27], [17], [27], [0], [27], [27], [9, 10], [27], [11], [27], [4], [9, 27], [10], [10], [26], [5], [22], [25], [1, 27], [27], [27], [0], [0, 8], [22], [7], [7, 27], [15], [2], [27], [27], [26], [9], [27], [10], [15, 18], [27], [27], [10], [27], [27], [0], [27], [0], [4], [1], [27], [15], [2, 3], [4], [27], [6], [27], [1], [4], [20], [27], [1], [15], [9, 10], [3], [27], [1], [4, 9], [26, 27], [27], [9, 22], [15], [0], [10], [4, 24], [24], [0], [27], [27], [26, 27], [22, 26], [2], [27], [3], [18], [6], [27], [4], [0], [23], [27], [0], [6], [18], [10], [10], [10], [4, 17], [0], [0], [27], [27], [27], [27], [26], [11], [3, 25], [20], [27], [27], [1], [27], [27], [27], [14, 19], [27], [8, 18], [4], [7], [27], [2], [27], [15], [27], [27], [6], [27], [0], [27], [27], [7], [27], [20], [27], [2], [1], [7], [3], [27], [27], [22], [25], [27], [17], [27], [18], [27], [27], [0, 18], [7, 27], [27], [4], [27], [12], [0], [27], [4], [7], [6, 7], [27], [12], [15], [25], [5], [1, 26], [0, 20], [27], [0, 8], [17], [1], [13, 20], [8], [27], [27], [4, 27], [27], [25], [8, 11, 18], [6, 7], [0], [2], [24], [26], [18], [27], [5], [27], [10], [15], [27], [27], [2], [27], [27], [27], [0], [4], [4], [27], [27], [5], [24], [27], [18], [0], [6], [27], [9], [27], [18], [0], [27], [11], [27], [3], [1], [3], [10], [0, 15], [27], [22], [27], [12, 25], [27], [27], [0], [4], [2, 3], [4], [26], [20], [27], [27], [24], [3], [10], [2, 3], [18], [15], [1], [27], [27], [27], [0, 18], [0], [6], [9], [7], [1], [2, 27], [17, 18], [27], [27], [22], [7], [27], [6], [18], [1], [9], [24], [5], [5], [18], [15], [27], [14], [6, 13], [4, 6], [20], [20], [0, 15], [0], [18], [7], [1, 5], [27], [25], [2, 23], [3, 6], [18], [12], [15], [6], [27], [15], [0], [3], [12], [7, 27], [27], [22], [17], [0], [22], [18], [26], [27], [4], [5, 20], [27], [15], [3], [8], [27], [27], [3], [2, 3, 7], [2, 3], [20], [27], [10], [3], [5, 22], [10, 11], [0], [17], [4], [7], [5, 26], [6], [1, 10], [27], [2], [27], [4], [15], [20], [10], [15], [20], [7, 27], [6], [27], [3], [13], [27], [15], [15], [0, 5, 20], [13], [0], [12, 14], [0], [27], [2], [27], [27], [27], [27], [5], [27], [0], [27], [25, 26], [3], [27], [2, 27], [1], [13], [27], [1], [11, 13], [1, 25], [27], [1, 8], [10], [4, 18], [18], [0], [17], [4], [10], [27], [27], [4], [27], [27], [10], [0, 18, 22], [27], [3, 11], [27], [10], [3], [4], [2], [18], [10], [4], [25], [14], [11, 12], [27], [27], [27], [10], [20], [3], [12], [22], [4], [0], [27], [5], [10], [4], [2, 3], [7], [2], [1], [2], [19], [14], [0], [1], [0, 1, 13], [0, 4], [17], [2], [2], [24], [1], [0], [0], [27], [27], [3], [27], [25], [27], [17], [3], [0], [27], [15], [27], [0, 22], [27], [17], [27], [13], [27], [4], [27], [27], [4], [2, 3], [0], [25], [15], [27], [7, 17], [4, 22], [1, 26], [27], [1, 18], [7], [9], [4], [27], [27], [1], [4], [7, 25], [27], [27], [2, 3], [27], [27], [0], [1], [12], [27], [3], [2, 4], [3], [11], [10], [25], [1], [0], [27], [1], [15], [27], [14], [7], [0], [27], [27], [0], [14, 25], [27], [27], [0], [7, 27], [18], [27], [0], [27], [5], [7], [27], [17], [14], [27], [17], [13, 17], [9], [3], [27], [0], [5], [1], [6], [13], [4], [27], [26], [6, 7, 27], [3], [15], [4], [27], [27], [4], [0], [4, 27], [15], [1], [15], [17], [9], [9], [10], [13], [6], [0], [4], [27], [17, 25], [27], [27], [0], [23], [4, 13], [10], [3, 27], [2], [23], [17], [10], [27], [27], [1], [2], [27], [27], [27], [15], [3], [11], [2], [4], [10], [0], [27], [27], [4], [0, 17], [7, 17], [10], [6], [27], [10], [17], [20, 27], [27], [22], [15], [3], [26, 27], [6], [27], [27], [4, 27], [22], [3], [27], [27], [15], [27], [27], [7], [0, 17], [20], [12], [0], [27], [27], [15], [0], [10], [27], [4], [15], [20], [0, 6, 7], [27], [15], [0, 20], [27], [27], [27], [3], [4, 27], [1], [4], [7, 25], [3, 10], [6], [3, 10], [7], [10, 27], [7], [3, 27], [15], [6], [2], [10], [0], [17], [15], [0], [1], [27], [27], [6], [27], [0, 15], [27], [13], [18], [2, 17], [18], [11], [27], [27], [0], [1, 2], [27], [23], [17], [4], [27], [0], [27], [27], [22], [7], [4], [20], [27], [3], [22], [1], [10], [27], [26], [4], [6, 15], [18], [13], [27], [26], [16], [0], [15, 18], [27], [27], [22, 27], [4], [27], [27], [2], [27], [20], [15], [0], [0, 4, 22], [10], [3, 4], [22], [2], [2], [22, 27], [27], [27], [10], [27], [27], [7], [5], [3], [3], [1], [0], [6], [27], [0, 8], [3], [3], [27], [6], [27], [2], [17], [6, 7, 26], [0], [18], [15], [18], [27], [6, 27], [7], [27], [27], [3, 27], [4], [9], [9], [18], [20], [10, 11], [20], [1], [15], [27], [5, 20], [27], [4], [14], [22], [18], [18], [18], [1], [7], [27], [21], [18], [27], [27], [11], [10], [17], [3], [27], [27], [26], [4], [2], [5], [0], [1], [14], [27], [5], [5], [20], [0], [3], [27], [5, 25], [0, 14], [27], [0], [27], [25], [14], [0, 6], [2], [13], [7], [3], [21], [24], [27], [0, 26], [27], [0], [9], [7], [27], [27], [9], [27], [4], [27], [27], [4], [15], [11], [27], [27], [27], [0], [0, 18], [6, 27], [27], [1], [27], [25], [1], [27], [10], [2, 10], [20], [4], [27], [0, 15], [1], [0, 4], [4], [15], [17], [0, 4, 13], [4], [27], [27], [24], [27], [2], [27], [7], [4], [4], [27], [1], [1], [1, 23], [7], [15], [1, 7], [7], [27], [13], [4], [7], [27], [14], [10], [27], [1], [0, 5], [6], [27], [22], [27], [3], [4], [15], [25], [27], [25], [24], [27], [14], [0], [6], [4], [27], [27], [15], [18], [27], [2], [2], [4], [3], [9, 25], [24], [26], [0], [27], [27], [27], [27], [27], [27], [14], [1], [0, 5], [15], [27], [8], [4, 27], [22], [11, 19], [15], [7], [15], [27], [5], [4], [6], [0], [27], [13], [7, 13], [4], [27], [4, 6], [20], [4], [15], [4], [0], [27], [11], [27], [10], [25], [27], [5, 22], [1, 17], [6], [10], [27], [12], [3], [17], [2], [7, 10], [25], [22, 26], [1], [3, 27], [27], [9], [27], [8], [7], [5], [3], [18], [10], [7], [6], [25], [13], [7], [27], [27], [10], [4], [27], [4], [3], [9, 26], [7], [27], [27], [1], [15], [5], [4], [15, 17], [20], [27], [1, 7], [27], [4], [15], [0], [3, 22], [27], [2], [2], [27], [27], [27], [24], [20], [4, 27], [27], [11], [4], [0, 1, 17], [13], [3, 10], [0, 15], [17, 27], [4], [0], [11], [5], [4], [9], [15], [20], [0], [26], [4], [0], [27], [27], [27], [13], [22], [27], [3], [27], [1], [27], [15], [1], [4], [20], [27], [3, 6], [2], [1], [0], [10], [5], [5], [23], [0, 18], [17], [20], [27], [26], [27], [13], [9], [26], [27], [3], [27], [27], [5, 27], [18], [4], [9, 10], [25], [20], [3], [1], [27], [17], [1], [4], [27], [27], [27], [27], [27], [9], [0, 17], [10], [27], [4], [15], [27], [27], [19], [0, 4], [27], [0], [27], [3, 9, 11], [11], [0, 17, 18], [27], [27], [4], [0, 15], [15], [7, 26], [27], [13], [7, 27], [27], [3], [27], [3], [13], [27], [20], [0, 1, 7], [27], [27], [15], [1], [5], [27], [6], [3, 27], [27], [5, 27], [27], [25], [5], [27], [15], [10], [27], [15], [27], [5, 14], [10], [11, 15], [20], [17], [27], [27], [1, 18], [27], [0, 26], [27], [4, 22, 27], [14], [11], [27], [18], [10], [27], [9], [9], [27], [1], [27], [0, 1], [2], [5], [13], [0], [8], [3, 7], [4], [0], [27], [27], [27], [25], [27], [27], [25], [2], [9], [27], [5], [0], [20, 23], [27], [7], [17], [27], [27], [27], [13], [25], [18], [10, 27], [27], [22, 27], [27], [27], [27], [27], [8], [6], [16], [26], [1], [25], [27], [17], [7, 26], [10], [1], [4], [27], [0], [27], [1, 15], [11, 20], [18], [27], [0, 5], [15], [27], [27], [0], [4], [27], [9, 27], [15], [1], [5], [27], [0], [27], [10], [5], [27], [10], [13], [1], [5, 7, 20], [27], [1], [7], [1], [27], [8], [18], [0], [10], [20], [27], [27], [27], [12], [6], [27], [2], [27], [2, 7], [27], [10], [0], [3], [27], [9], [10], [18], [11], [7], [27], [15], [26], [17], [10], [0, 4, 22], [15], [6], [27], [27], [6], [27], [2, 3], [26], [15], [27], [27], [4, 20], [27], [27], [27], [1, 7], [18], [4], [3], [4], [7], [27], [3, 5], [14], [13], [17], [13], [7], [27], [17], [0], [27], [4, 5, 20], [27], [6, 26], [4], [27], [27], [15], [27], [13, 17], [15], [25], [10], [1], [3], [27], [10, 11], [6], [0], [25], [0], [1, 4], [9], [27], [4, 20, 21], [3, 4], [27], [9], [3], [27], [15], [0, 5], [27], [15], [18], [15], [3, 7], [10], [27], [27], [1], [0], [3, 11], [0, 4], [22], [22], [27], [20], [24, 27], [27], [27], [27], [9, 25], [0], [6], [22], [3, 22], [18], [27], [27], [27], [6], [27], [4], [2], [0, 15], [3], [18], [6], [3], [26], [27], [1], [1, 17], [19], [27], [15], [1], [0, 6], [6, 18], [25], [27], [15], [6, 25], [27], [4, 15], [27], [1], [18], [4, 23], [3], [0], [5, 26], [4, 27], [27], [7], [0, 17], [27], [10], [5, 7], [5], [23], [11], [27], [20], [6, 7], [27], [15], [0, 17], [0, 15], [27], [22], [6, 7], [27], [4, 27], [22], [0, 24, 27], [5], [15], [15, 25], [26], [27], [25, 27], [4], [3], [18], [27], [2], [0, 26], [27], [9, 25], [27], [4, 27], [0], [24], [0], [9], [27], [0], [26], [2, 3], [4], [27], [15], [17], [7], [6], [26], [3], [3, 11], [27], [11], [4], [23], [13], [25], [27], [27], [4], [13], [27], [7], [14], [27], [15], [27], [27], [18], [3], [9, 25], [27], [27], [27], [25], [3, 11], [20], [6, 27], [27], [6], [11, 22], [27], [17], [27], [4], [24], [13], [27], [27], [27], [27], [15], [0], [27], [6, 7], [27], [27], [3], [2], [27], [11], [27], [1], [2], [6, 7], [12], [27], [2], [6, 22], [27], [27], [18], [14], [7], [6, 10], [1], [2], [18], [1], [15], [17], [0], [4], [26], [27], [1], [17], [4], [27], [4], [0, 1], [20, 24, 25], [27], [23], [24], [0], [27], [26], [27], [11], [1], [17], [1], [1, 27], [4], [27], [10], [0], [27], [1], [25], [27], [11], [18], [27], [0], [0], [2, 3, 11], [9], [4, 27], [20], [8], [27], [9], [27], [27], [27], [11], [8, 20], [1], [27], [20, 24], [0], [26], [26], [3], [11], [27], [0], [27], [22], [13], [20], [7], [4], [27], [6, 15], [4, 7], [1, 18], [1], [27], [1], [1, 4], [7], [18], [27], [27], [5], [4], [1], [7, 11], [3, 10], [0, 20], [15], [1], [3, 25], [25], [15], [7], [27], [4], [27], [4], [27], [9, 10], [25], [8, 20], [8], [20], [6], [2], [27], [13, 26], [3], [6], [10], [27], [14], [24, 25], [0, 23], [17], [0], [27], [2], [27], [1], [25], [0, 26], [3], [20], [9], [27], [27], [10], [27], [15], [27], [27], [1], [27], [27], [4], [27], [27], [27], [27], [9], [0], [27], [0, 1], [3], [10], [4], [17], [4, 5], [27], [27], [18], [5, 19], [27], [27], [0, 15], [27], [27], [27], [27], [27], [2], [0], [27], [4], [27], [4], [22], [10], [27], [4], [7], [6, 7], [27], [22], [4, 7], [3], [15], [27], [18], [7, 22], [14], [1, 10], [27], [26], [27], [9], [27], [18], [4], [3], [0, 7], [27], [17], [27], [13], [3], [2, 3], [4, 13, 26], [2, 3], [27], [17], [15, 20], [8], [3], [6], [20, 27], [6, 9], [0], [22], [0, 4], [10], [27], [4], [2], [0], [26], [23], [27], [0, 4, 9], [9], [4], [27], [26], [7, 24], [7], [5], [20], [1], [0], [3], [27], [0, 15], [20], [0, 26], [15], [8], [17], [10], [27], [27], [0], [1, 3], [27], [3, 4], [27], [0], [4], [27], [10], [4], [6], [8], [6, 7], [3, 8, 20], [18], [13], [27], [1, 17], [0, 24], [27], [0, 27], [12, 27], [27], [27], [27], [13], [27], [0], [27], [4, 6], [27], [18], [23], [1], [27], [10], [0, 17], [10], [27], [10], [2, 3], [3, 9, 25], [27], [4], [27], [25], [5], [27], [0], [10], [8, 13, 17], [17], [17], [2], [27], [9], [3], [27], [27], [2, 27], [24], [1, 15], [0, 13], [0], [18], [5], [3, 9], [4], [27], [0, 18], [27], [4], [27], [0], [27], [14], [0, 8], [0], [3], [1, 17], [15], [0, 15], [1], [27], [10, 26], [1, 9], [27], [20], [3], [27], [15], [27], [27], [0], [4, 10], [27], [4], [27], [6, 27], [27], [0, 4, 9, 18], [5], [27], [7], [27], [0], [27], [10], [27], [20], [15], [21], [18], [3], [27], [27], [7], [22], [7], [27], [1], [18], [27], [0, 13], [7], [0, 15], [27], [27], [27], [6, 27], [3], [9], [27], [10], [0, 7], [2, 3], [17], [27], [20], [27], [2, 11], [27], [27], [0], [22], [26], [0], [2, 3], [27], [27], [27], [3, 9], [20], [0, 4, 15], [7], [18, 20], [7], [17], [4], [13], [13, 27], [1, 4], [27], [4], [6], [2], [10, 27], [3, 11], [27], [0, 1], [1], [11, 27], [10, 20], [18], [1], [27], [27], [2], [20, 24], [27], [18], [25], [7], [27], [10], [4], [27], [15], [7], [1], [27], [0], [0], [14], [27], [27], [25], [27], [17], [0, 4], [0], [27], [5], [27], [10, 11], [1], [27], [0], [1], [27], [0], [4], [20], [22], [27], [1], [3, 7, 10], [4], [27], [27], [1], [17], [4], [4], [1], [1], [27], [27], [7], [20], [4], [20, 27], [4], [27], [14, 22], [7], [4], [18, 22], [11], [27], [1], [3], [6, 22], [27], [15], [0, 15], [27], [3], [6], [27], [27], [4], [17], [9], [10], [0], [4], [22, 27], [27], [10], [27], [0], [0], [1], [27], [3], [0], [27], [15], [27], [7], [1, 4], [26], [0], [0, 6, 7], [9, 27], [27], [3], [1], [4], [1], [1], [18], [27], [27], [4], [18], [17, 18], [4], [22], [18], [5], [6], [2], [8], [13, 17], [8], [9, 25], [27], [3], [7, 11, 25], [27], [27], [6, 7, 26], [2], [4], [7], [7], [27], [4], [27], [27], [0], [4], [3], [20], [22], [9], [27], [27], [0, 4], [3, 7], [27], [0], [10], [0], [18], [14], [5], [0], [0], [15, 17], [25], [0], [7], [15], [15], [7], [15], [0], [27], [3, 24], [11], [10], [27], [27], [15], [6], [27], [12], [27], [18], [4], [0], [0], [7], [26], [12], [9], [8], [0], [0], [27], [0, 20], [24], [18], [10], [15], [27], [1], [3], [3], [27], [4, 13], [0, 4], [27], [9], [8, 18], [20], [27], [27], [3, 10], [0, 17], [2, 10], [3, 27], [27], [27], [8, 27], [27], [27], [27], [8], [27], [3], [27], [0, 26], [4, 17], [0, 18], [17], [6], [2], [6], [7, 8], [0], [18], [27], [1, 25], [0], [27], [27], [27], [27], [5], [27], [0, 27], [11, 20], [10], [22, 27], [24], [4, 20], [15], [27], [27], [4], [9], [17], [10], [27], [1], [11], [27], [18], [3], [1], [7], [2], [27], [27], [10], [6], [5], [1], [27], [3], [27], [2], [27], [27], [4, 27], [7], [27], [5], [26], [0], [17, 27], [27], [1], [4, 15], [2, 15], [20], [4], [0], [27], [7, 10], [25], [10], [10], [10], [0], [18], [27], [27], [2], [27], [27], [15], [7], [27], [27], [14], [17], [27], [27], [5], [4, 20], [12], [27], [3], [27], [0], [3], [26], [0, 4], [3], [10, 27], [0], [27], [18], [0], [14], [25, 27], [0], [0], [4], [18], [4], [20], [25], [18], [7], [3], [27], [15], [4], [27], [4], [22], [10], [18], [4, 7], [25], [2], [7, 9], [1], [27], [27], [0], [0, 15], [9, 25], [0], [7], [13, 27], [27], [3], [2], [0, 4], [15], [27], [15], [27], [15], [6, 7], [1], [15], [3], [25], [27], [27], [27], [4, 6], [27], [3], [27], [27], [27], [4, 22], [27], [3], [3], [6], [27], [1, 2, 3], [15], [4], [27], [3], [27], [1], [27], [1], [10], [27], [18, 26], [26], [27], [0], [27], [3], [0], [10], [27], [6], [27], [4, 27], [3], [15], [10], [25], [3, 7], [4, 20], [15, 17], [0], [17], [0], [2], [27], [25], [24], [10, 15], [10], [0, 4], [27], [27], [11], [20], [27], [0, 4, 7, 26], [27], [0, 1], [3], [3], [10], [14], [27], [27], [27], [15], [15, 18], [27], [10], [13], [22], [0, 18], [3], [1, 5], [27], [15], [0, 1], [17], [8], [27], [15], [15], [15], [27], [27], [27], [27], [22], [8], [18], [22], [22], [0], [27], [10], [4, 18], [27], [18], [10], [27], [15], [11, 25], [18], [5, 18], [27], [27], [10], [25], [27], [6], [6], [27], [3], [3], [0, 4], [15], [13], [6], [27], [2], [0], [3], [27], [27], [7], [20], [27], [27], [10], [27], [1], [27], [27], [2], [13], [1, 20], [22], [17], [15], [1, 15], [27], [15], [14, 19], [0, 4], [4], [17, 23], [9], [27], [27], [23], [11], [27], [27], [9], [7], [6], [1], [27], [27], [10], [2], [27], [0, 4], [1], [0], [27], [27], [27], [27], [27], [15], [0, 4], [27], [3], [10], [1], [12], [20], [3], [27], [15], [27], [4, 27], [15], [22], [1], [27], [1], [27], [5], [20], [15], [27], [27], [18], [27], [15], [9], [15], [18, 20], [6, 7], [27], [27], [0, 20], [27], [15], [27], [27], [15], [27], [7, 22], [14], [3], [10], [27], [26], [27], [20], [5, 20, 25], [27], [5, 18], [7, 26], [6, 7], [12, 14, 27], [6], [27], [27], [27], [27], [2], [25], [15, 22], [1], [7, 12], [6], [2], [0], [3], [1], [27], [0], [2], [1, 15], [6], [10], [17], [10], [25], [22], [15, 18], [7], [0], [13, 15], [27], [20], [27], [27], [27], [4], [27], [4], [27], [0], [4], [1], [25], [2, 3], [18], [27], [0], [7], [27], [27], [27], [9], [17], [27], [0], [4], [14], [4], [6], [27], [2], [15], [27], [9, 22], [0], [27], [1], [6, 15], [1], [18], [0], [27], [18], [6], [15], [26], [15], [27], [3], [9], [27], [22, 27], [27], [27], [27], [26], [18], [15], [27], [20], [5], [8], [1], [27], [27], [14], [4], [17], [6], [4], [27], [6], [20, 25], [3, 27], [27], [19], [27], [4], [0, 3], [17], [25], [15], [0, 17], [5], [27], [27], [0, 15], [27], [3], [17], [27], [0], [6], [11], [10], [2], [4], [27], [0, 15], [0, 20], [22], [27], [1], [8], [0], [27], [20, 25], [3], [4, 15], [10], [15, 18], [6], [1], [20], [0, 20], [9, 10], [10, 25], [1], [27], [5], [27], [15], [27], [27], [27], [15], [27], [9], [27], [17], [0, 15], [27], [8], [27], [10], [27], [0], [15], [26], [7], [27], [2], [10], [27], [27], [10], [17], [18], [27], [3], [27], [7], [10], [1], [27], [27], [27], [24], [25], [20], [27], [0], [1], [7, 27], [14], [7], [6], [3], [10], [2, 27], [26], [22], [27], [10], [4], [9], [27], [25], [0, 2], [15], [7], [22], [7, 20], [2], [4], [27], [0, 7], [2, 3], [24], [1, 22], [17], [19], [27], [13], [4], [27], [27], [27], [7], [25], [2, 27], [25], [0, 8], [27], [10], [4], [22], [2, 3], [27], [0], [6], [18], [27], [27], [18], [27], [27], [13, 17], [25], [27], [2, 10], [27], [27], [1], [27], [0], [3, 20], [27], [11, 18], [27], [0], [2], [11], [27], [27], [27], [27], [27], [25], [18], [7], [27], [27], [4, 27], [27], [4], [27], [27], [14], [27], [7], [4], [27], [15], [0], [0], [4], [0], [20], [4, 27], [14], [26], [27], [27], [27], [27], [15, 22], [20], [22], [0], [12], [27], [4], [4], [27], [18], [27], [27], [27], [8, 25], [6], [4], [1], [15], [3], [15], [18], [20], [15], [2], [11], [4], [27], [1], [22], [0, 20], [1, 3], [1, 7], [27], [27], [27], [20], [27], [8], [2], [12], [7, 9, 25], [18], [6], [3, 27], [27], [27], [7], [4], [27], [20], [17], [4], [27], [6, 27], [15], [27], [27], [27], [2, 3, 10], [18], [0], [27], [20], [0], [1], [27], [27], [27], [25], [27], [2, 3], [22], [17], [9, 25], [27], [12], [22], [27], [5, 15, 23], [4], [5], [26], [5, 9, 20], [10], [4], [22], [27], [27], [27], [17], [11], [10], [0], [20, 21], [27], [2], [6], [9], [27], [0], [27], [27], [27], [8], [1], [27], [3], [27], [24], [4], [0], [3], [27], [27], [7], [15], [17], [3], [1], [27], [6], [13], [10], [3], [4], [27], [14], [7, 22], [22], [4], [27], [10], [10], [1], [5], [27], [1, 25], [27], [27], [7], [0], [4], [9], [12], [15], [27], [11], [4], [27], [4], [14, 19], [19], [17], [5], [18], [17], [27], [17], [27], [6, 22], [13], [27], [8, 9], [27], [27], [18], [27], [0, 17], [0], [11, 15], [22, 26], [4, 10], [8], [26], [1], [7], [2, 3], [27], [27], [22, 27], [0], [27], [4, 18], [15], [17, 20], [7], [6], [27], [11], [27], [0, 15], [17], [0], [20], [1], [20], [4], [26], [0], [27], [27], [3, 27], [4], [27], [3], [3], [27], [27], [27], [27], [10], [18, 20], [27], [12], [1], [20], [17, 18], [10], [17, 27], [13, 15, 17], [5], [26], [9], [0], [5], [7], [0], [24], [0, 4], [0, 4], [5], [27], [0, 8], [3], [27], [6], [2], [0, 15], [0], [1], [4], [27], [0], [3], [3, 27], [15], [9], [25], [15], [27], [1], [2], [3, 9], [27], [7], [27], [0], [6], [27], [27], [27], [22], [0], [27], [18], [27], [15], [4], [1], [4], [3], [5], [27], [5, 20, 25], [27], [6, 7, 27], [7], [6], [27], [0], [0, 4], [4], [1], [15], [27], [6], [27], [4], [27], [4], [3, 11], [0], [3, 9], [27], [27], [3], [1, 17], [1], [22], [9, 25], [10], [27], [27], [27], [4, 5], [22], [18], [15], [7, 27], [22], [0], [20], [27], [27], [15], [0, 27], [0], [18], [18], [4], [27], [0, 21], [27], [20], [4, 15], [5], [9], [24], [13], [1, 15, 17], [0, 4], [1], [7], [0], [3, 10, 11], [18], [7], [24, 27], [3], [0, 18], [25], [27], [7, 19], [27], [1], [1], [24], [27], [3], [27], [27], [6], [20], [20], [27], [8], [27], [27], [6, 12, 25], [3], [27], [27], [9], [17], [27], [15], [27], [2], [15], [26], [27], [12, 27], [26], [17], [18], [9], [8, 18], [27], [4], [7], [6], [27], [8], [20, 27], [9], [0], [27], [15], [4, 22], [27], [24], [20], [3], [0], [0], [27], [26], [27], [4, 5], [0], [7], [20], [15], [27], [7], [3], [0], [5], [3], [0, 17], [4], [27], [13, 17], [3, 27], [14], [27], [4, 8, 20], [5], [27], [7], [27], [4], [27], [27], [27], [5], [22], [27], [27], [6, 11], [5, 27], [18], [27], [12], [27], [11], [27], [15], [1], [7], [10, 22], [27], [20], [27], [27], [25, 27], [27], [27], [15], [1], [1, 18], [27], [11], [18], [10], [4, 27], [4], [5, 15], [4], [27], [10], [26], [15], [20], [24], [18], [11], [1], [27], [4], [0], [4, 5], [6], [10], [18], [0], [20], [3, 27], [10], [27], [27], [27], [4], [0], [2, 18], [9], [18], [4], [14], [15, 25], [27], [1], [26], [3, 6], [24], [3], [24], [18], [7], [1], [27], [27], [3], [3, 10], [0], [27], [17], [3], [20], [18], [27], [12, 26], [3], [11], [27], [27], [7], [27], [18], [4], [4, 18], [27], [3, 22], [6, 27], [15], [3], [27], [5, 23], [1, 4], [27], [20], [27], [17], [26], [27], [7, 9], [0], [0], [3], [27], [27], [1], [3], [27], [27], [3, 27], [1, 3], [22], [3], [1, 2], [5], [6, 22], [1, 15, 17], [27], [3], [27], [15], [27], [18], [0], [27], [15], [4, 27], [7], [1], [3], [27], [8, 27], [0], [14], [13, 26], [17], [27], [14], [0], [27], [27], [15], [27], [2], [27], [20], [26], [0], [27], [17], [5], [26], [27], [15], [1, 17], [18], [2], [0], [3, 7], [27], [15], [20], [4], [2], [25], [27], [27], [27], [4], [27], [27], [27], [27], [10], [6, 22], [10, 11], [27], [27], [1], [0, 8], [27], [15], [10], [27], [18], [22], [0, 15, 18], [7], [0], [9], [27], [27], [15], [22], [0], [27], [8], [25], [25, 27], [2, 3], [0], [4], [4], [27], [27], [0, 27], [4], [5, 9, 25], [20], [17, 18], [18], [18], [27], [0, 15], [15], [21], [4, 18], [4], [3], [7, 27], [11], [0, 4], [18, 22], [0], [27], [27], [17, 26], [5, 27], [27], [5], [18], [17], [27], [25], [12], [27], [17], [26, 27], [15], [0, 27], [27], [3, 9], [27], [18], [15], [1], [1, 7], [25], [8], [27], [27], [8], [3], [17], [9, 25], [1], [27], [27], [27], [5], [26], [10, 25], [26], [17], [14], [27], [7], [27], [2], [27], [27], [27], [1], [20], [11], [27], [0, 18], [10], [27], [27], [7], [4], [7], [6], [5], [14], [3], [27], [2], [27], [3], [27], [4], [25], [25], [0, 1, 17], [2], [27], [15], [3], [6, 7, 9], [4], [17, 25], [1, 17], [13], [27], [0], [2], [7, 12], [4, 7], [0], [12], [1], [0], [3], [25], [1], [11], [12], [6, 27], [17], [27], [6], [27], [4], [22], [0], [8], [9, 25], [7], [1], [27], [27], [4], [20, 27], [4], [2], [27], [4], [27], [27], [3, 9], [4], [27], [27], [27], [20, 22], [27], [10], [27], [27], [4, 14], [0], [12], [27], [25], [16, 25], [27], [27], [27], [2], [27], [0, 18], [27], [27], [15], [9], [0], [1], [2], [27], [3, 9], [27], [9, 25], [27], [12], [15], [18], [24], [0, 14], [6, 7], [27], [23], [20, 24], [0, 5], [27], [7], [27], [27], [27], [2], [0], [27], [17], [10], [0], [18], [0], [11, 22], [27], [7], [7], [27], [5], [26], [27], [22], [9, 25], [27], [22], [13], [15], [27], [0], [27], [8], [15], [6], [27], [13, 18], [27], [2], [14], [26], [2], [0], [15], [27], [22], [24], [0], [27], [0, 18], [27], [27], [10], [27], [27], [2], [27], [27], [17], [27], [18], [4], [0], [20], [2], [10], [27], [10], [22], [13, 18], [26], [15, 20], [27], [27], [7, 22], [27], [2], [17], [27], [17], [27], [24], [27], [4], [27], [0], [6], [27], [4], [4, 15], [27], [0], [18], [4], [27], [18], [9, 27], [4], [0, 17], [15], [27], [27], [26], [7], [27], [3], [15], [13], [26], [22], [27], [27], [9], [13], [17, 18], [15, 24], [7], [9], [1], [0, 4], [27], [1], [15], [1], [7], [27], [27], [0, 13, 18], [27], [2], [27], [15], [7], [9], [0], [27], [4], [15], [1, 18], [9, 10], [0, 7], [27], [15], [10], [27], [10], [2, 3], [27], [27], [15], [27], [27], [18], [2], [6], [4], [3, 18], [2, 10, 25], [27], [0, 15], [4], [27], [18, 20], [4], [26], [13], [6], [20], [27], [14, 19], [0], [4], [18, 27], [15], [27], [27], [27], [18], [27], [14], [27], [0], [26], [27], [11], [27], [6, 10], [27], [27], [27], [27], [0, 26], [27], [27], [27], [20], [5, 25, 27], [7], [27], [27], [1], [20], [20], [20], [27], [27], [27], [27], [3, 12], [27], [24], [13, 26], [27], [9], [27], [27], [4, 20], [24], [4, 9], [27], [22], [27], [27], [3], [5], [15], [27], [4], [27], [27], [27], [0], [0, 17], [1], [15], [13], [23], [3], [27], [15], [27], [27], [8, 10], [27], [17], [27], [27], [1, 15, 18], [1], [3], [14], [27], [0], [24], [27], [27], [27], [27], [27], [27], [5], [3, 25], [6, 7], [8], [26], [22], [27], [27], [18], [22], [24], [27], [27], [14], [15], [0, 15], [13, 17], [18], [4, 11], [0], [10], [27], [9, 25], [13], [3], [20], [6], [15, 22], [27], [27], [25], [27], [27], [25], [8], [13, 26], [1], [4, 22], [24, 25], [22], [0], [3], [4], [27], [27], [2, 3], [27], [7], [1], [22], [3], [7], [2, 27], [13], [27], [20], [7], [18], [27], [0, 4], [4, 5], [5], [4], [15], [0], [15], [7], [13, 20], [18], [1], [18], [27], [18], [25], [15], [3, 27], [15, 21], [18], [27], [20], [1], [27], [3], [0, 15], [0, 4, 20], [27], [27], [18], [6], [0], [9, 10], [20, 22], [18], [20], [3], [15], [3], [11], [26], [0], [7, 27], [27], [27], [7], [3], [14], [27], [27], [18], [4, 22], [15], [4, 15], [20, 22], [8, 27], [27], [3], [22], [17], [27], [15], [27], [13, 17], [24], [10], [27], [7], [15], [27], [4], [3], [7], [27], [0], [27], [7, 27], [0], [27], [14], [4], [10], [18], [10], [7, 27], [18, 25], [0, 20], [0], [7], [1], [15], [3], [27], [0, 15], [27], [0], [13], [7], [6], [27], [17], [10], [6], [5], [3], [22], [11], [0, 4], [7], [4], [2], [7], [2], [27], [0], [6, 22], [10], [27], [27], [1], [4], [1, 4], [18], [15], [8], [7], [11], [6, 7], [4], [25], [13, 27], [18], [27], [1, 26], [1], [2, 14], [2], [1], [7, 13], [20], [4], [27], [26], [25], [27], [27], [3], [4], [19], [2], [27], [27], [16], [27], [5, 10], [27], [27], [7], [10], [27], [4], [18, 20], [27], [1], [18], [12], [27], [27], [18], [4], [4], [27], [10, 27], [27], [11], [27], [27], [5, 8, 20], [0], [0], [27], [27], [1], [19, 25], [27], [7], [9], [3], [27], [1], [27], [1], [8], [19], [3, 11], [5], [10], [6, 27], [27], [27], [25], [25], [27], [0], [0], [3], [8], [27], [27], [20, 24], [27], [7], [27], [4, 20], [8, 20], [10, 11], [27], [27], [27], [6], [3, 5], [4], [27], [27], [27], [25], [0], [4], [27], [1], [6], [1], [27], [4], [27], [25], [27], [27], [0, 22], [17], [27], [0], [20], [6, 15], [27], [18], [27], [3], [27], [25], [27], [4], [23], [10], [17, 18], [13], [13, 15], [27], [27], [27], [0], [11], [6], [1], [0, 10], [15], [22], [20, 27], [17, 27], [27], [27], [27], [27], [27], [27], [27], [1], [27], [4], [0], [26], [27], [27], [27], [27], [4], [27], [4], [1], [5], [27], [27], [27], [9], [27], [0], [26], [1, 17], [1], [0], [13], [27], [0, 18], [9], [27], [4, 15], [2, 9], [27], [5], [10], [0], [8], [3], [27], [4], [10], [6, 27], [15], [7], [27], [27], [27], [0], [27], [6], [12], [17], [0], [26], [25], [3], [18], [27], [26], [3], [20], [1], [27], [6, 10], [4, 20], [27], [27], [10], [10], [27], [27], [6], [27], [3, 15], [0], [27], [0], [1], [10], [5], [3, 21], [15], [2], [7], [18, 20], [7, 13], [17], [27], [27], [3], [10], [20, 22], [7], [5, 20], [27], [15], [27], [27], [17], [15], [8, 27], [6], [4], [27], [10], [27], [12], [27], [20], [15], [3], [2], [27], [27], [4], [7], [27], [1, 22], [0, 4, 5], [3], [20], [27], [27], [27], [10], [27], [27], [27], [1], [4], [1], [9], [5, 20], [27], [27], [27], [27], [4], [9], [15], [27], [9], [7], [1], [7, 26], [3], [4], [0, 3], [10], [4], [5, 17], [0, 18], [2], [27], [5], [26], [0, 20], [24], [27], [15], [1], [0, 1], [13, 20], [4, 5], [7], [27], [22], [27], [2], [10, 27], [27], [26], [27], [0, 15], [1], [26], [0], [19], [4, 22], [5], [27], [27], [0], [1], [27], [0], [1], [18], [1], [13], [9, 10], [18], [20], [17], [7, 13], [8], [26], [15], [27], [27], [27], [3], [15, 17], [27], [27], [9, 25], [27], [13], [1], [15], [27], [10], [27], [27], [3, 4, 7], [27], [27], [25], [18], [27], [27], [27], [8], [25, 27], [18], [26], [27], [13], [9], [27], [18], [6], [15], [10], [13, 23], [27], [26], [13], [22], [25], [26], [5, 25], [15], [27], [27], [7], [2, 3], [2, 15], [27], [5, 10], [15], [27], [13, 26], [27], [27], [15], [6], [0], [27], [15], [27], [27], [1, 7], [0], [0, 17], [7], [3], [27], [2], [25], [3, 23], [27], [4, 5], [15], [9], [5, 18, 27], [7], [2], [9], [2], [4], [27], [9], [15, 18], [13], [2], [20], [4], [2, 27], [1], [15], [27], [0], [27], [7, 26], [14], [2], [27], [2], [0], [27], [15], [4], [5], [0, 15], [26], [3], [15], [2, 24], [8], [26], [0], [0], [14], [27], [27], [0], [5], [27], [17, 21], [26], [20], [11], [27], [3], [3], [1], [2], [27], [13], [18], [4, 27], [2], [0], [7], [2], [20, 22], [15], [27], [15], [0], [7, 18], [0, 4], [27], [4], [27], [25], [3], [24], [3, 9], [15], [27], [27], [27], [3, 27], [27], [0], [27], [27], [4], [27], [27], [5, 7], [27], [27], [27], [10], [27], [27], [27], [15], [1, 15], [27], [7], [27], [27], [18], [23], [0], [27], [27], [5], [27], [0], [5], [0, 5], [0], [27], [15], [0, 26], [22, 27], [26], [27], [27], [27], [14], [27], [4], [13, 18], [0], [0], [20], [6], [17], [27], [27], [2, 25], [27], [4, 22], [15], [3, 25], [10], [0, 17], [7], [27], [7, 27], [1], [4], [5, 20], [27], [7], [15], [27], [6], [0], [0], [5, 20], [27], [8, 17, 18], [3], [7], [27], [27], [0], [1, 22], [27], [22], [17], [27], [1], [27], [27], [1, 3], [26], [25], [27], [17], [27], [3], [1], [10], [17], [4, 18, 27], [0], [0, 11, 12], [26], [6], [1], [24], [18], [27], [27], [20], [10], [27], [27], [6], [27], [4, 20, 22], [20], [15], [1, 15], [24], [27], [27], [6, 19], [2], [0], [3, 27], [1], [7], [3], [27], [7], [18], [22], [2], [27], [27], [27], [27], [4, 27], [7, 22], [15, 17], [6], [27], [15], [0], [27], [3], [0], [15], [27], [27], [5, 10], [10], [12], [5], [3], [27], [1], [27], [14], [0], [7], [5], [14], [7], [4, 18], [27], [27], [10], [27], [1], [3], [27], [27], [0, 15], [10], [15], [27], [10], [22], [15], [27], [2, 3], [0, 4], [20], [8], [27], [27], [10], [27], [27], [27], [17], [11], [27], [7], [27], [27], [7, 22], [1], [27], [27], [1], [27], [7], [15], [17], [9, 27], [15], [15], [15], [5], [15], [10], [0], [25], [27], [26], [10], [27], [0, 20], [27], [20], [4, 26], [0], [3], [1], [17], [7], [15, 20], [4], [10], [0, 20], [6], [18, 27], [9, 24], [27], [27], [22], [9], [26], [18], [0], [13], [18], [9, 27], [15], [0, 8], [9], [11], [2], [27], [27], [10], [27], [27], [9], [4, 5], [26], [5], [1, 4], [2, 11], [3], [4, 22], [10], [25], [3], [0], [22], [27], [0, 15], [1], [27], [4, 27], [3], [10], [15], [0], [0], [10], [18], [4, 5], [20], [3], [7], [6], [6], [27], [27], [17], [0], [21], [27], [27], [15], [0], [10], [14, 26], [7], [17], [27], [15], [15], [10], [27], [1], [0, 7], [12], [15], [27], [6], [14], [7], [26], [27], [27], [0, 15], [7], [4, 22], [10], [27], [2], [27], [22, 27], [27], [14], [27], [1, 3], [27], [14], [27], [1], [13], [27], [27], [0, 15], [8, 27], [15], [17, 18], [27], [27], [22], [13, 17], [1, 7], [27], [4], [0, 20], [27], [14], [12], [1], [10, 27], [27], [22], [7], [15], [6], [27], [27], [1, 10, 27], [6], [5, 9], [10], [1], [10, 22], [11], [13], [2], [27], [4], [1], [26], [2], [6], [5, 8, 20], [27], [27], [9], [1], [0, 4], [15], [15], [1], [27], [6], [27], [18], [13], [27], [0], [27], [27], [0], [22], [1], [10], [17], [1], [27], [10], [27], [10], [27], [27], [20], [27], [27], [4], [14, 27], [22], [6, 9], [1, 17], [27], [0], [0], [27], [13], [6], [27], [27], [4], [0], [25, 27], [3], [25], [10], [27], [3], [20], [4], [27], [26], [3, 6], [27], [25], [0], [27], [27], [18], [15], [27], [3], [27], [27], [6, 7], [10], [3, 4], [27], [18], [27], [10, 27], [4], [6], [27], [18], [3, 10], [2, 3], [27], [7], [8], [0], [3], [2, 3], [27], [0, 18], [4], [8], [27], [27], [27], [3, 9, 11], [27], [7], [1], [27], [15], [27], [27], [27], [10], [17], [8, 27], [27], [14], [2], [7], [8], [7, 27], [15, 20], [27], [27], [0, 27], [26], [1], [15, 17], [26], [20], [14], [2], [1], [6], [9], [11], [0], [0], [13], [27], [1], [15], [22], [0], [20], [4], [0, 4], [5], [2], [3], [3, 20], [0], [0], [15], [18], [0], [27], [4, 22], [6], [26], [27], [13], [14], [27], [7], [4, 22], [1], [4, 26], [26], [10, 11], [0, 27], [0], [20], [27], [2], [27], [27], [27], [27], [27], [27], [13, 15], [1], [27], [0, 20], [2], [0], [27], [27], [3], [27], [27], [27], [10], [27], [15], [20], [27], [27], [27], [27], [0], [5], [10, 25], [17], [18, 22], [18], [13, 17], [27], [10], [0], [10], [26], [6, 27], [11, 27], [27], [27], [20], [27], [27], [7, 8], [7], [27], [0, 1], [22], [2], [27], [10], [0], [0], [27], [26], [22], [22], [19, 27], [20], [27], [4], [0, 25], [6], [18], [15], [27], [27], [5], [5], [6, 7, 10], [27], [4], [17], [19], [27], [5], [27], [27], [27], [3], [4], [8, 25], [27], [10], [27], [4], [27], [0, 17, 18], [1], [6], [4], [27], [17], [3, 9, 22], [0, 15], [7], [9], [3, 11], [26], [27], [27], [27], [12], [1, 3], [21], [0, 17], [17], [25], [9], [14], [27], [27], [10], [0], [27], [27], [10], [4], [27], [1], [5, 24], [4], [20], [0], [1], [15], [10], [11], [15], [0, 21], [10], [15], [10], [3], [20], [4, 18], [14], [27], [25], [10], [27], [23], [6], [0], [15, 18], [27], [27], [27], [27], [3], [22], [27], [7], [15], [2], [15], [27], [9], [13], [0, 26], [10], [0], [27], [24], [26], [13], [15], [27], [27], [27], [27], [4], [3], [20], [7], [10], [27], [3, 10, 12], [15], [27], [27], [27], [0], [3], [27], [4], [10], [15], [2, 3], [3, 9], [27], [0, 20], [27], [27], [27], [17], [20], [0], [20], [3], [27], [27], [14], [27], [7], [27], [27], [10, 27], [7], [27], [27], [7], [10], [27], [8, 18], [5], [6, 25], [0], [27], [13], [0], [4, 5, 17], [17, 18], [27], [0], [8], [0, 1], [27], [0], [27], [4, 17, 27], [7], [15, 24], [27], [15], [12], [2], [5], [18], [27], [7, 26], [27], [27], [2, 27], [3], [9, 27], [13], [27], [3, 11], [3], [1], [27], [6], [7], [27], [10, 27], [27], [22, 27], [27], [27], [27], [0], [0], [5], [13, 17], [9], [27], [27], [14, 20], [5, 20], [6], [18], [19], [27], [4], [0], [11], [15], [25], [9], [0], [3], [0], [0, 13], [11], [27], [7], [27], [18], [26], [15], [0], [27], [27], [9, 10, 24, 25], [10], [0], [1, 6], [27], [27], [27], [7, 20], [18], [8], [15, 20], [27], [15], [26], [25], [18], [27], [0, 18], [27], [20], [3], [27], [0, 18], [27], [15], [27], [27], [9], [11], [27], [14], [10], [10], [27], [27], [18], [10], [12, 24], [22], [4], [13, 27], [27], [4], [4, 26], [18, 27], [27], [27], [26], [2, 3], [18], [7], [0], [4], [0, 24], [24], [8], [27], [3, 11], [1], [27], [27], [10], [10], [3], [22], [27], [1, 25], [8], [10], [2, 11], [4, 27], [27], [27], [7, 20], [4], [4], [4, 18], [27], [3], [9], [0], [27], [2, 6], [2], [27], [27], [25], [23], [10], [2, 10], [4], [27], [27], [4], [9], [15], [0, 15], [27], [4], [27], [11], [4, 18], [22], [27], [15], [18], [27], [2], [27], [18], [10], [27], [0], [3], [3], [12], [27], [10, 20], [24], [10], [24], [27], [25], [3], [15], [18], [4, 27], [1, 22], [10], [10], [27], [25], [27], [4], [15], [6], [3], [25], [1], [15], [27], [7], [9, 25], [15], [7], [3, 9, 10], [27], [18], [27], [14], [27], [27], [27], [7], [0], [0], [27], [4, 18], [2, 10, 15], [8], [9], [2], [27], [14], [27], [27], [27], [2], [27], [27], [27], [27], [27], [0], [9, 25], [10], [0], [11], [15, 20], [7, 15], [5, 20], [9], [3], [27], [25], [21], [25], [27], [26], [27], [10], [15], [15], [13], [26], [27], [7], [27], [2, 27], [0], [3], [27], [20], [10], [5], [27], [20], [20, 26], [20], [18], [27], [10], [27], [7], [26], [27], [18, 19], [0], [0], [27], [17], [27], [9], [27], [1], [27], [10], [25], [1, 7, 20], [25], [1, 15], [3], [0], [10], [15], [7], [5], [27], [0, 4, 17, 22], [7], [0], [27], [27], [8], [27], [15], [27], [27], [10], [0, 20], [27], [20], [25], [4], [4], [7], [15, 18, 20], [5, 20], [15], [6], [27], [3, 6, 10], [9], [27], [4], [1], [14], [27], [9], [1, 3], [18], [10, 23], [1], [27], [27], [27], [22, 27], [7], [27], [13], [10], [0, 3, 15], [27], [27], [1, 18], [9], [1, 12], [6], [1], [27], [27], [4], [15], [15], [0], [27], [5], [4], [10], [27], [13], [27], [19], [9], [13], [27], [18], [0], [14], [22], [27], [0, 13], [27], [2, 27], [2], [0], [20], [7, 12], [18], [27], [5], [4, 27], [6, 22], [14], [0], [10, 14], [3], [0], [4, 8, 27], [14, 17], [1], [3], [27], [27], [18], [27], [0], [3], [27], [25], [27], [25], [3, 26], [27], [27], [5, 8, 20], [5, 24, 25], [0], [7], [27], [2, 9], [27], [7], [6, 7], [3], [5], [18], [0], [9, 22], [7], [27], [8], [22], [1], [5], [7], [17], [27], [27], [10, 27], [27], [27], [12], [10], [27], [15, 17], [4], [8], [7, 15, 20], [10], [8], [27], [27], [14, 27], [3], [27], [27], [4, 5], [1], [27], [27], [17], [27], [16, 25], [1, 15], [5, 13, 18, 20], [3, 27], [5, 25], [6], [22], [2], [27], [27], [27], [27], [0], [10], [5], [15], [0, 18], [1], [18], [9], [5], [0], [27], [27], [0], [13], [12], [27], [14], [7], [5, 27], [3], [0], [6], [7], [22], [7], [27], [2], [20], [0], [1, 27], [14], [26], [0], [10], [27], [27], [15], [10], [27], [4, 27], [4, 27], [17, 27], [0], [3, 7], [0], [27], [27], [6, 7], [4], [27], [0], [0], [3], [7, 26], [14, 19], [5, 27], [3, 9], [26], [9, 25], [0], [13, 22], [1], [1], [1], [15], [8], [27], [27], [27], [0, 3], [0], [27], [17, 27], [4, 27], [0], [7], [10], [27], [20], [20], [0], [3, 11], [6, 7], [27], [27], [17], [17], [27], [15], [27], [27], [19], [4], [3], [1], [24], [24], [27], [0], [2, 3], [7], [4], [2], [9], [17], [27], [23], [22], [27], [27], [27], [9], [21], [1], [0, 18], [0], [9], [15], [4], [27], [4, 27], [27], [15], [6, 7], [27], [10], [0], [9, 25], [27], [27], [27], [0, 15], [12], [6], [27], [1], [27], [4], [27], [27], [15], [27], [3, 10], [3, 11], [1], [27], [27], [18], [25], [14], [1], [27], [9], [4, 8], [27], [27], [27], [15], [27], [10], [4], [5], [10], [27], [27], [1, 22], [27], [3, 20], [2], [11], [27], [15], [27], [27], [15], [0], [14], [27], [27], [18], [27], [27], [15], [17], [0, 20], [0], [4], [0], [5, 8], [14], [27], [5], [2], [27], [6, 7], [27], [27], [27], [18], [27], [4], [10, 27], [27], [22, 26], [18], [18], [7], [25], [3], [11], [7], [18], [27], [0, 27], [4], [22], [20], [17], [17], [1, 27], [27], [4], [6], [27], [15], [0, 14], [0], [27], [27], [27], [13], [27], [0], [15], [27], [22, 26], [3], [25], [5], [4, 19], [3, 4], [27], [27], [5, 27], [27], [4], [7, 9, 24, 25], [4], [8], [6, 27], [18], [15, 22], [0], [0, 15], [27], [26], [11], [25], [22], [9, 10], [27], [18], [0, 15], [25], [4], [1], [15], [27], [22], [10], [0], [18], [27], [17], [4, 27], [0], [3, 10], [1], [1], [10], [4], [27], [18], [4], [27], [25], [2, 11], [5], [27], [7], [15], [7], [27], [25, 27], [4], [0, 7], [0], [0, 15, 18], [20], [27], [20], [0], [25], [14], [27], [27], [27], [15], [27], [5, 27], [27], [27], [17], [0, 4], [0], [27], [3], [27], [15], [27], [6, 7], [0, 1], [15], [24], [27], [4], [3], [2], [27], [18], [15], [27], [27], [27], [0], [1], [27], [27], [26], [27], [1], [10], [27], [12], [6, 27], [27], [27], [27], [27], [25], [26, 27], [3], [27], [27], [6], [27], [27], [27], [4], [10, 27], [10], [26], [27], [20], [27], [7], [7, 10, 25], [0], [1], [6], [18], [0], [0, 18, 22], [27], [0], [0], [18], [0], [27], [27], [27], [10], [1], [15, 20], [0], [18], [27], [0], [10, 27], [27], [0], [0], [26], [27], [7], [14], [27], [22], [27], [3], [4], [8, 20], [18], [0, 22], [27], [27], [10], [0], [0, 4], [27], [20, 22], [15], [1], [0, 6], [27], [6], [27], [27], [15], [26, 27], [1], [26], [0], [27], [27], [27], [27], [1, 10], [4], [27], [3], [27], [11], [18, 20], [20], [15], [0], [4], [0], [0, 15], [0], [27], [27], [3, 27], [2], [27], [25, 27], [2], [27], [1], [6], [18], [7], [26], [27], [12], [14], [4], [27], [27], [27], [4], [6], [27], [0], [6], [27], [3], [0], [0], [7], [2], [27], [4], [15], [3], [0], [25], [5, 17], [4], [27], [27], [9, 10, 19], [27], [6], [1], [27], [27], [9, 27], [27], [0], [27], [0, 15], [25], [22, 27], [18], [22], [11], [27], [17], [27], [8], [12], [15], [4, 27], [2, 27], [10], [4], [4, 27], [15], [27], [27], [16, 25], [6], [27], [27], [17], [0], [10], [2], [27], [15], [27], [2], [27], [0], [27], [27], [7], [10], [27], [13, 27], [17], [7], [2], [2, 7], [27], [10], [23], [18], [0, 25], [27], [15], [27], [7], [4], [3], [8], [7, 27], [27], [27], [26], [15], [16], [0], [1], [27], [27], [5, 20, 25], [27], [27], [5, 16], [3], [18], [10], [3], [5], [22], [27], [25, 27], [18], [27], [15], [27], [27], [27], [4], [17], [0, 26], [10], [27], [10, 24], [2], [27], [0], [0], [4, 15], [27], [27], [4], [25], [4], [26], [4, 20], [27], [7], [4], [12], [27], [10], [27], [27], [2, 11], [8, 20, 27], [27], [27], [15], [0, 11], [15], [10], [0], [15], [27], [1, 7], [4], [3], [3], [27], [27], [6], [27], [27], [26], [20], [27], [7], [1], [9], [1], [4], [4], [27], [18], [18], [9, 25], [27], [0], [18], [1], [20], [27], [6, 7, 22], [4], [0, 18], [27], [27], [18, 22], [0], [12], [2, 3], [23], [10], [26], [11], [27], [27], [9, 25], [1], [5, 20], [27], [27], [27], [15], [27], [5, 20], [27], [4], [11], [17], [27], [7], [4], [27], [17], [3], [7], [9], [3], [27], [18], [26], [27], [4], [27], [4], [27], [3], [22, 26], [14], [0], [27], [27], [2], [0], [0], [25], [27], [27], [3, 26], [12], [27], [22], [11], [5], [27], [11], [15], [22], [6], [25], [6], [10], [4], [6, 7], [10], [27], [4], [0, 15], [0], [3], [1], [27], [12], [13], [27], [27], [16], [2], [27], [10], [25], [4], [6], [2, 4, 18], [18, 27], [15], [7], [0], [3], [2, 15], [27], [11], [27], [18], [2], [20], [0], [0, 15], [3], [18], [15], [27], [15], [27], [27], [8], [2, 3], [8], [27], [17], [27], [3], [27], [15], [25], [6, 17], [1], [15], [27], [27], [7], [4], [2], [17], [25], [7], [1], [22], [8, 9], [27], [0, 18], [0], [11], [27], [20], [1, 22], [3], [5], [2], [17], [27], [18], [27], [27], [6], [3], [7], [25], [7, 27], [27], [2], [27], [0], [10], [15], [27], [10], [27], [27], [4], [27], [18], [4], [13], [4], [27], [7], [4], [1], [18], [27], [13, 26], [27], [18], [8], [15], [7, 27], [4, 23], [0, 21], [2, 3], [9], [27], [18], [27], [9], [3], [7], [0], [3], [15], [7], [10], [0], [8], [0, 15], [0, 18], [27], [20], [2], [23], [7], [20], [3], [0], [6], [27], [13, 17], [27], [3, 22], [27], [4], [7], [7], [17], [0, 17], [27], [7], [27], [27], [2], [9, 25], [6], [7], [22], [27], [27], [27], [27], [27], [14], [27], [27], [27], [15], [2, 3], [10], [6], [27], [27], [27], [27], [0], [27], [22], [6], [22, 26, 27], [27], [27], [27], [4], [3], [27], [27], [27], [0], [4, 10], [27], [27], [4, 17], [6], [0], [13], [6], [9], [27], [5], [1, 12], [1, 18], [22, 26], [7], [13], [26], [15], [5, 20], [9, 25], [0, 22], [27], [14], [9], [1, 27], [8, 20], [3, 10], [0], [27], [13, 26], [27], [0], [4], [1], [10], [13], [24], [10], [4], [27], [9, 10], [6], [0], [27], [1], [27], [11], [6], [6], [0], [27], [27], [14], [3], [20], [27], [10], [27], [27], [0, 18], [5], [3], [27], [27], [5], [7], [27], [1], [11], [7], [24], [8], [27], [6], [20], [15], [27], [1], [27], [0, 4, 15], [15], [6, 27], [8], [6], [20], [0], [1], [0, 21], [0], [27], [6], [27], [1], [7], [4], [17], [1], [3], [27], [3, 11], [9], [26], [0, 4], [27], [27], [27], [0, 27], [27], [12], [4], [25], [26], [27], [15], [10], [4], [27], [4], [20], [7], [7, 27], [3, 9], [27], [27], [27], [1], [18], [3], [3], [27], [8], [22], [27], [0], [27], [1, 15], [15], [22], [27], [3, 20], [15], [9], [0], [18], [0, 18], [17, 22], [10], [26], [27], [27], [27], [27], [10], [17], [0, 18], [27], [3], [2, 11], [17, 18], [1], [27], [0], [1], [10], [15], [10], [27], [26], [9, 27], [0, 21], [2], [1, 17], [2], [26], [10, 20], [22], [27], [17], [1], [27], [2], [0], [9, 25], [7, 15], [7], [18], [7], [3, 4], [15], [15], [27], [11, 20], [27], [3], [17], [2], [9], [0], [9, 20], [2], [1, 25], [15], [27], [3], [22], [18], [15, 22], [27], [22], [2, 3], [15], [3], [27], [27], [7], [20], [27], [27], [27], [6], [6], [0, 4], [12], [0], [6], [0, 4], [7], [27], [6], [15], [0, 13], [27], [6], [27], [5], [27], [27], [27], [1, 27], [11], [14, 20], [27], [2], [10], [1], [27], [27], [2], [1], [27], [23], [25, 27], [1, 21], [9], [27], [2], [27], [3], [18], [27], [27], [18], [27], [26], [0, 18], [24, 26], [27], [2], [0], [8], [27], [15], [27], [15], [8], [9], [16, 24], [27], [0], [5], [11], [0, 17], [17], [0, 17], [18], [14], [1, 11, 20], [22, 27], [27], [3, 4], [3], [6], [6], [3], [27], [4], [8], [4], [2], [18, 27], [27], [18], [4], [27], [27], [0], [0], [15], [27], [20, 22], [27], [18], [27], [27], [0], [7], [15], [18, 27], [0, 27], [27], [4], [15], [18], [22], [0, 20], [13], [27], [27], [0], [1], [27], [27], [6], [27], [2], [1], [2], [18], [4, 7], [27], [8, 15], [27], [3], [7, 24], [27], [20], [18], [0, 4], [25], [0, 1], [27], [13], [22], [27], [6], [18], [15], [27], [0], [14], [3], [3], [0], [1], [15, 18], [9], [15], [7], [27], [10], [4, 17], [27], [17], [27], [17], [27], [5], [0, 4], [15], [11], [18], [17], [27], [27], [4, 27], [15, 23], [17, 22], [2, 3], [15], [27], [18], [4], [8], [27], [0, 18], [27], [25], [27], [27], [18], [18], [7], [4], [9, 12], [27], [24], [3], [3, 27], [23, 27], [15], [27], [27], [18], [3], [17], [4], [1, 4], [4, 15], [27], [9], [18], [3], [27], [18], [27], [20, 22], [6], [4, 8], [27], [0], [27], [9], [5], [26], [27], [6], [17], [3], [27], [6], [2], [10, 27], [7, 24], [20], [27], [27], [7], [7], [18], [6], [6, 27], [20], [7], [2], [27], [27], [0], [27], [2, 3], [27], [17], [17], [3], [4], [27], [27], [1, 20], [18], [27], [27], [1, 15, 22], [3], [27], [1], [15], [27], [27], [27], [0, 17], [15], [27], [15], [0], [27], [6, 13], [27], [6, 7], [18], [19], [27], [13], [5], [12], [27], [26], [27], [0], [0], [12, 22], [4], [26], [26], [18], [27], [27], [1, 6], [27], [6], [0, 13], [0], [3], [1, 15], [1], [7], [8, 27], [22], [0], [27], [17, 18], [1, 6], [0, 15], [27], [27], [27], [9], [0], [3], [27], [3, 7], [27], [27], [27], [8], [1], [5], [1], [4, 22], [24], [10], [15], [18], [27], [27], [6], [0, 18], [7], [1, 24], [2], [9, 22], [27], [18], [27], [0, 18], [27], [7, 9], [15], [3], [27], [0, 4, 17], [18], [9], [1], [17], [3], [8], [0], [3], [15], [27], [27], [27], [27], [27], [20], [3], [11], [0], [7, 27], [18], [7], [0], [27], [14], [15], [25], [6], [27], [27], [4], [4], [26], [27], [27], [25], [27], [0], [1], [27], [8, 20], [27], [25], [20, 22], [1], [6, 27], [7], [18], [27], [7], [6], [4], [27], [2, 3], [27], [8], [6, 7], [20], [25], [27], [6], [4], [27], [15], [9], [26], [20], [27], [22], [27], [5, 25], [7], [20], [3, 9], [0], [9], [1], [0], [27], [10], [27], [0], [27], [0], [27], [25], [3], [27], [18], [3], [27], [27], [7], [27], [1, 7], [1, 22], [5, 20, 24], [5], [9], [15], [27], [13], [5, 10], [1, 3, 22], [27], [1, 17, 18], [27], [27], [9], [15], [11], [2], [9, 10], [11, 24], [1, 26], [25], [27], [27], [1, 17], [4], [27], [27], [0], [19], [19, 22], [20], [27], [18, 20, 27], [4], [27], [27], [13], [3], [15], [4], [27], [27], [3], [27], [25], [6], [27], [21, 27], [10], [26], [20], [7, 9, 25], [0], [18], [27], [4, 5], [2], [4], [27], [11], [6], [4], [27], [27], [20], [1], [3], [2], [27], [7], [27], [20], [7], [17, 27], [22, 27], [1, 13], [27], [27], [25], [3], [0], [27], [11], [4], [5], [22], [13], [19], [27], [15], [27], [27], [4], [12], [0], [15], [4, 24], [15, 25], [27], [7], [2], [4], [15], [1], [10, 15], [2, 3, 10], [20], [7], [0], [0], [6, 7], [1], [15], [18], [9], [27], [6], [27], [4], [7], [27], [27], [27], [27], [6], [9], [25], [27], [3, 25], [27], [27], [27], [25], [1], [27], [27], [18], [4], [27], [27], [0], [6], [7], [0], [5], [6, 10], [5], [1], [27], [14], [27], [7], [27], [27], [27], [27], [18], [0], [25], [9], [10], [27], [27], [10], [27], [27], [27], [15], [27], [10], [7], [6, 7], [27], [7], [4], [27], [24], [27], [27], [27], [27], [2], [1], [24], [27], [3], [0, 8, 20], [26], [1], [3], [2], [7, 9, 25], [27], [15], [9], [0], [3], [27], [13, 15, 17], [27], [4], [10], [27], [27], [7], [1], [27], [27], [3], [4, 27], [27], [22], [15], [7], [27], [3], [18], [3, 27], [20], [0], [6], [14], [7], [27], [0], [27], [6], [27], [1], [2, 3], [15], [7], [22], [15], [7, 26], [0, 20], [7], [25], [27], [20], [6, 7], [0, 18], [25], [1], [15], [24], [27], [4], [4, 27], [1], [20], [2], [7], [18], [0], [0], [27], [27], [7], [27], [27], [22], [2], [5, 10], [2], [1], [1], [4, 22], [6, 7], [4], [27], [4], [15], [27], [16, 25], [15], [26], [15], [27], [0], [15], [1, 4], [3], [27], [27], [27], [4, 9], [3], [27], [18], [9, 10, 22], [1], [15], [0, 7], [17], [10], [7], [15, 20], [27], [15, 26], [3], [9], [0, 22], [7], [18], [27], [6, 7], [27], [6], [17], [5, 20], [4, 6], [0, 18], [25], [20], [7], [27], [2], [14], [0], [27], [9, 25], [0], [20], [27], [27], [4], [15], [27], [2, 3], [27], [10], [0, 24], [3, 9], [13], [7], [17], [27], [27], [7], [3, 27], [20], [27], [1], [27], [6], [3], [27], [27], [27], [4, 15], [27], [27], [1], [0, 18], [27], [11], [27], [27], [3], [27], [27], [27], [15], [26], [27], [3], [27], [14], [4, 6], [17], [0], [27], [7, 26], [27], [10, 22], [10, 18], [27], [7], [27], [15], [27], [4], [27], [12], [17], [4, 13], [3], [27], [27], [25], [0], [10], [0], [24, 25], [27], [4], [24], [16, 25], [0], [3], [17], [27], [0], [5], [0], [27], [4], [10, 11], [6], [18, 20, 25], [27], [1], [27], [27], [4], [27], [4], [27], [4], [4, 27], [9], [27], [27], [6], [3], [0], [3], [27], [27], [27], [9], [10], [1, 27], [20], [27], [15], [27], [27], [0], [10, 20], [10], [0, 17], [22], [27], [0, 20], [7], [3], [5, 20], [27], [27], [27], [27], [3, 27], [2, 3], [11], [4, 20], [4, 27], [11], [27], [9], [15], [5], [26, 27], [0], [27], [0, 4], [4, 27], [1], [25], [27], [0, 17], [17], [0, 14], [1], [9], [10], [27], [3], [27], [11], [26], [1], [3], [3], [27], [6], [4, 5], [18], [25], [0, 6, 15], [27], [4], [0], [6], [0], [1, 15], [5], [0], [6], [27], [7], [17], [27], [6, 26], [27], [4], [8], [3], [27], [0], [10], [0, 18], [4], [4], [17], [27], [8, 20], [10], [3, 27], [13], [2], [27], [27], [7], [3, 27], [27], [9], [21], [11], [3], [27], [27], [27], [27], [27], [3, 10], [25], [11, 27], [0], [27], [27], [27], [27], [3], [18], [7], [4], [27], [13], [7], [27], [27], [0], [15], [8, 20], [10], [2], [5], [1], [25], [25, 27], [18], [27], [0], [27], [6, 7], [0, 4], [15], [1, 2], [22], [14], [27], [27], [4, 27], [22], [20], [27], [0], [27], [17], [22], [27], [27], [1], [27], [27], [27], [27], [1, 22], [22, 27], [27], [26], [26], [0], [10], [27], [25], [27], [21, 27], [1], [27], [27], [13], [27], [7], [27], [1, 25], [15, 17], [7, 10], [23], [27], [18], [27], [27], [0], [27], [7], [18], [27], [18], [2], [13], [27], [24, 25], [15], [4], [17], [6], [27], [14], [13, 17], [27], [15], [3], [12], [27], [20], [2], [27], [0], [13, 17], [7], [23], [27], [27], [15], [18, 20], [18], [27], [7], [27], [10], [27], [3, 27], [0], [27], [27], [4], [4, 27], [7], [27], [27], [27], [3], [11], [22], [0], [27], [6], [15], [7], [27], [7], [1], [25], [0], [10, 22], [2], [14], [7], [18], [14], [7, 26], [15], [0, 25], [0], [16], [3], [27], [15], [9], [3], [27], [27], [1, 4, 10], [27], [1], [1], [4, 27], [3], [15], [4, 22], [27], [10], [27], [1], [27], [27], [0], [4], [27], [27], [26], [7, 26], [18], [13], [10], [20], [27], [8], [27], [27], [27], [22], [27], [18], [5], [9], [7, 25], [0], [4], [4, 20], [27], [1], [0, 7], [10], [10], [27], [27], [2, 26], [2], [27], [17], [27], [14], [3, 11], [26], [7], [18, 27], [20], [6, 7], [8, 25], [1], [15], [27], [0], [27], [23], [6], [10], [4], [13], [2], [1], [27], [0, 8], [10], [26], [18], [6, 27], [22], [7, 15], [2], [12, 20], [27], [21], [6, 7], [27], [10, 27], [1], [18], [27], [0, 27], [7], [1], [13, 17, 18], [9], [3, 6, 25], [3], [5], [17], [7], [26], [18], [27], [4], [1, 18], [27], [0], [4], [0], [2], [27], [10, 24], [4], [27], [11, 20], [27], [0], [1], [1], [18], [17], [18], [27], [7, 27], [26], [3], [2], [27], [10], [0, 17], [27], [27], [15], [9, 10], [27], [27], [10], [23, 27], [26], [27], [9], [9, 22], [22], [9], [0], [27], [27], [27], [27], [7], [10], [25], [10], [5], [27], [22], [27], [1], [18], [15], [2, 11, 25], [27], [3], [3], [27], [13], [27], [0, 15], [0], [26], [7], [27], [27], [1], [10], [15, 27], [4, 15], [27], [0], [27], [9, 15, 22], [7], [27], [27], [3], [27], [27], [3], [27], [27], [0], [1], [27], [10], [7], [5], [0, 6], [27], [7], [4, 13], [22, 27], [1, 17], [15], [22], [27], [27], [27], [20], [27], [2, 27], [25], [10], [10], [6], [10], [26], [27], [4, 27], [15], [27], [27], [27], [27], [27], [20], [6], [0, 20], [4], [27], [1], [18], [27], [3], [10], [15], [0], [27], [27], [27], [27], [12, 27], [7], [27], [18], [9], [10], [27], [1, 12], [27], [27], [18], [27], [15], [17], [27], [7], [20], [5], [20], [27], [0], [6], [14], [27], [3, 27], [14], [16], [0], [7], [10, 27], [8], [7, 13], [4], [15], [27], [5, 17], [27], [27], [27], [4, 5], [27], [5, 18], [27], [15], [10], [4], [8], [27], [20, 22], [12], [27], [27], [0], [0], [4], [27], [3, 10], [27], [0], [2], [27], [2], [27], [27], [10], [13], [2, 15], [27], [27], [20], [27], [21, 27], [15], [17, 20], [2, 3], [2, 27], [3], [27], [27], [18], [15], [12], [27], [26], [6], [27], [27], [8], [6, 27], [18], [27], [18], [27], [27], [4], [27], [17], [25], [15], [7], [27], [8, 20], [7], [0, 4], [27], [0, 10], [13], [18], [4], [2, 27], [27], [18], [27], [22], [15], [0, 1], [9], [27], [16], [2, 3], [27], [5], [27], [10], [27], [15], [27], [4, 27], [0], [11], [5], [4], [15, 20], [27], [27], [15, 22], [7], [0], [26], [0], [27], [5], [27], [27], [11], [27], [0], [1], [3], [15], [22], [27], [0], [1], [25], [27], [4], [10], [27], [0, 8], [3], [4], [27], [3], [27], [1], [3, 10], [0, 15], [7, 10], [26], [27], [1, 4], [27], [8], [27], [25], [7], [27], [27], [3], [9], [7], [27], [0, 20], [14, 27], [27], [7, 26], [27], [4, 27], [1], [4], [4], [27], [7, 27], [20], [13], [4], [24], [1], [4, 22], [3], [27], [4], [22], [0], [27], [6], [20], [27], [27], [15], [27], [4], [6, 17], [3], [21], [3, 10], [27], [15], [17], [11], [27], [3], [2], [27], [0, 9, 15], [27], [0, 4], [27], [0, 15], [26], [27], [5], [27], [10], [22], [4, 5, 20], [11], [12], [27], [7], [27], [12], [18], [2], [27], [27], [27], [18], [18], [0, 15], [22], [27], [27], [27], [23], [27], [27], [1], [11], [5], [27], [4], [11, 14], [15], [17], [0, 15], [3, 7], [24], [4], [27], [27], [17], [18], [7], [7], [27], [27], [0], [0], [4, 9], [1], [27], [18], [27], [27], [17], [27], [15], [3, 7], [18], [0], [27], [3], [27], [4], [27], [27], [27], [6, 7], [27], [26], [20], [27], [3], [12], [10], [27], [22], [13], [27], [27], [15], [7], [27], [0], [19], [14], [27], [18], [27], [0, 18], [27], [13], [26], [7], [27], [3], [26], [27], [15, 26], [4, 22], [5], [0], [0, 1], [0], [4], [27], [6, 7], [18], [3], [27], [6, 27], [17], [9], [24], [27], [27], [18], [17], [14, 19], [27], [5, 18], [17, 27], [27], [0], [7], [0], [5], [2], [27], [27], [14], [0], [0], [4], [27], [27], [1], [2], [18], [15], [27], [22], [27], [27], [0], [3], [18], [16, 24], [27], [10], [9], [0], [17], [2, 10], [25], [0], [18], [27], [3], [24], [0], [10], [27], [0, 4], [0, 4], [18], [15], [10], [18, 20], [9], [24], [10, 18], [25], [27], [15], [18], [26], [9], [7], [27], [7], [7], [15], [3], [27], [0, 18], [0], [27], [0], [10], [27], [27], [5, 18], [0, 15], [4], [0], [27], [15], [3, 22], [0, 15, 17], [19, 25], [0], [27], [27], [2], [5], [20], [7, 9], [17], [9], [27], [9], [3], [6], [27], [11], [4], [0, 4], [11], [27], [27], [9], [27], [5], [24], [27], [18], [27], [0], [14], [0], [1], [15], [1, 12], [9], [15], [3], [3], [27], [4], [27], [27], [11], [0, 15], [4], [13, 15], [4], [6], [13], [17], [27], [9, 25], [10, 27], [27], [2], [27], [15], [26], [3], [27], [10], [27], [22], [27], [13, 20], [27], [22], [17, 18], [27], [18], [27], [0], [27], [3], [10], [13, 15, 17, 20], [26], [1], [27], [10], [27], [15, 23], [27], [1], [15], [2], [27], [9], [2], [3], [27], [27], [27], [7, 25], [17], [26], [6], [27], [4], [14], [27], [11], [8], [4], [27], [25], [27], [27], [27], [27], [3], [17], [6], [7], [27], [27], [1], [7], [1], [20], [27], [9], [18], [26], [9], [3, 8, 22], [5], [27], [15], [0, 27], [12], [7], [4], [3, 14, 25], [2], [22], [0], [0], [2], [4], [27], [8, 9, 25], [10, 15], [0, 8], [26], [27], [27], [27], [15], [4], [0], [27], [9, 15], [27], [25], [27], [7], [18], [27], [27], [24], [27], [27], [6, 7], [27], [6], [2], [1], [3], [27], [27], [3], [1], [0], [27], [21], [1], [27], [11], [27], [20], [1], [27], [9, 11], [1, 27], [3], [3], [7], [9], [25], [3], [1], [1, 27], [18, 27], [0, 4], [27], [2, 3], [0], [0], [27], [10], [0, 18], [1], [4, 7], [4], [14], [4], [27], [9, 18], [27], [3], [0], [27], [27], [20, 22], [27], [7, 9], [2, 3], [0], [3], [27], [27], [3], [22], [27], [1], [27], [27], [2], [0], [27], [27], [2], [4], [10], [4], [4, 20], [18], [1], [0], [27], [10], [5], [9], [0, 13], [27], [5], [6], [0, 27], [0], [9], [1], [27], [4, 22], [15], [26], [27], [27], [3], [27], [6], [0], [2, 3, 9], [17], [27], [10], [3, 11], [0, 6, 7, 15], [18], [3], [0], [6], [15], [27], [27], [27], [0], [27], [4], [12, 27], [4], [25], [27], [4, 5], [11], [27], [3, 27], [1], [27], [2], [3], [15, 17], [27], [27], [0], [12], [23, 27], [1], [27], [0], [8], [27], [27], [17], [15], [27], [3], [15], [10], [0], [2], [27], [25], [2], [4], [0, 15], [3, 11], [27], [10], [5], [1], [19], [0], [27], [27], [4], [1], [27], [1, 17], [14], [10], [27], [27], [27], [8], [10], [27], [5], [24], [3], [25], [18], [2], [1], [4], [19], [0, 3], [27], [9], [27], [0], [6], [3, 9], [15], [27], [27], [18], [15], [3, 4], [27], [1, 18], [17], [14, 19], [26], [27], [27], [6, 26], [27], [4], [0], [4, 15], [6], [27], [26], [2], [27], [27], [3], [17], [4], [10, 15], [0], [20], [4], [15], [1, 22], [10], [10, 11, 27], [18], [20], [27], [27], [10, 27], [3], [0], [4], [27], [10], [26], [2], [7], [27], [25], [9], [27], [27], [14], [2], [8, 20], [27], [0], [15], [20], [27], [0], [22], [3, 8], [15], [2], [17], [27], [18], [20], [27], [4], [15], [27], [27], [4], [27], [0, 20], [27], [25, 27], [27], [27], [0, 17], [0], [27], [0], [4], [0, 15], [27], [13], [7], [3], [17], [6], [18], [18], [0], [27], [13], [27], [27], [1], [20], [0], [7], [27], [27], [9], [5, 22], [2], [12], [13], [3, 9], [10], [18], [27], [26], [8], [27], [11], [0], [0], [21], [0], [0, 4], [6], [27], [27], [27], [6, 27], [26], [0, 15], [9, 27], [27], [17], [27], [3, 9], [5], [20], [13, 15], [5], [11], [27], [4], [27], [27], [4], [12], [4, 18], [13], [9], [8], [7], [27], [14, 25], [27], [7], [27], [27], [20], [18], [1], [15], [9, 13], [0], [17], [3, 11], [1], [0], [22], [10], [27], [9, 25], [20], [0], [25], [0], [15, 17], [17, 18], [10], [6], [27], [27], [11, 12], [0], [0], [4], [27], [3, 27], [27], [15], [27], [8], [0, 15], [4, 15], [20], [7, 27], [3], [7], [27], [18], [27], [14], [8, 22], [7, 17], [27], [27], [4], [10], [1], [10], [1], [27], [15], [20], [27], [0], [0], [0, 27], [18], [27], [27], [17], [27], [15], [27], [25], [8], [3], [10], [0, 13], [14], [1], [0], [27], [4, 18], [1], [27], [3], [9, 24, 25], [5], [27], [0], [9], [27], [27], [5], [11], [24], [26], [27], [9], [20], [27], [27], [27], [23], [27], [11], [27], [24], [5, 14], [0, 13], [4], [6], [10], [7, 22], [27], [27], [27], [10], [15], [6], [10, 22], [27], [27], [27], [10], [27], [27], [27], [22], [8], [0, 18], [0], [27], [27], [27], [4], [6, 18], [27], [27], [0], [0, 13, 22], [7], [26], [3], [27], [27], [3], [7], [27], [15], [5, 20], [27], [0, 27], [7], [0, 4], [1], [17], [27], [18], [1], [27], [25], [10], [27], [27], [27], [1], [1], [0], [27], [17, 18], [27], [9], [2, 11], [22], [27], [1], [24], [14], [27], [15], [27], [27], [15], [9, 10], [20], [3], [3, 27], [9], [25], [20], [3], [27], [18], [26], [27], [26], [27], [4], [6, 7], [27], [27], [10], [1, 17], [27], [27], [15, 22], [0], [27], [27], [27], [27], [1], [11], [4], [27], [20, 27], [27], [26], [7], [3], [0], [27], [27], [4], [27], [0], [20, 27], [27], [9, 25], [1], [4], [0], [27], [7], [2], [18], [16], [2], [27], [6, 7], [27], [2], [27], [27], [8], [0], [8, 18], [27], [7], [24], [27], [27], [21], [25], [27], [2, 27], [0], [9], [15], [27], [5, 20], [27], [27], [20], [22], [27], [24], [0], [4, 22], [2, 5], [1], [22], [27], [18], [15], [1], [3], [5, 25], [27], [27], [4], [18], [27], [2], [5], [0], [6, 27], [27], [22], [10], [6], [3], [27], [27], [14], [14, 26], [7, 10], [15, 18], [27], [27], [4, 22], [27], [18], [9], [3, 10], [14], [1], [4], [18], [2], [27], [0], [27], [25], [1], [15], [3], [1], [27], [1], [14], [4], [27], [4, 27], [6, 7, 26], [17], [2], [27], [25], [0], [27], [3, 5], [11], [3], [17], [18], [4], [0, 27], [1], [12, 25], [15], [13], [2], [27], [1], [4], [27], [3, 9], [9], [27], [1], [22], [7, 26], [17], [6, 7], [3], [11], [3, 10], [26], [3], [27], [27], [10], [18], [0], [3, 4], [27], [1], [0], [0], [1], [11], [27], [0, 9, 18], [27], [26], [27], [3, 5], [4, 17], [0], [7], [3], [5, 27], [7], [6], [27], [3, 10], [18], [18], [27], [0], [25], [0], [27], [12], [24], [7], [27], [3], [3], [0], [24], [27], [27], [15], [22, 27], [0, 7], [5, 20, 22], [27], [19, 25], [15], [15], [27], [6], [4], [27], [27], [0, 4], [4], [4, 13], [27], [8], [13, 26], [27], [1, 15], [27], [27], [6, 27], [27], [18], [27], [9], [27], [0], [27], [27], [1, 10], [25], [10, 26], [25], [23], [13, 17], [17, 18], [9, 12], [0], [0], [7], [6], [27], [13], [3, 11], [15], [5, 15, 18], [0], [15], [8], [22], [27], [6, 27], [3], [26], [27], [7], [0], [27], [15], [27], [2], [4], [0], [17], [10], [27], [15], [1], [3], [0, 4, 15], [0, 7], [27], [15], [4], [26], [27], [3], [10], [6], [27], [15], [11], [15], [4, 20], [3], [0], [15], [0, 4], [0, 15], [27], [27], [27], [1], [15], [27], [24, 25], [27], [1], [27], [27], [27], [22], [27], [15, 21], [18], [24], [15], [3], [14], [27], [0], [27], [15], [6], [27], [7, 15], [0], [27], [27], [13], [22], [2], [27], [27], [2], [27], [27], [27], [10], [10], [24, 25], [27], [27], [2], [7], [9], [3], [27], [9, 10], [17], [15], [3, 20], [9], [7], [0, 4], [2, 3], [9], [27], [27], [0], [27], [0], [7], [4], [1], [11], [0, 4], [9, 20], [1, 7], [18], [4], [3, 27], [6], [0], [27], [15], [27], [27], [15], [27], [27], [0], [27], [27], [0], [0, 7], [27], [1, 22], [7], [25], [4, 23], [27], [18], [3], [15], [5], [1], [27], [27], [27], [3], [13, 15], [26], [27], [25], [11], [11], [11], [26], [27], [4], [4], [26], [0, 18], [27], [2, 10], [27], [27], [27], [18], [5], [0], [14], [18], [27], [1], [8], [20, 27], [0], [4, 27], [27], [10], [15], [20], [27], [2], [7], [4, 7], [27], [27], [26, 27], [1, 18], [27], [0], [8], [20, 25], [1], [27], [4], [15], [17, 27], [11], [2], [27], [1], [9], [22, 26], [18], [3, 9, 22], [27], [24], [27], [27], [27], [10], [15], [13], [27], [18], [2], [27], [15], [27], [1], [3], [9], [0, 27], [27], [3], [0], [5], [2], [27], [27], [27], [4], [8, 18], [27], [27], [18], [10], [27], [17], [26], [15], [3, 8], [24], [4], [4, 27], [27], [0, 17], [5], [27], [27], [27], [6], [27], [0, 4], [2], [10], [15], [10], [27], [27], [27], [18], [6, 27], [0, 9], [23], [10], [1], [2], [7], [18], [27], [10], [8], [3], [22], [15], [4, 10], [27], [25], [19, 27], [27], [6], [24], [0], [27], [27], [18], [1], [2, 27], [27], [15], [20], [18], [17], [27], [1], [3, 10], [1], [20], [27], [27], [22], [20], [27], [27], [27], [27], [0], [3], [9], [0], [3], [0], [0], [17], [10], [5, 8], [22], [4, 18], [20, 27], [13], [27], [27], [27], [27], [26], [18], [22], [18], [27], [4], [27], [0, 18], [27], [17], [11], [27], [11], [27], [2], [2], [27], [0, 15], [0], [0], [0, 15], [24], [27], [4, 24], [27], [2], [10], [27], [17], [27], [7], [6, 15], [0], [24], [6], [27], [15], [1], [11], [11], [15], [9, 25], [18], [25], [0, 2], [27], [27], [0, 17], [10], [27], [9, 27], [27], [7], [27], [6], [8], [25], [9], [27], [1], [4], [4, 22], [27], [24], [27], [5], [0], [1], [27], [6, 7], [27], [4], [17], [27], [7, 18], [7], [6], [8], [6], [0, 18], [27], [7], [1, 15], [27], [27], [20], [27], [27], [27], [1], [5], [27], [27], [25], [1], [4], [26], [21], [27], [1], [27], [9], [1], [27], [0], [15], [1], [9], [15], [24], [27], [7, 26], [7], [10], [1], [20], [27], [10], [20], [9, 18], [15], [22], [3], [5], [27], [4], [14], [27], [1], [11], [27], [15], [1], [10], [20], [4, 9], [27], [26], [3], [26], [27], [27], [27], [0], [1], [27], [27], [3], [11], [1], [11], [15], [27], [14], [18], [18], [27], [0, 13], [0, 9], [2, 3], [27], [0, 26], [25], [8], [22], [6], [7, 27], [4], [1, 22], [27], [27], [4], [6, 10], [10], [27], [7], [10], [3], [4, 27], [1], [27], [1, 3], [0, 13], [18], [27], [15], [8], [27], [27], [27], [13], [2], [0], [11, 19], [6], [27], [25], [9], [15], [13], [9], [9, 25], [27], [3, 9], [26], [27], [0, 22], [7], [17], [6], [4, 22], [25], [7, 25], [17], [8], [7], [27], [7], [4], [3], [27], [27], [27], [7], [27], [0, 15], [27], [13, 15], [11], [18], [27], [27], [15, 26], [26], [18], [0], [3, 11], [2], [27], [3], [10, 27], [27], [25], [18], [2, 3], [20], [22], [27], [10], [27], [25], [7], [27], [10], [0], [27], [6, 27], [5], [20], [10], [15], [27], [26], [4], [27], [3], [18], [27], [24], [27], [27], [8, 18], [2], [0], [27], [16, 25], [4, 27], [4], [27], [1], [1, 17, 20], [10], [27], [15], [10], [1], [6], [1], [1], [0], [3], [14], [2], [10], [6], [4, 27], [4], [10], [18], [18], [25], [5], [27], [4], [27], [9], [0], [27], [27], [17], [20], [22], [27], [20], [7], [0, 15], [15], [3, 17], [1], [22, 26], [0], [3], [3, 15, 23], [2], [27], [13], [1, 27], [27], [24], [27], [0], [5], [27], [15], [27], [27], [0, 17], [0], [25], [27], [10], [2, 3], [11], [5], [0], [15], [15], [18], [0], [1], [18], [15], [2], [7], [0, 9], [5], [6], [12], [27], [27], [18], [0, 4], [2], [3, 27], [27], [27], [27], [4], [27], [18], [0], [27], [21], [0], [4, 13], [27], [14], [15], [17, 18], [27], [10], [27], [27], [27], [0, 13], [27], [27], [27], [7], [0, 8], [9], [27], [17], [0], [4], [27], [18], [3], [27], [25], [6], [2, 27], [27], [22], [18], [27], [0, 18, 27], [2], [22], [27], [1], [22], [20], [6], [10, 27], [11], [27], [1], [1, 17], [27], [27], [15], [3], [1], [15], [3], [2], [0, 5, 18], [27], [27], [5, 18], [27], [27], [15, 22], [5], [27], [15], [3], [0], [27], [3, 9], [0], [27], [27], [15], [3], [20], [10], [27], [27], [0], [27], [27], [7], [1, 17], [27], [2], [18], [0], [1], [1, 13], [1], [18], [15], [4], [27], [15], [18], [27], [26], [27], [15], [27], [20], [27], [27], [7], [27], [25], [27], [17], [20], [26], [6, 7], [4, 18], [20], [3], [20], [1], [18], [15], [18], [27], [27], [4], [2], [0], [27], [27], [4], [2], [18], [0], [27], [6], [1], [4, 24], [4], [13], [14], [27], [9], [21], [27], [11, 14], [27], [9], [22], [27], [1], [27], [7], [8], [1], [20], [18], [27], [2], [13], [27], [15], [15], [27], [27], [27], [27], [17], [4], [10, 17, 22], [25], [6], [4, 27], [27], [27], [7], [2], [3, 9], [27], [5], [10, 11], [20, 22], [0], [4], [27], [4, 23], [9], [13], [3], [9, 22], [23], [27], [20, 25], [18], [5], [17, 18], [2], [15], [27], [22], [10], [27], [27], [0, 27], [26], [27], [18], [27], [27], [15], [20], [20], [9], [27], [27], [0, 2], [27], [27], [0], [27], [22], [1], [15], [27], [3], [27], [27], [17], [27], [1], [27], [27], [2], [25, 27], [7], [7, 26], [3], [27], [27], [1, 4], [18], [3], [1, 2, 3], [15], [27], [27], [27], [27], [4], [22, 27], [6], [0, 15], [27], [1], [27], [17], [4], [27], [2], [5], [27], [27], [3], [26], [20, 22], [25], [0], [1], [27], [4], [20], [26], [0], [27], [27], [27], [3], [27], [27], [2], [14, 24, 25], [15], [4], [27], [27], [0], [3], [27], [17], [6], [27], [27], [26], [9, 26], [0, 4], [1], [15], [27], [5, 27], [27], [3], [27], [4, 8, 22], [27], [22], [4, 27], [15], [27], [27], [2], [13, 26], [27], [3, 9], [1], [10], [17], [9], [27], [15, 26], [27], [4], [3], [25], [27], [27], [6], [27], [27], [8], [27], [27], [17], [27], [0], [11], [11], [27], [3, 14], [27], [0], [11], [27], [0], [7], [4, 27], [27], [27], [27], [27], [27], [15], [4], [27], [27], [27], [25], [3, 4], [25], [3], [13], [27], [10, 27], [1], [0], [27], [0], [27], [18], [27], [27], [9], [27], [7, 10], [27], [1], [1], [0, 13, 17], [4], [7], [10], [27], [1, 24], [6], [2], [0, 8, 15], [0, 27], [7], [0], [15, 20], [27], [25], [18], [10], [27], [27], [15, 18], [1], [1, 15], [4], [0], [27], [18], [22], [27], [1], [0], [27], [9], [27], [20], [7], [15, 22], [18], [27], [7], [6], [18], [27], [13], [27], [4], [3], [20], [10], [22], [2], [9], [9], [0, 3, 11], [10], [0, 15], [2], [9], [18], [1], [0], [25], [10], [20], [27], [22], [6, 7], [13], [27], [27], [15], [22], [22], [24], [27], [7], [6], [2], [13], [27], [27], [3], [27], [24], [27], [14], [25], [0, 15], [27], [1], [4], [22], [18], [5], [27], [6, 27], [1], [4], [18], [11], [27], [7], [10], [27], [10, 27], [18], [1], [18], [0], [2], [14], [0], [0], [10], [7], [3, 9], [13], [1], [27], [0], [10], [27], [0, 13], [27], [7, 27], [0, 1], [10], [26], [5], [25, 27], [4], [1], [10], [27], [0, 7], [1], [11, 24], [27], [17], [27], [0], [11], [15], [27], [27], [27], [4, 18], [22, 27], [27], [27], [8], [15], [27], [25], [10], [27], [27], [27], [27], [7], [14], [26], [11], [27], [1, 27], [27], [1, 6], [0, 27], [15], [3, 18], [7], [4], [17, 22], [0], [26], [26], [25], [24], [15], [2], [13], [27], [4, 20], [10], [7, 27], [3, 10], [5], [0], [27], [0, 17], [17], [1, 7], [27], [25], [0], [27], [18], [27], [5], [3], [27], [15], [8], [10], [27], [4], [27], [27], [3], [4, 27], [27], [27], [3], [15], [26], [5, 20], [27], [27], [17], [25], [1], [27], [27], [0, 9], [4, 13, 20], [0], [18], [0], [27], [27], [18], [0], [25], [20], [12], [7], [22], [4], [0], [27], [20], [0], [23], [5], [0, 4], [18], [8], [6, 27], [15], [25], [12], [27], [20, 27], [2, 3], [4, 20], [4, 15], [27], [27], [4], [20], [27], [6, 7], [4, 22], [10], [12, 20], [27], [0], [27], [6], [4], [17], [0], [10], [1], [2, 11], [27], [9], [0, 3], [27], [5, 20], [25], [17], [25], [18, 25], [0], [27], [27], [7, 20], [1, 17], [14], [3], [4], [2], [7], [2], [5], [0], [27], [27], [27], [27], [27], [8, 25], [25], [27], [8, 27], [0], [3, 9], [13], [19], [27], [9], [2], [27], [27], [27], [27], [27], [10], [4], [10], [27], [18], [7], [21], [27], [0, 21], [6], [27], [17], [27], [18], [27], [27], [3], [10, 15], [9], [4], [8, 20], [17], [1, 17], [10, 27], [1, 12], [13, 27], [27], [2], [27], [27], [10], [5], [27], [17, 26], [27], [15], [2], [15], [27], [1], [3, 23], [1], [0, 15], [9, 25], [7, 9], [25], [27], [0], [13, 18], [27], [17], [0, 1], [6], [9], [4], [15], [2], [27], [7, 26], [27], [7], [22], [2], [17], [22, 26], [27], [1], [7], [6], [2, 3], [27], [27], [27], [15], [6, 7], [4, 27], [0], [7, 24], [20], [24], [11], [5], [10, 27], [2], [25], [24, 25], [15], [27], [0], [27], [2, 18], [1], [22], [27], [1], [15], [7], [27], [27], [25], [15], [10], [18], [27], [22], [8], [7], [17], [27], [4], [27], [27], [26], [2], [15], [3], [7], [27], [27], [27], [2], [27], [0], [0], [15], [2, 27], [27], [15], [27], [7], [1], [27], [9], [27], [2], [0, 1], [25], [1, 15], [23, 27], [25], [26], [15], [27], [22], [27], [20], [27], [3, 14], [5], [0, 15], [14], [27], [27], [17], [15], [10], [2, 3], [3, 5], [4, 17], [4], [6], [24], [1], [8], [27], [27], [7], [27], [24], [1], [6], [27], [0], [7], [25], [27], [4, 18], [0], [22], [6, 7], [27], [18], [9], [25], [27], [27], [1], [27], [18], [27], [27], [27], [13, 27], [0, 18], [27], [1, 4], [17], [0, 15], [27], [1], [0], [27], [27], [15, 26], [9], [0], [1, 27], [0], [9, 25], [27], [26], [4], [27], [15, 17], [14], [18], [7], [27], [9, 25], [0, 4], [5, 15], [27], [15], [15, 18], [27], [27], [20], [4], [1], [4], [6], [3], [0], [1, 9], [1], [3, 27], [0, 20], [27], [10], [27], [18], [3, 7], [5, 20], [5], [25], [27], [27], [7], [27], [27], [0], [27], [21], [27], [27], [27], [27], [27], [27], [22], [14, 20, 25], [27], [3], [7], [8], [27], [3], [0], [27], [18, 25], [3, 11], [1], [10], [6, 27], [3], [10], [10], [26, 27], [1], [27], [27], [3], [10], [0], [27], [0], [10], [11], [9, 27], [27], [0], [13], [7], [7], [27], [3], [2], [0, 4], [18], [1], [27], [14], [27], [8, 13], [3], [27], [20], [11], [14], [27], [0], [27], [8], [13, 22, 26], [3, 9], [6], [3], [1], [27], [27], [0, 27], [18], [27], [3, 10], [2, 3, 6], [18], [27], [27], [27], [0, 15, 18], [5], [27], [15], [1], [3], [27], [4], [7], [27], [18], [6], [7], [22], [22, 25], [7, 27], [0], [27], [0, 15], [11], [27], [26], [27], [27], [27], [25], [4, 5], [1, 3], [27], [7], [11], [13], [27], [25], [0], [27], [27], [10], [0], [15], [27], [27], [15], [26], [0], [24], [0], [27], [1], [26], [4, 27], [6], [2], [11, 14, 20], [0, 18], [1], [27], [10], [2], [4], [0, 27], [0], [27], [7], [0], [4], [27], [1], [27], [4], [5], [4], [0], [1], [17], [27], [14], [18], [3], [2], [27], [24], [22], [24], [15], [3], [5], [27], [27], [0], [11], [5], [27], [15], [7], [10], [3, 10], [25], [0], [0], [0], [1], [10], [3], [3], [27], [7, 12], [27], [1], [27], [3], [0], [15], [8], [27], [18], [27], [0], [0], [27], [27], [25, 27], [0, 27], [25], [27], [7], [17], [10], [0], [23], [27], [4], [7], [27], [11], [27], [27], [27], [5, 22], [4], [8], [4], [3], [18], [18], [27], [9], [26], [17], [14], [3], [20], [27], [4], [27], [2, 3, 7], [6], [4], [6], [4, 14], [11], [0], [2, 3], [7, 27], [7], [20], [17], [5, 25], [22, 26], [27], [20], [27], [9], [27], [27], [27], [7], [4], [7], [3], [17], [20], [13], [0, 4], [27], [8], [18], [27], [27], [10], [12], [1], [9], [18], [18], [5], [5, 17], [3], [18], [5], [7], [27], [24], [27], [27], [17], [5], [27], [27], [27], [4], [3], [6], [7], [27], [27], [27], [6], [27], [2, 9, 12], [6, 7], [17, 27], [7], [4, 27], [27], [27], [27], [2, 3], [15], [1, 8], [27], [0], [6], [15], [3], [3, 10], [18], [14], [27], [10], [15], [27], [27], [27], [27], [0, 4], [15], [4], [4, 6], [27], [10], [1], [9], [27], [27], [27], [27], [27], [1], [2], [4, 7], [27], [18], [2], [27], [20], [22, 27], [6], [14], [15], [18], [0, 15], [10], [27], [27], [15], [27], [7], [2, 3], [18], [7, 27], [13], [26], [27], [27], [27], [27], [0], [27], [27], [0, 15, 20], [6], [18], [1, 17], [26], [0], [27], [27], [27], [14], [1], [27], [27], [27], [18, 27], [4, 14, 25], [19], [27], [27], [27], [1], [6, 7], [0], [27], [27], [0, 9], [0], [7, 27], [10], [27], [0], [27], [25], [27], [0, 15], [27], [0, 13, 17], [15], [0], [6], [27], [27], [1], [27], [24], [6, 7], [26], [3], [27], [3], [1], [15], [27], [27], [1, 6], [0, 14, 25], [7], [20], [4], [6], [22], [10], [0], [7, 26], [2], [6], [9], [0], [25], [0], [27], [27], [15], [4, 18], [5], [27], [3], [7], [15], [27], [7, 27], [27], [27], [0], [18], [27], [0], [27], [15], [27], [4], [27], [11], [27], [0], [27], [4], [0], [9], [22], [27], [10, 20], [27], [15, 18], [18], [27], [27], [27], [4, 20], [27], [10], [15], [5], [27], [1, 7], [1], [14, 27], [27], [27], [27], [2, 10], [1], [2], [5, 9], [27], [0], [17], [6], [27], [9, 13], [26], [4, 27], [27], [7], [3], [27], [22], [27], [1], [27], [10], [27], [4], [2], [15], [17], [0, 6, 15], [25], [27], [18, 27], [27], [27], [15], [3, 6], [27], [5], [27], [4], [25], [1], [27], [17], [27], [3], [27], [27], [10, 11], [4, 18], [27], [13, 17], [3], [1], [27], [7], [1], [27], [4], [10], [27], [27], [10], [6], [27], [27], [2], [15], [27], [3], [7, 27], [27], [0], [27], [27], [10], [15], [27], [4, 27], [15], [1], [26], [18], [25], [1], [27], [10], [6], [27], [27], [13], [18], [26], [26], [27], [13, 17], [26], [4], [27], [20], [1], [27], [10], [7], [3, 27], [25], [18], [27], [7], [15], [7], [17], [27], [26], [25], [4, 8], [1], [0], [27], [27], [27], [7], [27], [3], [3, 7], [27], [3, 10], [27], [27], [10, 22], [27], [17], [4, 15, 20], [3, 10], [8], [27], [0], [25], [27], [14], [0], [12, 25], [20], [27], [3], [0], [1], [27], [18], [1, 10, 15], [4], [18, 20], [3, 27], [27], [6, 7], [0], [27], [17], [11], [15], [27], [27], [1], [3], [22], [15, 26], [27], [0], [24], [27], [15], [27], [20], [3], [2], [12], [27], [1], [1, 22, 25], [22], [27], [5], [26], [27], [27], [27], [25], [27], [18], [6], [20, 25], [17], [27], [3], [3, 27], [15], [0, 27], [4], [25], [0], [4], [27], [10], [17], [3], [2], [7], [26], [0], [27], [27], [6], [6], [27], [27], [6, 7], [27], [7], [26], [27], [25], [8], [27], [27], [27], [27], [17], [27], [27], [24], [6], [10], [18], [4], [7, 27], [7], [4], [27], [8], [17], [27], [13], [0], [25], [10], [18], [7], [27], [27], [5], [0, 4], [0], [22], [1, 4], [27], [3], [15], [27], [3], [22], [6], [27], [7], [10], [3], [0], [27], [3], [18], [9], [4], [9, 20], [18], [1], [17], [27], [11], [17], [27], [7, 15], [0], [15], [26], [2], [2], [27], [27], [0], [3], [26], [27], [0], [27], [27], [3], [13], [27], [27], [1], [6], [26], [0], [0], [27], [4, 17], [27], [11], [22], [27], [11], [3], [5], [27], [27], [27], [4], [0], [10], [27], [27], [7], [27], [1, 6], [22], [3, 20], [15], [27], [7], [27], [27], [27], [22], [27], [18, 22], [8], [13], [6], [10, 27], [27], [4], [15], [7], [24], [4], [13, 17], [1, 25], [24, 25], [2, 3], [3], [27], [25], [27], [18], [27], [26], [27], [4, 22], [18], [7, 26], [18], [1], [26], [7, 27], [4, 18], [0, 7], [0], [4], [7], [3, 18], [24], [27], [20], [27], [0, 8, 20], [24], [0, 4], [27], [5, 15], [27], [7], [10, 27], [27], [27], [15, 22], [17, 20], [27], [6, 27], [3], [13], [4, 9], [18], [7], [24], [8], [22], [1], [6], [27], [4], [9], [18], [7], [3], [5], [6, 7], [3], [0], [27], [0, 26], [27], [0, 27], [0], [0], [0], [13], [27], [7], [8], [0], [27], [4], [0, 4], [11], [27], [6], [13], [15], [9], [27], [3, 9], [17], [6, 26], [7], [3, 10], [27], [27], [27], [18], [4], [1], [22], [27], [25], [27], [4], [27], [2, 27], [27], [22, 26], [5], [1], [27], [0, 20], [27], [3], [27], [27], [5, 27], [27], [15], [4, 26], [15], [27], [27], [5], [1], [15], [17], [22], [12], [0, 15], [27], [15], [27], [0], [0], [4], [27], [27], [14, 26], [25], [5], [13], [24], [25, 26], [1, 15], [18], [27], [27], [18], [27], [6, 15], [27], [15], [3], [2], [27], [27], [2, 10], [27], [7, 18], [3], [27], [20], [27], [7], [20], [2], [27], [3, 10], [27], [15], [23, 27], [6], [27], [20], [3, 27], [3], [3, 14], [6, 15], [4], [6], [27], [27], [4], [13], [20], [9], [17], [0, 18], [10, 20], [27], [6], [9], [27], [27], [0], [10], [1], [4, 15], [0, 1], [7], [1, 15], [2], [2], [27], [7], [9], [17], [1], [0, 15], [5], [0, 26], [8], [27], [27], [27], [17], [27], [27], [27], [3], [2, 27], [11], [27], [27], [27], [27], [4, 20], [0, 8, 20], [8, 20], [25], [26], [27], [14], [9], [27], [27], [4, 27], [27], [19, 27], [14], [26], [27], [27], [0, 15], [4], [1, 13, 17], [27], [27], [18], [17], [18, 20], [3], [27], [20], [5], [9], [10], [0], [27], [5, 27], [10], [27], [27], [1, 15], [13], [5, 27], [27], [4], [27], [27], [15, 22], [12], [22], [2], [3], [27], [26], [27], [27], [27], [4], [4], [2], [8], [22, 27], [2, 3], [27], [7, 27], [1], [2], [9, 18], [7], [27], [22, 23], [18], [15, 17], [0, 4], [14], [0], [18], [6], [27], [25], [1], [11, 25], [15], [27], [15], [4], [1], [27], [27], [26], [27], [27], [0], [27], [26], [27], [3, 15], [5], [27], [27], [3], [1, 10], [7], [27], [27], [11, 22], [3], [27], [27], [15], [3], [18], [27], [2], [27], [6], [27], [15], [27], [15, 20], [27], [4], [25], [17], [0, 17], [10], [7], [27], [2], [22], [2], [27], [22], [17], [18, 20], [25], [27], [1], [0], [27], [9, 27], [0], [1], [27], [6], [4], [18], [27], [0], [27], [25], [27], [27], [4], [27], [27], [27], [1, 5], [18], [17], [5, 15, 17], [10], [6], [0], [4], [9, 22], [0], [26], [3], [7, 26, 27], [2], [2, 10], [8], [7], [7], [27], [27], [1], [27], [15], [26], [0, 4], [0, 15], [13, 26], [27], [27], [27], [22, 26], [20], [4], [27], [27], [5], [9], [26], [26], [27], [27], [0, 1], [15], [1, 24], [15], [17], [25], [11], [27], [15], [0, 20], [2, 25], [10], [27], [18], [17], [4, 6], [4], [27], [2, 27], [5], [1], [15], [27], [1], [7], [27], [25], [4, 27], [0], [4], [27], [3], [1], [1], [3], [27], [0], [27], [6], [27], [27], [27], [10], [20], [20], [2], [27], [13, 17], [4], [8, 9], [9], [10], [7], [17, 27], [15], [27], [27], [27], [3], [26], [27], [19], [9], [5], [9, 24], [27], [27], [27], [14], [27], [1, 18], [27], [6, 19], [2], [22], [19], [18], [22, 25], [27], [2], [0], [7], [15], [25], [27], [27], [11], [0], [27], [0], [9], [27], [1, 4], [9], [9], [2, 11], [27], [14], [2], [25], [18], [26], [20], [18], [27], [0], [27], [11], [0], [3, 15], [27], [23], [2], [22], [1], [4], [13, 17], [3, 10], [0], [27], [27], [27], [2, 22], [27], [0, 27], [27], [10, 25], [24], [17], [20], [13], [3], [18], [3, 10], [3], [27], [27], [6], [26], [6, 7], [27], [27], [13, 23], [3], [27], [25], [0, 15], [4], [15], [7], [1], [22], [27], [27], [9], [4], [6, 7], [17], [27], [5], [27], [21, 27], [14], [2, 3, 27], [13], [1], [0], [27], [3, 11], [7], [3], [15], [4, 17], [20], [17, 25], [22], [18], [7, 8], [7], [18], [27], [27], [9], [8], [3], [18], [4, 5], [27], [14], [13], [27], [10], [27], [25], [27], [2, 12], [9], [3, 10], [5], [5, 24, 25], [11], [4], [22, 27], [15], [21], [27], [9], [17, 23], [9], [3, 6], [2], [27], [27], [27], [6], [10], [27], [27], [9], [15], [4, 27], [27], [7], [27], [2, 3], [0, 13], [0], [27], [4, 15], [2, 26], [27], [27], [27], [25, 27], [7], [27], [20], [3, 10], [27], [3], [27], [6], [0], [27], [1], [27], [3, 10], [27], [0], [27], [15], [1, 7], [5], [6], [25], [4], [27], [0, 17], [4], [15], [2], [10], [18], [4], [4], [4], [9], [26], [25], [1], [0], [6], [27], [15], [27], [1, 9], [11], [27], [27], [15], [13], [27], [7], [4, 11], [27], [15], [9, 25], [10], [4, 7], [27], [7], [10], [15], [4], [11, 27], [6], [1], [3, 15], [0], [22], [27], [27], [27], [27], [26], [4, 20], [1, 7], [5], [3], [27], [7], [17], [27], [27], [27], [9, 27], [22], [2], [27], [5], [7], [6, 7], [27], [0], [27], [27], [27], [27], [17], [18], [27], [27], [27], [4], [2], [4, 27], [3], [5], [4], [13], [10], [27], [8, 27], [7], [18], [27], [3], [27], [27], [27], [7], [27], [2], [4], [27], [2, 3], [27], [7], [6], [0], [27], [0, 15], [27], [24], [18], [27], [0, 15, 17], [3], [20], [10, 18], [27], [13], [15], [1], [18], [27], [1, 6, 7], [27], [13], [27], [14, 20], [27], [10, 20], [27], [3], [1], [20], [27], [4], [5, 27], [20], [0, 4, 13], [9, 11], [13], [3], [27], [27], [10], [27], [27], [15], [27], [27], [27], [0], [27], [25], [20], [2], [6], [1, 18], [27], [25], [27], [1], [27], [27], [22], [6], [27], [13], [3, 27], [20], [1], [8, 20], [15], [4], [1], [15], [3], [27], [9, 25], [27], [6, 17], [27], [27], [15], [24], [14], [1, 15], [3], [15], [27], [27], [27], [6], [0], [27], [27], [27], [10, 27], [1], [0], [27], [0], [27], [14, 18], [27], [3, 11], [1], [27], [0], [25], [27], [1, 3], [26], [27], [25], [20], [7, 12], [15], [17], [27], [27], [27], [18], [8], [4], [7], [4], [6], [3, 9], [1], [1], [10, 15], [18], [2, 4], [7], [7], [22, 26], [7], [1], [0, 4, 13], [27], [4, 22], [3], [10], [27], [18], [18], [27], [14, 27], [27], [6, 18], [27], [9], [15], [24], [22, 27], [27], [27], [5, 18], [10], [27], [4], [0], [27], [27], [17], [18], [27], [0, 18], [9, 25], [27], [1], [3], [10, 11], [27], [25], [1], [27], [24], [5], [8, 25], [27], [7], [6], [24], [1, 27], [17, 27], [15], [27], [2, 26], [7], [1, 15], [10], [3], [1], [20], [18], [27], [0, 15], [4], [27], [17], [0, 9], [27], [27], [26], [27], [9], [27], [0], [27], [18], [27], [27], [7], [0, 18], [22], [27], [15], [4], [9], [18], [27], [10], [15], [5], [6], [7, 14], [0], [20, 21], [6], [7], [27], [1], [7], [5], [18], [27], [27], [27], [9, 25], [10], [15, 26], [27], [15], [20], [15], [1, 10], [13], [20], [7], [10], [27], [1, 15], [4], [2, 3], [27], [27], [0, 18], [22], [27], [2, 3], [0], [27], [27], [0, 15], [27], [27], [22], [10], [14], [3], [14], [15, 20], [3, 10], [5, 7], [11], [27], [7], [0], [27], [27], [11, 27], [10], [7, 26], [27], [24], [27], [3, 9], [27], [4], [27], [0], [15], [24], [5], [9], [3, 9, 10], [0], [27], [4], [2], [18, 20], [27], [27], [0], [27], [3], [0, 9], [27], [27], [25], [2], [3, 9], [4, 27], [27], [3], [2, 10], [4], [24], [9], [15, 20, 24], [27], [2], [0], [15], [23], [27], [27], [27], [3, 27], [27], [19], [27], [26], [27], [27], [3], [27], [27], [7], [25], [10], [0], [5, 20], [27], [0], [9], [2], [2], [1], [0], [27], [20], [6, 7], [27], [27], [27], [23], [27], [0, 4, 11, 22], [7, 27], [15], [0], [12], [27], [9], [6], [2], [0], [27], [27], [15], [19, 25], [3], [27], [4], [13], [2], [27], [7], [27], [27], [0, 15], [13], [7], [27], [15], [27], [27], [4], [7], [15], [15], [9], [1, 2], [3], [3], [2], [10], [8], [5], [4, 27], [27], [5], [0, 3], [20], [27], [27], [0, 4], [17], [1], [27], [10], [4, 27], [3], [10], [27], [17], [15], [27], [27], [15], [3], [8], [6], [27], [27], [27], [27], [7], [13, 15, 17, 20], [27], [6], [15], [4, 27], [13], [26], [0], [27], [27], [12], [4], [1, 7], [2], [4], [27], [20], [27], [0, 7], [15, 20], [10], [27], [27], [7], [6], [20], [2], [0], [5], [27], [27], [4], [27], [27], [15], [15], [4], [7], [8], [2, 3], [27], [10, 25], [9, 12, 22], [27], [0], [4], [9, 10], [15], [13], [10], [5], [27], [6], [27], [27], [27], [8, 20], [6], [6, 27], [27], [27], [2, 3], [27], [27], [7], [27], [27], [12, 22], [10], [18], [0, 15], [10], [0, 3], [17], [10], [27], [7], [6], [23], [25], [8], [4, 10], [1], [18], [27], [0], [2], [27], [27], [0], [27], [13], [3], [0, 20], [2], [5], [6], [4], [25], [27], [2], [18], [27], [27], [27], [13], [25], [1], [27], [7], [2], [3], [10], [27], [17], [27], [27], [27], [10], [9], [9], [4, 9], [7], [25], [18], [2], [8, 25], [1], [7], [3, 9], [7], [27], [13], [18], [20], [27], [0], [6], [8], [4, 17], [26], [3, 9], [7, 13], [27], [6, 14], [27], [13], [27], [24], [5], [4], [2, 25], [4], [15], [18], [27], [1, 15, 25], [0], [1], [27], [18], [27], [15], [0, 17], [15], [27], [17], [2], [3], [7, 26], [3], [27], [7, 24], [15, 17], [1], [27], [27], [22], [26], [7], [11], [27], [1], [4], [0], [20], [6], [0], [4, 7], [27], [5], [10], [25], [8], [15], [27], [24, 25], [27], [24], [14], [27], [9], [17, 18], [27], [5, 27], [27], [13, 17], [7, 22], [7], [18], [27], [25], [7], [27], [17], [0], [9], [11], [25], [27], [27], [27], [27], [3], [25], [10], [27], [13], [10], [25], [7], [27], [27], [17, 24], [24, 25], [11], [4], [6], [1], [9], [17], [7], [27], [27], [0, 26], [27], [9, 10], [27], [3, 11], [9], [24], [13], [27], [9, 25], [27], [27], [1, 10], [6], [7], [17], [27], [27], [10], [24], [2], [7], [20], [6, 18, 24], [20], [22], [10], [17], [27], [4, 20], [0, 26], [20], [25], [23], [11], [27], [9], [0, 18], [27], [2], [2], [2], [2, 3], [27], [4], [9], [27], [27], [3], [15], [10], [20], [27], [25], [6], [4, 22], [0, 4], [3], [20], [3], [3], [27], [7], [27], [22], [7], [27], [4, 22], [17, 18], [8], [2], [8, 20], [18], [27], [27], [20], [27], [27], [27], [1], [8], [27], [27], [7, 22], [1], [11], [3, 10], [27], [25], [20], [4, 27], [27], [15], [4, 18], [3, 9, 10], [4], [3], [1], [1], [11], [27], [27], [25], [20], [3], [4, 5], [0, 18], [6], [7], [27], [0], [4], [18], [4, 5], [27], [17], [5], [27], [0, 15], [27], [27], [15, 22], [8], [27], [27], [6], [2], [13], [27], [27], [27], [7], [12], [0], [21], [7], [25], [9], [27], [27], [13], [8], [23], [4], [27], [5], [15], [3], [1], [20], [7], [9, 26], [13], [27], [22], [15], [27], [23], [15], [3], [27], [5, 22], [27], [10], [2], [0], [27], [7], [27], [17], [0], [10], [20], [24], [0], [14], [0, 6], [27], [27], [0, 1], [27], [19], [9], [25], [0, 15], [1, 7], [0], [10], [17], [2, 10, 11], [7], [14], [27], [8, 18], [11], [27], [15], [27], [2], [15], [27], [27], [24], [24, 25], [0, 27], [2], [27], [14], [0], [5], [27], [24], [17, 18], [15], [20], [27], [18], [27], [19], [20], [27], [27], [1], [4], [27], [0, 4], [27], [27], [4, 20], [7], [26], [27], [0], [2], [27], [27], [0], [25, 27], [10], [0, 1], [27], [27], [15], [24], [17], [24], [27], [11, 15], [10], [27], [7], [3], [18], [7], [7], [0], [27], [27], [3], [27], [12], [0], [27], [27], [25], [14], [7], [0], [9, 16], [18], [27], [17], [0], [27], [27], [27], [27], [15], [27], [0, 4], [27], [14], [2, 11], [27], [0], [9], [18], [0, 13], [15], [25], [7], [18], [22], [17], [15], [9, 27], [1, 22], [27], [4], [27], [9], [1], [27], [1], [25], [27], [27], [2], [1], [4], [7], [1], [26, 27], [27], [27], [27], [18], [11], [7], [27], [4], [3, 7], [1, 13, 26], [5], [20], [20, 25], [25], [2, 3], [15], [27], [18], [0], [10], [0, 7], [1], [0], [6], [4, 22], [0], [1, 17, 18], [17, 18], [27], [0, 9, 25], [27], [20], [0], [17], [18], [26], [0], [6], [3], [3], [4], [0], [27], [6], [2, 24], [27], [17, 27], [3], [11], [20, 22], [22], [5], [2, 25], [3], [13, 27], [2], [26], [22], [18, 26], [27], [22], [27], [18], [27], [14], [0], [1], [7], [0, 4], [20], [1], [27], [1], [1], [8], [14], [27], [27], [27], [25], [3], [4], [6], [3], [12], [3], [20], [27], [27], [4, 20], [27], [7], [3], [10], [4], [7], [3], [25], [17], [0, 15], [27], [24], [27], [27], [27], [27], [15], [0, 27], [25], [18, 25], [3, 10], [3], [27], [2], [17], [27], [0], [27], [27], [18], [4, 27], [1], [15], [0], [4, 27], [8], [27], [25], [22, 27], [27], [27], [27], [27], [0], [20], [17], [3], [27], [2, 3], [15], [10], [12], [0, 17], [7, 26], [27], [27], [15], [5], [27], [27], [3], [27], [27], [1], [4], [10, 13, 17], [27], [18], [27], [1], [27], [27], [1], [3], [17], [7], [15], [24, 25], [27], [20], [7, 27], [27], [15], [18], [25], [0, 26], [20, 23], [3], [27], [27], [2], [27], [2], [10], [5], [4], [27], [10], [1], [25], [4], [25], [1], [27], [27], [2, 14, 19], [4], [0], [7], [27], [27], [9], [0, 17], [4], [27], [7], [1], [7], [27], [14, 19], [18], [4, 18], [17, 21], [15], [15], [3], [22], [27], [15], [18], [4], [17], [0], [18], [26], [4, 11], [2], [27], [27], [5], [6, 7], [0, 22], [27], [15], [27], [18], [10], [10], [27], [3], [14], [10], [4, 22], [14], [1], [10], [15], [27], [4, 24], [27], [0, 20], [4], [25], [4, 15], [12], [5], [4], [15], [27], [4], [1], [17], [0, 18], [27], [7, 27], [0], [10], [27], [14], [14], [1], [27], [22], [2], [27], [26], [27], [27], [1], [27], [7, 27], [10, 27], [4, 6], [18], [27], [27], [6], [15, 20], [17], [10, 22], [10], [26], [0, 3], [4, 13], [0, 18], [6], [6], [27], [18], [27], [27], [20], [4], [27], [1], [7], [22], [25], [27], [4, 17], [18], [4], [5], [20], [1], [27], [27], [0], [18], [27], [10], [3], [6], [18, 24], [0], [0], [4], [27], [17], [8], [1], [27], [20], [3], [0, 13], [27], [0, 4, 11], [2, 14], [27], [25], [27], [3, 4, 22], [27], [8], [3], [27], [10], [13], [0], [11], [27], [15, 18], [11, 27], [27], [0], [13], [4], [10], [4], [8], [15, 17], [2, 3], [4], [4], [1], [27], [2, 6], [4], [24], [18], [17, 26], [27], [18], [27], [27], [3, 10], [18, 20], [26], [2], [7], [0, 4], [4], [3], [27], [25], [10], [27], [27], [3, 10], [12], [15], [6], [15], [27], [18], [2, 9], [25], [26], [27], [27], [2], [0, 18], [11], [10], [18], [3], [10], [7], [10], [27], [27], [27], [20], [1, 18], [27], [2], [27], [15], [6], [26], [4], [4], [1, 17], [11], [7, 11], [15], [18], [0], [2], [1], [0], [27], [27], [0], [9], [22, 26], [26], [18], [3], [3], [0], [18], [15], [7], [27], [27], [7], [5], [25], [4], [27], [18], [18], [10], [0], [0], [2, 3], [7], [27], [27], [17], [17], [27], [2], [5], [15], [14, 27], [27], [27], [1], [3], [27], [2, 3], [6], [4, 7], [0], [27], [27], [17], [7], [27], [7], [27], [2], [2], [27], [27], [2], [5], [10], [18], [17], [1], [17], [0], [27], [18], [27], [25], [9, 25], [27], [5, 18], [25], [14], [10], [6], [20], [0, 15], [0, 18], [0, 24], [13], [27], [9], [0], [4, 27], [4, 15], [10], [14], [1], [1, 17], [27], [0, 17], [0], [27], [0], [4], [3, 9], [27], [27], [7, 13], [12], [3, 9], [26], [13, 20], [5], [1], [27], [0], [8, 20], [7], [7], [2], [3], [27], [27], [27], [3], [27], [7], [0], [1], [2], [3], [27], [6], [9, 27], [27], [27], [1, 15], [27], [10], [6], [10, 22], [13], [27], [27], [27], [27], [27], [26], [17], [13], [27], [10], [27], [27], [25], [1], [1], [27], [7], [10], [26], [8], [27], [4, 27], [3], [1], [14], [6], [27], [14], [27], [2], [0], [4, 7], [0], [19], [17], [27], [27], [9], [4], [0], [17], [18], [26], [27], [15], [27], [0], [20], [17], [12], [27], [3], [27], [15], [27], [27], [27], [0], [0], [1, 20], [14], [18], [27], [0], [10], [10], [0], [27], [27], [27], [11], [0], [27], [1], [3], [27], [1], [26], [15], [0], [5], [27], [6, 7], [27], [27], [27], [24], [4], [27], [4, 25], [9], [6], [10], [0, 15], [15, 17], [0, 11], [4], [4], [6, 9], [18], [10], [18, 27], [18], [2, 3], [4], [0, 15, 17], [2], [0], [0], [1], [9], [27], [27], [3], [27], [1], [27], [6], [27], [1], [15], [0], [1], [0, 13], [27], [27], [9], [6], [4], [2], [0, 27], [20], [3], [26], [0], [27], [27], [27], [4, 9], [27], [27], [27], [0], [1], [1, 15], [0], [6], [27], [27], [27], [27], [3], [0], [18], [0, 18], [0, 15], [6], [6], [18], [7], [27], [0], [20], [27], [18], [7], [14], [3, 10], [27], [5, 27], [10], [10], [3, 10], [0], [27], [10], [27], [27], [1], [11], [15], [3], [10], [0], [0, 18], [27], [27], [27], [26], [26], [2, 3], [13], [27], [0], [7], [7], [26], [27], [27], [27], [5, 20], [27], [3], [27], [27], [2], [1], [2], [24], [15], [26], [14], [27], [5, 20], [1], [0], [27], [27], [25], [8], [2], [0], [11], [7], [17], [27], [9], [4], [27], [0, 7], [22], [20], [27], [27], [27], [0, 4, 24], [27], [3, 10], [27], [27], [3], [1, 15], [15], [20], [25], [27], [4], [4, 15], [4], [3], [23], [4], [20], [27], [27], [7, 26], [27], [3], [3], [20], [13, 18], [10], [27], [3], [27], [10], [27], [27], [7, 22], [4], [0], [0], [25], [27], [27], [7], [6, 27], [0], [20, 27], [3], [7], [0, 4, 18], [7], [10], [0], [17], [7], [27], [4], [27], [27], [0, 13], [19], [27], [27], [27], [2], [22], [8, 20], [27], [27], [4, 20], [11], [6], [27], [27], [1], [7], [10, 24], [15], [15], [27], [4], [27], [7], [17], [15, 27], [5], [27], [14, 24], [7], [2], [26], [27], [1], [27], [7], [5], [4], [15], [27], [27], [10], [13], [25], [17, 27], [27], [27], [2], [4, 17], [27], [27], [27], [15, 17], [0], [15], [4], [1], [15], [5], [27], [27], [27], [27], [20], [27], [27], [27], [3], [27], [0], [20], [10], [27], [27], [7, 15], [4], [4, 15], [10], [20], [9], [20], [18, 22], [20], [0, 18], [1], [21], [27], [4], [3], [4, 27], [0], [10], [26], [1, 25], [0], [4], [17], [27], [27], [27], [1], [27], [13], [19], [14], [27], [20], [14], [27], [7], [27], [0], [27], [3], [27], [0, 4], [0], [4], [2], [0, 7, 13], [18], [13], [20], [11], [22], [27], [3], [27], [13, 17], [0], [27], [27], [3], [18], [4], [27], [4], [27], [10], [27], [27], [15], [27], [0], [0, 20], [11], [8, 13], [20], [1], [27], [10], [6], [5, 20], [7, 22], [27], [27], [3], [27], [11], [0], [15], [27], [25], [13], [6, 7], [1], [4, 15], [27], [10], [6], [4], [27], [1], [27], [23], [27], [12, 22], [13], [4], [24], [3], [27], [3], [5, 10, 17], [4], [2], [4], [27], [22], [17], [12, 27], [0], [6], [2, 27], [9], [9], [27], [27], [15, 20], [27], [0], [25], [2], [27], [14], [3], [0, 17], [27], [20], [25], [2], [27], [7, 18], [0], [27], [1, 8], [7], [27], [27], [25], [0, 4], [27], [7], [8], [27], [5, 27], [27], [6, 27], [13, 20], [24, 25], [27], [24], [20], [27], [20, 22], [25], [27], [27], [4], [27], [18], [0], [27], [27], [1], [0, 7], [2], [12], [27], [1], [27], [6], [27], [13], [10], [4], [27], [2], [9], [27], [14], [1, 6, 7, 17], [27], [0, 4], [0], [4], [27], [12], [27], [2], [9], [7], [27], [27], [0, 15, 17], [7], [17], [15], [3], [3], [13], [20], [27], [27], [13], [13], [27], [15], [0], [27], [0, 17], [27], [27], [6], [27], [6], [15, 17], [0], [22], [18], [27], [9], [0, 15], [5, 10], [27], [1], [15], [26], [15], [22], [15], [27], [27], [22], [27], [3, 27], [0], [27], [9], [1], [9], [4, 20], [27], [9, 25], [7], [27], [27], [27], [10], [12], [0], [10], [27], [9, 25], [18], [27], [26], [27], [0], [10, 22], [27], [10], [17], [20], [18], [4], [10], [9], [27], [0], [5], [25], [6], [1], [20], [17], [15], [4, 7], [0], [13], [27], [4, 22], [10], [27], [1], [27], [20, 27], [15], [7], [7], [22], [1], [14], [4], [15], [0, 26], [10], [27], [11], [26], [6, 7, 8], [7], [6, 27], [0, 20], [11], [27], [15], [22], [0], [0], [15], [27], [2], [3], [4, 14], [24], [10], [27], [27], [20], [4], [18], [27], [27], [2], [27], [27], [10], [5], [24], [18], [7], [27], [0, 4], [20], [25], [27], [0, 4], [27], [26], [2], [2], [6], [7], [4], [25], [27], [9, 19], [27], [9], [2], [25], [18], [11, 22], [3], [7], [27], [6], [27], [27], [4], [3], [3], [15], [27], [27], [10], [3], [27], [27], [27], [2, 3], [27], [24], [22], [20], [15, 22], [26], [4], [0, 21], [24], [3], [27], [7], [5], [1], [8], [27], [4, 20], [27], [4], [7], [27], [4, 18], [14, 26], [7], [26], [27], [10], [0], [26, 27], [1], [6], [27], [27], [7, 9], [27], [4], [18], [4], [27], [25], [27], [27], [27], [27], [27], [9], [3], [0, 15], [3], [18], [10], [0, 15], [0], [27], [27], [27], [27], [14], [27], [27], [27], [27], [27], [27], [27], [12, 22], [10], [26], [0], [14], [0, 15], [0, 24], [24], [27], [0, 15], [0], [1, 4], [3], [7], [0, 15], [27], [0], [4, 5], [27], [0, 1], [6], [27], [20, 24], [3], [22], [27], [0], [10], [17], [11], [27], [9], [25], [1, 13], [27], [7], [1, 18], [26], [3, 27], [27], [27], [15], [27], [27], [27], [0], [12], [2], [20], [18], [0], [3], [5], [1, 18], [22], [4, 9, 22], [27], [27], [27], [22], [27], [18], [7], [27], [17, 22], [0, 1], [18], [18], [3], [27], [27], [0], [15], [7], [1, 24], [27], [27], [26], [27], [25], [9, 24], [15], [1], [27], [5], [27], [5], [18], [27], [0, 20], [4, 18], [22], [27], [27], [27], [27], [27], [7], [0], [4], [17, 25], [27], [27], [9], [13], [4], [27], [1, 6, 15], [27], [27], [11, 22], [27], [10], [3], [2], [27], [27], [27], [27], [27], [18], [27], [5], [1], [10, 23], [27], [10], [4], [7, 10, 27], [20], [0, 10], [10, 11], [23], [18], [10], [4], [10], [1], [27], [18], [27], [8], [15], [27], [8], [27], [4], [8], [1, 18], [27], [27], [27], [15], [5, 20], [27], [25], [27], [15], [3], [18], [3], [6, 9], [1], [4], [9], [27], [1], [27], [27], [27], [27], [14], [27], [25], [15], [27], [27], [27], [22], [0], [3], [20], [10], [27], [2], [27], [27], [2], [27], [14], [27], [0], [27], [11], [20], [27], [6], [4], [4], [27], [2, 3], [18], [10], [9, 25], [3], [1], [27], [0], [27], [27], [5], [3], [1, 6], [2], [27], [7, 10], [27], [0], [10], [18], [10], [26], [7], [4, 27], [3], [3], [7, 10], [1], [27], [0, 14], [4, 20], [22, 27], [20], [0], [18], [7], [16, 27], [4], [0], [17], [4], [27], [27], [27], [15], [27], [14], [7], [0, 10], [10, 22], [27], [27], [4], [13, 18], [0, 27], [27], [17, 20], [2], [27], [27], [4, 5, 27], [0, 5, 15], [27], [22], [1], [27], [3, 27], [0], [27], [10], [10], [4], [0], [27], [27], [0], [27], [27], [6], [27], [27], [2], [22], [2], [7], [27], [27], [2, 11], [27], [2], [25], [22], [27], [5], [3], [27], [0, 9], [10], [27], [0], [27], [27], [18], [27], [1, 27], [4, 22, 24], [15], [9, 25], [27], [27], [5, 12, 20], [1, 4], [27], [3, 7], [3], [27], [27], [14], [27], [27], [27], [10, 17], [0], [4, 7], [27], [27], [18], [27], [27], [22], [3, 11], [27], [4], [22], [4, 27], [20], [1], [26], [27], [2], [18], [0], [7], [15], [4], [27], [27], [10], [27], [27], [7], [13], [27], [15], [13], [20], [4], [1], [1, 15, 17], [2], [27], [27], [20, 22], [27], [27], [1], [27], [24], [25], [27], [27], [27], [26], [27], [5, 18], [18], [14], [27], [7], [22], [19, 20], [4], [15], [5], [2], [27], [4], [4], [27], [3], [27], [0, 7], [5], [27], [27], [15], [27], [7], [27], [4], [4], [2, 11], [7], [24], [5], [2], [27], [8], [27], [2], [17], [27], [3, 27], [1], [17, 22], [4, 20], [2], [7, 8], [18], [27], [17], [20], [27], [0, 18], [27], [2, 11], [1], [27], [2, 27], [0], [18], [18], [3], [25], [22], [1], [15], [26], [27], [6], [27], [25], [24], [18], [0, 15], [0], [6, 20], [12], [18], [0, 4], [4], [27], [0], [27], [6], [22], [5], [27], [20], [7], [7], [4], [10], [27], [7], [10], [27], [0, 15], [19], [13], [0], [3], [17, 18], [26], [24, 25], [0, 14], [25], [18], [0], [27], [2], [3, 27], [15], [10], [27], [27], [7], [20], [6, 7], [3], [3], [27], [27], [15], [7], [3], [1, 17], [11], [27], [27], [18], [13], [27], [1], [4, 13], [0], [9, 12], [19, 25], [27], [27], [24], [4], [27], [26], [2, 3], [4, 20], [4], [0], [10, 20], [20], [17, 25], [27], [3], [27], [0, 4], [4], [27], [27], [13], [1], [1], [12], [0, 4], [27], [27], [6], [27], [27], [1], [27], [18, 22], [15], [18], [1], [27], [25, 27], [27], [10], [0], [7], [0, 18, 20], [7], [0], [10, 27], [20], [6], [1], [3], [10], [25], [27], [0], [3], [4], [27], [20], [27], [0], [23], [27], [9], [27], [3], [8], [7], [9, 15], [22], [27], [1, 9], [9, 14, 20], [27], [16], [4], [7], [27], [7], [10], [27], [4], [0], [27], [27], [4], [27], [7], [0], [15], [13], [22], [4, 22], [17], [7, 25], [6, 7, 14], [2], [20], [26], [27], [15], [11], [4], [26], [27], [15], [17], [1, 15], [27], [15], [27], [2], [27], [27], [0, 13], [3, 11], [15], [17], [27], [1], [18], [27], [27], [27], [17], [5], [27], [27], [1, 22], [20], [18], [4], [4], [10], [11], [6], [0], [17], [10], [27], [15], [1], [27], [27], [27], [3], [3], [11, 14], [0, 15], [27], [0], [27], [3], [15, 25], [27], [2], [13], [9, 25], [27], [27], [2, 3], [1], [15], [25, 27], [18], [13, 15], [27], [13], [18], [2], [5, 20], [7], [27], [18], [25], [27], [0], [27], [6], [6, 7], [14], [4], [0], [27], [27], [10], [1], [27], [15], [4], [9], [4], [27], [20, 22, 25], [11], [18], [1, 12], [14], [10], [7], [0], [27], [6], [0], [10], [18], [18], [27], [27], [8], [27], [27], [1], [4], [8], [27], [4, 22], [0], [3], [14], [4, 20], [3], [27], [2, 18, 27], [27], [2, 9], [27], [27], [3], [2], [3, 27], [6, 7], [12, 27], [27], [4, 20], [27], [4], [27], [3], [8, 13, 18], [27], [0], [0, 4], [10], [20, 22], [14], [27], [14], [2], [0], [3, 15, 20], [27], [0], [27], [27], [3, 27], [10, 27], [18], [3], [3], [4], [27], [15], [27], [27], [20], [0], [25], [17], [4], [27], [1, 22], [9], [14, 26], [14], [15], [25], [27], [6], [1], [18], [27], [15], [27], [27], [0], [1], [7], [5], [27], [1], [4, 22], [18], [27], [0], [17], [3, 20], [27], [27], [2], [27], [6], [27], [27], [1, 17], [11], [13, 15], [0, 15], [0, 6], [3], [1], [27], [1], [25], [27], [27], [25], [27], [7], [27], [0], [0], [6], [8], [27], [27], [27], [14], [5], [1], [27], [6, 7], [5], [7, 10], [18], [27], [27], [27], [7], [27], [1, 15, 17], [27], [27], [7, 14], [16], [27], [27], [27], [9], [18], [7], [0], [7], [1], [3], [27], [0, 15], [15], [27], [11], [0], [25], [0], [27], [27], [1], [27], [27], [0], [26], [19, 26], [15, 25], [0], [27], [20], [2], [27], [27], [27], [27], [27], [27], [20], [6], [6], [27], [9], [26], [0, 18], [0, 15], [0], [27], [27], [27], [27], [15], [25], [27], [1], [0], [1], [17], [0], [4, 13], [11], [10, 27], [27], [2], [22], [0, 20], [27], [27], [0, 4], [27], [1], [27], [2, 3], [27], [4, 5], [9], [0], [3], [22], [27], [0], [7], [4], [0], [10], [20], [27], [7], [14], [20], [0], [17], [9], [3], [27], [6], [14], [15], [27], [27], [10], [17], [27], [27], [17, 20], [18], [7], [27], [13], [27], [27], [27], [13], [13, 17], [17], [27], [27], [1], [1], [2], [27], [5, 18], [27], [0], [27], [1], [1], [16, 25], [15], [27], [27], [4, 5], [15], [0], [1, 15], [27], [10], [10], [27], [27], [1], [27], [24], [15], [27], [2], [0], [18], [27], [24], [14], [2, 11], [25], [15], [8, 10, 20], [14], [15], [15], [27], [27], [0, 15], [27], [27], [5], [0], [2], [27], [10, 27], [5], [0], [7], [17], [15], [0, 21], [3], [4], [1], [4], [18], [9, 15], [4, 27], [10], [17], [20], [27], [4], [27], [27], [3], [0], [6, 10], [26], [0, 15], [8], [5], [1], [2, 7], [13], [27], [4, 27], [27], [15, 17], [2, 25], [27], [15], [20], [17, 18], [4], [0, 17], [27], [27], [10], [27], [6], [18], [2], [11, 27], [27], [1], [0], [12], [27], [22], [0], [2, 3, 11], [5], [27], [10], [0], [27], [26], [24], [25], [27], [27], [2, 6], [3], [2, 27], [15], [2], [0], [14], [2], [0], [2], [15], [7], [27], [2, 9, 25], [13], [8], [18], [11], [4, 5], [3, 6], [1], [7], [26], [27], [20], [3], [27], [0], [15], [17], [13], [15], [26], [0], [0], [27], [15], [17], [1, 20], [15], [1], [4], [26, 27], [0], [19], [25], [4, 10], [2, 3], [4, 27], [27], [10], [15], [4], [15], [27], [27], [27], [15], [3], [27], [0, 2], [27], [2, 3], [0], [22], [25], [27], [2], [2, 27], [27], [27], [7], [18], [25], [27], [14], [27], [27], [27], [27], [0, 18], [26], [9], [15], [3, 7], [2], [4], [6, 7], [1], [1], [27], [27], [9, 25], [20], [13, 26], [27], [27], [27], [27], [2, 11], [7], [17], [27], [2], [27], [27], [8], [4], [0], [0], [6], [18, 20], [27], [27], [0, 18], [17], [6], [4], [7, 20], [27], [27], [27], [25], [27], [27], [1], [27], [4, 11], [3, 11], [0], [25], [27], [15], [27], [13, 20], [22], [15], [6], [18], [27], [24], [27], [27], [3, 11], [27], [9], [13], [27], [26], [8], [0], [7, 27], [10], [10], [27], [6], [27], [27], [20, 27], [7], [18], [1], [27], [22], [2], [15, 17], [13], [0], [0, 27], [18], [2], [9], [10], [20], [27], [27], [27], [1], [3], [18], [4, 5], [1], [27], [4], [3], [27], [27], [2], [27], [27], [27], [27], [18], [25], [6], [12], [10], [27], [27], [27], [27], [27], [27], [27], [11], [27], [3], [9], [27], [27], [27], [15], [27], [5], [27], [2], [4, 5], [17], [3, 9], [27], [27], [27], [27], [0], [18], [9], [0], [27], [27], [9, 27], [15], [15], [27], [10, 25], [27], [27], [27], [27], [27], [2], [0], [27], [27], [27], [6], [27], [0, 8, 17], [0], [3, 4], [25], [25], [11], [3], [0], [15, 25], [10], [18], [27], [27], [1], [10], [3, 25], [27], [27], [3], [1], [27], [4], [2, 27], [27], [0, 6], [0], [27], [27], [0], [25], [0], [5], [3], [12], [6], [15, 20], [1, 3], [27], [8, 27], [4], [27], [8], [0], [27], [26], [23], [27], [11], [4], [8], [25], [6], [0], [22], [1, 18], [8], [17], [27], [20], [1], [4], [12], [1, 17], [1], [27], [27], [25], [1], [27], [25], [27], [27], [8], [18, 25], [4], [27], [3], [15, 26], [4], [0], [5], [27], [27], [0], [9, 25], [6], [5], [27], [24, 25], [27], [6], [4], [1, 10], [3], [15], [7], [2], [3], [10, 27], [2, 17], [25], [27], [27], [27], [13], [4], [3], [0, 9], [27], [2], [4], [27], [27], [27], [10, 24], [0], [0], [27], [27], [11], [0], [26], [6], [27], [4, 20], [0], [2, 7], [27], [0], [27], [2, 9, 11], [18], [27], [27], [27], [3, 22], [18], [27], [0], [27], [27], [7], [4, 20], [4], [18], [27], [27], [27], [5], [27], [27], [1, 17], [27], [2, 10], [1, 15], [10], [27], [4], [23], [6], [2], [27], [1, 17], [26], [6], [4], [15], [15], [27], [27], [27], [2, 27], [5, 24], [4], [22], [10], [2, 26], [10], [0], [0], [7, 25], [10], [0], [17], [15], [11], [5], [27], [0, 15], [15], [5], [2], [1, 15], [6], [26], [27], [27], [2, 4], [13], [4], [27], [9], [27], [7], [12], [27], [13], [7], [27], [3], [9], [7], [4], [27], [3, 10], [27], [3, 27], [27], [24], [25], [27], [27], [7, 27], [22], [27], [27], [15], [10], [0, 15, 17], [18], [27], [27], [27], [6], [0], [14], [2], [7], [27], [27], [5], [2, 27], [1, 27], [0, 13, 15], [27], [27], [10], [27], [15], [0], [3], [27], [10], [27], [26], [27], [4, 22], [10], [14], [22], [27], [20], [3], [4], [20], [27], [22], [13, 17], [27], [13], [27], [18], [6], [9], [27], [2], [27], [10], [27], [25], [17], [25], [4], [3], [20], [4], [1], [17], [24], [6, 7], [3], [4], [27], [3], [27], [27], [27], [27], [0], [27], [18], [18], [26], [27], [0], [4], [3], [7], [27], [15], [27], [27], [27], [1, 6], [15], [7, 23], [27], [0], [22], [27], [15], [13], [1], [27], [18], [7, 10], [4], [27], [27], [27], [5], [7, 27], [2], [7], [2, 3], [7], [15], [6], [2, 9], [18], [2, 11], [3], [15], [27], [4], [27], [26], [27], [0], [27], [1], [18], [1], [27], [20, 21], [8], [15], [4], [5], [7], [27], [27], [27], [27], [0], [27], [9], [7, 15], [27], [11], [22], [27], [0, 6], [0], [0], [4], [10], [20], [13], [27], [22, 24], [18], [27], [27], [0], [27], [6, 7], [3], [1, 17], [2], [18], [27], [27], [5], [4], [1], [27], [15], [18], [13, 18], [3], [4], [8], [7], [27], [0], [3], [9], [3], [25], [7], [12], [10], [3, 7], [1], [14, 27], [6], [10, 22], [27], [8], [20], [0], [15], [27], [1], [27], [6, 10], [27], [0], [27], [19], [22], [4], [20], [2], [27], [17], [27], [18], [0, 7], [27], [27], [27], [0, 18], [20], [7, 10], [27], [4], [27], [4, 5], [27], [1], [27], [0], [15], [27], [0, 15, 18], [5, 17], [27], [0, 25], [1], [7], [24], [7], [5], [27], [18], [0], [27], [11], [17], [9], [27], [27], [27], [22], [4], [15], [3], [20], [27], [25, 27], [27], [2], [27], [11], [13], [13], [14, 17, 19], [27], [0], [27], [9, 20], [27], [0], [6, 15], [27], [2], [27], [6], [9], [0, 17], [11], [27], [27], [1, 27], [9, 17, 18, 25], [4], [4], [17, 27], [4], [20], [27], [0, 26], [1, 3], [14], [0], [4], [1], [27], [4, 27], [1], [27], [6, 27], [3], [4], [27], [4], [9], [18], [15], [4], [0], [27], [10], [13], [0], [27], [27], [27], [27], [2, 3, 9], [2], [0, 1], [1], [8], [14], [17], [27], [27], [27], [27], [11], [2, 10], [1, 27], [4, 27], [17], [4], [1], [27], [1], [1, 13], [22], [27], [10], [15], [0], [27], [27], [0], [26, 27], [4], [27], [12], [6, 7], [7], [27], [9], [0], [27], [27], [0], [0], [26], [22], [7], [17], [27], [0, 18], [27], [0], [27], [22], [0, 7, 22], [3, 11], [27], [27], [26], [27], [4, 20], [7], [4], [18, 22], [10], [13], [17], [3, 10], [7], [12], [27], [0], [2], [5], [18, 25], [10], [27], [27], [27], [27], [25], [27], [20, 26], [7, 26], [3], [27], [1], [20], [3, 27], [27], [27], [27], [6, 7], [20], [27], [27], [27], [5], [8], [27], [20], [11], [27], [0], [3, 9], [27], [27], [3], [27], [27], [6, 7], [27], [18], [2], [27], [27], [27], [5], [2], [3], [15], [4, 27], [0, 15], [10, 27], [7], [1], [27], [18], [10], [3], [27], [27], [18], [7], [27], [1], [27], [6, 15], [17, 21], [26], [27], [9], [26], [27], [2, 3], [4], [27], [9, 25], [3, 4], [4], [27], [1, 15], [9, 20], [0, 7], [15], [27], [20, 24], [27], [27], [1], [27], [1], [27], [22], [27], [15], [2], [2], [2], [7], [27], [27], [26], [3], [0, 4], [26], [13], [8], [15, 22], [8], [6, 7], [7, 18], [20, 23], [13], [27], [25], [2], [27], [7], [20], [27], [7], [2, 25], [5], [10], [27], [1], [13], [17, 27], [1], [0], [7], [15], [18], [0], [26], [27], [22, 27], [0], [13], [15], [27], [27], [1], [0], [7], [1], [2, 10], [8], [27], [7], [27], [13, 22], [1], [20], [3], [9], [6], [18, 27], [7], [27], [27], [10], [27], [7], [21], [18], [27], [18], [27], [4], [6], [27], [27], [27], [27], [2, 14], [27], [27], [17, 18], [27], [26], [27], [18, 20], [0, 15], [19], [27], [14], [6, 7, 27], [4], [0, 20], [1], [18, 20], [0], [27], [27], [5], [7, 10], [9], [12], [15], [4], [3], [27], [27], [0, 1], [0], [22], [17, 27], [1], [1], [15], [0], [7], [0], [27], [27], [27], [18], [27], [1], [27], [22], [0], [1], [6, 7], [0], [7], [0], [17], [27], [9], [4], [27], [27], [27], [15], [27], [18], [4], [0, 26], [27], [6], [9], [7, 17], [27], [3], [26], [18], [13], [0], [10], [11], [25], [7, 18], [0], [27], [1], [15], [6], [25], [10], [26], [17], [10], [1, 4], [20, 24], [1], [4], [26], [27], [27], [27], [6], [5], [27], [27], [18], [7], [22], [26, 27], [1], [8, 18], [10], [18], [27], [15, 20], [5], [0], [0], [15], [27], [20], [0], [4], [24, 25], [22], [13], [26], [0, 4, 18], [27], [1], [27], [27], [17], [27], [27], [17], [27], [6], [17], [6], [27], [27], [15], [9, 27], [27], [9], [7], [18], [27], [26], [7, 25], [27], [0], [17], [1, 15], [17], [1], [22], [15], [2], [10, 25], [10], [27], [0], [2, 3], [18], [4, 20], [27], [27], [27], [25], [17], [15], [27], [1], [1], [27], [15], [27], [27], [7], [7], [27], [3, 6], [22], [10], [0, 15], [18, 27], [22, 27], [0], [3, 9], [3], [3], [27], [2], [17], [1, 27], [18], [10, 27], [4, 7], [27], [10, 27], [27], [11], [27], [7], [20], [24], [27], [27], [3, 18], [0], [4], [27], [2], [5], [27], [27], [27], [20], [25], [26], [27], [15], [22, 27], [27], [27], [27], [20], [13], [0], [1], [27], [9], [27], [1, 11], [0, 9], [11], [3], [10], [15], [27], [7], [27], [27], [27], [0], [7], [0, 17], [27], [1], [25], [1], [27], [27], [27], [8], [7], [15], [11], [14], [14, 26], [3], [5, 27], [0], [5], [27], [17], [1, 18], [15], [27], [27], [1], [24], [3, 10], [0], [12], [18], [10, 27], [6], [27], [27], [27], [7], [7], [27], [24], [2], [27], [27], [27], [27], [2, 3], [3, 12], [0, 15], [17, 18], [3, 10], [27], [27], [27], [22], [16], [27], [27], [3, 15], [18], [27], [15], [0], [27], [27], [9], [27], [2, 3], [27], [14], [27], [27], [27], [25], [10], [4], [17], [27], [27], [7, 18], [25], [27], [25], [27], [4], [7], [13], [0], [27], [3, 10], [27], [4], [1], [5, 9], [0, 27], [4], [6, 14], [2, 3], [3], [4], [27], [27], [9, 20], [6], [27], [11], [1], [27], [0], [9], [11, 17], [11], [27], [27], [27], [27], [27], [5], [25], [3], [26], [27], [8], [3], [2, 19], [27], [26], [2, 9], [27], [6, 22], [14], [27], [27], [5, 27], [9], [2, 27], [17], [27], [7, 27], [27], [24, 25], [27], [3], [22], [26], [11], [27], [1, 8], [8], [7], [15], [0], [27], [27], [27], [0], [0], [27], [27], [27], [15], [10], [27], [17], [27], [5], [10, 27], [17], [1], [25, 27], [25], [2], [2], [27], [6], [12], [3, 9], [1], [3, 27], [27], [3], [0], [13], [9], [27], [25], [14], [4, 11], [27], [4, 22], [4], [25], [10, 15], [0], [15], [17, 20], [18], [27], [5], [27], [27], [27], [27], [10, 27], [10], [3, 10], [1], [14], [0], [12], [27], [0], [27], [17], [27], [27], [17, 18], [1], [27], [7], [27], [18], [11], [27], [0, 1, 7], [3], [7], [5, 22], [27], [5], [27], [14], [7], [27], [27], [3, 27], [10], [10], [20], [25], [27], [0], [4], [7, 26], [0], [0], [7], [2], [27], [27], [6], [27], [11], [27], [19], [25], [1], [26], [15, 20], [0], [27], [3, 27], [8], [16], [0], [3], [27], [10], [27], [6], [7], [15], [0], [6, 12], [3], [27], [4], [3], [18], [25], [9], [3], [25], [27], [2, 3], [4], [0], [3], [3, 10], [8, 27], [1, 6], [15, 18], [2, 11], [18, 22], [6, 7], [1, 4], [15], [10], [27], [10], [27], [27], [1], [27], [27], [4], [0, 20], [27], [27], [17], [2], [27], [3, 10], [0], [4], [4, 7], [3, 11], [0], [22], [3, 20], [4], [10], [27], [0], [4], [20], [27], [27], [27], [27], [7], [0], [17], [23], [0, 27], [27], [27], [27], [3, 9, 17], [0], [27], [27], [27], [1], [3], [27], [9], [5], [2, 3], [15], [15], [0], [22, 25], [4, 22], [1], [27], [7], [27], [15, 18], [20], [18], [27], [27], [11], [27], [27], [25], [27], [27], [27], [25], [15], [0], [27], [27], [27], [27], [27], [27], [18], [27], [26], [27], [10], [15], [24], [13, 17], [15], [18], [27], [10], [27], [10], [27], [0, 13], [1], [27], [1], [9], [17], [3], [27], [5], [27], [6], [27], [1], [27], [5], [6], [15], [20], [3], [7], [0], [27], [1], [1], [20], [27], [4], [18], [9], [22], [1, 17], [2, 6], [1, 17], [3], [10], [27], [27], [20], [27], [1], [27], [27], [18], [27], [0], [3, 10], [27], [1], [10, 27], [27], [2, 27], [27], [18], [4, 22], [9], [4, 8], [15], [13], [0, 15], [27], [5, 15], [27], [5], [27], [2], [3, 15], [13], [0], [27], [27], [4, 11], [27], [27], [27], [10], [27], [27], [1, 4], [13], [12], [9, 22], [27], [13, 17], [27], [1], [27], [4], [8], [18], [26], [2], [7], [0], [4], [15], [7], [27], [3], [27], [6], [0], [1], [15], [10], [27], [13, 17], [27], [0, 4], [9], [0, 4], [22], [18], [9], [25], [10], [27], [9], [4], [18], [5, 17], [27], [0], [1], [0, 18], [2], [27], [27], [27], [0], [27], [4], [15, 20], [24], [7, 13], [0], [26], [27], [4], [25], [10], [27], [27], [15], [5], [27], [27], [27], [0], [27], [4], [25], [27], [13], [5, 20], [27], [27], [0], [10], [3], [4], [3], [9, 26], [20], [26], [0, 4], [0], [11], [18], [10], [27], [4], [25], [15], [27], [3, 9], [4], [5], [2], [18], [0, 4], [11], [1], [4], [1], [27], [27], [0], [17, 18], [6], [12], [6], [26], [27], [27], [0, 26], [3], [14], [27], [0], [27], [27], [27], [0], [27], [4, 18], [7, 10], [27], [27], [24], [4], [8], [27], [2, 3, 10], [27], [0], [4], [9], [13], [27], [27], [4], [1], [27], [17], [27], [22, 27], [6], [9, 20], [15], [4], [27], [4], [27], [3, 8], [27], [10], [6], [20], [20], [0, 18], [4, 7, 27], [11], [27], [27], [27], [0], [18], [10], [1], [18], [4, 17], [15], [3], [13], [4, 24], [27], [2, 3], [0], [9], [15], [7], [27], [23], [5], [27], [27], [27], [27], [27], [27], [26], [27], [4], [15], [4], [27], [27], [1], [27], [4], [27], [27], [5], [12, 24], [20], [0], [27], [7], [25], [4], [0], [20], [11], [3, 26], [27], [17], [17], [27], [0], [20], [4], [0], [1], [25], [20], [27], [13, 27], [17], [11], [18], [27], [27], [4, 27], [15], [5], [1, 27], [27], [3], [2, 27], [25], [27], [7, 27], [27], [27], [10], [27], [7], [25], [27], [3], [10], [27], [4], [27], [17], [25], [4], [22], [0], [4], [27], [18], [18], [0], [27], [14], [0], [2], [27], [2], [27], [7], [3, 10, 27], [27], [27], [27], [18], [18], [27], [18, 20], [2], [3], [27], [1], [27], [3, 15], [18], [4], [27], [20], [27], [27], [1, 3], [27], [27], [27], [27], [3, 10], [18], [15], [2], [0, 15], [0], [27], [5], [27], [24], [27], [11], [20], [27], [27], [17], [18, 20], [2], [27], [0], [7], [7], [0], [27], [27], [13], [4, 9], [27], [27], [25], [15], [0], [26], [7], [10], [27], [12], [27], [6, 7], [1], [27], [3], [6], [27], [0], [2], [0], [17], [27], [15], [15], [10], [27], [2], [10], [20], [11], [1], [8], [27], [1], [7], [0, 1], [4], [1], [27], [27], [0], [18], [11], [27], [7], [0], [0], [4, 9], [10], [27], [0], [15, 27], [3, 27], [14], [11, 27], [27], [27], [27], [7], [22], [22], [0], [17], [27], [1, 27], [6, 7], [11], [1], [26], [27], [1], [7], [9], [27], [18], [27], [0], [18], [12], [26], [15, 18], [27], [1, 17], [0], [10, 17], [10], [10], [27], [27], [27], [3], [27], [27], [6, 7], [3], [1, 27], [27], [3], [27], [9, 19], [17], [27], [6], [27], [27], [19], [3], [15], [1], [6], [15, 18], [2], [3], [15], [14], [24], [0], [4], [17], [27], [2], [5, 20], [0], [4], [15, 17, 20], [13, 27], [27], [10], [27], [4], [27], [0, 20], [27], [0], [8], [3], [8], [11], [0], [27], [4, 13], [15], [4], [25, 27], [27], [27], [15], [27], [1], [27], [15], [9], [3], [4], [4], [4, 5, 18], [7], [27], [27], [0, 4], [3], [0, 5, 15], [20], [4, 5, 20], [27], [15], [1, 18], [27], [0], [24], [4], [17], [1, 27], [27], [27], [3], [4, 27], [27], [27], [22], [3, 26], [15], [5, 27], [27], [18], [27], [10], [6], [15], [3], [4], [10, 27], [6], [15], [0], [27], [10], [0], [6], [27], [1], [27], [27], [10], [22], [3], [20], [15, 20], [0, 13], [15], [27], [27], [27], [0], [6, 7], [27], [27], [3], [3], [4], [4], [27], [3], [2], [27], [0, 27], [22], [15], [3], [4, 19], [27], [0], [18], [0], [15], [11], [11, 27], [1, 8], [27], [22], [15], [7], [21], [4], [7, 18], [4], [0, 4], [6], [1, 7], [15, 17], [15], [27], [4], [0, 15], [27], [18], [1], [7], [2], [27], [7, 27], [27], [3, 9], [0], [27], [27], [15], [27], [4, 8], [4, 27], [2], [27], [3, 10], [27], [27], [18], [15], [10], [27], [6], [27], [18], [3], [15, 17], [7], [13], [27], [15], [7], [27], [14], [25], [25], [27], [27], [27], [27], [27], [6, 7], [4, 20], [9], [27], [0, 13, 18], [27], [27], [27], [3], [27], [27], [13], [27], [27], [27], [27], [20, 22], [27], [9], [6], [26], [27], [3], [27], [17], [6], [22], [1, 26], [27], [25], [20, 27], [27], [27], [4], [10], [3], [27], [3], [15], [7], [0, 22], [27], [2, 3], [18], [27], [27], [7, 11, 15], [26], [27], [3, 10], [3], [27], [4, 21], [1], [10, 26], [3], [4], [27], [11], [3], [27], [26], [0, 26], [27], [5], [0, 4], [0], [27], [27], [27], [6], [18], [10], [15], [27], [17], [27], [4], [2], [27], [17], [0], [5, 18], [3], [7, 18], [0], [2, 7], [10], [27], [27], [27], [27], [27], [27], [10], [26], [6], [22, 25], [11], [5], [27], [27], [20], [4, 27], [27], [2, 11], [3], [19], [4, 27], [6, 7], [17], [27], [25], [7], [10], [13], [27], [14], [27], [11], [20], [5, 27], [27], [0], [27], [7], [0, 22], [27], [27], [27], [18], [17], [0], [20], [27], [17], [18], [0], [7, 17], [22, 27], [6], [1], [19], [27], [3, 9], [4], [1], [1], [27], [0, 4], [7], [3], [12], [15, 17], [2, 15], [4], [4], [18], [0], [27], [2], [17], [27], [9], [4], [27], [27], [27], [10], [15], [9], [5], [22], [8], [2], [27], [17], [1], [0, 4], [10], [27], [26], [7], [27], [10], [0], [27], [7], [4], [22], [27], [4], [0], [5, 8, 22], [13, 22], [27], [4], [27], [20], [27], [27], [26], [27], [7, 27], [27], [24], [27], [27], [0, 4], [10], [10], [18], [27], [27], [27], [15, 24], [4, 27], [25, 27], [20], [6, 7, 24], [3], [5], [8], [11], [8], [17], [17], [27], [6], [1], [12], [1], [9], [7], [9], [25], [25], [3], [27], [15], [20, 27], [17], [7], [27], [0, 17], [0, 27], [27], [27], [0], [27], [27], [27], [4], [15], [15, 26], [27], [5], [17], [10, 27], [8, 20], [27], [17, 20], [12], [8], [15], [14], [27], [7], [27], [25], [4, 20], [7, 10], [1, 7], [0], [27], [3, 10], [0, 18], [17], [27], [2, 3], [4], [18], [4, 5], [27], [3], [0, 18], [0], [27], [0, 15], [27], [1], [27], [26], [27], [27], [27], [15], [24], [27], [4], [23], [0], [4], [1], [10, 22], [26], [7, 27], [27], [27], [6], [15], [4], [15], [0], [17], [5, 14], [27], [22], [27], [4], [15], [27], [15], [27], [7], [27], [6], [4], [1, 27], [27], [26], [22], [2, 3], [7], [10], [13, 15], [5, 20], [26], [27], [3, 10], [4], [27], [27], [25], [15], [2, 3], [27], [6], [15], [0], [4], [3], [27], [27], [1, 18], [22, 27], [24], [4], [27], [27], [17], [1, 27], [20], [26, 27], [0], [1, 15], [5, 22], [18], [2], [27], [25], [3], [27], [27], [27], [5, 20], [20], [27], [4], [14, 19, 27], [0], [0, 3], [3, 18], [18], [27], [18], [9], [0, 4], [18], [27], [18], [4], [27], [27], [7], [10, 27], [15], [6, 10], [7], [2], [27], [0], [27], [27], [27], [2, 3, 15], [5, 20], [6], [27], [7], [0], [1], [27], [8], [0, 27], [18], [2], [27], [9], [1], [27], [3, 22], [15], [7], [4], [27], [4], [7], [15], [4], [7, 18], [27], [27], [27], [1], [27], [22, 26], [7], [0, 15], [18], [27], [12], [27], [10], [4], [4], [26], [6, 22], [27], [0], [18], [1], [10, 23], [20, 26], [25], [27], [2], [27], [11], [27], [4, 5], [27], [27], [6], [2], [26], [27], [5, 27], [9], [0], [9], [23], [27], [9], [3], [27], [27], [26], [27], [3], [22, 27], [27], [1, 3], [22], [7, 12], [5], [27], [27], [24], [17, 27], [26], [27], [6, 7], [0], [0, 27], [0], [0, 15], [27], [4, 17], [27], [10], [27], [26], [10], [18], [18], [4], [1], [0], [2, 3], [27], [4], [8, 18], [4], [27], [25], [1], [4], [11], [4], [0], [5], [25], [10], [18], [27], [27], [22], [27], [12], [27], [7], [3], [17], [13], [2], [24], [18], [27], [4], [10], [11], [10], [17], [1, 8, 20], [0, 18], [27], [10], [12], [24], [27], [2], [7], [9, 10], [14], [3], [26], [26], [20], [2], [4, 6], [22], [24, 25], [25], [27], [27], [11], [27], [20, 22], [3, 10], [27], [7], [2], [26], [10], [8], [20], [4], [4], [6, 27], [27], [27], [3, 10], [1], [20], [15], [15], [13, 18], [27], [17], [1], [25], [11], [3], [27], [0, 4], [10], [3, 15], [7], [0], [11], [9], [27], [7], [27], [0], [20], [13], [0], [27], [10], [1], [20], [20], [2], [17], [27], [17], [25, 27], [11], [6], [27], [27], [27], [0, 20], [2], [7], [1], [27], [27], [0, 14, 19], [0, 15], [1], [18], [27], [0], [27], [18], [0], [25, 27], [4, 15], [27], [3], [3], [15], [10], [0, 1], [1, 4], [27], [0], [17, 20], [2], [10], [1], [27], [10, 12], [8], [2, 3], [27], [9], [7], [9], [17], [27], [0], [0, 5], [27], [15, 17], [10, 11], [27], [22], [25], [15], [4], [0], [15], [27], [1, 7], [27], [1, 15, 22], [9], [12], [27], [18], [1, 18], [6, 7, 15], [27], [25], [10], [27], [4, 6], [15], [20], [4], [17, 25], [10], [27], [4], [10, 20], [3, 10], [2], [1], [27], [27], [0], [4, 27], [27], [27], [4], [22, 27], [10], [1], [4, 27], [27], [4], [27], [0], [27], [18], [15], [4], [27], [27], [12, 20], [27], [1], [5], [9], [0, 4], [15, 24], [6], [10], [27], [27], [27], [0], [10], [5], [0], [18], [10], [25], [0], [27], [10], [27], [15], [24], [20, 26], [27], [27], [0, 4], [27], [9, 16], [26], [3, 22], [4, 20], [27], [7], [27], [13], [9], [27], [27], [0, 18], [10], [2, 10], [27], [3], [15], [3], [23], [7], [27], [0], [27], [27], [27], [22], [27], [15], [26], [3], [18], [7], [18], [27], [20], [11], [0], [0], [9, 10], [7, 27], [1], [27], [27], [10], [17], [9], [18], [18], [22], [25], [27], [4, 8], [9], [6, 18, 20], [3], [22], [25], [15], [9], [14], [27], [27], [26], [27], [0, 22], [15], [24], [5], [2], [1, 3], [18], [6, 23], [1], [0], [1], [9], [15], [0], [27], [4], [1], [27], [4], [1, 4], [10], [10], [11], [6], [3, 4], [27], [27], [27], [8], [0], [27], [27], [20, 24], [5, 23], [27], [7], [4], [2], [27], [27], [27], [7], [22], [4], [5, 17], [10], [6], [15], [17], [2, 27], [27], [1, 17], [27], [4], [20], [27], [1], [27], [27], [8], [0, 15], [27], [4], [0, 20], [9], [6, 7], [7], [27], [27], [4], [0, 1], [27], [26], [15], [27], [18], [1], [10, 27], [27], [25], [27], [2, 11], [10], [8], [1], [2], [0, 15], [9], [27], [27], [26], [27], [27], [22], [26], [27], [7], [15], [26], [1], [15], [4], [3], [15], [1], [27], [27], [25], [4, 27], [20, 21], [0], [2], [0, 4, 20], [27], [26], [26], [27], [0], [15], [27], [13], [15], [7], [27], [10], [0], [15], [25], [8, 20], [0], [17], [27], [8], [25], [2], [5], [27], [0], [27], [18, 20], [7], [14], [27], [27], [27], [27], [27], [7], [7], [13], [18], [15], [10], [10], [3], [27], [27], [20], [3], [7], [0], [27], [27], [5, 20], [6], [7], [26], [14], [27], [10], [1], [18, 20], [0], [27], [4], [27], [27], [0], [0], [7], [1], [27], [6], [20, 27], [12, 20, 21], [15], [2], [3, 10], [7], [0, 5], [27], [7], [27], [18], [27], [16], [24], [0], [27], [8], [0], [27], [10], [25], [10], [27], [17], [27], [18], [11], [1], [14, 27], [0], [15], [18], [0], [0, 18], [25], [27], [27], [27], [2, 15], [27], [26], [0, 4], [27], [4], [7], [2], [27], [27], [27], [27], [9], [4], [0], [17], [27], [27], [27], [27], [17], [0, 1], [10], [0], [15], [0], [2, 3], [27], [0, 4], [27], [27], [2, 6], [24], [27], [4], [27], [19], [27], [27], [27], [27], [27], [27], [4], [18], [27], [7], [4, 5], [18], [15, 25], [27], [4], [1], [27], [2], [2, 3], [27], [15], [20], [15], [27], [5], [18], [17], [0], [9, 27], [27], [8], [15, 17], [15], [15], [0], [3], [27], [27], [27], [18], [27], [15], [1], [18], [27], [3, 9, 10], [27], [18], [18], [27], [0], [6, 7], [18], [18], [27], [27], [0], [15], [4, 18], [20], [0], [26], [27], [27], [3, 8], [3], [4], [20], [0], [6], [17], [27], [3], [9], [24], [27], [20], [27], [27], [19], [0], [15], [24], [3], [27], [27], [3], [15], [5, 27], [10], [1, 5], [7], [27], [27], [0], [9, 17], [4, 18], [0, 4], [15], [18], [15], [27], [1], [3], [27], [4], [27], [7], [9], [6, 7], [7], [1, 3], [27], [18], [27], [0, 18], [27], [17], [9], [27], [2], [0], [27], [0, 13], [18], [5], [15], [27], [27], [27], [12], [4], [1, 27], [25], [0, 20], [1], [4], [27], [10, 11], [10], [15], [6], [11], [27], [18], [6], [0], [1], [14], [4], [1], [15, 27], [27], [27], [27], [0, 26], [5, 20], [5], [24], [27], [27], [17], [3, 20], [12], [1], [0], [18], [27], [6], [27], [18], [9, 11], [4], [27], [10], [2], [0], [2], [7, 15], [10], [27], [10], [12], [13, 17], [1], [0], [10], [0], [4], [27], [27], [27], [15], [27], [27], [27], [0], [1], [18], [0], [15], [10], [27], [0, 22], [0], [2, 10], [17], [0], [20], [7], [27], [4, 27], [18], [6], [7], [17], [0, 17], [18], [9], [27], [3, 10], [4], [27], [11], [27], [15, 16, 25], [14, 19], [17], [15], [3], [2], [27], [1], [27], [1, 4], [5], [2], [1, 4], [3], [14, 19], [4, 27], [27], [0, 15], [27], [18], [0], [0, 15], [27], [4], [8], [27], [3], [27], [17], [15], [18], [27], [2], [2], [3, 6, 10], [27], [20], [0, 18], [1], [6, 9], [27], [10], [3], [9], [1], [27], [0], [7], [2], [4], [27], [18], [2, 9], [1], [27], [7], [27], [0], [27], [15], [18], [0, 15], [27], [7], [2, 9], [3, 27], [26], [27], [10], [24], [4], [9], [27], [0, 15], [26], [1], [4], [7, 20], [27], [20], [5, 27], [27], [0, 18], [1, 10], [27], [7], [27], [27], [3, 5], [4], [27], [27], [27], [15], [7], [27], [27], [0], [20], [2], [7], [10], [14], [4], [0], [27], [0], [18], [3], [10], [27], [0], [27], [27], [2], [6], [3, 27], [27], [27], [9], [9], [0], [27], [1], [4], [11], [3], [6], [5, 20], [15], [7], [27], [27], [0], [2], [3], [0], [6, 27], [27], [15], [10], [0], [27], [27], [0, 18], [7], [27], [1], [27], [4], [27], [1], [3], [13, 17], [0], [26], [0], [21], [26], [4, 10], [6], [27], [3, 10], [7], [27], [25], [10], [3], [0], [27], [27], [0, 27], [2, 3], [3], [27], [14, 27], [17], [5], [27], [3], [18], [27], [9], [3], [3, 10], [0], [27], [4], [24], [27], [18], [10], [27], [27], [3, 27], [11, 27], [27], [27], [4], [4], [5], [4], [12], [1], [0], [27], [4], [27], [27], [15], [7], [6, 27], [0], [15], [22], [14], [27], [4, 15], [20], [20], [0], [20], [27], [27], [27], [10], [7], [27], [27], [27], [27], [2], [27], [15], [20], [0, 18], [27], [3], [25], [3], [0, 15], [2, 27], [5], [27], [0], [3], [27], [4], [0], [25], [27], [27], [15], [15, 18], [3], [13, 17, 26], [7], [7], [15, 18], [7], [0], [14], [18], [0], [3], [15], [27], [22], [20, 27], [27], [24], [4], [4, 27], [11, 17, 23], [27], [27], [12], [18], [27], [9], [0, 7, 15], [27], [7], [18], [25], [25], [12, 25], [27], [0], [0], [4], [27], [10], [0, 8], [2, 27], [0], [27], [6], [13, 17], [9], [3], [3, 19], [27], [0, 14], [27], [0], [9], [27], [27], [27], [27], [15], [0], [15], [27], [6], [5, 15, 17], [5], [27], [5], [15], [5], [20], [4], [20, 25], [8], [1], [27], [27], [2], [1], [22], [13], [27], [4], [5], [10], [0], [2], [1], [0], [27], [13], [2, 3], [27], [17], [27], [27], [27], [9], [4], [0], [10, 13], [3], [27], [4, 15], [27], [0, 7], [7, 27], [25], [27], [27], [8], [27], [27], [25], [5], [4], [1], [27], [15, 17], [27], [27], [15], [8, 22], [27], [8], [27], [27], [27], [27], [8], [24], [27], [20], [4], [0, 8], [26], [27], [9], [0, 18], [27], [7], [22], [23], [0, 21], [4], [1, 17], [20, 23], [5, 24], [1], [4], [27], [27], [27], [18], [27], [27], [1], [3], [27], [17], [0], [13], [27], [27], [20], [0], [27], [8, 20], [27], [4], [27], [4], [27], [27], [27], [0], [14], [0], [27], [1, 10], [7], [15], [4], [4, 20], [6, 7], [18], [6, 22], [27], [18], [1], [27], [27], [12], [2, 3, 12], [20], [3], [1], [20], [3], [0], [6], [2, 20], [0], [5], [15], [27], [7], [27], [18], [18], [27], [27], [27], [3], [18], [27], [27], [17], [15, 18], [4], [7], [7, 15], [27], [13], [0], [18], [10], [0], [1], [3], [3, 7], [2], [5], [1], [27], [26, 27], [14], [0], [17, 27], [27], [4], [4], [27], [0], [3], [6], [27], [1], [14, 15], [4], [3], [27], [27], [27], [9], [5], [7], [13], [27], [0, 15, 17], [10], [17], [15], [27], [9], [14], [22], [15], [0], [17], [27], [1], [9], [0], [27], [3], [1, 4], [27], [27], [27], [27], [15], [1], [3], [10], [26], [1], [22, 27], [27], [0, 22], [3, 10], [20], [4], [18], [1, 27], [24], [0], [5, 18], [27], [27], [10], [18], [27], [25], [27], [18], [9, 25], [17], [15], [0], [3, 7], [15], [6], [0], [27], [6, 7], [27], [1], [13], [27], [11], [13], [4, 15], [9], [20], [0], [27], [0], [2, 3], [27], [15], [9], [27], [2, 27], [20], [4], [18], [27], [27], [2, 3], [25], [6, 17], [27], [15], [18], [18], [10, 27], [13], [7, 22], [27], [0, 13], [27], [0], [27], [27], [0], [0], [4, 12], [15], [0], [27], [27], [18], [22], [10], [2], [27], [2, 3], [27], [27], [15], [0, 18], [6], [27], [15], [27], [1], [4], [4], [2, 5, 10], [19], [17, 20], [27], [6, 7, 14], [27], [27], [0], [27], [4], [15], [5], [27], [27], [1], [1], [27], [27], [27], [27], [4], [2], [0, 15], [10], [2, 3], [27], [22], [3, 10], [20], [27], [27], [27], [4], [27], [0, 15], [27], [1], [25], [9, 19], [27], [27], [18], [27], [27], [0], [27], [2, 25], [2, 9], [25], [27], [7], [25], [27], [3], [10], [10], [0], [13], [15], [27], [3, 9], [22], [27], [25], [4], [9, 27], [26], [27], [26], [27], [27], [6], [3], [2], [25], [2], [0, 20], [22], [26], [1], [0], [3], [2], [27], [0], [0], [11], [27], [27], [27], [27], [5], [1], [0], [27], [18], [20], [27], [6], [27], [15], [1], [1], [20], [3], [5], [0], [26], [0, 4], [26], [14], [27], [22, 26], [3], [10], [18], [6, 10], [17, 27], [0, 18], [27], [15], [4], [2], [11], [1], [6], [27], [26], [22], [15], [15], [27], [27], [9], [3], [17, 27], [1, 15], [7], [4], [27], [15, 20], [15], [4], [27], [0], [3], [27], [27], [18], [27], [27], [27], [27], [27], [6], [27], [4], [0], [0], [15], [4], [27], [4], [2], [1, 7], [0], [27], [16], [7], [23], [7, 27], [27], [4], [27], [1, 17, 27], [3, 11, 14], [13, 18], [11], [4], [7], [5], [0], [27], [27], [1], [0], [27], [13], [3], [1], [27], [5], [18], [27], [27], [3], [7], [9], [5, 20], [27], [0, 7], [27], [0, 22], [27], [10, 22], [8, 18, 20], [18, 27], [4], [20], [0, 13, 17], [7], [27], [24], [2], [18], [9], [26], [18, 27], [27], [3], [17], [27], [0], [0, 9], [27], [4], [3, 10], [6], [20], [18, 27], [27], [26], [11], [27], [15], [7], [6], [18], [26], [0, 4, 22], [27], [10], [4], [18], [15], [1], [1], [4], [0], [27], [3], [27], [2, 3], [18], [4], [0], [27], [25], [0], [24], [13], [5, 8], [9, 24, 25], [5], [4, 17, 20], [9, 25], [9], [17], [27], [27], [8, 9], [6], [4], [6], [18], [26], [26], [4], [0], [0], [7], [0], [27], [27], [25], [15], [4, 9, 11], [27], [26], [8, 20], [27], [3, 11], [0], [27], [3], [22], [20], [1, 15], [8], [14], [18], [1], [6], [10], [4], [4, 20], [4, 17], [27], [0], [15], [27], [0], [27], [0, 26], [15], [6], [27], [15], [24], [27], [3], [9, 25], [27], [27], [22], [27], [27], [27], [27], [3, 10], [3], [7], [4], [27], [2, 3], [27], [27], [3, 6, 14], [25], [27], [17], [1], [27], [5], [15], [1], [10, 22], [7], [0, 4, 13, 17], [10], [4], [27], [18], [17], [6, 7], [27], [1], [4, 22], [0, 4], [3], [10], [27], [10, 11], [17], [27], [0], [27], [27], [3], [18], [2], [27], [27], [6, 24], [2, 3], [17], [27], [8], [0, 15], [8, 27], [3], [4, 20], [4, 20], [27], [4], [27], [18], [3], [27], [7, 26], [2], [5], [6, 27], [4], [4], [27], [15], [27], [1], [0, 4], [27], [27], [0, 3, 9, 18], [4], [0], [27], [10], [0, 17], [6, 27], [27], [11], [27], [1], [17], [27], [0, 15], [8], [15], [10], [18], [18, 20], [20], [27], [1], [27], [4], [4, 7], [10], [27], [4], [27], [27], [14], [4], [0, 20], [5], [27], [27], [7], [5, 27], [4], [27], [27], [27], [0], [27], [27], [17], [4], [5], [4], [2, 3, 10], [0], [13], [17], [13], [0], [20], [1], [27], [4], [22], [0], [27], [0], [3], [27], [20], [0], [7], [27], [18], [27], [13], [27], [10], [1], [2], [27], [27], [27], [0, 18], [5, 7], [27], [3, 25], [14], [22, 27], [0], [4], [25], [27], [27], [7, 14], [15], [15], [0, 18], [18], [27], [17], [25, 27], [9], [26, 27], [12], [4], [27], [3], [3, 6], [2, 3], [27], [4], [18, 20], [10], [0], [18, 27], [25], [18], [22], [9], [27], [15], [6], [27], [4], [27], [0], [2, 3, 11], [0], [27], [27], [7, 8, 13], [1, 17], [4], [6], [27], [5], [0], [6, 7], [15], [10], [27], [2, 9, 10], [27], [1], [27], [15], [15], [0, 18], [27], [11, 27], [27], [8], [8], [3, 10], [2], [27], [1], [26], [27], [27], [4], [18], [0, 13], [1], [0], [27], [4], [6], [27], [27], [27], [0], [27], [27], [4], [3, 20], [27], [10], [1, 3, 27], [27], [27], [11, 20], [10], [1, 27], [7], [27], [27], [27], [26], [7], [2], [10, 25], [1, 15], [0], [5], [15], [18], [27], [27], [27], [1], [27], [5], [27], [25], [4, 13], [2], [1, 17], [19], [27], [18], [27], [27], [10], [27], [15], [15], [3], [27], [15], [27], [24], [6], [15], [1], [20], [2, 7], [2], [27], [24], [0], [27], [27], [18], [26], [0], [27], [24], [7], [6], [27], [26], [27], [27], [11], [7], [7], [27], [1, 15, 18], [3, 27], [0], [13], [17], [18], [22], [3], [7], [15], [27], [7, 18, 26], [25], [11], [27], [3, 9, 10], [5], [13], [7, 17], [3], [7], [27], [17], [27], [15], [27], [4], [27], [6, 26], [7], [0, 6], [7, 18], [9], [17], [27], [11], [27], [27], [10], [0], [13], [3, 7], [27], [3], [22], [27], [7, 27], [27], [7], [15], [27], [27], [10, 20], [22], [15], [15], [27], [17], [27], [20], [10], [27], [27], [1], [27], [27], [3], [2], [27], [15], [3, 9], [27], [7, 18], [1], [18], [15], [9], [23], [18], [23], [25], [2, 3], [4], [27], [25], [6], [1, 17], [5], [27], [15], [7], [0], [2, 9], [18, 25], [15], [27], [27], [3], [27], [27], [10], [4], [27], [15], [27], [17], [27], [3, 27], [27], [10], [27], [27], [27], [20], [27], [27], [6, 10], [4, 20], [5, 27], [27], [3, 14], [25], [27], [27], [4], [27], [27], [15], [4, 5], [3], [20], [17], [6, 7], [18], [27], [3, 7], [25], [15, 21], [6], [27], [6], [13], [0], [4], [4], [15], [2], [25], [2], [27], [27], [27], [27], [27], [27], [0], [2], [27], [18], [0], [27], [27], [4], [27], [18], [6], [26], [15], [3], [26], [2, 3], [18, 20], [27], [25], [10], [15], [19, 27], [0], [15], [18, 25], [10], [10], [6, 7], [18], [27], [3, 9], [26], [0], [27], [15, 22], [27], [18], [3], [1], [24], [0, 7], [4, 5], [13], [4], [0, 8, 15], [17], [22, 27], [0, 3], [27], [3], [27], [6], [13], [0], [0], [27], [25], [21], [14], [7], [23], [13], [27], [17], [19], [1], [15], [7, 22], [18], [22, 27], [1], [27], [9], [0, 11], [1], [4], [1], [26], [3, 6, 7], [0], [2], [17], [0, 13], [11], [7], [25], [6], [5, 20], [22], [15], [25], [17], [6], [22], [7, 25], [20], [27], [27], [0, 8, 22], [5], [3, 5], [6], [15], [2], [27], [27], [27], [24], [27], [13], [15], [25], [8], [6], [27], [27], [26], [7], [27], [14], [7, 8], [0], [3], [13], [6, 7, 27], [27], [4], [18, 20], [15], [1], [10], [10], [18], [7], [27], [6], [1], [1], [13], [27], [3], [20, 27], [7], [27], [4], [0], [14], [4, 22], [7], [27], [27], [0], [27], [27], [27], [7], [0], [27], [20], [7], [3], [27], [27], [2], [27], [27], [3], [13, 20], [6], [2], [27], [11], [0], [4], [7], [4], [1, 4], [24], [20], [19], [2, 3], [3], [2, 18], [1], [15], [5], [17, 20], [20, 25], [18], [18], [17], [3, 27], [4], [27], [6], [27], [27], [0, 20], [27], [10], [2], [2], [5], [27], [3], [27], [1], [3], [27], [27], [7], [7], [27], [27], [12], [4], [27], [27], [4], [8], [3], [1], [0], [1], [26], [27], [7], [20], [0], [1], [10], [0], [3], [7], [1, 2], [17], [27], [18], [3], [8], [27], [0, 27], [7], [26], [9, 25], [27], [17], [2], [0], [1, 20], [6], [15], [0], [27], [4], [27], [10], [7], [1], [0, 15], [9], [6], [15], [10], [17], [27], [27], [0], [18], [20], [0], [27], [3], [7], [3, 10], [18], [2], [27], [17], [22, 25], [20], [0], [0], [11, 22], [7], [27], [18], [12], [1, 4], [2, 3], [4], [27], [22], [18], [27], [25], [4, 27], [27], [14], [3], [3], [3, 10], [18], [27], [7], [27], [4], [17], [15], [4], [27], [0], [6, 7], [22, 27], [20], [27], [3], [1], [27], [6], [3], [18], [0, 26], [17, 18], [26], [18], [3], [10, 27], [19], [11], [13], [12], [27], [11], [27], [10], [2, 3], [17], [12], [27], [12, 27], [1], [11], [1], [18], [27], [27], [17], [20], [27], [7], [27], [1], [7], [10], [7], [27], [22], [7], [27], [7], [10], [15], [26], [9, 13], [3], [4], [5, 25], [27], [27], [27], [27], [3, 8], [1, 15], [27], [27], [27], [27], [27], [0], [7], [0, 17], [27], [1], [6], [27], [24], [0], [18], [0], [0], [27], [3], [1], [4], [27], [5, 7], [27], [27], [18], [27], [22], [27], [27], [13, 26], [27], [11], [27], [27], [7], [1, 2], [15], [18], [15], [15], [8], [27], [27], [1], [10, 11], [17], [4], [3], [27], [2], [2], [17], [27], [4], [5], [10], [2], [2], [4], [6], [5], [27], [4], [1], [1, 13], [15], [27], [4], [2], [27], [27], [10], [0], [18], [27], [3, 7], [27], [1, 14, 19], [27], [3], [27], [8], [27], [27], [3], [6, 7], [18], [11], [27], [27], [18], [27], [24], [5, 26], [15], [4], [19], [3, 7], [27], [26, 27], [0], [15], [6, 26], [27], [27], [22], [27], [0, 18], [3, 4, 27], [27], [27], [9, 25], [27], [17], [27], [27], [12, 27], [27], [18], [17], [27], [15], [27], [27], [0], [5], [27], [27], [13], [27], [15], [10], [15], [3], [5, 18], [27], [26], [0], [27], [11], [9, 12, 25], [0], [14], [11], [27], [0], [0, 13], [27], [3, 18], [27], [0], [10, 23], [8], [9], [4], [14], [27], [27], [27], [27], [13], [27], [3], [15], [0, 18], [11], [0], [15], [0], [4], [4, 5, 18], [21], [27], [27], [4], [27], [15], [3], [4], [4], [17], [27], [1, 15], [18], [27], [18], [27], [27], [1, 2], [27], [27], [27], [17, 27], [14], [10, 27], [5, 22], [27], [13, 22], [15], [27], [27], [0], [4], [1], [27], [11], [17], [27], [9, 25], [13], [15], [8], [4], [13], [11], [7, 27], [4, 27], [5], [5], [27], [18], [20], [7], [5], [27], [2, 3], [27], [27], [27], [27], [19], [1], [27], [3], [27], [5, 24], [27], [4], [27], [27], [15], [2, 3], [5, 27], [27], [0], [27], [3], [27], [20], [7], [10], [4], [7], [27], [27], [27], [13], [14, 27], [1, 15], [27], [27], [25], [7], [27], [27], [11, 25], [0], [1], [27], [1], [0, 15], [26], [27], [27], [5], [18], [15], [25], [2], [0], [20], [0], [5, 17], [27], [1, 27], [27], [27], [1], [10], [6], [27], [27], [0, 20], [24], [25], [26], [5], [20], [0], [27], [1], [3, 7], [5, 15, 18], [27], [0], [7, 14], [27], [5], [17], [27], [0], [1], [3, 6], [27], [6], [27], [4], [24, 25], [24], [21], [22], [10], [10], [22, 27], [27], [27], [7], [25], [18], [17, 20], [20], [25], [9, 22], [0], [3, 24], [27], [2], [0, 14], [27], [18], [4, 13], [0, 15], [0], [1], [0], [27], [13, 26], [5], [1], [24], [0], [13], [6, 7], [10], [27], [1], [6, 26], [5], [11], [26], [27], [4], [0, 15], [18], [27], [27], [15, 20], [13], [3], [1, 13, 17], [4], [27], [27], [27], [27], [3], [3], [4], [26], [1], [3, 27], [1], [22], [4, 10], [2], [0, 1], [27], [27], [10, 25], [1], [0], [10], [9, 25], [27], [9], [1], [1], [15], [27], [12], [27], [23, 27], [22], [27], [15], [6, 27], [10], [24, 25], [0], [9, 27], [22], [27], [1], [0], [15], [4], [0, 27], [27], [17], [7], [27], [9, 22], [0], [27], [2, 3], [11], [4], [27], [7], [2], [27], [18], [27], [27], [1, 4], [27], [17], [10], [3, 27], [15, 20], [27], [4, 24], [1], [27], [27], [27], [9], [27], [15], [20], [15], [27], [8], [0], [18], [3], [25], [27], [27], [27], [27], [3], [17], [2], [17], [1, 22], [9, 24], [1], [25], [27], [3], [27], [27], [27], [6, 26], [27], [3], [20], [27], [9, 13], [11], [13], [27], [4], [8], [27], [1, 20], [13], [3, 4], [7], [27], [27], [27], [15], [18], [1, 18], [15], [14], [4, 5], [27], [4], [4], [0], [15], [27], [2, 27], [5], [0], [26], [7], [21, 27], [1], [27], [0, 15], [13], [18], [15], [0, 13], [27], [20], [11], [7], [13, 17], [21], [1], [3, 27], [27], [27], [15], [27], [0, 20], [0, 4], [27], [17], [27], [0], [10], [13], [12], [4], [12, 27], [27], [27], [27], [20], [27], [26], [0], [20], [27], [1], [9, 25], [22], [6, 27], [13, 26], [27], [15], [1, 17], [27], [0, 27], [18], [20], [1], [2], [1, 9], [13], [27], [27], [9], [4], [20], [11], [26], [3], [6], [27], [25], [4, 10], [2], [4, 5], [10], [0], [1, 11], [27], [0], [3, 10], [1], [6, 7], [18], [0, 16], [22], [27], [0], [0], [18], [13], [4], [27], [27], [17, 27], [7, 9], [10], [9], [9], [17], [27], [0], [4], [20], [7], [3], [3, 27], [10], [22], [10], [8], [0], [22, 27], [20], [0, 4], [5, 20], [15], [14, 19], [3], [3], [27], [6, 9], [6, 7], [15], [27], [7], [0], [27], [5, 23], [1], [7], [6], [10], [0], [15], [15], [10], [18], [1], [10], [1], [5, 16], [27], [19], [3, 10], [6], [27], [26], [10], [0, 18], [25], [1], [27], [0, 13, 26], [3, 6], [27], [27], [4], [7], [27], [0, 18], [27], [1, 7], [0], [27], [27], [11], [20, 27], [4], [27], [0, 27], [10], [27], [6], [6], [2], [27], [4], [27], [8], [9], [20], [20, 26], [4], [27], [25], [0], [27], [1], [27], [20], [15], [19], [6], [0, 17], [18], [27], [7], [0], [27], [17, 22], [7], [14], [15, 22], [27], [20], [27], [27], [27], [27], [4], [27], [2, 3, 21], [2], [27], [9], [1], [18], [27], [0], [27], [27], [2], [27], [27], [22], [2, 3], [27], [26], [18], [27], [15], [13, 17], [21], [2], [27], [0, 15], [4], [27], [27], [27], [11], [15, 17], [6], [0, 27], [17], [0], [27], [27], [9, 10], [27], [27], [27], [8, 13], [4], [1], [18], [1, 27], [4], [1, 3], [4, 15], [6], [7], [27], [0], [6], [27], [27], [27], [4], [2], [15], [27], [6, 20], [3], [4, 22], [1], [6, 7], [7], [21], [27], [17], [27], [17], [6], [1], [1], [20], [0], [2, 3, 26], [10], [0], [17], [20], [1], [27], [0, 15], [27], [20], [18], [27], [24], [0], [27], [0], [27], [7], [0], [13], [27], [20], [8], [10], [24], [6, 7], [27], [22], [18], [2, 3], [14], [4], [17], [2], [15], [0], [9], [2], [27], [10], [0], [4], [18], [1, 18], [4, 27], [4], [27], [1, 18], [0], [27], [0], [9], [27], [2], [1], [20], [3, 11], [27], [2], [22], [27], [2], [27], [3], [27], [15, 20], [4], [25], [27], [4], [27], [20], [20], [3, 4], [27], [17, 25], [2], [3], [4], [27], [22], [2], [27], [15], [3], [14], [4, 9], [27], [2], [2], [0], [3], [4], [8, 18], [26], [27], [26], [23], [27], [27], [2, 14], [3, 15], [10, 27], [27], [4], [24], [3, 10], [27], [4], [27], [5], [4], [27], [1], [0], [3], [7], [3], [4], [18], [5, 20], [0], [27], [15], [18], [10], [27], [0, 10], [15], [2], [5, 20], [27], [27], [2, 3], [12, 25], [15], [27], [27], [4], [27], [9], [7, 26], [0], [0], [13], [17], [1], [22], [3, 27], [15, 18], [7], [3], [27], [1], [18], [20], [20], [0, 23], [27], [7, 10, 22], [9, 10], [0], [15], [22], [10], [27], [2], [13], [12], [27], [27], [3], [11], [15], [6], [4, 27], [4], [27], [27], [1], [0], [27], [0], [27], [15], [10], [0, 15], [11], [7], [27], [4, 27], [27], [27], [13], [15], [4], [7], [10], [15], [2], [9, 16], [0, 8], [27], [27], [26], [26], [15], [27], [4], [27], [4, 26], [8], [3], [17], [27], [27], [27], [27], [10, 18], [8], [27], [20], [7, 27], [17], [6], [27], [27], [6], [27], [0, 4], [9], [27], [27], [27], [23], [18], [2], [27], [0], [5, 25], [9], [0], [27], [7], [27], [0, 26], [4], [25], [13], [17], [17, 23], [0], [20], [0, 4, 17], [5, 9], [20], [17], [0], [17], [27], [10, 27], [25], [27], [14, 17, 19], [25], [5, 15], [27], [1, 17], [27], [3, 9, 22], [3, 15], [10], [7], [11], [3], [27], [27], [20], [0], [3], [27], [27], [6, 7], [13], [3], [1, 22], [7], [6, 7], [15], [27], [0], [15, 26], [10], [27], [1, 6], [18], [18], [9, 27], [27], [0], [0, 4], [20], [9], [3], [27], [2, 3], [27], [5], [8], [5], [27], [27], [26], [0, 26], [3, 10], [10], [0], [27], [0], [17], [27], [6], [4], [0], [4], [3, 10], [4, 24], [27], [27], [22, 27], [27], [4], [24], [7], [18, 27], [5], [27], [1], [27], [17], [1], [0], [2], [27], [1], [15], [27], [6], [26], [27], [6, 7, 26], [27], [14, 22], [4], [0], [2, 3], [0], [25], [27], [0], [27], [5, 27], [0], [6, 10], [17], [13], [27], [4], [7], [27], [8, 15], [17], [27], [3], [27], [27], [17], [27], [0], [5], [27], [3], [14, 27], [0], [0, 18], [3], [9], [27], [27], [1, 17], [27], [6], [27], [27], [24], [10], [1], [0], [10], [0], [10], [1, 17], [27], [27], [3, 9], [17, 27], [13, 17], [15], [5], [20, 25], [6], [18], [27], [11], [9], [1], [27], [5], [27], [11], [0, 21, 26], [27], [1], [7, 27], [7], [18], [27], [27], [27], [7], [27], [0, 15], [27], [0, 4], [1], [2, 11], [3, 10], [1], [3], [10], [10], [27], [15], [27], [9], [27], [3], [27], [15], [6, 7], [0], [1], [7, 12], [7], [4, 18], [5, 20], [27], [0, 18], [6, 7], [27], [15], [5], [27], [15], [27], [27], [9], [3, 25], [6], [2], [27], [27], [2], [14], [15], [27], [17], [24], [1, 27], [22, 27], [27], [27], [27], [4], [2], [3, 10, 11], [0], [27], [0], [4], [27], [3], [1, 27], [15], [14], [4], [1], [4], [2], [27], [1], [7], [1], [18], [27], [4], [10], [27], [5], [27], [27], [0], [15, 26], [2], [27], [9], [0], [2, 3, 11, 25], [27], [15, 24, 25], [24], [6], [3], [15], [2, 3], [4, 18], [3, 10], [4], [25], [3], [9], [6, 7], [13], [8], [27], [13], [27], [26], [3, 11], [27], [18], [11], [0], [1], [27], [1, 17], [0, 1], [20], [7], [27], [9], [27], [2], [9], [7, 27], [2], [1], [0], [27], [14], [26], [4, 27], [11], [27], [27], [4], [1, 7], [18], [6], [2], [25], [2, 3], [6], [21], [1], [18], [7], [1], [27], [27], [17], [14], [22], [4], [15], [3], [1], [6], [15, 17], [20], [25], [26], [0], [0], [20], [27], [6], [7], [0], [2, 3], [27], [6], [6, 7], [6], [27], [15], [27], [8], [10], [0], [3], [27], [3], [27], [27], [27], [15], [27], [0], [24], [27], [0], [9, 22], [13, 26], [0, 27], [7], [2], [0], [27], [27], [27], [27], [10], [0], [27], [25], [24], [17], [27], [0], [22], [0, 27], [27], [0], [26], [27], [0], [7], [0, 18], [15], [27], [3, 24], [0, 27], [25], [4, 27], [4], [0], [0], [1], [20], [15, 17], [27], [27], [10], [15], [0, 13], [27], [4], [27], [22], [0], [10], [8, 27], [27], [17], [2, 27], [18, 20], [18], [20], [0], [27], [4], [27], [27], [0, 4], [6], [27], [27], [22], [27], [27], [24], [1, 15], [4], [7], [17, 23], [14, 15, 25], [15], [26], [18], [15], [1], [27], [4], [26], [27], [10], [27], [10, 22], [3, 25], [7], [27], [0], [27], [25], [17], [0, 15], [27], [27], [3, 11], [9], [27], [27], [27], [18], [13], [4], [1, 27], [27], [4], [10], [27], [27], [6, 7], [27], [27], [14], [17], [1], [0], [18], [2], [4], [1, 18], [27], [17], [17, 22], [15], [27], [13, 26], [27], [13], [2, 27], [27], [0], [27], [6], [18], [6, 7], [9, 11], [0, 18], [14], [6, 9], [27], [26], [27], [27], [4], [15], [27], [25], [27], [27], [25], [1], [27], [0], [10], [27], [27], [27], [27], [27], [27], [18], [0], [1], [0, 4], [3], [4], [4], [5], [10], [15], [27], [20], [0], [0, 7], [20], [27], [6], [27], [2, 10], [4], [20], [10], [9], [2], [3], [3], [25], [20], [27], [7, 22], [10], [4, 20], [10, 27], [7], [27], [27], [27], [0], [0, 5, 15, 18], [7, 27], [18], [6], [6], [27], [27], [17], [1], [27], [27], [27], [18], [27], [1], [0], [2], [27], [10], [1], [27], [3, 9, 25], [27], [24], [6], [15], [10], [22], [0], [10], [27], [25], [4], [7, 11], [9], [10], [15], [7], [27], [5], [4], [3], [7, 9], [17], [2], [27], [20, 27], [6], [18], [4], [18], [15], [5], [20], [20], [27], [5], [3], [1], [13], [2], [4], [0, 18], [27], [1], [4, 7], [5], [0, 3], [27], [5], [4], [2], [27], [7], [18], [13, 18], [27], [1], [18], [10], [4], [2, 3], [27], [6], [5], [27], [6], [14, 19], [10], [3], [5], [9], [0, 4], [27], [8], [15], [7, 27], [11], [2], [27], [27], [24, 25], [7], [0], [18], [3, 27], [10], [2, 3], [18], [7], [27], [4], [2], [15], [27], [1, 15, 17, 23], [15], [4], [3, 10], [0], [1], [27], [0, 15], [5], [15], [0, 4], [0], [27], [20], [6, 22], [27], [9, 27], [25], [27], [17], [2], [20], [7], [27], [4], [13, 15], [27], [13, 27], [8], [4, 27], [15], [27], [8], [27], [18], [18], [4], [27], [4], [3], [27], [26], [2], [18], [27], [1], [0, 4], [26], [26], [15], [27], [27], [27], [12], [20], [27], [11], [3], [5], [27], [1, 7], [27], [4], [4, 27], [15], [18], [3], [27], [4, 20], [18, 27], [27], [27], [27], [27], [17], [7], [25], [13], [27], [8], [27], [27], [17], [6], [15], [15], [14], [4], [4], [22], [6, 27], [0], [22], [0], [3, 4], [0], [9], [4], [14], [27], [27], [27], [27], [27], [20, 22], [15, 23], [27], [27], [27], [27], [17], [6], [0], [27], [15], [27], [7, 27], [27], [4, 27], [27], [10], [22], [3], [1], [9], [27], [27], [11], [10], [27], [5], [18], [15], [5], [27], [7], [24, 25], [9], [14], [6], [27], [27], [0, 21], [4], [27], [27], [9, 25], [22], [27], [27], [18], [0], [3], [27], [24], [27], [0], [11], [25], [27], [9], [27], [27], [18], [0, 17], [27], [8, 22], [27], [10], [24], [6], [27], [23], [9], [14], [0], [27], [8], [27], [4], [13], [15], [18], [27], [27], [15], [7, 15], [0], [27], [1], [27], [27], [27], [3], [20, 21], [25], [15], [27], [7, 27], [27], [27], [0], [27], [7], [27], [27], [10, 27], [15], [5], [3, 27], [0, 18], [27], [27], [11], [0], [6, 10], [2], [9], [27], [7, 8], [10], [27], [17], [27], [1], [15], [5, 22], [20, 26], [15], [20], [22], [7], [27], [0], [6], [1], [18], [5], [6], [27], [10], [2], [9], [1], [27], [18], [27], [10], [20], [19], [27], [27], [9], [15], [17], [15], [27], [4], [11], [6], [27], [27], [5], [8], [27], [27], [27], [0, 5, 15], [27], [2], [14], [9], [9], [25], [7], [27], [27], [27], [2, 27], [4], [0], [27], [25], [4, 22], [6], [4], [2, 10], [23], [5], [3, 27], [27], [1], [4], [1, 7], [27], [27], [27], [10], [2], [25], [15], [0, 1], [18], [15], [0, 27], [27], [3, 5], [6, 7], [0, 20], [5, 18], [12], [5], [27], [27], [25], [27], [15], [1], [27], [5], [14], [2, 12], [27], [10], [27], [27], [27], [5], [20], [5, 16, 25], [10], [0, 4], [25], [15], [6], [4, 27], [2], [27], [5], [20], [27], [13], [13], [14], [27], [0], [27], [17], [27], [13], [10], [15], [4], [3], [27], [15], [27], [27], [20], [0], [4, 18], [27], [27], [2], [0], [27], [26], [27], [17], [27], [27], [5, 20], [27], [0, 4], [7], [15], [27], [27], [27], [2], [3], [10], [17], [27], [18], [10], [27], [0], [8, 10], [27], [10], [0], [10], [2, 3], [27], [1], [2], [27], [18], [4, 13], [0], [4], [15], [6], [1], [0], [9], [13], [0], [27], [4, 27], [0], [4], [15], [27], [0], [27], [27], [27], [27], [10], [27], [9], [27], [27], [12], [22], [6], [27], [3], [4], [2], [4], [10, 25], [10], [2, 27], [4], [10], [6, 7], [20], [1], [5], [0], [25], [4], [27], [26], [15], [0, 3], [0], [0], [1, 17], [9], [1, 27], [27], [26], [7], [2, 3, 10], [1], [27], [27], [14], [13], [20], [0, 15], [1], [20], [0], [0], [1], [1], [6], [0], [1], [10], [27], [1], [13], [10], [6], [18], [10], [27], [15], [15], [27], [0], [27], [14], [0, 27], [7], [17], [27], [27], [0, 4], [27], [0], [27], [27], [27], [12, 20], [9, 25], [17, 18], [1], [27], [1], [27], [5], [27], [27], [18], [22, 27], [10], [5, 27], [6, 26], [1], [6, 7], [4], [3], [27], [27], [22, 27], [25], [18], [27], [6], [27], [27], [18], [1], [0], [8], [27], [0, 13, 17], [27], [0], [0, 15], [1], [6], [15], [7], [27], [27], [27], [27], [8, 17], [1], [27], [3], [3, 10], [15], [27], [15], [4, 27], [2, 3], [5], [27], [15], [14], [4], [15, 20], [7], [20], [18], [18], [15], [5], [1], [20], [15], [1], [27], [27], [3], [27], [4], [27], [2, 3], [1], [2], [24], [27], [27], [6, 26], [1], [1], [7, 26], [7, 9], [20], [18], [27], [27], [25, 27], [27], [2, 3], [22], [17], [27], [15], [27], [24], [15], [0], [10, 11], [0, 22], [27], [3], [27], [4], [5, 25], [27], [26], [25], [18], [7], [20], [1], [27], [4, 5], [8, 27], [2], [5], [22, 27], [27], [9, 25], [27], [10, 25], [27], [0], [27], [20], [27], [6], [7], [10], [27], [10], [15], [27], [7], [15], [20], [27], [4, 20], [2, 17], [27], [3], [27], [0, 7], [27], [27], [27], [18], [27], [9], [27], [7], [0, 1, 4], [4, 27], [0], [10], [4], [26], [1], [15], [3], [1, 6], [4], [1], [27], [27], [27], [26], [5], [3], [0], [4], [27], [0], [10, 11], [0], [4], [6, 27], [3], [27], [27], [4], [20, 22], [2], [27], [0], [27], [0], [3], [3, 9], [10], [27], [26], [0, 4], [27], [0, 15], [18], [13], [4], [9], [27], [9, 27], [27], [22], [8, 27], [2], [27], [18], [27], [27], [27], [3], [27], [27], [1, 4, 20], [15], [27], [18], [11], [0, 20], [0], [15], [9], [7], [3, 9], [24], [12], [1], [27], [15], [2, 3], [18], [27], [27], [7, 27], [25], [12], [18], [6], [15], [14], [10], [22], [11], [20, 26], [4], [2], [10], [5], [13], [10], [27], [4], [2], [26], [27], [15], [13], [4], [4, 17], [15], [4], [15], [27], [26, 27], [13], [27], [6, 25], [20], [26], [27], [1, 22], [4], [27], [27], [0], [15], [27], [0, 3], [11, 17], [27], [27], [0, 27], [27], [15, 20], [27], [0], [17], [8], [0], [0, 4], [1], [25], [27], [15], [15, 17], [27], [20], [5], [27], [18], [2, 3], [4], [4, 27], [27], [27], [27], [2], [27], [27], [15], [26], [17], [1], [2, 3], [27], [27], [27], [0], [27], [5, 15], [27], [17], [9], [27], [27], [3, 27], [4], [27], [27], [10, 27], [27], [14], [1], [27], [11, 27], [27], [27], [27], [7], [2, 10], [5], [0], [27], [3], [27], [3], [25], [18], [27], [5], [27], [25], [10], [7], [27], [15], [18], [0, 17], [9], [27], [25], [20], [27], [27], [27], [1], [15], [27], [18], [0], [9, 25], [27], [7], [1, 17], [4, 27], [4, 9], [4], [0, 1], [18], [27], [0], [11, 27], [9, 14], [3], [27], [10], [26], [20], [3], [27], [27], [27], [1], [27], [10], [3, 10], [0], [3], [3], [22], [27], [27], [3], [2], [27], [4, 5], [2], [27], [11], [1], [4], [15], [6], [0, 22], [24], [27], [3, 7], [11, 12], [4], [27], [4], [27], [27], [4], [1], [0, 4], [27], [20, 24], [10], [27], [27], [2], [22], [25], [0], [1], [27], [1], [20, 22], [15], [13, 24], [0, 7], [27], [22], [22], [13], [15], [7], [4, 27], [7], [1], [15], [0], [27], [27], [0], [0], [4, 19], [15], [4, 10], [4], [25], [18], [25], [7, 26], [27], [21], [0], [4], [17], [27], [27], [0], [0, 1], [17], [27], [27], [0], [2], [27], [25], [17], [5, 23], [0, 18], [27], [27], [15], [6], [8], [2, 26], [19], [0, 1], [2, 11], [15], [0, 5], [27], [17], [0], [27], [15, 27], [7], [4], [27], [15], [27], [14], [2, 3], [0, 18], [6], [27], [22, 27], [27], [25], [4], [27], [15], [20], [1], [0], [27], [27], [7], [0, 8], [27], [15], [4], [2, 3], [4], [6], [24], [0], [20], [13], [7], [7], [27], [15], [22], [27], [4], [17], [0, 17], [0, 1], [4], [27], [4], [20], [10], [27], [1, 2], [27], [27], [4], [27], [27], [11], [27], [1], [0], [1], [27], [10], [2], [8], [0], [1, 3], [27], [27], [0], [1], [27], [7], [0], [18], [3], [10], [27], [20], [5, 20], [2], [15], [27], [11], [6], [0], [20], [5], [0, 4], [0], [3], [1, 8], [13], [11], [18], [0], [25], [1, 27], [2], [17], [7], [14], [27], [9], [27], [2, 3], [27], [17], [0], [25], [0], [7], [7], [0], [20, 27], [1, 20], [7], [27], [5], [2], [9], [15, 18], [25], [27], [17], [3, 10], [14], [5], [7], [27], [27], [27], [27], [3, 10], [20], [27], [15], [3, 10, 11], [27], [0], [0], [17], [0], [24], [25], [0], [2, 3], [27], [27], [15], [27], [27], [15], [0, 18], [27], [9, 20], [5, 18], [2], [0], [27], [24], [4, 18], [6, 7], [27], [27], [6], [18], [25], [0], [27], [27], [0], [7], [22], [27], [27], [4], [4], [27], [27], [0], [27], [27], [27], [27], [4], [25], [0, 18], [27], [7, 13], [4], [25], [1], [13, 17], [24], [11], [26], [4, 18], [17], [27], [15], [26], [3], [6, 7], [27], [1, 7], [9], [18], [6], [9], [3, 27], [17], [0], [27], [3], [27], [27], [5, 20], [27], [27], [26], [27], [27], [27], [8], [6], [2], [0], [27], [27], [0, 20, 25], [0], [1], [27], [27], [6, 27], [17], [2], [27], [27], [0], [10, 11], [20], [27], [14], [24], [0], [4, 15], [15], [0, 7], [7], [27], [27], [14, 18], [17], [5], [15], [9], [6], [7], [27], [6], [0, 17], [27], [4], [0], [4], [9], [3], [27], [0, 5], [27], [2], [2], [18], [19], [5], [20], [20], [11, 27], [18], [27], [11], [0], [2], [27], [2], [13], [6], [5, 18], [27], [27], [17], [4], [17], [23], [27], [3], [11, 27], [27], [1], [27], [6], [9], [5], [27], [15], [1], [27], [5], [7], [25], [4, 13], [0, 18], [20], [27], [10], [27], [9], [0], [5], [4], [1], [0, 27], [27], [27], [4], [3], [18], [24, 25], [27], [27], [27], [1], [9], [10], [3], [27], [27], [0, 20], [27], [4], [11], [10], [25, 27], [4], [22], [4], [7], [27], [27], [11], [4], [15, 20], [5], [0], [27], [27], [27], [7], [9, 11], [0], [27], [27], [27], [27], [15], [0, 26], [4, 27], [10], [27], [4], [3, 7], [18], [27], [9], [27], [27], [18], [27], [11], [4], [3], [3, 20], [0, 4], [15], [7], [14], [6], [27], [7], [18], [27], [27], [1], [13], [4], [0], [4, 22], [0], [18], [27], [6], [27], [25], [0, 15], [18], [0], [18], [15, 27], [3], [27], [0, 13, 17], [2, 26], [15], [27], [11, 27], [27], [27], [27], [5, 15], [1], [1], [2, 11], [22], [27], [27], [0], [4, 20], [25], [1], [18], [27], [2], [27], [7], [9], [4], [27], [8], [2], [0, 20], [27], [10], [3, 27], [17], [6, 7], [10], [15], [15], [27], [27], [0], [0, 17], [5], [27], [27], [5], [0, 15], [9, 27], [23], [7, 15], [27], [0], [27], [27], [27], [15], [17], [3], [9], [27], [4], [20], [27], [5, 10], [0], [27], [4, 27], [3], [15, 24], [27], [4], [27], [3, 11], [0, 4, 18], [3], [8], [4], [27], [27], [20], [4], [0], [27], [14], [27], [27], [1], [27], [27], [9], [15], [2], [27], [27], [0], [1], [26], [7], [18], [0], [17], [0, 7], [0], [0], [27], [27], [27], [0, 9], [1, 22], [7, 15], [5], [2], [26], [27], [11], [26], [7], [17], [27], [3], [27], [27], [8], [9], [6, 7, 9], [27], [27], [27], [15], [27], [5], [27], [27], [7], [27], [27], [4], [0], [17], [3], [7], [15, 17], [10], [2], [14], [27], [15], [15], [27], [27], [6], [27], [0, 27], [1], [0, 15], [17, 26], [0], [27], [27], [27], [9], [25, 27], [27], [27], [8], [18], [7, 15, 26], [24], [8], [1], [27], [0], [14], [18], [27], [27], [2], [15], [10], [25], [15], [10], [9, 20], [10], [27], [27], [7], [0, 5], [27], [0], [17], [0], [14], [12], [2], [27], [27], [0], [27], [0], [6], [27], [15], [18], [4, 9], [7], [23], [27], [7, 22], [10], [1], [7, 27], [7], [27], [15], [2, 20], [1], [16], [27], [0], [27], [14], [18], [27], [27], [27], [4], [10], [27], [18], [18], [15], [26], [27], [8, 20], [27], [27], [6], [27], [27], [18], [11], [2, 27], [27], [27], [0, 26], [10, 27], [18, 20], [27], [25], [15], [3], [13], [27], [1], [15], [3, 11], [7, 18], [0], [27], [27], [27], [9], [3], [26], [27], [27], [27], [1], [13], [1, 22], [17], [9], [27], [3], [24, 25], [0], [3, 24], [11], [7, 24], [6], [15], [24], [2, 3], [27], [13], [0, 1], [20], [18], [27], [0, 6], [18], [8, 13, 20], [27], [7, 10], [27], [6], [0], [15], [27], [22], [24], [25], [1], [9], [4], [2], [27], [27], [15], [0], [18], [27], [2], [27], [13], [27], [27], [6], [27], [10], [8, 20], [27], [27], [1], [0], [4], [3], [27], [27], [27], [13], [27], [22], [26], [27], [27], [11, 27], [27], [5], [15], [27], [27], [20], [6, 7], [6], [3], [0, 15, 17], [27], [15], [27], [1], [27], [0], [1], [17], [22], [7], [27], [2], [3, 9], [15], [27], [25, 27], [3], [8], [10], [10], [3], [0], [0], [2], [27], [0], [27], [8], [27], [2], [27], [27], [27], [12, 22], [27], [12], [9], [27], [15], [13, 20], [27], [18], [11], [27], [11], [10], [17], [1], [27], [27], [1], [15], [27], [15], [10], [27], [18], [10, 22], [15], [4], [0], [15], [27], [1], [27], [1], [7], [6, 7], [9], [0], [27], [10], [9, 25], [26], [10], [27], [1], [0, 17], [3, 4], [18], [18], [27], [27], [14], [14], [27], [4], [0], [10], [27], [4], [27], [4], [27], [7, 13], [0, 21], [15], [13], [27], [7], [27], [11], [1], [0, 18], [27], [5], [27], [27], [0, 18], [7], [10], [27], [19], [11], [17], [5, 20], [8, 22], [20], [0, 1], [27], [10], [10], [4, 5], [7], [26], [27], [0], [0], [4], [6], [7], [2], [27], [27], [27], [4], [4], [27], [15], [7], [2], [6, 27], [27], [8], [3], [3], [27], [27], [27], [4], [17, 18], [27], [4, 20], [27], [27], [26], [2], [4, 20], [27], [27], [6], [1, 6, 17], [3, 27], [27], [27], [27], [20], [0], [4], [17], [27], [3], [4], [7], [27], [15], [3], [27], [6], [6], [0], [27], [7], [27], [4], [17], [13, 17], [0], [7], [4], [14], [18], [3], [4], [27], [0, 5], [27], [27], [3], [27], [27], [27], [13], [8], [6, 27], [27], [15], [10], [15], [1], [18], [3, 10], [4], [27], [27], [15], [27], [1], [7], [27], [27], [1], [27], [27], [10], [27], [27], [0, 5, 18], [27], [1], [7, 24], [15], [27], [14], [13], [15], [27], [27], [27], [5], [8], [27], [27], [3, 10], [3], [0, 20], [1, 26], [6], [2], [27], [4], [27], [13], [6], [27], [27], [27], [25], [27], [1], [20], [20], [27], [1, 3], [27], [27], [9, 25], [4, 8], [27], [6], [22], [26], [27], [27], [10], [0], [15, 24], [18], [18], [27], [19, 25], [0, 6], [5], [27], [20], [9, 25], [27], [8], [18], [2, 3], [27], [7], [27], [27], [27], [27], [27], [27], [9, 10], [7, 26], [2], [27], [4], [12], [15, 17], [27], [27], [1], [27], [1], [25], [10], [0, 17], [0], [0], [13], [10], [2], [4, 27], [1], [4], [17, 20, 25], [0], [27], [4], [5], [15], [1], [0], [2], [2], [0, 15, 17], [27], [5], [27], [1, 15], [15], [2], [4], [10], [27], [3], [10], [27], [5], [17, 27], [27], [27], [0], [15], [0], [27], [27], [27], [27], [2], [3], [0], [5, 15], [6], [3], [27], [10, 22], [4, 20], [13], [4, 27], [4, 8], [15], [27], [27], [27], [27], [21], [27], [5], [4], [27], [2], [27], [2], [10], [4], [27], [2], [27], [20], [2], [25], [5, 27], [9], [14], [24], [1], [26], [6, 10], [17], [5, 27], [0], [6], [4], [27], [27], [14], [27], [27], [1], [15], [15], [9], [27], [27], [27], [13], [27], [10, 18], [12], [3, 9, 24], [17], [9], [27], [27], [27], [9], [0], [13], [27], [4], [18], [27], [15], [5], [27], [27], [27], [20], [27], [27], [27], [11], [26], [27], [6], [10], [10, 27], [17, 18], [27], [0], [25], [6], [23], [2], [27], [7, 22], [27], [27], [18], [27], [4], [0], [0], [5], [27], [27], [27], [7], [27], [27], [27], [3, 11], [2], [27], [4], [0], [0, 15], [27], [7], [0], [27], [2], [27], [2, 3], [6], [4], [10, 27], [18], [22, 25], [25], [27], [2, 4], [1], [1, 7], [4], [4, 7, 8], [20, 27], [15], [27], [24], [4], [20], [1], [2, 3], [27], [4, 17], [27], [4], [4, 5], [15], [18, 22], [27], [15], [27], [13, 15], [3, 10], [10], [18], [5], [11], [27], [27], [0, 13], [11], [25], [24], [9, 27], [27], [6], [12, 24], [26], [27], [27], [10], [11], [18], [15], [18], [18], [2], [0], [27], [27], [27], [4, 20], [27], [0], [27], [27], [27], [4], [0], [18], [4, 13], [20], [1], [22, 26], [9], [19], [0], [27], [27], [15], [27], [7], [3, 11], [27], [18], [15, 26], [27], [20], [20], [11], [6, 20], [7], [27], [12], [17], [4], [15], [3], [11, 12], [4, 27], [3], [4], [2, 3], [18], [17], [27], [27], [2, 3], [20], [10], [27], [27], [27], [27], [27], [27], [15], [27], [3, 7], [4, 14], [7], [11], [0], [27], [3], [27], [27], [27], [27], [6, 27], [27], [0, 27], [7, 18], [4], [20], [27], [27], [27], [10], [6], [18], [27], [5], [27], [6, 18], [15], [27], [24], [7, 26], [0], [27], [24], [20], [27], [7], [12], [27], [27], [8], [27], [1, 4], [27], [15], [3], [2, 26], [18], [2], [8], [25], [27], [10], [0], [15], [0], [27], [27], [9], [22, 27], [27], [7], [27], [2], [0, 4, 9], [8, 18, 20], [1], [2], [27], [9, 27], [0], [27], [27], [0, 4], [1], [10, 20, 25], [7], [8, 26], [27], [1], [13], [3], [10], [27], [0], [8], [0], [15], [27], [15], [5], [0], [2, 3], [11], [4], [4, 27], [27], [12, 22, 24], [1], [14], [6], [2], [27], [27], [27], [10], [5], [27], [22], [26], [4], [18], [7, 11], [10], [27], [0], [5, 18], [15], [0], [27], [18], [27], [1, 18], [1, 15], [18], [0, 18], [0], [0, 20], [27], [27], [27], [18], [27], [26], [0], [4, 27], [1], [4], [3], [2], [9], [10], [0], [27], [10], [10], [6], [4, 5], [1], [10], [7, 15], [1], [13, 17], [18], [1], [27], [11], [4], [27], [27], [6, 27], [7], [25], [7], [27], [24], [2, 3], [27], [3], [3], [4, 6], [27], [4], [2], [0, 9], [0, 27], [27], [27], [1], [19], [14], [27], [18], [3, 13], [27], [27], [27], [15], [0], [27], [7], [2], [7], [3], [6, 7], [27], [20], [27], [7], [9, 10], [27], [6, 27], [0, 4], [7], [4], [4], [27], [1], [17], [27], [0], [27], [20], [27], [27], [0, 26], [27], [0], [0], [1], [0], [27], [0], [7], [26], [27], [0], [15], [27], [6], [27], [0], [15, 18], [27], [0, 17], [10], [7], [7, 27], [17], [18], [25], [27], [4], [27], [10], [27], [27], [7], [27], [5], [27], [20, 27], [18], [22], [27], [7], [27], [17], [0], [15], [0, 17], [0], [15], [11], [18], [27], [4], [27], [14], [15], [1, 22], [27], [27], [20], [27], [23], [3], [27], [27], [4], [2], [4, 18], [27], [10], [27], [1], [0, 25], [25], [7, 27], [27], [1], [27], [10], [27], [27], [4], [9], [0], [2, 27], [27], [3], [11], [27], [27], [20], [10], [27], [27], [27], [15], [15], [27], [9, 25], [9], [3], [27], [3, 7], [7], [7], [7], [10], [3], [15, 22], [10], [3], [18], [10], [22], [10], [18], [0], [0, 27], [0, 20], [14], [4], [18], [18], [27], [9, 27], [27], [10], [20], [5], [6], [26], [27], [27], [18, 25], [27], [15], [1, 9], [10], [27], [27], [1], [27], [2, 8], [2], [27], [27], [27], [27], [17, 26], [9], [9], [9], [27], [1, 22], [0], [15], [2], [27], [0], [4, 27], [27], [9], [27], [18], [7], [27], [15], [25], [0], [25], [0, 27], [6], [1], [27], [3, 9], [27], [20], [0], [18], [27], [7, 27], [22], [10], [1], [27], [15], [20, 27], [9], [15], [27], [15], [10], [18], [20], [27], [6], [27], [10], [6], [27], [27], [25], [7], [0, 20], [15, 18], [15], [10], [4], [26], [27], [27], [27], [3], [22], [3, 10], [27], [27], [24], [27], [13], [3], [27], [1], [27], [27], [0], [2], [6], [0], [25], [27], [10], [15], [6, 26], [2, 3], [15], [24, 25], [4], [20], [4, 20], [6], [6], [27], [7], [27], [3], [27], [6, 14], [0, 7], [2], [15], [21], [5], [18], [13, 15], [5], [18], [24], [27], [27], [25], [27], [27], [27], [10], [27], [9], [27], [3, 27], [9, 11], [9], [1], [20], [15], [27], [26], [18], [0], [10], [27], [0], [22, 27], [10], [6], [27], [27], [12], [27], [20], [27], [7], [22], [1], [15], [27], [27], [2, 27], [27], [0], [4, 18], [27], [5], [5], [27], [25, 27], [4, 27], [27], [8], [26], [27], [0], [27], [0], [27], [27], [8, 27], [6], [26], [5], [10, 11], [17], [27], [2], [0, 17], [27], [9, 11], [10], [6, 7], [20], [3, 27], [15], [5], [17], [1], [27], [4], [9], [0, 1], [3], [22], [10, 15], [0, 7], [4], [4], [1], [7], [27], [26, 27], [26], [27], [0, 27], [4, 15], [27], [17], [26], [7, 27], [13, 17], [27], [20], [0, 15], [20], [1], [1], [27], [27], [27], [18], [0, 4, 25], [2], [7], [27], [0, 18], [0], [3, 10], [3], [3], [27], [26], [15], [18], [2], [1], [0], [27], [27], [27], [1, 25], [27], [7], [6], [20], [3], [27], [5, 20], [11], [18], [27], [10], [27], [27], [15, 21], [3], [27], [18], [1, 4], [13], [8], [18], [18], [18], [27], [4, 27], [14], [18], [27], [27], [15], [27], [27], [22], [9, 25, 27], [14], [2], [0], [12], [9, 22, 27], [0, 3], [10], [1], [13], [7], [0], [14], [27], [18, 27], [25], [0], [27], [6], [0, 7], [27], [27], [9], [3, 7], [4], [25], [1, 23], [15], [1], [27], [18], [13], [27], [3, 8, 20], [18], [27], [6], [27], [27], [0], [15], [11], [11], [8], [27], [14], [3, 9], [27], [1, 4], [6, 15], [27], [0, 27], [15], [17], [15], [0], [3], [3], [0], [3], [25], [7], [27], [0], [0], [26], [17], [6, 7], [2], [27], [10, 27], [0], [12], [4], [27], [18], [27], [0], [7, 14], [27], [7], [0], [27], [0], [0], [27], [25, 27], [0, 27], [9], [18, 23], [14], [27], [27], [27], [3], [18], [0], [0], [27], [27], [27], [18, 22], [0], [10], [0, 3], [5], [0, 15], [7], [13], [27], [7], [0], [4], [7], [27], [5], [10], [16], [27], [1], [1], [3], [7], [27], [4], [1], [27], [8], [27], [0, 8, 17], [14], [9], [13], [27], [3], [27], [9, 11], [27], [9], [27], [3], [27], [20], [27], [27], [17], [0, 15], [15], [15], [27], [3], [4], [4], [27], [1], [2], [27], [4], [9], [5, 24], [10], [0], [0], [14], [0], [1], [25], [0], [27], [22], [18], [27], [25], [6], [3, 11], [6, 11], [6], [27], [27], [15], [4], [15], [27], [0], [27], [15], [26], [27], [27], [10, 27], [7], [1], [3, 9], [27], [27], [27], [27], [0, 13], [27], [0], [27], [0], [4], [26], [27], [7, 27], [8], [2, 27], [0], [4], [7], [17], [1], [3], [0], [27], [27], [0], [27], [27], [9], [0], [27], [11, 20], [1, 27], [1], [4], [9, 27], [22], [0], [2], [27], [22], [27], [5, 11, 20], [6], [20], [27], [27], [13], [9], [10], [7], [5], [20, 26], [0, 7, 15], [3], [7], [7], [22], [18], [7], [27], [4], [0, 2], [27], [18, 22], [4, 27], [9, 27], [27], [27], [15, 20], [27], [27], [27], [22], [0], [15], [13, 17], [1], [18], [20, 26], [27], [0, 4], [0], [4], [0, 13], [0], [27], [4, 17], [7], [27], [1], [27], [7], [4], [27], [4, 5], [27], [17], [26], [17, 18], [0], [4], [27], [27], [7], [4], [3], [27], [0, 3], [27], [27], [27], [27], [14, 20], [13], [4, 9], [27], [14], [1, 7], [22], [7], [2], [27], [27], [27], [4], [27], [22, 26], [11], [27], [27], [11], [27], [13, 26], [27], [27], [27], [27], [17, 27], [9], [9], [27], [27], [27], [0, 11], [1], [18], [10], [1], [0], [4], [27], [17], [1, 3, 9], [18], [20], [6], [7], [0], [9], [27], [4], [27], [11], [25, 27], [27], [9], [11], [1], [17], [3, 10], [10], [4, 5], [27], [15, 18], [27], [1], [27], [24], [4], [27], [27], [18], [27], [27], [22], [3], [0], [27], [27], [0, 15], [27], [27], [17], [6, 27], [7], [24], [5], [4], [25], [17], [1], [27], [3, 6], [1], [27], [15], [11], [14], [4], [5], [3], [3], [27], [27], [27], [3, 20], [0, 22], [4], [4, 22], [18], [17], [0], [1], [27], [1, 11], [27], [7], [0], [0], [27], [27], [27], [25], [0], [1, 15], [27], [3], [2], [4], [27], [6, 24], [9], [22], [20], [2, 10], [17], [17], [9, 27], [27], [27], [13], [17], [17], [13, 17], [0], [10, 27], [27], [27], [3], [27], [15], [4], [2, 11], [27], [2, 11], [27], [0], [10], [27], [27], [27], [13], [27], [24, 27], [27], [27], [7], [15], [13], [18], [8], [2], [6, 7], [0], [24], [0], [4], [3], [0, 15], [7], [27], [27], [6, 7], [4], [27], [10], [27], [15], [27], [27], [0], [27], [27], [27], [27], [7], [13], [9], [27], [27], [2, 25], [27], [1], [0], [15], [20, 27], [27], [3, 9, 25], [18], [27], [27], [26], [15], [11], [3], [27], [0, 18], [8, 9], [0], [4], [4, 26], [27], [0, 18], [27], [18], [4], [10], [2, 3], [27], [13, 17], [15], [0, 15], [27], [27], [1], [0, 15], [0], [20], [0, 18], [15], [4], [7, 20, 26], [20], [27], [1, 25], [27], [27], [27], [4], [3, 7], [18], [4], [3], [27], [7], [27], [27], [4], [14], [2], [27], [27], [3, 10], [9, 27], [4], [15], [27], [1], [27], [18], [0], [27], [27], [5], [27], [27], [17], [13], [0], [18], [18], [1], [18], [27], [2], [4], [15], [0, 4], [3], [3], [24], [27], [18], [2, 3], [0], [2], [15], [27], [0, 17], [27], [26], [27], [1], [27], [27], [6], [6], [7], [27], [0], [0], [27], [2, 5], [27], [4], [22], [0], [27], [10], [27], [4], [27], [24, 25], [9, 26], [27], [27], [5], [3], [18], [12, 26], [1], [1], [7], [27], [27], [0], [27], [9, 10], [0, 27], [25], [2], [0, 7], [27], [4], [27], [27], [27], [27], [6], [4], [4], [8, 15], [27], [27], [2, 3, 9], [27], [7], [1], [27], [27], [20], [4], [27], [5], [9, 25], [0], [27], [27], [0], [9], [4], [27], [27], [27], [1], [27], [17], [27], [24], [3], [0], [27], [10, 15], [6], [5], [2], [0], [27], [1], [7, 17], [17], [4, 18], [10, 27], [14], [15], [9], [1], [15], [27], [27], [27], [1, 15], [7], [6], [3, 10], [27], [27], [0], [20], [0], [27], [27], [1], [4], [1], [23], [4, 18], [26], [10], [27], [19], [17], [6], [27], [15], [3], [13], [4], [10], [27], [1], [14], [25], [4], [22], [4, 5], [27], [17], [5], [0], [27], [6, 7], [15], [27], [27], [13], [0], [15], [27], [27], [1], [0], [4], [6], [27], [0], [5], [6], [27], [1, 9], [0, 27], [25], [27], [18], [2, 3], [27], [2, 11], [24], [3], [4], [27], [27], [7], [27], [27], [8], [3], [14], [27], [27], [27], [15], [2], [27], [27], [15, 20], [26, 27], [22], [4], [27], [15], [2], [0], [0], [27], [27], [27], [27], [3], [18], [9], [15], [27], [4], [27], [14, 19], [15], [27], [5], [0], [25], [1, 27], [27], [15], [2], [9, 25], [6], [3], [27], [25], [27], [0], [15], [27], [27], [11], [10], [0], [0, 7], [1], [27], [27], [27], [18], [9, 15], [24], [27], [10], [18], [27], [27], [15], [6], [15], [24], [3, 25], [27], [5, 12], [20], [13], [23], [27], [27], [13], [3], [27], [18], [27], [18], [12], [7], [27], [14], [27], [4, 27], [18], [4], [27], [0, 13], [27], [0], [24], [27], [27], [10], [15], [0, 1, 11], [1], [3], [27], [27], [0], [27], [15, 17], [27], [5], [13, 15], [27], [27], [7], [0], [27], [26], [27], [26], [27], [17], [4, 14], [0], [27], [27], [27], [3], [1], [0, 14], [2], [3], [14], [27], [27], [7], [3], [15], [0], [7], [7], [27], [27], [6], [1, 14, 17], [27], [17], [3], [9], [3], [27], [20], [13], [1], [4], [27], [0, 18], [5], [26], [10], [0], [6], [15, 27], [25], [4], [27], [2], [4], [27], [27], [17], [26], [6], [10], [27], [18], [5], [27], [20], [27], [0], [15, 21], [0], [18], [0, 4, 13], [27], [24], [27], [6, 15], [24], [27], [27], [27], [0, 15], [1], [27], [3, 9], [0, 4], [10], [27], [15], [1], [27], [27], [27], [7], [18], [11, 27], [27], [11], [13], [15], [3], [18], [0, 15], [24], [15], [5], [20], [7], [22], [3], [27], [5], [15], [7], [25], [4], [15], [27], [3, 27], [26], [2, 27], [5], [3], [3], [2], [10, 25], [0, 15], [3, 9, 10], [15], [17, 21], [27], [27], [11], [5, 25], [7], [27], [26], [0], [27], [27], [25], [20], [6], [27], [23], [9, 25], [3], [7], [27], [6], [3, 11], [18], [27], [5, 24], [1, 4], [18], [0], [27], [24], [23], [18], [17], [8], [15], [3], [27], [27], [27], [4], [0], [9, 27], [27], [27], [0], [27], [1], [1], [5], [15], [9, 25], [14], [24], [24], [0], [6, 27], [27], [2], [2], [27], [4, 15], [27], [6, 7], [10], [26], [15], [1], [27], [27], [1, 17], [13, 18], [27], [27], [14], [6, 7, 27], [25], [15], [0], [1, 15], [27], [9], [17], [25], [0, 21], [13, 26], [27], [3, 10], [0, 20], [27], [4, 27], [6], [27], [1], [20], [2], [10], [27], [27], [1], [18, 27], [20], [18], [10], [27], [27], [10], [17], [18], [27], [1], [11], [20], [17, 26], [27], [7], [0], [7], [20], [27], [0], [22], [27], [2], [1, 18], [3], [9], [27], [1], [0], [6], [5], [15], [4], [13], [1], [4], [4], [19], [7], [0, 18], [18], [27], [0], [1], [27], [2], [4], [17], [2], [25], [0], [4], [10], [17], [27], [0], [22], [9], [26], [8], [2], [6, 7], [0], [11], [27], [27], [27], [2, 3], [0], [1], [4], [25], [10], [27], [15], [27], [0], [8], [9], [27], [0], [4], [27], [20], [0, 21], [0, 18], [3, 27], [27], [13, 17], [1, 18], [7], [9], [26], [10], [13], [3], [4], [10], [27], [15], [25], [1], [0, 15], [27], [22, 25], [7], [3], [20], [27], [3], [27], [27], [1], [4], [4], [15], [27], [18], [17], [27], [17], [6, 7], [12], [18], [10], [15], [27], [0], [1, 17], [0], [20], [7], [1], [7, 20], [3, 9], [27], [27], [0, 15], [10], [1], [27], [0], [27], [17, 27], [1, 3], [2], [27], [27], [15], [5], [3], [1], [1], [24], [17, 27], [27], [5], [0], [1], [9, 11], [9, 24], [27], [14], [27], [15], [27], [4], [7], [1], [10], [27], [18], [18], [27], [7], [27], [2, 3], [27], [27], [12, 20], [7], [27], [0], [8], [25], [18, 26], [1, 6], [26], [27], [13, 26], [7], [14], [27], [27], [17], [26], [26], [26], [27], [6, 7], [7], [15], [15], [27], [1], [25], [26], [3, 10], [27], [27], [25], [1], [2], [26], [8], [3], [7], [4], [4], [6], [0, 4], [0, 4], [14], [20], [18], [27], [27], [6], [14], [20], [27], [5, 9, 10], [7], [25], [27], [8], [25], [0], [2], [8], [27], [4], [0], [27], [4], [27], [0], [0, 13], [27], [27], [15], [27], [15], [13], [0, 18], [17], [9, 12], [27], [13], [8, 15], [7, 27], [6], [27], [7], [4], [27], [4, 17], [18], [0, 15], [2, 3], [15], [7], [27], [7], [27], [9], [13], [22], [27], [20], [0, 27], [27], [27], [7], [4, 27], [27], [27], [3, 10], [27], [0], [20], [3], [3, 27], [26], [1], [27], [8, 18], [2, 3], [2], [25], [27], [3], [27], [22, 27], [20], [0, 5, 15], [0, 4], [27], [9], [2], [4], [27], [18], [7, 27], [27], [15], [27], [7], [1, 7], [3, 27], [7], [13], [27], [16], [27], [11], [15], [27], [4], [6, 22], [3, 25], [16], [27], [24], [27], [15, 20], [18], [27], [4], [15, 22], [2], [4], [27], [0], [1, 7], [20], [24], [24], [1, 15], [3, 22], [1], [27], [17], [25], [3], [1, 4], [26], [27], [0], [26], [1], [5], [15], [0], [27], [0], [4, 17], [27], [4, 27], [1], [1], [1], [27], [15], [7], [10], [18], [20], [27], [22], [27], [27], [0], [15], [18], [0], [8], [17], [0], [18], [27], [4, 26], [0], [2], [17, 18], [2], [27], [25], [27], [27], [0], [15, 22], [27], [15], [4], [11], [5, 27], [2, 3], [3], [27], [19], [9], [0], [5, 20], [4, 5], [25], [20], [15], [1], [27], [11], [9, 25], [10], [1], [0, 7], [27], [1], [26], [3, 10], [27], [6], [3, 20], [1], [17, 18], [7, 10], [27], [27], [22], [5], [15], [12], [27], [24], [10], [27], [10], [27], [27], [25], [8], [11], [27], [27], [27], [10], [14, 22], [0, 27], [0], [1], [0], [0, 4], [16, 25], [3], [27], [5], [11], [23], [27], [2], [27], [2, 20], [27], [27], [1], [15], [17], [25, 27], [27], [27], [27], [27], [25], [11], [3], [15], [11], [17], [0, 10, 18], [1], [0], [7], [13], [27], [8, 17], [27], [8, 13], [3, 15, 22], [27], [15], [17], [27], [2], [20], [9], [27], [3], [0], [27], [9, 27], [0], [6, 7], [27], [1, 27], [27], [27], [1], [9], [1], [1], [15], [9, 18], [18], [3, 10], [2, 22], [6], [25], [0], [6], [8], [1, 7], [27], [15], [27], [0], [24, 25], [17], [27], [14], [27], [27], [9], [4], [1], [4], [27], [27], [3], [13], [27], [10], [0, 22], [0], [27], [0], [25], [4], [2], [27], [10, 20], [4], [27], [17], [10], [0, 20], [27], [18], [15], [18], [27], [2], [1], [10], [27], [0, 13], [0, 15], [18], [27], [1], [27], [17], [27], [27], [9], [1], [10], [0, 6], [22], [22, 26], [9, 24], [10], [13], [27], [27], [26], [27], [27], [27], [1], [27], [27], [17], [1], [4], [2], [10], [0], [3, 27], [27], [4], [20], [15, 24], [22], [22], [0], [25, 27], [27], [27], [27], [4], [3, 10], [2], [15], [3], [0], [27], [27], [27], [2], [14], [4, 14], [14], [3, 10], [1], [17], [1], [0], [27], [0, 7], [8], [25], [18], [27], [0], [0], [27], [27], [3, 27], [13], [3, 4, 20], [27], [27], [9, 10], [10], [25], [27], [27], [0, 4], [27], [4], [0], [3, 10], [0, 15], [15], [18], [7], [15], [2], [14], [0], [27], [4, 7], [27], [27], [15], [27], [19, 23], [10], [18], [1], [0], [13], [3], [27], [17], [3, 11], [7], [22], [2], [6], [27], [6], [1], [11], [27], [27], [27], [18], [27], [7], [18], [18], [18], [15], [10], [0], [21], [6, 7], [1, 10], [1], [17], [27], [27], [22], [27], [7], [7], [7], [0], [6], [14], [18], [27], [27], [13, 22, 26], [25], [26], [27], [1], [27], [10, 11], [4], [27], [6], [11], [8], [25], [0, 10], [27], [0], [27], [9, 10], [26], [2], [27], [0], [27], [27], [26], [25], [3], [27], [10], [20], [27], [20], [0, 25], [22], [20], [1, 17], [24], [1, 10], [4, 5], [27], [7, 27], [14], [27], [13], [0, 15, 17], [27], [5], [8], [18], [18], [27], [15, 20], [20], [20], [18], [22], [1], [0], [27], [0, 27], [18], [13], [4], [25], [15], [4, 13], [15], [20], [6, 10], [11], [3], [27], [7], [27], [6], [10], [20], [27], [0, 1], [27], [22], [27], [2], [0], [1], [27], [4], [26, 27], [27], [7], [4], [15], [27], [4], [6, 22], [8, 27], [4, 15], [20], [1], [27], [7], [8, 18], [0, 15, 22], [0], [9, 20], [15], [10, 27], [27], [7], [26], [27], [9], [27], [27], [27], [1], [22], [5], [27], [15], [7], [5, 15], [27], [27], [27], [9], [7, 22], [27], [27], [3], [0], [27], [0], [10], [27], [5, 27], [3], [27], [27], [13], [7], [14], [27], [4], [10, 27], [7], [27], [26], [18], [27], [6], [6], [7, 20], [15], [1], [27], [27], [11], [22, 27], [0], [9], [18], [27], [6, 7], [21], [27], [15], [27], [10, 15], [27], [2], [5, 25], [27], [9], [27], [27], [4], [10], [9], [15], [22], [4, 27], [20], [27], [3], [27], [0, 6], [2, 27], [27], [27], [0], [24], [27], [0], [4], [17, 26], [18], [18], [6], [27], [0], [10], [15], [2, 3], [3], [0, 27], [27], [27], [0], [9], [0], [11], [10], [27], [2, 3], [22], [27], [5, 17], [4, 20], [6], [1, 7], [17], [27], [0], [2], [9, 25], [27], [1], [5, 20], [15], [0], [27], [27], [27], [27], [3], [18], [12], [27], [4], [10], [27], [8], [27], [5], [26], [20], [27], [10], [5, 7], [7], [15], [10], [20], [1], [27], [7], [27], [18], [3], [27], [27], [27], [27], [27], [0, 4], [4, 22], [4], [1], [25], [0], [15], [27], [27], [17], [27], [1], [12], [27], [22, 26], [17, 27], [27], [10, 27], [10], [27], [27], [25], [6, 27], [2], [0], [27], [27], [10], [7], [1], [27], [27], [7], [18], [7, 22], [27], [15], [9], [27], [1], [27], [13, 20], [4], [8], [7], [3], [27], [14], [27], [27], [27], [3, 11], [27], [0], [15], [6], [1, 7], [25], [27], [27], [27], [27], [18], [6], [10], [26], [25], [27], [0, 4], [14, 19], [2, 12], [11], [10], [1, 7], [27], [17], [4, 21], [26], [4], [8, 20], [18], [10], [4], [9], [17], [27], [7, 18], [27], [26], [4, 7], [27], [7, 25], [2], [6], [27], [25, 27], [27], [15], [4], [22, 27], [27], [26], [3], [1], [0], [17, 27], [27], [4], [7], [27], [10], [27], [27], [27], [0], [1], [9], [27], [27], [27], [0], [0], [27], [13], [27], [27], [25], [2, 18], [4], [27], [4], [24], [7], [20], [0], [18], [3], [22, 25], [1], [27], [0], [20], [4], [27], [5], [10], [24], [8], [1, 7], [10], [26], [6, 27], [27], [27], [25], [2], [7, 27], [6], [14], [27], [27], [0], [1, 17], [1, 8], [15], [9], [6], [6, 7], [3], [3], [4, 27], [3], [3], [3], [27], [27], [25], [2], [2, 3], [17], [15], [1, 15], [10], [25], [27], [2], [18], [18], [18], [8], [15, 20], [24], [27], [27], [27], [15], [11], [15], [27], [8], [27], [27], [17], [27], [17], [2], [20], [15], [25], [26], [4], [0], [16], [3], [27], [27], [4], [9, 25], [5], [3, 26], [0], [7, 26], [4], [27], [22], [8, 9], [12], [5], [3], [20], [7], [10, 18], [27], [2], [27], [20, 27], [4, 20], [3], [1], [27], [1], [27], [10], [0, 7], [20], [6], [27], [27], [3, 11], [2, 8], [27], [2], [1], [27], [27], [27], [0, 1], [0, 7], [9], [5], [15, 18], [18], [4], [27], [10], [22, 27], [0, 22], [24], [27], [27], [27], [14], [15, 17], [27], [27], [15], [27], [1], [9], [27], [17], [5, 25], [27], [11], [10], [27], [4], [3, 22], [25], [1, 17], [15, 20], [27], [27], [20], [26], [27], [24], [5], [15], [10], [27], [1], [25], [15], [8], [27], [4], [27], [27], [11, 14], [27], [9], [26], [27], [0], [18], [1], [27], [27], [27], [14], [27], [5], [27], [27], [27], [17], [27], [27], [27], [27], [26], [4], [16], [3, 9], [10], [22, 27], [10], [15], [2, 3], [2], [27], [2], [10], [6, 27], [18], [19], [10], [27], [2, 6], [24], [27], [18], [14], [26], [18], [27], [5, 18], [1], [7, 27], [27], [27], [27], [23], [27], [11], [22], [17], [1], [7], [3], [5], [18], [0], [27], [15, 20], [3], [1], [0], [0, 4], [20], [27], [26], [2, 3], [27], [27], [27], [24, 25], [0], [18, 20], [20], [27], [14], [5], [5], [5], [10], [27], [11, 22], [27], [6], [26], [7], [7], [27], [27], [15], [0, 1], [8], [0], [27], [10], [27], [27], [0], [1], [27], [0], [3], [11], [15], [1], [17], [27], [1], [20], [27], [27], [15], [7], [11], [1, 17], [6, 27], [2, 9], [4], [0], [27], [27], [12], [4], [8, 11], [3], [27], [0], [27], [10], [0], [17], [20], [19], [4, 6], [27], [27], [27], [20], [0, 7], [0, 22], [9], [18], [4], [5], [5], [25, 27], [27], [27], [0], [15], [17, 18], [1], [27], [27], [27], [9], [2], [27], [0], [21], [17], [27], [3, 20, 27], [27], [25], [4], [26], [15], [1, 9], [27], [27], [0], [27], [27], [0, 27], [6], [12], [27], [27], [27], [5], [6, 15], [6, 22], [3], [27], [0], [18], [0], [7], [27], [27], [22], [27], [3], [27], [6], [0], [27], [10], [3], [2, 3], [27], [15], [27], [7, 10], [22, 27], [27], [3], [27], [25], [27], [6], [25], [27], [18], [24], [27], [7], [27], [1, 13, 26], [20], [27], [18], [5], [5], [4], [6], [17], [27], [10], [7], [27], [9], [18], [17], [4], [26], [9], [4], [10], [15, 27], [27], [27], [27], [5], [4], [27], [2], [27], [8], [27], [27], [0], [9, 12, 25], [0, 4, 20], [27], [17], [27], [27], [5], [1, 11], [17], [10], [3], [10], [6], [27], [27], [27], [10], [7], [27], [27], [27], [2, 9, 11], [7], [27], [3], [1], [27], [15], [17], [27], [27], [3], [13], [4, 6], [8, 27], [3, 7, 27], [1], [27], [27], [27], [26], [13, 17], [27], [26], [15], [17, 25], [5], [11, 27], [0], [16], [1], [27], [27], [0], [24], [27], [8], [5, 20], [9, 10], [27], [22, 25], [3, 17], [27], [5], [9], [27], [25], [27], [7, 24], [18], [3, 8], [15], [3], [27], [15], [4], [4, 7], [27], [15], [1], [4], [18, 20], [9], [6, 27], [3, 22], [3, 22], [27], [1], [27], [27], [1], [0], [18, 22], [27], [27], [7], [27], [0], [0], [8], [3, 14], [27], [2, 3], [27], [18], [27], [4, 11], [20], [27], [26], [7, 27], [4], [7], [10], [6, 27], [27], [27], [12], [15], [15], [25], [27], [25], [27], [27], [27], [27], [25], [27], [0], [27], [4], [0, 11, 20], [12], [0, 18], [0], [0], [25], [6], [13, 15], [1, 15], [0, 9], [1], [27], [7, 18], [27], [15], [3], [22], [3], [1], [14, 18], [10], [0, 5], [27], [27], [0, 4, 15], [3], [10], [11], [2], [0], [10, 27], [0, 18], [27], [27], [8, 20], [27], [14], [10], [10], [27], [17], [5], [27], [27], [27], [27], [7], [27], [27], [10], [5, 25], [0], [15], [1, 7], [25], [1], [27], [27], [8], [4], [27], [15], [26], [5], [27], [27], [27], [0], [17], [5, 17], [4, 27], [27], [18], [15], [20], [10], [20], [27], [25], [27], [27], [1], [13, 27], [5, 7], [27], [0, 15], [18], [27], [0], [27], [0], [1], [6], [9], [27], [15], [27], [6], [15], [3, 10], [27], [0, 4, 20], [27], [27], [7], [5], [15], [13], [27], [22], [9, 20], [27], [17], [27], [27], [27], [8, 27], [0], [2], [27], [27], [14], [14], [27], [27], [27], [1], [27], [26], [27], [25], [20], [17], [27], [0], [3], [27], [0], [1], [14], [4, 15], [27], [27], [15], [4], [0, 27], [27], [3], [1], [7], [27], [1, 4], [8], [0, 20], [9, 25, 27], [13], [5, 7, 15], [0], [27], [17, 27], [27], [3], [17], [9], [4, 7], [17, 21], [0], [6, 7], [18], [5, 27], [7], [27], [0], [0, 27], [5], [27], [18], [4], [0], [4], [5], [7, 25], [0, 27], [17, 20], [27], [27], [27], [27], [18], [2], [9], [17], [27], [1], [6, 7], [4, 27], [0], [8, 18], [0], [15], [27], [27], [14], [11], [10], [7], [0], [5], [3], [4], [27], [8], [10], [14], [3, 10], [21], [3], [1], [10], [3, 27], [6], [27], [27], [24, 25], [27], [17], [6], [10], [25], [27], [20], [27], [27], [7, 20], [5, 20], [1], [27], [0, 4, 18], [3, 27], [27], [14], [0], [0], [20], [4], [9], [20], [0], [0], [3], [27], [3, 27], [27], [3], [1, 17], [10], [4], [4], [4], [27], [7], [17], [13], [4], [8], [1], [20], [7], [6], [10], [26], [27], [27], [10], [27], [27], [27], [27], [1], [6, 27], [27], [1], [0, 15], [15], [27], [27], [27], [27], [1, 4], [27], [0], [9], [2], [27], [27], [26], [27], [9], [15, 18], [18], [27], [0], [17], [0], [0], [6], [2, 11], [15], [10], [2, 27], [0], [0, 17], [17], [27], [27], [0], [4, 17], [0, 5], [10], [27], [1], [22], [15], [1, 18], [4], [10], [17, 20], [27], [18], [27], [18], [4], [10], [6, 7], [27], [10], [27], [12], [11, 14], [26], [27], [27], [18], [1], [1], [20], [20], [27], [27], [4], [8], [0, 18], [15], [7], [16, 25], [27], [27], [18], [27], [4], [15, 20], [9, 25, 27], [27], [4], [1, 22], [27], [0, 17], [27], [27], [3], [20], [15], [0, 18], [25], [27], [0], [27], [3], [17, 18], [6, 26], [3], [27], [27], [3], [6], [4], [3], [18], [22], [27], [27], [25], [1], [27], [27], [2], [27], [27], [0], [27], [0], [13], [3], [10, 18], [27], [27], [6], [13], [1], [10], [7, 22], [20], [10], [26], [27], [4], [15], [17], [17], [27], [27], [0, 20], [27], [24], [15], [27], [26], [2], [2], [27], [8, 27], [10, 27], [9], [27], [18], [3, 9], [4], [27], [27], [3], [6, 7], [27], [10], [7, 27], [17], [0], [1], [3, 7, 10], [27], [2], [27], [15], [27], [27], [27], [27], [27], [15], [4, 18], [0], [4], [22], [6], [11], [27], [27], [0], [0], [13], [27], [4], [9], [17], [3], [27], [4], [2], [27], [27], [27], [20], [9], [0, 4], [27], [7], [0], [27], [27], [27], [27], [17], [7], [15], [2], [5], [11], [27], [22], [17], [10], [18], [14], [5], [1, 3], [7], [27], [1, 17], [4, 27], [15, 17], [4, 27], [8], [2], [22], [11], [6], [1], [27], [0], [22], [4], [1], [3, 7], [0], [4], [5], [0], [15], [27], [27], [13], [27], [27], [18], [27], [3], [15, 22], [27], [6, 27], [2], [20], [27], [27], [3], [27], [11, 20], [27], [6, 7], [27], [18], [4, 17], [17, 18], [18], [9], [27], [27], [27], [7, 15], [27], [27], [3, 10], [3], [6], [15], [13], [27], [27], [27], [27], [15], [0], [7], [17], [0], [14], [27], [0, 4], [3], [27], [15], [4], [3], [27], [3, 15], [4], [27], [1, 17], [27], [20], [18], [0], [0], [27], [18], [2], [27], [4, 8], [0], [2, 27], [25], [27], [27], [7], [10], [9, 10], [15], [27], [0, 27], [1], [17], [0], [7], [1], [9, 15, 22], [14, 25], [0], [10], [15], [1], [27], [5], [15], [27], [27], [26], [15], [1], [7], [8], [0, 4], [7], [3], [18, 27], [2], [27], [4, 20], [27], [1, 20], [15], [9, 25], [27], [25], [2, 20], [27], [27], [15, 25, 26], [4], [14], [10], [7], [27], [3], [23], [27], [4], [27], [13], [7, 24], [27], [27], [2], [27], [17], [10], [27], [27], [13], [18], [27], [27], [17, 18], [10], [4], [27], [1], [27], [17], [1], [11], [5, 18], [27], [4], [1, 7], [27], [15], [5, 18], [27], [27], [8, 16], [0], [27], [4], [4], [0], [27], [27], [0, 4], [27], [27], [7], [13], [0, 18], [15], [0, 1], [27], [10], [27], [18], [6], [22], [6, 7], [6], [6], [27], [13, 17], [5, 9], [6], [10], [15], [27], [9], [0, 20], [27], [27], [25], [26], [7], [11], [27], [2], [10, 27], [3], [27], [27], [24], [4], [5, 20], [27], [8], [27], [27], [7], [0, 17], [27], [0, 27], [26], [26], [6], [18], [27], [27], [1, 4], [25], [7, 27], [1], [25], [3], [9], [27], [0, 14], [27], [27], [10], [3, 10], [27], [6], [25], [27], [27], [0], [0], [22], [11], [18], [27], [9], [27], [27], [7, 10], [8], [27], [27], [1], [3], [25], [0, 18], [27], [3], [27], [16], [3, 9], [4], [7], [20], [18], [3], [27], [11], [2], [1], [2, 3], [27], [27], [27], [0, 5], [27], [20], [2], [27], [22, 24], [13, 25], [1], [15], [15], [15], [27], [17], [0, 15], [27], [10], [10], [8], [27], [27], [4], [27], [4, 20], [27], [11], [4], [15], [26], [27], [27], [27], [20], [27], [15], [27], [4, 18], [14], [17], [15], [2], [26], [27], [11], [22], [7], [0], [6, 7], [5], [0], [27], [7, 26], [27], [4, 27], [17, 18], [13], [3], [27], [5, 20], [0], [4, 25], [5], [27], [0, 15], [10], [27], [27], [11], [7], [13], [1], [25], [14], [27], [27], [20], [0], [4, 27], [1], [27], [10], [27], [27], [27], [27], [11], [27], [27], [15], [0, 27], [26], [27], [6, 10, 18], [20], [4, 5], [11], [0], [17], [2], [7], [0], [18], [19], [9], [27], [25], [0, 27], [15], [8], [27], [27], [1], [18], [0], [27], [27], [3], [4, 15], [25], [1], [10], [26], [10, 27], [15], [17], [27], [27], [0, 4], [3, 27], [27], [7, 27], [5], [27], [18], [20], [27], [2], [1], [4], [0, 13, 17], [0], [0], [27], [0], [7], [5], [0], [4], [0, 4], [17], [27], [4, 20], [17], [6, 7], [24], [0, 7], [26], [26], [22], [27], [27], [27], [0, 13], [14], [15], [11], [27], [7], [6], [27], [3, 4], [27], [9], [18], [5], [3], [0, 20, 22], [3], [2], [9, 25], [4], [7], [27], [27], [3], [10], [27], [27], [27], [2], [27], [4], [1], [27], [2, 5], [2], [4, 27], [6, 7], [4], [27], [6, 27], [27], [18], [17], [7], [0, 18, 22], [0, 15], [6, 27], [10], [0, 4], [13, 17], [17], [27], [1, 7], [0], [27], [15], [4, 27], [27], [5, 25], [18], [0], [1], [6], [27], [0], [18], [2], [15], [4], [19], [26], [4, 24], [25], [10], [17], [27], [5, 18], [10], [20], [18], [3, 9, 16], [27], [27], [22], [27], [18], [7], [27], [27], [27], [17, 18], [15], [27], [3], [13], [27], [0], [27], [0], [4], [27], [6], [9], [6, 7], [23], [0], [4], [6], [13], [15, 18], [23], [10], [6], [7], [10, 17], [0], [27], [27], [22], [27], [11], [5, 25], [27], [17], [11], [27], [10], [1], [7], [2, 11], [1], [27], [7], [15], [27], [0], [4, 20], [10], [27], [4, 13, 27], [7], [27], [27], [0], [10], [0, 18], [27], [0], [14, 25], [0], [9], [5], [27], [2], [5], [27], [16], [27], [11], [27], [27], [27], [0], [10, 18], [27], [0, 18], [0, 22], [2], [7], [0], [27], [26], [13], [22], [27], [27], [27], [0], [3], [27], [0, 15, 17], [17], [1, 15], [22], [18], [3], [27], [25], [0, 4, 15], [27], [27], [27], [1], [10, 25], [0], [22], [0, 4], [9], [27], [18], [3], [27], [27], [20], [3], [19], [27], [7], [8], [4], [27], [18], [9, 10], [27], [2], [15], [1], [4], [26, 27], [10], [7], [7, 27], [8, 20], [18], [27], [27], [9], [7], [9, 25], [15], [7], [27], [0], [10, 27], [26], [27], [27], [25], [27], [2, 3], [27], [10], [7], [22, 25], [27], [27], [18], [0], [27], [27], [0, 27], [26], [5, 20], [27], [7], [0], [3], [2, 3], [0], [27], [1, 7], [15], [7], [13, 22], [4, 22], [13], [18], [25, 27], [5, 25], [0], [4], [1, 19], [27], [3, 27], [7], [15], [2, 3], [4], [6, 7], [3], [20], [26], [27], [27], [2, 5], [27], [6, 7], [2, 9, 25], [1], [15, 27], [27], [20], [10], [27], [27], [15], [18], [4], [27], [10], [10], [27], [18], [27], [25], [27], [27], [15], [2, 8], [10], [27], [25], [18], [27], [3], [9], [1], [3, 10], [27], [27], [27], [27], [1], [27], [1, 4], [27], [4], [15], [7], [27], [27], [27], [27], [3], [27], [18], [4], [22], [1], [0], [10], [27], [27], [27], [1, 17], [27], [26], [27], [17], [0], [27], [1], [27], [7], [27], [17], [15], [15], [1, 17], [27], [18], [13], [27], [10], [17], [27], [23], [27], [27], [27], [0], [15], [3], [27], [26], [8], [27], [1], [27], [26], [27], [4, 27], [4], [26], [13], [9], [27], [27], [4], [27], [10, 27], [3], [17], [27], [27], [27], [27], [18], [27], [27], [18], [5, 17], [27], [15], [15], [0], [26], [27], [27], [0, 21], [8], [12], [0], [26], [14], [15], [6, 7], [27], [9], [25], [27], [18], [11], [10], [7], [27], [27], [2], [13, 15, 20], [1], [13], [4], [12], [27], [0, 20], [18], [2, 3], [27], [15], [15], [14], [0, 15], [14], [20], [15], [27], [27], [27], [15], [27], [5], [22], [5, 27], [2], [0], [27], [27], [27], [27], [3], [27], [26], [3, 7, 11], [27], [11], [0], [6], [18], [27], [2, 26], [2], [27], [27], [27], [7], [8, 25], [27], [7], [3, 9], [4, 15], [18], [1], [27], [27], [8], [27], [13], [3], [22], [7], [3, 9], [27], [4], [25], [27], [1], [10, 22], [26], [27], [0], [18], [18], [27], [3], [0, 13, 22], [0], [27], [8, 20], [3], [3, 27], [27], [11, 27], [15], [22], [15], [1, 15], [15], [13], [27], [27], [5], [27], [3], [27], [3], [6], [1], [15], [0], [8, 13], [0], [27], [4], [27], [27], [27], [27], [27], [22], [1], [15], [4, 22], [4], [15], [27], [13], [3], [0], [27], [0, 4], [27], [27], [27], [2], [15, 26], [22], [2], [4], [27], [27], [5], [18], [0], [9], [22], [18], [2], [27], [17], [0], [27], [11], [27], [1, 4, 22], [4, 20], [27], [7], [20], [27], [3], [9], [3, 9, 10], [5, 9], [27], [9], [27], [7], [25], [15], [0], [2], [1], [0, 15], [6], [27], [27], [27], [3, 10], [20], [13], [27], [15], [11], [0], [27], [27], [1], [9, 10, 11], [27], [18], [7], [8], [2, 3, 27], [1], [3, 14], [3], [25], [27], [7, 8], [9], [5], [2], [7], [22], [27], [25], [25], [2], [4], [0], [3, 10], [9, 26], [15], [24], [1], [27], [27], [0], [27], [27], [27], [25], [27], [0], [10], [0], [27], [27], [27], [1, 3, 20], [17], [0, 4], [27], [25], [27], [5, 24], [27], [3, 9], [15, 22], [27], [27], [22], [25], [9], [27], [3], [15], [3], [9], [27], [27], [25], [4], [9], [0], [27], [3, 20], [25], [14], [18], [27], [8], [10], [0, 15], [4], [27], [7], [0, 4], [3], [27], [25], [27], [18], [7], [10], [27], [20], [20], [7], [27], [27], [15], [27], [3, 16, 25], [0], [0, 15], [15], [27], [10], [7], [27], [27], [6, 7], [27], [11], [6], [15], [2], [11], [27], [2, 3], [27], [4], [26], [0], [4], [27], [27], [0], [27], [10], [18], [15], [4, 27], [27], [18], [7], [6, 7], [7], [27], [27], [26], [2], [2, 3], [14, 27], [27], [18], [1], [27], [24], [3, 27], [1], [11], [27], [27], [1], [21], [15], [27], [20], [1], [27], [3, 27], [27], [4, 9], [0], [22], [7], [6], [0, 15, 24, 25], [27], [27], [10], [1], [27], [27], [3], [15], [27], [25], [7, 15], [22], [9, 25], [6], [0], [8], [1], [27], [17], [27], [6], [27], [1, 17], [9, 25], [27], [0, 10, 13], [3], [3], [27], [21], [26], [3], [27], [13], [14, 19], [0], [16, 25], [9], [13], [18], [22], [1], [27], [0], [4], [1], [1, 18], [8, 20], [25], [16, 26], [9], [0, 17], [15], [10], [27], [27], [1], [21], [22], [1], [27], [7, 27], [27], [3], [27], [27], [27], [27], [24], [10], [0], [0], [25], [27], [0], [27], [1], [27], [27], [4], [27], [27], [4], [27], [27], [4], [3], [27], [10, 27], [27], [7, 27], [5], [0], [27], [27], [14], [27], [10], [4], [27], [6], [2, 3], [7], [27], [0], [8, 27], [1, 17], [0, 4], [13], [13], [26], [0, 26], [27], [0], [27], [7], [3, 9], [10], [8], [0, 6], [18], [11], [7, 22, 26], [17], [27], [9], [27], [26], [0], [5], [0], [13, 26], [27], [13], [27], [7, 22], [18], [27], [27], [27], [27], [27], [0], [27], [5], [27], [22], [2], [21], [4], [15], [0, 5], [0], [10], [27], [17], [17, 26], [18], [0, 4], [15, 17], [27], [27], [7], [10], [9], [4, 27], [27], [4], [4], [27], [0], [27], [0, 15], [3, 9], [0, 22], [27], [5, 18], [18], [1], [10, 27], [27], [14], [3], [1], [3], [13], [10], [5], [22], [6], [1], [1], [3], [1], [27], [27], [2], [0], [27], [27], [18], [27], [10], [9], [27], [18], [1], [27], [23], [27], [25], [1], [27], [27], [27], [1, 5], [5], [27], [27], [0, 7], [17, 27], [15], [24], [14], [27], [0, 26], [4, 27], [13], [0], [1], [15, 20], [27], [3], [13], [27], [15], [24, 25], [10], [27], [18], [18], [8], [20], [18], [17, 18], [27], [13], [1], [24, 25], [10], [10], [13], [7], [9], [12], [27], [17], [1], [27], [2], [1], [7, 26], [6, 27], [27], [4], [27], [27], [27], [26], [27], [1], [21], [4], [5, 27], [1], [27], [22], [27], [3, 10], [25], [10], [6], [7, 15], [27], [27], [3, 10], [22], [1, 20], [10], [0, 15], [27], [2], [4, 27], [9, 14], [20], [11], [27], [3], [27], [15], [27], [27], [27], [0, 15], [2, 3], [5], [27], [0], [27], [27], [7], [27], [6, 7, 9], [10], [27], [27], [3, 9], [1, 10], [0], [0], [27], [25], [27], [27], [27], [26], [15], [17], [27], [6], [27], [0, 18], [27], [10], [27], [1], [27], [27], [10], [27], [17], [9], [27], [3], [25, 26], [15], [9], [27], [20, 27], [1], [18], [26], [27], [11], [6], [0, 15], [27], [27], [27], [27], [10, 27], [2], [0], [27], [27], [1, 15], [5], [26], [3], [10], [17], [27], [27], [1], [0], [2], [6], [15], [12, 25], [10], [7], [17], [25], [3], [17, 18], [4], [25], [11], [0], [22], [27], [27], [0], [4], [0], [27], [3], [7], [18], [8], [27], [1, 4], [27], [7], [5], [10], [4, 5], [7], [27], [0, 22], [15], [22], [15], [27], [27], [27], [0], [12, 14], [5, 20], [15], [27], [27], [18], [2], [3, 4], [6], [27], [27], [27], [4, 27], [27], [26], [4], [0], [15, 20], [20], [0, 1], [5], [27], [4, 10], [27], [17], [7, 8], [4], [20], [18], [0, 15], [5], [27], [27], [27], [0], [27], [25], [10, 22], [3], [27], [27], [27], [9], [8], [0, 1], [27], [20], [25], [10], [1, 6, 26], [27], [3, 27], [27], [27], [0, 20], [15], [4], [14], [27], [9, 11], [2, 3], [9], [13, 26], [9, 25], [9], [3], [0, 26], [27], [25], [27], [0], [13], [10], [6, 7], [27], [18], [27], [25], [27], [7], [18], [20], [24], [5], [9, 27], [27], [18], [7], [0, 4, 20], [8], [0], [27], [27], [27], [27], [10, 22], [4], [11], [27], [0], [26], [20, 26], [3], [0, 22], [11], [27], [5], [27], [9], [18, 27], [4], [27], [22, 27], [6], [3], [4], [27], [6, 7, 26], [0], [26], [27], [18], [13], [3, 7], [15], [27], [15], [15], [27], [0], [4], [2], [7], [13, 18], [4], [27], [4], [20], [7], [15, 27], [0], [11], [15], [27], [22], [10], [25], [27], [3], [27], [0], [13], [4], [24], [13, 20, 21], [1], [4, 27], [2, 3, 10], [4], [27], [15], [4], [25], [17], [27], [26], [27], [27], [3], [5, 27], [3, 14], [7, 15, 20], [27], [27], [5], [10], [27], [2, 27], [20], [11], [15], [27], [13, 20], [3, 27], [10, 15], [26], [27], [7], [4], [9, 14], [10, 27], [27], [17], [0], [18], [27], [27], [4], [1], [9, 27], [27], [27], [7], [0], [27], [26], [25], [4], [15], [5], [18, 25], [10, 20], [1], [27], [4], [1], [27], [4, 23], [2], [20], [27], [27], [27], [8], [27], [27], [23], [27], [26, 27], [24], [0], [25], [26], [0], [27], [25], [20, 27], [27], [17], [27], [27], [0], [6], [0, 15], [8], [3, 10], [27], [5, 14, 27], [6], [17], [15, 17], [7], [24], [0], [0], [27], [2], [27], [7, 15], [6], [4], [1], [2, 27], [0], [0], [12], [3], [9], [7], [15], [5], [11], [6, 27], [6, 7], [10], [9, 22], [6], [0, 4], [1], [10], [0, 21], [15, 17], [27], [20], [27], [4], [10], [18, 20], [27], [27], [27], [27], [0], [27], [0, 6], [0], [0], [2], [27], [27], [27], [27], [17, 25], [10], [26], [22], [15], [11], [7], [15], [2], [0, 7], [3, 4], [27], [27], [27], [7, 18, 22], [20], [27], [27], [20], [17], [27], [27], [27], [27], [27], [4, 27], [0], [15], [27], [27], [0], [27], [27], [0, 4], [15], [27], [0], [2, 25], [0], [18], [27], [1, 18], [14], [0], [27], [26], [27], [17], [27], [22], [17], [7, 13, 17], [1], [27], [15], [3], [27], [4], [13], [1, 27], [22], [27], [27], [4], [13], [4], [18], [27], [27], [3, 9], [17, 25], [27], [26], [27], [11], [27], [27], [27], [27], [0, 4], [4], [9], [12], [27], [27], [15], [0, 15], [18], [11, 24], [1], [27], [10], [20], [27], [6], [20], [18], [2], [10], [4, 25], [27], [0, 12, 13, 26], [4], [27], [4], [18], [8], [27], [18], [2], [27], [11], [27], [18], [0, 26], [27], [4], [27], [0], [6], [26], [27], [27], [4], [27], [9], [9], [0, 17], [27], [27], [27], [22], [27], [22, 27], [27], [25], [1], [15], [5], [15], [3], [10], [27], [27], [26], [10], [14], [14], [2, 3], [3], [12], [27], [7], [27], [0], [4], [26], [15], [15], [26], [4], [25], [27], [27], [17, 23], [3, 13], [2, 3], [27], [11], [27], [0, 4, 18], [0, 15], [15], [2, 18, 27], [27], [0], [22], [0], [4], [27], [4], [19], [13], [15], [22], [6, 7], [13, 17], [4, 13], [2], [27], [4], [4, 7], [27], [24], [18], [7, 24], [2], [27], [1], [5, 18], [1], [22], [27], [20], [6, 20], [4, 7], [0], [17], [27], [4, 8], [2], [27], [18], [27], [0], [0], [27], [10], [2, 3], [0], [27], [16], [1], [17, 27], [3], [27], [7], [27], [0], [1], [15], [22], [10], [3], [0, 18, 20], [27], [7], [6], [3, 11], [0], [15], [3], [3], [3, 27], [7], [4, 17], [1], [0], [27], [27], [27], [0], [8], [11, 12], [15], [27], [20], [27], [13], [2], [1], [27], [1], [27], [27], [7], [3], [25], [27], [7], [6, 27], [12], [27], [0], [27], [4, 9], [2], [27], [27], [26], [27], [2], [15], [0], [27], [27], [3, 6], [27], [11, 22], [24], [27], [14], [15], [17], [6], [5, 17], [1], [0], [27], [18], [7], [20], [2, 8], [27], [0], [1, 2, 5, 17], [7, 18], [0], [1, 17], [27], [2, 11], [27], [17, 18], [27], [7], [0], [1], [8, 20], [27], [3], [27], [27], [27], [18], [27], [13, 14], [7], [22], [22], [27], [18], [3], [22], [13, 27], [27], [3], [0], [17], [27], [18], [15], [3, 11], [27], [7, 9], [27], [8], [20], [25], [20], [6], [18], [27], [27], [14], [1], [1], [4, 5, 20], [3, 23], [18], [18], [0], [15], [8], [4], [3], [10], [15], [27], [7, 27], [9, 22], [17], [15], [27], [26], [0], [20], [7, 26], [27], [27], [0], [14], [27], [4], [9], [27], [27], [6], [6], [27], [17], [25], [0, 27], [4], [27], [22], [18], [27], [4, 27], [3, 7], [4], [0], [4], [11], [22], [0], [17], [3, 9], [5], [27], [13], [11], [18, 27], [15], [4], [27], [25], [27], [26], [1], [2], [15], [1, 26], [0], [27], [27], [15], [25], [27], [2, 3], [25], [9], [10], [10], [7], [0, 15], [0, 4], [22], [27], [7], [27], [7], [15], [10], [0], [10], [27], [27], [27], [2, 27], [9], [0], [27], [15], [27], [4], [27], [4], [7, 27], [3, 10], [27], [3], [4], [27], [10], [25, 27], [7], [4], [15], [7], [2], [2], [2], [4], [7, 22], [17, 18], [3], [7, 27], [27], [27], [8, 22], [24], [27], [0, 20], [6], [20], [3, 9, 12], [0], [0, 18], [10], [15], [27], [27], [17], [26], [27], [27], [27], [11], [10], [11], [27], [27], [14], [1], [20], [27], [10], [27], [27], [11], [11], [19], [0, 1], [0, 15], [27], [6], [10, 11], [9], [15], [27], [5, 20], [0, 18], [3, 10], [7], [27], [27], [10], [27], [3], [7, 20], [9], [20], [27], [27], [27], [15], [4, 15], [10, 27], [27], [27], [11], [27], [0, 15], [27], [27], [27], [2, 3], [18], [4], [2], [27], [20], [10], [24], [6], [5, 19], [1], [4, 27], [2], [4, 17], [4], [22], [0], [7], [27], [15], [1], [24], [4], [10], [0], [10], [19, 27], [18], [10], [15], [27], [10, 27], [15], [2, 7], [0], [27], [25], [18], [11], [22, 27], [27], [13], [0, 1, 18], [2], [0, 15, 20], [26], [0], [17], [4], [12], [27], [4], [1], [27], [20], [27], [5], [27], [2], [24], [27], [3], [3], [15], [27], [7], [27], [27], [27], [15], [2, 9], [20], [17], [27], [27], [3, 10], [4], [8], [7], [27], [14, 27], [14, 27], [25], [0], [27], [13], [2, 3], [0], [0], [27], [4], [27], [10], [1, 24], [0], [1], [6], [27], [10], [27], [6], [7], [7, 27], [18], [6], [3], [13], [17]]\n"
          ],
          "name": "stdout"
        }
      ]
    },
    {
      "cell_type": "markdown",
      "metadata": {
        "id": "WHUmphG3IrI3"
      },
      "source": [
        "To get a sense of what the data looks like, the following function will show some examples picked randomly in the dataset."
      ]
    },
    {
      "cell_type": "code",
      "metadata": {
        "id": "i3j8APAoIrI3"
      },
      "source": [
        "import datasets\n",
        "import random\n",
        "import pandas as pd\n",
        "from IPython.display import display, HTML\n",
        "\n",
        "def show_random_elements(dataset, num_examples=10):\n",
        "    assert num_examples <= len(dataset), \"Can't pick more elements than there are in the dataset.\"\n",
        "    picks = []\n",
        "    for _ in range(num_examples):\n",
        "        pick = random.randint(0, len(dataset)-1)\n",
        "        while pick in picks:\n",
        "            pick = random.randint(0, len(dataset)-1)\n",
        "        picks.append(pick)\n",
        "    \n",
        "    df = pd.DataFrame(dataset[picks])\n",
        "    for column, typ in dataset.features.items():\n",
        "        if isinstance(typ, datasets.ClassLabel):\n",
        "            df[column] = df[column].transform(lambda i: typ.names[i])\n",
        "    display(HTML(df.to_html()))\n",
        "  "
      ],
      "execution_count": 9,
      "outputs": []
    },
    {
      "cell_type": "code",
      "metadata": {
        "id": "SZy5tRB_IrI7",
        "colab": {
          "base_uri": "https://localhost:8080/",
          "height": 523,
          "referenced_widgets": [
            "c3c665903c5640b6b9f1fb3c76023bb3",
            "fa2b24ee804947af851af4427bcebdc9",
            "aafdd68c82ea41b2a689d5b3dbf7b84e",
            "9ddbeca33334498382deae1d9ce1c4ea",
            "8018b9094cd5450085390f7c02984427",
            "ec8c5ad76dab4b5a98226f6192a9f8c4",
            "a42e7024f0af4464bb1f24e1f1504780",
            "1a9b9012040143879fe93e340e869318",
            "29e859285365471bae37a7a33b65d987",
            "e6844e6c41e44ec58aa4af0daa826707",
            "301391c8cf0d4c188f7a39a8a0350ae4",
            "63e78d1927ea4c59ab7d32624e04fb81",
            "08a35a182636448b849834634bebd008",
            "66f85a2284074caca071017f3c772594",
            "ffd5e349f05b4ff09b44b3f781db0fbc",
            "daf672f92ee94cd3953011adb1028fa7",
            "5a2049cae4e9458ca3c34f0f47a08fd7",
            "67e93976ed48482bb806b88fa83a1633",
            "90788434181a4cb685c4c2347bfd3fe7",
            "6995adc9802b4089b1019c4ed5d5bea3",
            "87c0a915f66e49e48d9de8b592d33269",
            "9e0dfc8db50e44e19767c27ecd762898",
            "2c9d3f3ffc084fa0ac60ce9e5ef3d726",
            "500e70602c6c4d2b8820cc48dda180b6"
          ]
        },
        "outputId": "20435680-573d-411d-a75a-c1c778d96df1"
      },
      "source": [
        "# For simplicity, train model with single label for item.\n",
        "restricted_dataset = emotions_dataset.filter(lambda x: len(x[\"labels\"]) == 1 and 27 not in x['labels'])\n",
        "print(len(restricted_dataset['train']))\n",
        "show_random_elements(restricted_dataset['train'])"
      ],
      "execution_count": 10,
      "outputs": [
        {
          "output_type": "display_data",
          "data": {
            "application/vnd.jupyter.widget-view+json": {
              "model_id": "c3c665903c5640b6b9f1fb3c76023bb3",
              "version_minor": 0,
              "version_major": 2
            },
            "text/plain": [
              "HBox(children=(FloatProgress(value=0.0, max=44.0), HTML(value='')))"
            ]
          },
          "metadata": {
            "tags": []
          }
        },
        {
          "output_type": "stream",
          "text": [
            "\n"
          ],
          "name": "stdout"
        },
        {
          "output_type": "display_data",
          "data": {
            "application/vnd.jupyter.widget-view+json": {
              "model_id": "29e859285365471bae37a7a33b65d987",
              "version_minor": 0,
              "version_major": 2
            },
            "text/plain": [
              "HBox(children=(FloatProgress(value=0.0, max=6.0), HTML(value='')))"
            ]
          },
          "metadata": {
            "tags": []
          }
        },
        {
          "output_type": "stream",
          "text": [
            "\n"
          ],
          "name": "stdout"
        },
        {
          "output_type": "display_data",
          "data": {
            "application/vnd.jupyter.widget-view+json": {
              "model_id": "5a2049cae4e9458ca3c34f0f47a08fd7",
              "version_minor": 0,
              "version_major": 2
            },
            "text/plain": [
              "HBox(children=(FloatProgress(value=0.0, max=6.0), HTML(value='')))"
            ]
          },
          "metadata": {
            "tags": []
          }
        },
        {
          "output_type": "stream",
          "text": [
            "\n",
            "23485\n"
          ],
          "name": "stdout"
        },
        {
          "output_type": "display_data",
          "data": {
            "text/html": [
              "<table border=\"1\" class=\"dataframe\">\n",
              "  <thead>\n",
              "    <tr style=\"text-align: right;\">\n",
              "      <th></th>\n",
              "      <th>id</th>\n",
              "      <th>labels</th>\n",
              "      <th>text</th>\n",
              "    </tr>\n",
              "  </thead>\n",
              "  <tbody>\n",
              "    <tr>\n",
              "      <th>0</th>\n",
              "      <td>edvsznx</td>\n",
              "      <td>[12]</td>\n",
              "      <td>You have been banned from the mickey mouse clubhouse for inappropriate behavior</td>\n",
              "    </tr>\n",
              "    <tr>\n",
              "      <th>1</th>\n",
              "      <td>eebqebz</td>\n",
              "      <td>[0]</td>\n",
              "      <td>These Red Dead Redemption graphics are amazing</td>\n",
              "    </tr>\n",
              "    <tr>\n",
              "      <th>2</th>\n",
              "      <td>eehqdwn</td>\n",
              "      <td>[22]</td>\n",
              "      <td>I know that, but it just reminds me of darkest dungeon too</td>\n",
              "    </tr>\n",
              "    <tr>\n",
              "      <th>3</th>\n",
              "      <td>eeu21sd</td>\n",
              "      <td>[22]</td>\n",
              "      <td>History was written by the victors. Now we have history witten by the real truth agreed upon the everybody on the network</td>\n",
              "    </tr>\n",
              "    <tr>\n",
              "      <th>4</th>\n",
              "      <td>edf0xso</td>\n",
              "      <td>[20]</td>\n",
              "      <td>They didn’t take it; you abandoned it. A TSA agent clarified that for me once. I hope you can replace it easily.</td>\n",
              "    </tr>\n",
              "    <tr>\n",
              "      <th>5</th>\n",
              "      <td>eezigzy</td>\n",
              "      <td>[7]</td>\n",
              "      <td>Only 5 more years to go. Can’t wait!</td>\n",
              "    </tr>\n",
              "    <tr>\n",
              "      <th>6</th>\n",
              "      <td>edeql27</td>\n",
              "      <td>[11]</td>\n",
              "      <td>Lmao \"guys I was *coerced* into sending her a picture of my junk\". That just sounds dumb as hell</td>\n",
              "    </tr>\n",
              "    <tr>\n",
              "      <th>7</th>\n",
              "      <td>eejyt9m</td>\n",
              "      <td>[25]</td>\n",
              "      <td>im still starving</td>\n",
              "    </tr>\n",
              "    <tr>\n",
              "      <th>8</th>\n",
              "      <td>ef9u2jy</td>\n",
              "      <td>[9]</td>\n",
              "      <td>The fact that this podcast isn't called \"Z-Targeting Dio's Balls\" disappoints me greatly.</td>\n",
              "    </tr>\n",
              "    <tr>\n",
              "      <th>9</th>\n",
              "      <td>eetns9i</td>\n",
              "      <td>[4]</td>\n",
              "      <td>Ok 🤷‍♀️ I believe in you, you can do it.</td>\n",
              "    </tr>\n",
              "  </tbody>\n",
              "</table>"
            ],
            "text/plain": [
              "<IPython.core.display.HTML object>"
            ]
          },
          "metadata": {
            "tags": []
          }
        }
      ]
    },
    {
      "cell_type": "markdown",
      "metadata": {
        "id": "lnjDIuQ3IrI-"
      },
      "source": [
        "\n",
        "The emotions are provided as numeric labels. These are the actual orderings, beginning at 0 for admiration:"
      ]
    },
    {
      "cell_type": "code",
      "metadata": {
        "id": "5o4rUteaIrI_",
        "colab": {
          "base_uri": "https://localhost:8080/"
        },
        "outputId": "ca9824d9-1ce5-4386-8cf5-19f5fb670e8a"
      },
      "source": [
        "labels = [\"admiration\", \"amusement\", \"anger\", \"annoyance\", \"approval\", \"caring\", \n",
        "          \"confusion\", \"curiosity\", \"desire\", \"disappointment\", \"disapproval\",\n",
        "          \"disgust\", \"embarrassment\", \"excitement\", \"fear\", \"gratitude\", \"grief\",\n",
        "          \"joy\", \"love\", \"nervousness\", \"optimism\", \"pride\", \"realization\",\n",
        "          \"relief\", \"remorse\", \"sadness\", \"surprise\", \"neutral\"]\n",
        "index_to_labels = {index: label for index, label in enumerate(labels)}\n",
        "\n",
        "index_to_labels  "
      ],
      "execution_count": 11,
      "outputs": [
        {
          "output_type": "execute_result",
          "data": {
            "text/plain": [
              "{0: 'admiration',\n",
              " 1: 'amusement',\n",
              " 2: 'anger',\n",
              " 3: 'annoyance',\n",
              " 4: 'approval',\n",
              " 5: 'caring',\n",
              " 6: 'confusion',\n",
              " 7: 'curiosity',\n",
              " 8: 'desire',\n",
              " 9: 'disappointment',\n",
              " 10: 'disapproval',\n",
              " 11: 'disgust',\n",
              " 12: 'embarrassment',\n",
              " 13: 'excitement',\n",
              " 14: 'fear',\n",
              " 15: 'gratitude',\n",
              " 16: 'grief',\n",
              " 17: 'joy',\n",
              " 18: 'love',\n",
              " 19: 'nervousness',\n",
              " 20: 'optimism',\n",
              " 21: 'pride',\n",
              " 22: 'realization',\n",
              " 23: 'relief',\n",
              " 24: 'remorse',\n",
              " 25: 'sadness',\n",
              " 26: 'surprise',\n",
              " 27: 'neutral'}"
            ]
          },
          "metadata": {
            "tags": []
          },
          "execution_count": 11
        }
      ]
    },
    {
      "cell_type": "markdown",
      "metadata": {
        "id": "n9qywopnIrJH"
      },
      "source": [
        "## Preprocessing the data"
      ]
    },
    {
      "cell_type": "markdown",
      "metadata": {
        "id": "YVx71GdAIrJH"
      },
      "source": [
        "Before we can feed those texts to our model, we need to preprocess them. This is done by a 🤗 Transformers `Tokenizer` which will (as the name indicates) tokenize the inputs (including converting the tokens to their corresponding IDs in the pretrained vocabulary) and put it in a format the model expects, as well as generate the other inputs that model requires.\n",
        "\n",
        "To do all of this, we instantiate our tokenizer with the `AutoTokenizer.from_pretrained` method, which will ensure:\n",
        "\n",
        "- we get a tokenizer that corresponds to the model architecture we want to use,\n",
        "- we download the vocabulary used when pretraining this specific checkpoint.\n",
        "\n",
        "That vocabulary will be cached, so it's not downloaded again the next time we run the cell."
      ]
    },
    {
      "cell_type": "code",
      "metadata": {
        "id": "eXNLu_-nIrJI",
        "colab": {
          "base_uri": "https://localhost:8080/",
          "height": 330,
          "referenced_widgets": [
            "30674b6d79f74d3c861feb9fc5a6e10b",
            "2e78eab9c2f14b63b1826cc717d9d4bd",
            "6b60ff02925b4f7681707503f822a780",
            "5475fb0605984c4aa3003099156598ec",
            "e437f5a5b4d045f0b28528beae8e8ba9",
            "0aff13ac2a274f039abc3d3fd484505c",
            "044e4371abdb41f5af1f624978d6262d",
            "d81bbeb309694577ad9b4729d37de33c",
            "5e0cdc621c354cab9df4f2e0706b5bec",
            "8a4eed04d0204a069287a1893835bbe5",
            "2c35441ef606470483172929d141b303",
            "e09659558f5c4ee39cd419dbb9a906cc",
            "6fe9eedee0624463b0cb39f230376895",
            "11336ee17ae245b0919a545804a177f7",
            "20bae820b08a44d8bb88bd63a704b6fa",
            "b2a6e57a66a44d9aaa08c421a3a90ce9",
            "43e8adc6678f485da674df9207f8188a",
            "fce3f7a5a335456aaecafb6ea11a0c9f",
            "4097581c1b184654a1f145ca97075b23",
            "6df04e9eb1994299b9d6f7f838838c25",
            "afaf87dbe6b446069405e8f57c3fd34f",
            "295439e9a9d84fe29978f99bde40c3a5",
            "1143b65e19aa4be497f825ae0f329b18",
            "b386558e19e14380a13504bcdb01e3b1",
            "0a6064e328f34a7689c79f88d8de7f5b",
            "1f16701b7d3b45efb00f5c83221d5716",
            "528d86a55a7e4ca59cf9be1f5faa03ab",
            "a7d4afcceb08410fa4a3a9ae045280b7",
            "33bcd02bab314111bdac890021d984c3",
            "f12ae5bf8acf484d8a46358ca83e666b",
            "85c0959dd17e4f66800fe55c283c19a9",
            "abc432c1527042f4b3ebd2a32acc6e32",
            "f925e6b4a4824a9f83c9c16f52cd2e13",
            "41ae917300c743489a943dbfbaa57b62",
            "c8725d8804684740870d588011fc1cf1",
            "ca17c611968e4d52be17c8750b466fa7",
            "70ceda2e58664cc58ae24956976c474a",
            "487012c7319f48fcaa1b62901a6eb8f4",
            "f29307fcd0554f1fab0717939832fd1a",
            "8fd8db9dfc4a48f2aa07ac8aefd2db9a"
          ]
        },
        "outputId": "de0699ca-3e09-4376-9dab-8c38eb3d40f6"
      },
      "source": [
        "from transformers import AutoConfig, AutoModelForSequenceClassification, AutoTokenizer,DistilBertTokenizerFast,DistilBertModel\n",
        "\n",
        "model_name = 'distilbert-base-uncased'\n",
        "model_init= DistilBertModel.from_pretrained(model_name, num_labels=27)\n",
        "#config = AutoConfig.from_pretrained(model_name, num_labels=27)\n",
        "#model = AutoModelForSequenceClassification.from_pretrained(config)\n",
        "tokenizer = DistilBertTokenizerFast.from_pretrained(model_name)\n",
        "model_init.save_pretrained(\"/distilbert-base-uncased\")\n",
        "tokenizer.save_pretrained(\"/distilbert-base-uncased\")"
      ],
      "execution_count": 12,
      "outputs": [
        {
          "output_type": "display_data",
          "data": {
            "application/vnd.jupyter.widget-view+json": {
              "model_id": "30674b6d79f74d3c861feb9fc5a6e10b",
              "version_minor": 0,
              "version_major": 2
            },
            "text/plain": [
              "HBox(children=(FloatProgress(value=0.0, description='Downloading', max=442.0, style=ProgressStyle(description_…"
            ]
          },
          "metadata": {
            "tags": []
          }
        },
        {
          "output_type": "stream",
          "text": [
            "\n"
          ],
          "name": "stdout"
        },
        {
          "output_type": "display_data",
          "data": {
            "application/vnd.jupyter.widget-view+json": {
              "model_id": "5e0cdc621c354cab9df4f2e0706b5bec",
              "version_minor": 0,
              "version_major": 2
            },
            "text/plain": [
              "HBox(children=(FloatProgress(value=0.0, description='Downloading', max=267967963.0, style=ProgressStyle(descri…"
            ]
          },
          "metadata": {
            "tags": []
          }
        },
        {
          "output_type": "stream",
          "text": [
            "\n"
          ],
          "name": "stdout"
        },
        {
          "output_type": "display_data",
          "data": {
            "application/vnd.jupyter.widget-view+json": {
              "model_id": "43e8adc6678f485da674df9207f8188a",
              "version_minor": 0,
              "version_major": 2
            },
            "text/plain": [
              "HBox(children=(FloatProgress(value=0.0, description='Downloading', max=231508.0, style=ProgressStyle(descripti…"
            ]
          },
          "metadata": {
            "tags": []
          }
        },
        {
          "output_type": "stream",
          "text": [
            "\n"
          ],
          "name": "stdout"
        },
        {
          "output_type": "display_data",
          "data": {
            "application/vnd.jupyter.widget-view+json": {
              "model_id": "0a6064e328f34a7689c79f88d8de7f5b",
              "version_minor": 0,
              "version_major": 2
            },
            "text/plain": [
              "HBox(children=(FloatProgress(value=0.0, description='Downloading', max=466062.0, style=ProgressStyle(descripti…"
            ]
          },
          "metadata": {
            "tags": []
          }
        },
        {
          "output_type": "stream",
          "text": [
            "\n"
          ],
          "name": "stdout"
        },
        {
          "output_type": "display_data",
          "data": {
            "application/vnd.jupyter.widget-view+json": {
              "model_id": "f925e6b4a4824a9f83c9c16f52cd2e13",
              "version_minor": 0,
              "version_major": 2
            },
            "text/plain": [
              "HBox(children=(FloatProgress(value=0.0, description='Downloading', max=28.0, style=ProgressStyle(description_w…"
            ]
          },
          "metadata": {
            "tags": []
          }
        },
        {
          "output_type": "stream",
          "text": [
            "\n"
          ],
          "name": "stdout"
        },
        {
          "output_type": "execute_result",
          "data": {
            "text/plain": [
              "('/distilbert-base-uncased/tokenizer_config.json',\n",
              " '/distilbert-base-uncased/special_tokens_map.json',\n",
              " '/distilbert-base-uncased/vocab.txt',\n",
              " '/distilbert-base-uncased/added_tokens.json')"
            ]
          },
          "metadata": {
            "tags": []
          },
          "execution_count": 12
        }
      ]
    },
    {
      "cell_type": "markdown",
      "metadata": {
        "id": "Vl6IidfdIrJK"
      },
      "source": [
        "We pass along `use_fast=True` to the call above to use one of the fast tokenizers (backed by Rust) from the 🤗 Tokenizers library. Those fast tokenizers are available for almost all models, but if you got an error with the previous call, remove that argument."
      ]
    },
    {
      "cell_type": "code",
      "metadata": {
        "id": "HakAebh53HGR",
        "colab": {
          "base_uri": "https://localhost:8080/",
          "height": 549,
          "referenced_widgets": [
            "627523a032b0462b861ac558824c9407",
            "8e395f8029ce483cbe227fd18f0234f3",
            "17521d31b6cc4330a959dab66be3289c",
            "370f144d129348bd8da2d0385eec4d28",
            "599024e6ae134a0b8249419b222867ef",
            "ee783803aa384c84ab3eba589ba51fb9",
            "e3b7fc68d1bd4ca3a384c5d48162e622",
            "3b20f651a8854a0bb06134f8fa67370b",
            "f28e078023fa441ab444d4d4f98f55b2",
            "d06d57b600424d2cb424a00ad9cd2d3f",
            "41e0f4b0990f44b589a73fd6e8b51a4c",
            "ad0666279ed54dc9a34014400d8f3e10",
            "999d6abd861942c9857b68a4994808c9",
            "627437ccfd2e4874908a9fdd1c3efe03",
            "8847a4a241e44d31bea8f9cd99b73975",
            "f306942fbd104e5784e3c8eb0966ff6e",
            "f6f0775916824437914fb9b4b2fcbea3",
            "776b3198fdb443ad840c7ca9b1c9437a",
            "906c734045104a0a89210a99c8e35ff3",
            "b7ed2bd898e74e4e92ba82767e0a123f",
            "a5c2045e66d14cc3b511d91813eb26c4",
            "c7f5fe7e3ec542b49f090f638c2e1146",
            "cbb2d4e4fc654324b7bda7b31a8b10f4",
            "932e5f9496d149aca68de2f894347841",
            "1772830b104b42d98b530b1cac59887c",
            "9da0c78d18c247d8bb7ff9414ce0ca17",
            "6accb95bf0ac40b19242a2d6d179926b",
            "873f3afb4c9644858380b2284304611a",
            "4cd6bacda3c64be1970a4e86c0e106a8",
            "3375160d79eb49ed948fbf181dc5df87",
            "e7a24eef422a42d2ab67e3e26b994d08",
            "635ea2be054047fe926b9bcdd66ab0e6",
            "f2fbecf40cf04a818dede1f116edc848",
            "1672c737ee374666a10e16600d511314",
            "550ce493d7074a9fb0a895ac7113a06c",
            "48ae328765024e2babd50fd9d2e21647",
            "95f1ac6756ef49a0bddd9ee9baf47de2",
            "30fff4f6f2b1493fa63cca2233ef3b1c",
            "137d558234bd480482cff3da8120a778",
            "42fd1d847d004caba016fd76fa090954",
            "8b5b914b4d3e423a91abb7c567e398f8",
            "74543de291f040d380b3fd11e2104e8e",
            "60ab04c02bbb4ea38776cad12d5a8857",
            "707a67e96abf4cbfbc7330a57fa7c5ba",
            "2209b8d6130147b18b18297bc86bbf20",
            "07e78d263db5493ebedfc8503f1eb6a5",
            "3e208e83302e481f8fee17f7103f0537",
            "5c292f12587e411f810014d8126d1356"
          ]
        },
        "outputId": "a47fa129-768d-4e2f-fd37-ee5b58ea5172"
      },
      "source": [
        "def preprocess_function(examples):\n",
        "    return tokenizer(examples['text'], truncation=True)\n",
        "\n",
        "def convert_labels_to_int(example):\n",
        "    example['labels'] = example['labels'][0]\n",
        "    return example\n",
        "\n",
        "encoded_dataset = restricted_dataset.map(preprocess_function, batched=True)\n",
        "encoded_dataset = encoded_dataset.map(convert_labels_to_int)\n",
        "encoded_dataset"
      ],
      "execution_count": null,
      "outputs": [
        {
          "output_type": "display_data",
          "data": {
            "application/vnd.jupyter.widget-view+json": {
              "model_id": "627523a032b0462b861ac558824c9407",
              "version_minor": 0,
              "version_major": 2
            },
            "text/plain": [
              "HBox(children=(FloatProgress(value=0.0, max=24.0), HTML(value='')))"
            ]
          },
          "metadata": {
            "tags": []
          }
        },
        {
          "output_type": "stream",
          "text": [
            "\n"
          ],
          "name": "stdout"
        },
        {
          "output_type": "display_data",
          "data": {
            "application/vnd.jupyter.widget-view+json": {
              "model_id": "f28e078023fa441ab444d4d4f98f55b2",
              "version_minor": 0,
              "version_major": 2
            },
            "text/plain": [
              "HBox(children=(FloatProgress(value=0.0, max=3.0), HTML(value='')))"
            ]
          },
          "metadata": {
            "tags": []
          }
        },
        {
          "output_type": "stream",
          "text": [
            "\n"
          ],
          "name": "stdout"
        },
        {
          "output_type": "display_data",
          "data": {
            "application/vnd.jupyter.widget-view+json": {
              "model_id": "f6f0775916824437914fb9b4b2fcbea3",
              "version_minor": 0,
              "version_major": 2
            },
            "text/plain": [
              "HBox(children=(FloatProgress(value=0.0, max=3.0), HTML(value='')))"
            ]
          },
          "metadata": {
            "tags": []
          }
        },
        {
          "output_type": "stream",
          "text": [
            "\n"
          ],
          "name": "stdout"
        },
        {
          "output_type": "display_data",
          "data": {
            "application/vnd.jupyter.widget-view+json": {
              "model_id": "1772830b104b42d98b530b1cac59887c",
              "version_minor": 0,
              "version_major": 2
            },
            "text/plain": [
              "HBox(children=(FloatProgress(value=0.0, max=23485.0), HTML(value='')))"
            ]
          },
          "metadata": {
            "tags": []
          }
        },
        {
          "output_type": "stream",
          "text": [
            "\n"
          ],
          "name": "stdout"
        },
        {
          "output_type": "display_data",
          "data": {
            "application/vnd.jupyter.widget-view+json": {
              "model_id": "f2fbecf40cf04a818dede1f116edc848",
              "version_minor": 0,
              "version_major": 2
            },
            "text/plain": [
              "HBox(children=(FloatProgress(value=0.0, max=2956.0), HTML(value='')))"
            ]
          },
          "metadata": {
            "tags": []
          }
        },
        {
          "output_type": "stream",
          "text": [
            "\n"
          ],
          "name": "stdout"
        },
        {
          "output_type": "display_data",
          "data": {
            "application/vnd.jupyter.widget-view+json": {
              "model_id": "8b5b914b4d3e423a91abb7c567e398f8",
              "version_minor": 0,
              "version_major": 2
            },
            "text/plain": [
              "HBox(children=(FloatProgress(value=0.0, max=2984.0), HTML(value='')))"
            ]
          },
          "metadata": {
            "tags": []
          }
        },
        {
          "output_type": "stream",
          "text": [
            "\n"
          ],
          "name": "stdout"
        },
        {
          "output_type": "execute_result",
          "data": {
            "text/plain": [
              "DatasetDict({\n",
              "    train: Dataset({\n",
              "        features: ['attention_mask', 'id', 'input_ids', 'labels', 'text'],\n",
              "        num_rows: 23485\n",
              "    })\n",
              "    validation: Dataset({\n",
              "        features: ['attention_mask', 'id', 'input_ids', 'labels', 'text'],\n",
              "        num_rows: 2956\n",
              "    })\n",
              "    test: Dataset({\n",
              "        features: ['attention_mask', 'id', 'input_ids', 'labels', 'text'],\n",
              "        num_rows: 2984\n",
              "    })\n",
              "})"
            ]
          },
          "metadata": {
            "tags": []
          },
          "execution_count": 17
        }
      ]
    },
    {
      "cell_type": "markdown",
      "metadata": {
        "id": "545PP3o8IrJV"
      },
      "source": [
        "## Fine-tuning the model"
      ]
    },
    {
      "cell_type": "markdown",
      "metadata": {
        "id": "_N8urzhyIrJY"
      },
      "source": [
        "To instantiate a `Trainer`, we will need to define two more things. The most important is the [`TrainingArguments`](https://huggingface.co/transformers/main_classes/trainer.html#transformers.TrainingArguments), which is a class that contains all the attributes to customize the training. It requires one folder name, which will be used to save the checkpoints of the model, and all other arguments are optional:"
      ]
    },
    {
      "cell_type": "code",
      "metadata": {
        "id": "Bliy8zgjIrJY"
      },
      "source": [
        "from transformers import Trainer, TrainingArguments\n",
        "metric_name = \"accuracy\"\n",
        "\n",
        "args = TrainingArguments(\n",
        "    \"test-emotions\",\n",
        "    evaluation_strategy = \"epoch\",\n",
        "    learning_rate=2e-5,\n",
        "    per_device_train_batch_size=128,\n",
        "    per_device_eval_batch_size=128,\n",
        "    num_train_epochs=5,\n",
        "    weight_decay=0.01,\n",
        "    load_best_model_at_end=True,\n",
        "    metric_for_best_model=metric_name,\n",
        ")\n",
        "\n",
        "args_1=TrainingArguments(\n",
        "    \"test-emotion-1\",\n",
        "    evaluation_strategy=\"epoch\",\n",
        "    learning_rate=2e5,\n",
        "    per_device_train_batch_size=32,\n",
        "    per_device_eval_batch_size=32,\n",
        "    num_train_epochs=2,\n",
        "    weight_decay=0.1,\n",
        "    load_best_model_at_end=True,\n",
        "    metric_for_best_model=metric_name,\n",
        ")"
      ],
      "execution_count": null,
      "outputs": []
    },
    {
      "cell_type": "markdown",
      "metadata": {
        "id": "km3pGVdTIrJc"
      },
      "source": [
        "Here we set the evaluation to be done at the end of each epoch, tweak the learning rate, use the `batch_size` defined at the top of the notebook and customize the number of epochs for training, as well as the weight decay. Since the best model might not be the one at the end of training, we ask the `Trainer` to load the best model it saved (according to `metric_name`) at the end of training."
      ]
    },
    {
      "cell_type": "code",
      "metadata": {
        "id": "UmvbnJ9JIrJd",
        "colab": {
          "base_uri": "https://localhost:8080/",
          "height": 66,
          "referenced_widgets": [
            "bf98ec11378a40ee84ca54c9bb3bdd18",
            "988f937244b84d6fa067b47e4467203e",
            "04b177434ef84b419fc2b6d576c953e8",
            "84d63f9caca740b8aace679c2fe2a0df",
            "486c879f0606411aa1d4b6448d5f3177",
            "d0a944a2bf4e4f4f8e5e4ab04f45510c",
            "d6696627aba44922a965020b3a95341b",
            "6d5d162f98044ac0bfae06c616bb24ee"
          ]
        },
        "outputId": "33f06f15-d42b-45ea-d17e-d0237a9e9aab"
      },
      "source": [
        "metric = datasets.load_metric('accuracy')\n",
        "def compute_metrics(eval_pred):\n",
        "    predictions, labels = eval_pred\n",
        "    predictions = np.argmax(predictions, axis=1)\n",
        "    return metric.compute(predictions=predictions, references=labels)"
      ],
      "execution_count": null,
      "outputs": [
        {
          "output_type": "display_data",
          "data": {
            "application/vnd.jupyter.widget-view+json": {
              "model_id": "bf98ec11378a40ee84ca54c9bb3bdd18",
              "version_minor": 0,
              "version_major": 2
            },
            "text/plain": [
              "HBox(children=(FloatProgress(value=0.0, description='Downloading', max=1362.0, style=ProgressStyle(description…"
            ]
          },
          "metadata": {
            "tags": []
          }
        },
        {
          "output_type": "stream",
          "text": [
            "\n"
          ],
          "name": "stdout"
        }
      ]
    },
    {
      "cell_type": "markdown",
      "metadata": {
        "id": "rXuFTAzDIrJe"
      },
      "source": [
        "Then we just need to pass all of this along with our datasets to the `Trainer`:"
      ]
    },
    {
      "cell_type": "code",
      "metadata": {
        "id": "imY1oC3SIrJf"
      },
      "source": [
        "\n",
        "validation_key = \"validation\"\n",
        "trainer = Trainer(\n",
        "    model_init,\n",
        "    args,\n",
        "    train_dataset=encoded_dataset[\"train\"],\n",
        "    eval_dataset=encoded_dataset[validation_key],\n",
        "    tokenizer=tokenizer,\n",
        "    compute_metrics=compute_metrics\n",
        ")\n",
        "trainer_1=Trainer(\n",
        "    model_init,\n",
        "    args_1,\n",
        "    train_dataset=encoded_dataset[\"train\"],\n",
        "    eval_dataset=encoded_dataset[validation_key],\n",
        "    tokenizer=tokenizer,\n",
        "    compute_metrics=compute_metrics\n",
        ")"
      ],
      "execution_count": null,
      "outputs": []
    },
    {
      "cell_type": "markdown",
      "metadata": {
        "id": "ibWGmvxbIrJg"
      },
      "source": [
        "You might wonder why we pass along the `tokenizer` when we already preprocessed our data. This is because we will use it once last time to make all the samples we gather the same length by applying padding, which requires knowing the model's preferences regarding padding (to the left or right? with which token?). The `tokenizer` has a pad method that will do all of this right for us, and the `Trainer` will use it. You can customize this part by defining and passing your own `data_collator` which will receive the samples like the dictionaries seen above and will need to return a dictionary of tensors."
      ]
    },
    {
      "cell_type": "markdown",
      "metadata": {
        "id": "CdzABDVcIrJg"
      },
      "source": [
        "We can now finetune our model by just calling the `train` method:"
      ]
    },
    {
      "cell_type": "code",
      "metadata": {
        "id": "uNx5pyRlIrJh",
        "tags": [
          "outputPrepend"
        ],
        "colab": {
          "base_uri": "https://localhost:8080/",
          "height": 267
        },
        "outputId": "3356eaba-0e17-4957-cb64-9f92d0178bd3"
      },
      "source": [
        "import numpy as np\n",
        "trainer_1.train()\n",
        "trainer.train()\n"
      ],
      "execution_count": null,
      "outputs": [
        {
          "output_type": "display_data",
          "data": {
            "text/html": [
              "\n",
              "    <div>\n",
              "        <style>\n",
              "            /* Turns off some styling */\n",
              "            progress {\n",
              "                /* gets rid of default border in Firefox and Opera. */\n",
              "                border: none;\n",
              "                /* Needs to be in here for Safari polyfill so background images work as expected. */\n",
              "                background-size: auto;\n",
              "            }\n",
              "        </style>\n",
              "      \n",
              "      <progress value='920' max='920' style='width:300px; height:20px; vertical-align: middle;'></progress>\n",
              "      [920/920 05:56, Epoch 5/5]\n",
              "    </div>\n",
              "    <table border=\"1\" class=\"dataframe\">\n",
              "  <thead>\n",
              "    <tr style=\"text-align: left;\">\n",
              "      <th>Epoch</th>\n",
              "      <th>Training Loss</th>\n",
              "      <th>Validation Loss</th>\n",
              "      <th>Accuracy</th>\n",
              "      <th>Runtime</th>\n",
              "      <th>Samples Per Second</th>\n",
              "    </tr>\n",
              "  </thead>\n",
              "  <tbody>\n",
              "    <tr>\n",
              "      <td>1</td>\n",
              "      <td>No log</td>\n",
              "      <td>nan</td>\n",
              "      <td>0.110284</td>\n",
              "      <td>2.668300</td>\n",
              "      <td>1107.811000</td>\n",
              "    </tr>\n",
              "    <tr>\n",
              "      <td>2</td>\n",
              "      <td>No log</td>\n",
              "      <td>nan</td>\n",
              "      <td>0.110284</td>\n",
              "      <td>2.680700</td>\n",
              "      <td>1102.689000</td>\n",
              "    </tr>\n",
              "    <tr>\n",
              "      <td>3</td>\n",
              "      <td>nan</td>\n",
              "      <td>nan</td>\n",
              "      <td>0.110284</td>\n",
              "      <td>2.685500</td>\n",
              "      <td>1100.729000</td>\n",
              "    </tr>\n",
              "    <tr>\n",
              "      <td>4</td>\n",
              "      <td>nan</td>\n",
              "      <td>nan</td>\n",
              "      <td>0.110284</td>\n",
              "      <td>2.672800</td>\n",
              "      <td>1105.958000</td>\n",
              "    </tr>\n",
              "    <tr>\n",
              "      <td>5</td>\n",
              "      <td>nan</td>\n",
              "      <td>nan</td>\n",
              "      <td>0.110284</td>\n",
              "      <td>2.682000</td>\n",
              "      <td>1102.170000</td>\n",
              "    </tr>\n",
              "  </tbody>\n",
              "</table><p>"
            ],
            "text/plain": [
              "<IPython.core.display.HTML object>"
            ]
          },
          "metadata": {
            "tags": []
          }
        },
        {
          "output_type": "execute_result",
          "data": {
            "text/plain": [
              "TrainOutput(global_step=920, training_loss=nan, metrics={'train_runtime': 357.1304, 'train_samples_per_second': 2.576, 'total_flos': 1858364638796160.0, 'epoch': 5.0, 'init_mem_cpu_alloc_delta': 1660042, 'init_mem_gpu_alloc_delta': 538964992, 'init_mem_cpu_peaked_delta': 67054, 'init_mem_gpu_peaked_delta': 0, 'train_mem_cpu_alloc_delta': 498278, 'train_mem_gpu_alloc_delta': 824953344, 'train_mem_cpu_peaked_delta': 94111589, 'train_mem_gpu_peaked_delta': 3894387712})"
            ]
          },
          "metadata": {
            "tags": []
          },
          "execution_count": 29
        }
      ]
    },
    {
      "cell_type": "markdown",
      "metadata": {
        "id": "CKASz-2vIrJi"
      },
      "source": [
        "We can check with the `evaluate` method that our `Trainer` did reload the best model properly (if it was not the last one). We also run a sample prediction to demonstrate the API:"
      ]
    },
    {
      "cell_type": "code",
      "metadata": {
        "id": "UOUcBkX8IrJi",
        "colab": {
          "base_uri": "https://localhost:8080/",
          "height": 190
        },
        "outputId": "f584339c-0d9f-44f8-ae63-ede85d84b371"
      },
      "source": [
        "trainer.evaluate()\n",
        "trainer_1.evaluate()"
      ],
      "execution_count": null,
      "outputs": [
        {
          "output_type": "display_data",
          "data": {
            "text/html": [
              "\n",
              "    <div>\n",
              "        <style>\n",
              "            /* Turns off some styling */\n",
              "            progress {\n",
              "                /* gets rid of default border in Firefox and Opera. */\n",
              "                border: none;\n",
              "                /* Needs to be in here for Safari polyfill so background images work as expected. */\n",
              "                background-size: auto;\n",
              "            }\n",
              "        </style>\n",
              "      \n",
              "      <progress value='24' max='24' style='width:300px; height:20px; vertical-align: middle;'></progress>\n",
              "      [24/24 00:02]\n",
              "    </div>\n",
              "    "
            ],
            "text/plain": [
              "<IPython.core.display.HTML object>"
            ]
          },
          "metadata": {
            "tags": []
          }
        },
        {
          "output_type": "execute_result",
          "data": {
            "text/plain": [
              "{'epoch': 5.0,\n",
              " 'eval_accuracy': 0.11028416779431664,\n",
              " 'eval_loss': nan,\n",
              " 'eval_mem_cpu_alloc_delta': 402903,\n",
              " 'eval_mem_cpu_peaked_delta': 164368,\n",
              " 'eval_mem_gpu_alloc_delta': 0,\n",
              " 'eval_mem_gpu_peaked_delta': 196978176,\n",
              " 'eval_runtime': 2.6952,\n",
              " 'eval_samples_per_second': 1096.753}"
            ]
          },
          "metadata": {
            "tags": []
          },
          "execution_count": 30
        }
      ]
    },
    {
      "cell_type": "code",
      "metadata": {
        "id": "Y6-FmS4d1mDE",
        "colab": {
          "base_uri": "https://localhost:8080/",
          "height": 91
        },
        "outputId": "3848e0ce-2562-4081-8df0-aeb0a9b19b4e"
      },
      "source": [
        "prepared_input = tokenizer.prepare_seq2seq_batch([\"I am very sad\"], return_tensors='pt')\n",
        "model_init = model_init.to('cpu')\n",
        "model_init.eval()\n",
        "model_output = model_init(**prepared_input)\n",
        "prediction = np.argmax(model_output.logits[0].detach().numpy())\n",
        "index_to_labels[prediction]"
      ],
      "execution_count": null,
      "outputs": [
        {
          "output_type": "stream",
          "text": [
            "/usr/local/lib/python3.7/dist-packages/transformers/tokenization_utils_base.py:3221: FutureWarning: `prepare_seq2seq_batch` is deprecated and will be removed in version 5 of 🤗 Transformers. Use the regular `__call__` method to prepare your inputs and the tokenizer under the `with_target_tokenizer` context manager to prepare your targets. See the documentation of your specific tokenizer for more details\n",
            "  FutureWarning,\n"
          ],
          "name": "stderr"
        },
        {
          "output_type": "execute_result",
          "data": {
            "application/vnd.google.colaboratory.intrinsic+json": {
              "type": "string"
            },
            "text/plain": [
              "'admiration'"
            ]
          },
          "metadata": {
            "tags": []
          },
          "execution_count": 32
        }
      ]
    },
    {
      "cell_type": "markdown",
      "metadata": {
        "id": "U-1Jo6jShRwF"
      },
      "source": [
        "# Your work"
      ]
    },
    {
      "cell_type": "markdown",
      "metadata": {
        "id": "P-IwNEWgigXE"
      },
      "source": [
        "# New Section"
      ]
    },
    {
      "cell_type": "code",
      "metadata": {
        "id": "8YhB0mvh01au"
      },
      "source": [
        ""
      ],
      "execution_count": null,
      "outputs": []
    },
    {
      "cell_type": "markdown",
      "metadata": {
        "id": "cQGD4MZhhsB1"
      },
      "source": [
        "Qs 1. Can you report how accuracy changes with varying the hypyerparameters defined above? How does accuracy change with increasing number of epochs? Learning rate? Mention your final choice of parameters and graph how they impact accuracy. \n",
        "\n",
        "Qs 2. Try any 2 other models for sequence classification supported by Huggingface and repeat Qs 1 for these. You can find a full list of these [here](https://huggingface.co/transformers/model_doc/auto.html#automodelforsequenceclassification). (For those of you working with text for your project, you may also find several other useful models for Seq2Seq modeling, question answering, etc.)\n",
        "\n",
        "Qs 3. Wrangle / change the data so that you can instead build a \"positive\" emotion vs \"negative\" emotions classifier, by combining labels. For any emotions that you feel are too neutral, you may drop them from evaluation. Can you now report the accuracy of a classifer on this data? You may use one of the model architectures from (1) or (2)\n",
        "\n",
        "Qs 4. Export models from qs 1 and 3, and build a FastAPI around it, as discussed in class, which returns the most likely emotion found. (You may need to look up Huggingface documentation on how to save and load models). In particular, you should support two API endpoints - \"detect_emotion_binary\" and \"detect_emotion_full\" which supports each model.\n",
        "\n",
        "Qs 5. Finally, can you dockerize this? You do NOT need to deploy this to the cloud.\n",
        "\n",
        "Submission instructions: Zip your compiled .ipynb notebook, your fast_api code and your dockerfile, and submit to LMS as one file. You should confirm that your .ipynb can be imported to colab and run in sequence. All your results for Qs 1-3 should be reported in the notebook itself."
      ]
    },
    {
      "cell_type": "code",
      "metadata": {
        "id": "n5VeU4ob4YF6",
        "colab": {
          "base_uri": "https://localhost:8080/"
        },
        "outputId": "8d936c7b-5808-431c-8b52-23c457c4ef63"
      },
      "source": [
        "pip install matplotlib"
      ],
      "execution_count": null,
      "outputs": [
        {
          "output_type": "stream",
          "text": [
            "Requirement already satisfied: matplotlib in /usr/local/lib/python3.7/dist-packages (3.2.2)\n",
            "Requirement already satisfied: python-dateutil>=2.1 in /usr/local/lib/python3.7/dist-packages (from matplotlib) (2.8.1)\n",
            "Requirement already satisfied: cycler>=0.10 in /usr/local/lib/python3.7/dist-packages (from matplotlib) (0.10.0)\n",
            "Requirement already satisfied: pyparsing!=2.0.4,!=2.1.2,!=2.1.6,>=2.0.1 in /usr/local/lib/python3.7/dist-packages (from matplotlib) (2.4.7)\n",
            "Requirement already satisfied: numpy>=1.11 in /usr/local/lib/python3.7/dist-packages (from matplotlib) (1.20.1)\n",
            "Requirement already satisfied: kiwisolver>=1.0.1 in /usr/local/lib/python3.7/dist-packages (from matplotlib) (1.3.1)\n",
            "Requirement already satisfied: six>=1.5 in /usr/local/lib/python3.7/dist-packages (from python-dateutil>=2.1->matplotlib) (1.15.0)\n"
          ],
          "name": "stdout"
        }
      ]
    },
    {
      "cell_type": "markdown",
      "metadata": {
        "id": "ik0ZmTamY8ga"
      },
      "source": [
        "**Answer 1**"
      ]
    },
    {
      "cell_type": "code",
      "metadata": {
        "colab": {
          "base_uri": "https://localhost:8080/",
          "height": 764
        },
        "id": "F1H39QHVP0Jy",
        "outputId": "368c5972-35ce-4fd7-9efe-7e46e63ccf29"
      },
      "source": [
        "\n",
        "import matplotlib.pyplot as plt\n",
        "\n",
        "data = {'learning_rate': 2e-5, 'num_train_epochs': 5, 'per_device_train_batch_size': 128, 'per_device_eval_batch_size': 128}\n",
        "names = list(data.keys())\n",
        "values = list(data.values())\n",
        "data_1 = {'learning_rate': 2e5, 'num_train_epochs': 2, 'per_device_train_batch_size': 32, 'per_device_eval_batch_size': 32}\n",
        "names_1 = list(data_1.keys())\n",
        "values_1 = list(data_1.values())\n",
        "data_2 = {'trainer_1': 0.6546008119079838, 'trainer_2': 0.11028416779431664}\n",
        "names_2 = list(data_2.keys())\n",
        "values_2 = list(data_2.values())\n",
        "\n",
        "fig, axs = plt.subplots()\n",
        "axs.plot(names, values,label=\"Hyperparametrs 1\")\n",
        "\n",
        "\n",
        "fig_1, ax_1 = plt.subplots()\n",
        "ax_1.plot(names_1, values_1, label=\"Hyperparametrs 2\")\n",
        "ax_1.legend()\n",
        "\n",
        "fig_2, ax_2 = plt.subplots()\n",
        "ax_2.plot(names_2, values_2, label=\"Accuracy\")\n",
        "ax_2.legend()\n",
        "\n",
        "plt.show()"
      ],
      "execution_count": null,
      "outputs": [
        {
          "output_type": "display_data",
          "data": {
            "image/png": "[encoded data removed]",
            "text/plain": [
              "<Figure size 432x288 with 1 Axes>"
            ]
          },
          "metadata": {
            "tags": [],
            "needs_background": "light"
          }
        },
        {
          "output_type": "display_data",
          "data": {
            "image/png": "[encoded data removed]",
            "text/plain": [
              "<Figure size 432x288 with 1 Axes>"
            ]
          },
          "metadata": {
            "tags": [],
            "needs_background": "light"
          }
        },
        {
          "output_type": "display_data",
          "data": {
            "image/png": "[encoded data removed]",
            "text/plain": [
              "<Figure size 432x288 with 1 Axes>"
            ]
          },
          "metadata": {
            "tags": [],
            "needs_background": "light"
          }
        }
      ]
    },
    {
      "cell_type": "markdown",
      "metadata": {
        "id": "0uJqfaE9Y2al"
      },
      "source": [
        "**Answer 2**"
      ]
    },
    {
      "cell_type": "code",
      "metadata": {
        "colab": {
          "base_uri": "https://localhost:8080/",
          "height": 368
        },
        "id": "fHoKUBd_UUfC",
        "outputId": "bc579e5b-b4ce-4079-8bb2-4976ff769a48"
      },
      "source": [
        "from transformers import AutoConfig, AutoModelForSequenceClassification, AutoTokenizer\n",
        "\n",
        "model_name_1 = 'bert-base-uncased'\n",
        "model_init_1= AutoModelForSequenceClassification.from_pretrained(model_name_1, num_labels=27)\n",
        "\n",
        "tokenizer_1 = AutoTokenizer.from_pretrained(model_name_1)"
      ],
      "execution_count": null,
      "outputs": [
        {
          "output_type": "error",
          "ename": "ModuleNotFoundError",
          "evalue": "ignored",
          "traceback": [
            "\u001b[0;31m---------------------------------------------------------------------------\u001b[0m",
            "\u001b[0;31mModuleNotFoundError\u001b[0m                       Traceback (most recent call last)",
            "\u001b[0;32m<ipython-input-4-414c9c8631fa>\u001b[0m in \u001b[0;36m<module>\u001b[0;34m()\u001b[0m\n\u001b[0;32m----> 1\u001b[0;31m \u001b[0;32mfrom\u001b[0m \u001b[0mtransformers\u001b[0m \u001b[0;32mimport\u001b[0m \u001b[0mAutoConfig\u001b[0m\u001b[0;34m,\u001b[0m \u001b[0mAutoModelForSequenceClassification\u001b[0m\u001b[0;34m,\u001b[0m \u001b[0mAutoTokenizer\u001b[0m\u001b[0;34m\u001b[0m\u001b[0;34m\u001b[0m\u001b[0m\n\u001b[0m\u001b[1;32m      2\u001b[0m \u001b[0;34m\u001b[0m\u001b[0m\n\u001b[1;32m      3\u001b[0m \u001b[0mmodel_name_1\u001b[0m \u001b[0;34m=\u001b[0m \u001b[0;34m'bert-base-uncased'\u001b[0m\u001b[0;34m\u001b[0m\u001b[0;34m\u001b[0m\u001b[0m\n\u001b[1;32m      4\u001b[0m \u001b[0mmodel_init_1\u001b[0m\u001b[0;34m=\u001b[0m \u001b[0mAutoModelForSequenceClassification\u001b[0m\u001b[0;34m.\u001b[0m\u001b[0mfrom_pretrained\u001b[0m\u001b[0;34m(\u001b[0m\u001b[0mmodel_name_1\u001b[0m\u001b[0;34m,\u001b[0m \u001b[0mnum_labels\u001b[0m\u001b[0;34m=\u001b[0m\u001b[0;36m27\u001b[0m\u001b[0;34m)\u001b[0m\u001b[0;34m\u001b[0m\u001b[0;34m\u001b[0m\u001b[0m\n\u001b[1;32m      5\u001b[0m \u001b[0;34m\u001b[0m\u001b[0m\n",
            "\u001b[0;31mModuleNotFoundError\u001b[0m: No module named 'transformers'",
            "",
            "\u001b[0;31m---------------------------------------------------------------------------\u001b[0;32m\nNOTE: If your import is failing due to a missing package, you can\nmanually install dependencies using either !pip or !apt.\n\nTo view examples of installing some common dependencies, click the\n\"Open Examples\" button below.\n\u001b[0;31m---------------------------------------------------------------------------\u001b[0m\n"
          ]
        }
      ]
    },
    {
      "cell_type": "code",
      "metadata": {
        "colab": {
          "base_uri": "https://localhost:8080/",
          "height": 311,
          "referenced_widgets": [
            "82637c6ec05b4db7806daef4b5e61335",
            "56c8709a14d244039c18e1b782cc9fbb",
            "f33deb96afe04aee892a401c3e218888",
            "9e2a089f4cfb434caf2d268f1a28c23e",
            "e0bd398c667649c890bc45ffd922acb7",
            "aa9ca17f04e840119eacf45589df024f",
            "7b16971ff62445c3a5f2ee668c5d8150",
            "7f49f05c87b64ddca5b4fe065f5a4bbf",
            "3434835eef1446978c4cbcff2aa7fe64",
            "0acf391c18584de78ca696cbc6a5be5e",
            "289c11a0f6484d34bc9b7948ea35800c",
            "1702b7a9ed03424e80301d1251c9262c",
            "a54f889ec03440bdbb4de891135f5982",
            "d99ae7f11347483abad8127f469b09f2",
            "c8cdb7c14ad44c599ac1eb5ce15a201f",
            "3623337a4e9f4954a814e0651647f043",
            "0bd03be915d24cef8f59cfca0758fcab",
            "46f44aa49c064ccc917599da84d9ed9e",
            "6a6489becb84493b8c21de608b7041f5",
            "6090156f72754a8cb3d4f4cf85dbf47b",
            "a52b95f4123e4c1cab9ab9399cfc0863",
            "ece5f074fdcd410cb5ea09dcc3e70a30",
            "75a61758d7f441c0b910540e43976a2f",
            "08194e865ed84123a7f3079366e7c388",
            "ce49c52fc6054480bbe9d871ddb703ba",
            "378541d600b74d1391bd5385ec016409",
            "593378a2cc834596b1f0d05adee70621",
            "bb11c68aeb4745c8901cbf6db2f60002",
            "93ac0784315c4e53a7d5b5bffb8953e5",
            "3b025d4484714551831c4dbd2dfdca2e",
            "57b98c1343e54eaeaa2aa9808209aa54",
            "5969301adc03461aaaecd3db61465365",
            "bf0adb915fee4d68a6f9a7c36928a460",
            "3586da83aa8c42feb1aadd56dc6c7662",
            "a2d90cb7d52e4e7dbaf7b3c6205920b7",
            "c253a2014ed54848ab4c3dc2d70fc87c",
            "20172f33159f42c19a0754231aa4e840",
            "fe28d014dee94256ae27ac81566fd56f",
            "48212be975954101a8a277a551c42c02",
            "a90246beaddd4751b1ee4493e73040e1",
            "d05df6827126423eb15c5929f059b658",
            "f15c0941a1624157b48f443f8b53b120",
            "1865cd4ec9fb49f88f2d5bfa3cfe489d",
            "d2552edc8e994830b7c141ecdffba7a9",
            "cf9a6420f5a14280b53e822e60bf90e0",
            "efc7d759c54349d9b0efab0d5e16602c",
            "e528bfee72744bc8999222e7d04cb72f",
            "9d6a8e97e26241b683865055e2a6d168"
          ]
        },
        "id": "calGQ3JRUog4",
        "outputId": "c369266e-38a8-43a2-c362-1f5249f491a9"
      },
      "source": [
        "def preprocess_function(examples):\n",
        "    return tokenizer_1(examples['text'], truncation=True)\n",
        "\n",
        "def convert_labels_to_int(example):\n",
        "    example['labels'] = example['labels'][0]\n",
        "    return example\n",
        "\n",
        "encoded_dataset = restricted_dataset.map(preprocess_function, batched=True)\n",
        "encoded_dataset = encoded_dataset.map(convert_labels_to_int)"
      ],
      "execution_count": null,
      "outputs": [
        {
          "output_type": "display_data",
          "data": {
            "application/vnd.jupyter.widget-view+json": {
              "model_id": "82637c6ec05b4db7806daef4b5e61335",
              "version_minor": 0,
              "version_major": 2
            },
            "text/plain": [
              "HBox(children=(FloatProgress(value=0.0, max=24.0), HTML(value='')))"
            ]
          },
          "metadata": {
            "tags": []
          }
        },
        {
          "output_type": "stream",
          "text": [
            "\n"
          ],
          "name": "stdout"
        },
        {
          "output_type": "display_data",
          "data": {
            "application/vnd.jupyter.widget-view+json": {
              "model_id": "3434835eef1446978c4cbcff2aa7fe64",
              "version_minor": 0,
              "version_major": 2
            },
            "text/plain": [
              "HBox(children=(FloatProgress(value=0.0, max=3.0), HTML(value='')))"
            ]
          },
          "metadata": {
            "tags": []
          }
        },
        {
          "output_type": "stream",
          "text": [
            "\n"
          ],
          "name": "stdout"
        },
        {
          "output_type": "display_data",
          "data": {
            "application/vnd.jupyter.widget-view+json": {
              "model_id": "0bd03be915d24cef8f59cfca0758fcab",
              "version_minor": 0,
              "version_major": 2
            },
            "text/plain": [
              "HBox(children=(FloatProgress(value=0.0, max=3.0), HTML(value='')))"
            ]
          },
          "metadata": {
            "tags": []
          }
        },
        {
          "output_type": "stream",
          "text": [
            "\n"
          ],
          "name": "stdout"
        },
        {
          "output_type": "display_data",
          "data": {
            "application/vnd.jupyter.widget-view+json": {
              "model_id": "ce49c52fc6054480bbe9d871ddb703ba",
              "version_minor": 0,
              "version_major": 2
            },
            "text/plain": [
              "HBox(children=(FloatProgress(value=0.0, max=23485.0), HTML(value='')))"
            ]
          },
          "metadata": {
            "tags": []
          }
        },
        {
          "output_type": "stream",
          "text": [
            "\n"
          ],
          "name": "stdout"
        },
        {
          "output_type": "display_data",
          "data": {
            "application/vnd.jupyter.widget-view+json": {
              "model_id": "bf0adb915fee4d68a6f9a7c36928a460",
              "version_minor": 0,
              "version_major": 2
            },
            "text/plain": [
              "HBox(children=(FloatProgress(value=0.0, max=2956.0), HTML(value='')))"
            ]
          },
          "metadata": {
            "tags": []
          }
        },
        {
          "output_type": "stream",
          "text": [
            "\n"
          ],
          "name": "stdout"
        },
        {
          "output_type": "display_data",
          "data": {
            "application/vnd.jupyter.widget-view+json": {
              "model_id": "d05df6827126423eb15c5929f059b658",
              "version_minor": 0,
              "version_major": 2
            },
            "text/plain": [
              "HBox(children=(FloatProgress(value=0.0, max=2984.0), HTML(value='')))"
            ]
          },
          "metadata": {
            "tags": []
          }
        },
        {
          "output_type": "stream",
          "text": [
            "\n"
          ],
          "name": "stdout"
        }
      ]
    },
    {
      "cell_type": "code",
      "metadata": {
        "id": "5z5dXd_HU3FI"
      },
      "source": [
        "from transformers import Trainer, TrainingArguments\n",
        "metric_name = \"accuracy\"\n",
        "\n",
        "args_2 = TrainingArguments(\n",
        "    \"test-emotions_2\",\n",
        "    evaluation_strategy = \"epoch\",\n",
        "    learning_rate=2e-5,\n",
        "    per_device_train_batch_size=128,\n",
        "    per_device_eval_batch_size=128,\n",
        "    num_train_epochs=5,\n",
        "    weight_decay=0.01,\n",
        "    load_best_model_at_end=True,\n",
        "    metric_for_best_model=metric_name,\n",
        ")\n",
        "\n",
        "args_3=TrainingArguments(\n",
        "    \"test-emotion-3\",\n",
        "    evaluation_strategy=\"epoch\",\n",
        "    learning_rate=2e5,\n",
        "    per_device_train_batch_size=32,\n",
        "    per_device_eval_batch_size=32,\n",
        "    num_train_epochs=2,\n",
        "    weight_decay=0.1,\n",
        "    load_best_model_at_end=True,\n",
        "    metric_for_best_model=metric_name,\n",
        ")"
      ],
      "execution_count": null,
      "outputs": []
    },
    {
      "cell_type": "code",
      "metadata": {
        "id": "Udx35ixyVL8d"
      },
      "source": [
        "metric_1 = datasets.load_metric('accuracy')\n",
        "def compute_metrics(eval_pred):\n",
        "    predictions, labels = eval_pred\n",
        "    predictions = np.argmax(predictions, axis=1)\n",
        "    return metric_1.compute(predictions=predictions, references=labels)"
      ],
      "execution_count": null,
      "outputs": []
    },
    {
      "cell_type": "code",
      "metadata": {
        "id": "C-4vcG2wVXmg"
      },
      "source": [
        "validation_key = \"validation\"\n",
        "trainer_2 = Trainer(\n",
        "    model_init_1,\n",
        "    args_2,\n",
        "    train_dataset=encoded_dataset[\"train\"],\n",
        "    eval_dataset=encoded_dataset[validation_key],\n",
        "    tokenizer=tokenizer,\n",
        "    compute_metrics=compute_metrics\n",
        ")\n",
        "trainer_3=Trainer(\n",
        "    model_init_1,\n",
        "    args_3,\n",
        "    train_dataset=encoded_dataset[\"train\"],\n",
        "    eval_dataset=encoded_dataset[validation_key],\n",
        "    tokenizer=tokenizer,\n",
        "    compute_metrics=compute_metrics\n",
        ")"
      ],
      "execution_count": null,
      "outputs": []
    },
    {
      "cell_type": "code",
      "metadata": {
        "colab": {
          "base_uri": "https://localhost:8080/",
          "height": 387
        },
        "id": "h6Vqoe3hVsMt",
        "outputId": "29985452-7614-4ee7-fca3-e07c14b835ab"
      },
      "source": [
        "import numpy as np\n",
        "trainer_2.train()\n",
        "trainer_3.train()"
      ],
      "execution_count": null,
      "outputs": [
        {
          "output_type": "display_data",
          "data": {
            "text/html": [
              "\n",
              "    <div>\n",
              "        <style>\n",
              "            /* Turns off some styling */\n",
              "            progress {\n",
              "                /* gets rid of default border in Firefox and Opera. */\n",
              "                border: none;\n",
              "                /* Needs to be in here for Safari polyfill so background images work as expected. */\n",
              "                background-size: auto;\n",
              "            }\n",
              "        </style>\n",
              "      \n",
              "      <progress value='920' max='920' style='width:300px; height:20px; vertical-align: middle;'></progress>\n",
              "      [920/920 08:04, Epoch 5/5]\n",
              "    </div>\n",
              "    <table border=\"1\" class=\"dataframe\">\n",
              "  <thead>\n",
              "    <tr style=\"text-align: left;\">\n",
              "      <th>Epoch</th>\n",
              "      <th>Training Loss</th>\n",
              "      <th>Validation Loss</th>\n",
              "      <th>Accuracy</th>\n",
              "      <th>Runtime</th>\n",
              "      <th>Samples Per Second</th>\n",
              "    </tr>\n",
              "  </thead>\n",
              "  <tbody>\n",
              "    <tr>\n",
              "      <td>1</td>\n",
              "      <td>No log</td>\n",
              "      <td>1.585149</td>\n",
              "      <td>0.595061</td>\n",
              "      <td>3.434400</td>\n",
              "      <td>860.695000</td>\n",
              "    </tr>\n",
              "    <tr>\n",
              "      <td>2</td>\n",
              "      <td>No log</td>\n",
              "      <td>1.357798</td>\n",
              "      <td>0.639378</td>\n",
              "      <td>3.435400</td>\n",
              "      <td>860.443000</td>\n",
              "    </tr>\n",
              "    <tr>\n",
              "      <td>3</td>\n",
              "      <td>1.706500</td>\n",
              "      <td>1.285453</td>\n",
              "      <td>0.648512</td>\n",
              "      <td>3.431200</td>\n",
              "      <td>861.518000</td>\n",
              "    </tr>\n",
              "    <tr>\n",
              "      <td>4</td>\n",
              "      <td>1.706500</td>\n",
              "      <td>1.262066</td>\n",
              "      <td>0.649188</td>\n",
              "      <td>3.438200</td>\n",
              "      <td>859.760000</td>\n",
              "    </tr>\n",
              "    <tr>\n",
              "      <td>5</td>\n",
              "      <td>1.706500</td>\n",
              "      <td>1.259544</td>\n",
              "      <td>0.646143</td>\n",
              "      <td>3.446100</td>\n",
              "      <td>857.784000</td>\n",
              "    </tr>\n",
              "  </tbody>\n",
              "</table><p>"
            ],
            "text/plain": [
              "<IPython.core.display.HTML object>"
            ]
          },
          "metadata": {
            "tags": []
          }
        },
        {
          "output_type": "display_data",
          "data": {
            "text/html": [
              "\n",
              "    <div>\n",
              "        <style>\n",
              "            /* Turns off some styling */\n",
              "            progress {\n",
              "                /* gets rid of default border in Firefox and Opera. */\n",
              "                border: none;\n",
              "                /* Needs to be in here for Safari polyfill so background images work as expected. */\n",
              "                background-size: auto;\n",
              "            }\n",
              "        </style>\n",
              "      \n",
              "      <progress value='1468' max='1468' style='width:300px; height:20px; vertical-align: middle;'></progress>\n",
              "      [1468/1468 03:51, Epoch 2/2]\n",
              "    </div>\n",
              "    <table border=\"1\" class=\"dataframe\">\n",
              "  <thead>\n",
              "    <tr style=\"text-align: left;\">\n",
              "      <th>Epoch</th>\n",
              "      <th>Training Loss</th>\n",
              "      <th>Validation Loss</th>\n",
              "      <th>Accuracy</th>\n",
              "      <th>Runtime</th>\n",
              "      <th>Samples Per Second</th>\n",
              "    </tr>\n",
              "  </thead>\n",
              "  <tbody>\n",
              "    <tr>\n",
              "      <td>1</td>\n",
              "      <td>nan</td>\n",
              "      <td>nan</td>\n",
              "      <td>0.110284</td>\n",
              "      <td>3.516800</td>\n",
              "      <td>840.541000</td>\n",
              "    </tr>\n",
              "    <tr>\n",
              "      <td>2</td>\n",
              "      <td>nan</td>\n",
              "      <td>nan</td>\n",
              "      <td>0.110284</td>\n",
              "      <td>3.509800</td>\n",
              "      <td>842.222000</td>\n",
              "    </tr>\n",
              "  </tbody>\n",
              "</table><p>"
            ],
            "text/plain": [
              "<IPython.core.display.HTML object>"
            ]
          },
          "metadata": {
            "tags": []
          }
        },
        {
          "output_type": "execute_result",
          "data": {
            "text/plain": [
              "TrainOutput(global_step=1468, training_loss=nan, metrics={'train_runtime': 231.2504, 'train_samples_per_second': 6.348, 'total_flos': 1106953154978652.0, 'epoch': 2.0, 'init_mem_cpu_alloc_delta': 51886, 'init_mem_gpu_alloc_delta': 0, 'init_mem_cpu_peaked_delta': 18306, 'init_mem_gpu_peaked_delta': 0, 'train_mem_cpu_alloc_delta': 950364, 'train_mem_gpu_alloc_delta': 1331038208, 'train_mem_cpu_peaked_delta': 94288028, 'train_mem_gpu_peaked_delta': 1629847040})"
            ]
          },
          "metadata": {
            "tags": []
          },
          "execution_count": 44
        }
      ]
    },
    {
      "cell_type": "code",
      "metadata": {
        "colab": {
          "base_uri": "https://localhost:8080/",
          "height": 210
        },
        "id": "eHIuPAeSYhWw",
        "outputId": "1b0a6586-f6c7-499a-ce8e-a2d22ab945aa"
      },
      "source": [
        "trainer_2.evaluate()\n",
        "trainer_3.evaluate()"
      ],
      "execution_count": null,
      "outputs": [
        {
          "output_type": "display_data",
          "data": {
            "text/html": [
              "\n",
              "    <div>\n",
              "        <style>\n",
              "            /* Turns off some styling */\n",
              "            progress {\n",
              "                /* gets rid of default border in Firefox and Opera. */\n",
              "                border: none;\n",
              "                /* Needs to be in here for Safari polyfill so background images work as expected. */\n",
              "                background-size: auto;\n",
              "            }\n",
              "        </style>\n",
              "      \n",
              "      <progress value='48' max='24' style='width:300px; height:20px; vertical-align: middle;'></progress>\n",
              "      [24/24 00:27]\n",
              "    </div>\n",
              "    "
            ],
            "text/plain": [
              "<IPython.core.display.HTML object>"
            ]
          },
          "metadata": {
            "tags": []
          }
        },
        {
          "output_type": "display_data",
          "data": {
            "text/html": [
              "\n",
              "    <div>\n",
              "        <style>\n",
              "            /* Turns off some styling */\n",
              "            progress {\n",
              "                /* gets rid of default border in Firefox and Opera. */\n",
              "                border: none;\n",
              "                /* Needs to be in here for Safari polyfill so background images work as expected. */\n",
              "                background-size: auto;\n",
              "            }\n",
              "        </style>\n",
              "      \n",
              "      <progress value='93' max='93' style='width:300px; height:20px; vertical-align: middle;'></progress>\n",
              "      [93/93 00:03]\n",
              "    </div>\n",
              "    "
            ],
            "text/plain": [
              "<IPython.core.display.HTML object>"
            ]
          },
          "metadata": {
            "tags": []
          }
        },
        {
          "output_type": "execute_result",
          "data": {
            "text/plain": [
              "{'epoch': 2.0,\n",
              " 'eval_accuracy': 0.11028416779431664,\n",
              " 'eval_loss': nan,\n",
              " 'eval_mem_cpu_alloc_delta': 405456,\n",
              " 'eval_mem_cpu_peaked_delta': 207138,\n",
              " 'eval_mem_gpu_alloc_delta': 0,\n",
              " 'eval_mem_gpu_peaked_delta': 49843712,\n",
              " 'eval_runtime': 3.5229,\n",
              " 'eval_samples_per_second': 839.083}"
            ]
          },
          "metadata": {
            "tags": []
          },
          "execution_count": 46
        }
      ]
    },
    {
      "cell_type": "code",
      "metadata": {
        "colab": {
          "base_uri": "https://localhost:8080/",
          "height": 764
        },
        "id": "-Z-Kf8WwYj53",
        "outputId": "7d9adbab-b2c9-46e8-d0d5-5373e387330a"
      },
      "source": [
        "\n",
        "import matplotlib.pyplot as plt\n",
        "\n",
        "data = {'learning_rate': 2e-5, 'num_train_epochs': 5, 'per_device_train_batch_size': 128, 'per_device_eval_batch_size': 128}\n",
        "names = list(data.keys())\n",
        "values = list(data.values())\n",
        "data_1 = {'learning_rate': 2e5, 'num_train_epochs': 2, 'per_device_train_batch_size': 32, 'per_device_eval_batch_size': 32}\n",
        "names_1 = list(data_1.keys())\n",
        "values_1 = list(data_1.values())\n",
        "data_2 = {'trainer_1': 0.6491880920162382, 'trainer_2': 0.11028416779431664}\n",
        "names_2 = list(data_2.keys())\n",
        "values_2 = list(data_2.values())\n",
        "\n",
        "fig, axs = plt.subplots()\n",
        "axs.plot(names, values,label=\"Hyperparametrs 1\")\n",
        "\n",
        "\n",
        "fig_1, ax_1 = plt.subplots()\n",
        "ax_1.plot(names_1, values_1, label=\"Hyperparametrs 2\")\n",
        "ax_1.legend()\n",
        "\n",
        "fig_2, ax_2 = plt.subplots()\n",
        "ax_2.plot(names_2, values_2, label=\"Accuracy\")\n",
        "ax_2.legend()\n",
        "\n",
        "plt.show()"
      ],
      "execution_count": null,
      "outputs": [
        {
          "output_type": "display_data",
          "data": {
            "image/png": "[encoded data removed]",
            "text/plain": [
              "<Figure size 432x288 with 1 Axes>"
            ]
          },
          "metadata": {
            "tags": [],
            "needs_background": "light"
          }
        },
        {
          "output_type": "display_data",
          "data": {
            "image/png": "[encoded data removed]",
            "text/plain": [
              "<Figure size 432x288 with 1 Axes>"
            ]
          },
          "metadata": {
            "tags": [],
            "needs_background": "light"
          }
        },
        {
          "output_type": "display_data",
          "data": {
            "image/png": "[encoded data removed]",
            "text/plain": [
              "<Figure size 432x288 with 1 Axes>"
            ]
          },
          "metadata": {
            "tags": [],
            "needs_background": "light"
          }
        }
      ]
    },
    {
      "cell_type": "markdown",
      "metadata": {
        "id": "eJ-2oMIAZCR_"
      },
      "source": [
        "**Answer 3**"
      ]
    },
    {
      "cell_type": "code",
      "metadata": {
        "colab": {
          "base_uri": "https://localhost:8080/"
        },
        "id": "W1bJS4S5d8T1",
        "outputId": "9c2ce1cf-2b03-4cf5-8136-b3ac5ce15706"
      },
      "source": [
        "labels = [\"positive\", \"positive\", \"negative\", \"negative\", \"positive\", \"positive\", \n",
        "          \"negative\", \"neutral\", \"positive\", \"negative\", \"negative\",\n",
        "          \"negative\", \"neutral\", \"positive\", \"negative\", \"positive\", \"negative\",\n",
        "          \"positive\", \"positive\", \"neutral\", \"positive\", \"neutral\", \"neutral\",\n",
        "          \"positive\", \"negative\", \"negative\", \"neutral\", \"neutral\"]\n",
        "index_to_labels = {index: label for index, label in enumerate(labels)}\n",
        "\n",
        "index_to_labels "
      ],
      "execution_count": null,
      "outputs": [
        {
          "output_type": "execute_result",
          "data": {
            "text/plain": [
              "{0: 'positive',\n",
              " 1: 'positive',\n",
              " 2: 'negative',\n",
              " 3: 'negative',\n",
              " 4: 'positive',\n",
              " 5: 'positive',\n",
              " 6: 'negative',\n",
              " 7: 'neutral',\n",
              " 8: 'positive',\n",
              " 9: 'negative',\n",
              " 10: 'negative',\n",
              " 11: 'negative',\n",
              " 12: 'neutral',\n",
              " 13: 'positive',\n",
              " 14: 'negative',\n",
              " 15: 'positive',\n",
              " 16: 'negative',\n",
              " 17: 'positive',\n",
              " 18: 'positive',\n",
              " 19: 'neutral',\n",
              " 20: 'positive',\n",
              " 21: 'neutral',\n",
              " 22: 'neutral',\n",
              " 23: 'positive',\n",
              " 24: 'negative',\n",
              " 25: 'negative',\n",
              " 26: 'neutral',\n",
              " 27: 'neutral'}"
            ]
          },
          "metadata": {
            "tags": []
          },
          "execution_count": 33
        }
      ]
    },
    {
      "cell_type": "code",
      "metadata": {
        "colab": {
          "base_uri": "https://localhost:8080/",
          "height": 91
        },
        "id": "hM6b03vuejn4",
        "outputId": "6349a5c0-2f29-4715-d2f8-fe1c413f3139"
      },
      "source": [
        "prepared_input = tokenizer.prepare_seq2seq_batch([\"I am very sad\"], return_tensors='pt')\n",
        "model_init = model_init.to('cpu')\n",
        "model_init.eval()\n",
        "model_output = model_init(**prepared_input)\n",
        "prediction = np.argmax(model_output.logits[0].detach().numpy())\n",
        "index_to_labels[prediction]"
      ],
      "execution_count": null,
      "outputs": [
        {
          "output_type": "stream",
          "text": [
            "/usr/local/lib/python3.7/dist-packages/transformers/tokenization_utils_base.py:3221: FutureWarning: `prepare_seq2seq_batch` is deprecated and will be removed in version 5 of 🤗 Transformers. Use the regular `__call__` method to prepare your inputs and the tokenizer under the `with_target_tokenizer` context manager to prepare your targets. See the documentation of your specific tokenizer for more details\n",
            "  FutureWarning,\n"
          ],
          "name": "stderr"
        },
        {
          "output_type": "execute_result",
          "data": {
            "application/vnd.google.colaboratory.intrinsic+json": {
              "type": "string"
            },
            "text/plain": [
              "'positive'"
            ]
          },
          "metadata": {
            "tags": []
          },
          "execution_count": 35
        }
      ]
    },
    {
      "cell_type": "code",
      "metadata": {
        "colab": {
          "base_uri": "https://localhost:8080/"
        },
        "id": "6VvTjql0C8Kf",
        "outputId": "67cc8ea2-643f-4a95-96a2-7806201282e9"
      },
      "source": [
        "!sudo apt-get install git-lfs"
      ],
      "execution_count": 1,
      "outputs": [
        {
          "output_type": "stream",
          "text": [
            "Reading package lists... Done\n",
            "Building dependency tree       \n",
            "Reading state information... Done\n",
            "The following NEW packages will be installed:\n",
            "  git-lfs\n",
            "0 upgraded, 1 newly installed, 0 to remove and 30 not upgraded.\n",
            "Need to get 2,129 kB of archives.\n",
            "After this operation, 7,662 kB of additional disk space will be used.\n",
            "Get:1 http://archive.ubuntu.com/ubuntu bionic/universe amd64 git-lfs amd64 2.3.4-1 [2,129 kB]\n",
            "Fetched 2,129 kB in 1s (2,456 kB/s)\n",
            "debconf: unable to initialize frontend: Dialog\n",
            "debconf: (No usable dialog-like program is installed, so the dialog based frontend cannot be used. at /usr/share/perl5/Debconf/FrontEnd/Dialog.pm line 76, <> line 1.)\n",
            "debconf: falling back to frontend: Readline\n",
            "debconf: unable to initialize frontend: Readline\n",
            "debconf: (This frontend requires a controlling tty.)\n",
            "debconf: falling back to frontend: Teletype\n",
            "dpkg-preconfigure: unable to re-open stdin: \n",
            "Selecting previously unselected package git-lfs.\n",
            "(Reading database ... 160980 files and directories currently installed.)\n",
            "Preparing to unpack .../git-lfs_2.3.4-1_amd64.deb ...\n",
            "Unpacking git-lfs (2.3.4-1) ...\n",
            "Setting up git-lfs (2.3.4-1) ...\n",
            "Processing triggers for man-db (2.8.3-2ubuntu0.1) ...\n"
          ],
          "name": "stdout"
        }
      ]
    },
    {
      "cell_type": "code",
      "metadata": {
        "id": "yhkfubwFDP4Q"
      },
      "source": [
        ""
      ],
      "execution_count": null,
      "outputs": []
    },
    {
      "cell_type": "code",
      "metadata": {
        "colab": {
          "base_uri": "https://localhost:8080/"
        },
        "id": "ldYu_hHuDCyp",
        "outputId": "18df6891-c7b5-4de0-ea6a-8703ee6c0295"
      },
      "source": [
        "!transformers-cli login"
      ],
      "execution_count": 4,
      "outputs": [
        {
          "output_type": "stream",
          "text": [
            "2021-03-20 09:52:30.333326: I tensorflow/stream_executor/platform/default/dso_loader.cc:49] Successfully opened dynamic library libcudart.so.11.0\n",
            "\n",
            "        _|    _|  _|    _|    _|_|_|    _|_|_|  _|_|_|  _|      _|    _|_|_|      _|_|_|_|    _|_|      _|_|_|  _|_|_|_|\n",
            "        _|    _|  _|    _|  _|        _|          _|    _|_|    _|  _|            _|        _|    _|  _|        _|\n",
            "        _|_|_|_|  _|    _|  _|  _|_|  _|  _|_|    _|    _|  _|  _|  _|  _|_|      _|_|_|    _|_|_|_|  _|        _|_|_|\n",
            "        _|    _|  _|    _|  _|    _|  _|    _|    _|    _|    _|_|  _|    _|      _|        _|    _|  _|        _|\n",
            "        _|    _|    _|_|      _|_|_|    _|_|_|  _|_|_|  _|      _|    _|_|_|      _|        _|    _|    _|_|_|  _|_|_|_|\n",
            "\n",
            "        \n",
            "Username: sarim\n",
            "Password: \n",
            "Login successful\n",
            "Your token: eolCFqlkoNiCtCaYKvoKOPVbmVdsDPluNgqQMJBpaFsLecgIVOmEiVhZKtXTcCyEBHXXGpwoUrbBvEHMNMqQBeYvLcoGVWTybKPIgfudEgDXekfsuKZnUiBZTyJYwSNk \n",
            "\n",
            "Your token has been saved to /root/.huggingface/token\n"
          ],
          "name": "stdout"
        }
      ]
    },
    {
      "cell_type": "code",
      "metadata": {
        "colab": {
          "base_uri": "https://localhost:8080/"
        },
        "id": "i1-1jo2tDXdX",
        "outputId": "99b35817-69d3-4e64-b006-3fe963ec065f"
      },
      "source": [
        "!git clone https://huggingface.co/sarim/myModel"
      ],
      "execution_count": 6,
      "outputs": [
        {
          "output_type": "stream",
          "text": [
            "Cloning into 'myModel'...\n",
            "remote: Enumerating objects: 3, done.\u001b[K\n",
            "remote: Counting objects: 100% (3/3), done.\u001b[K\n",
            "remote: Compressing objects: 100% (2/2), done.\u001b[K\n",
            "remote: Total 3 (delta 0), reused 0 (delta 0)\u001b[K\n",
            "Unpacking objects: 100% (3/3), done.\n"
          ],
          "name": "stdout"
        }
      ]
    },
    {
      "cell_type": "code",
      "metadata": {
        "id": "vlYhgDm-Dkco"
      },
      "source": [
        "!cd myModel"
      ],
      "execution_count": 8,
      "outputs": []
    },
    {
      "cell_type": "code",
      "metadata": {
        "id": "8ZCWhE8wDpcP"
      },
      "source": [
        "!git config --global user.email \"sarimk80@gmail.com\""
      ],
      "execution_count": 9,
      "outputs": []
    },
    {
      "cell_type": "code",
      "metadata": {
        "id": "VhFiy2lcDu8e"
      },
      "source": [
        "!git config --global user.name \"sarim khan\""
      ],
      "execution_count": 10,
      "outputs": []
    },
    {
      "cell_type": "code",
      "metadata": {
        "colab": {
          "base_uri": "https://localhost:8080/"
        },
        "id": "hdGs3a-jDziM",
        "outputId": "0bec9e41-6021-4941-9771-20236c8d683e"
      },
      "source": [
        "!git init\n",
        "!git add .\n"
      ],
      "execution_count": 13,
      "outputs": [
        {
          "output_type": "stream",
          "text": [
            "Initialized empty Git repository in /content/.git/\n",
            "warning: adding embedded git repository: myModel\n",
            "hint: You've added another git repository inside your current repository.\n",
            "hint: Clones of the outer repository will not contain the contents of\n",
            "hint: the embedded repository and will not know how to obtain it.\n",
            "hint: If you meant to add a submodule, use:\n",
            "hint: \n",
            "hint: \tgit submodule add <url> myModel\n",
            "hint: \n",
            "hint: If you added this path by mistake, you can remove it from the\n",
            "hint: index with:\n",
            "hint: \n",
            "hint: \tgit rm --cached myModel\n",
            "hint: \n",
            "hint: See \"git help submodule\" for more information.\n"
          ],
          "name": "stdout"
        }
      ]
    },
    {
      "cell_type": "code",
      "metadata": {
        "colab": {
          "base_uri": "https://localhost:8080/"
        },
        "id": "awZWA6B7EGMt",
        "outputId": "2a21ceae-9459-4213-972f-053bdbe4a9a1"
      },
      "source": [
        "!git commit -m \"Initial commit\"\n",
        "!git push --set-upstream master master"
      ],
      "execution_count": 17,
      "outputs": [
        {
          "output_type": "stream",
          "text": [
            "On branch master\n",
            "nothing to commit, working tree clean\n",
            "fatal: 'master' does not appear to be a git repository\n",
            "fatal: Could not read from remote repository.\n",
            "\n",
            "Please make sure you have the correct access rights\n",
            "and the repository exists.\n"
          ],
          "name": "stdout"
        }
      ]
    },
    {
      "cell_type": "code",
      "metadata": {
        "colab": {
          "base_uri": "https://localhost:8080/"
        },
        "id": "3Nj-v6CtE2PQ",
        "outputId": "d9e05771-717c-4c33-c309-371f84357841"
      },
      "source": [
        "!ls"
      ],
      "execution_count": 18,
      "outputs": [
        {
          "output_type": "stream",
          "text": [
            "myModel  sample_data\n"
          ],
          "name": "stdout"
        }
      ]
    },
    {
      "cell_type": "code",
      "metadata": {
        "id": "uuvgeoivE48o"
      },
      "source": [
        "!cd"
      ],
      "execution_count": 19,
      "outputs": []
    },
    {
      "cell_type": "code",
      "metadata": {
        "colab": {
          "base_uri": "https://localhost:8080/"
        },
        "id": "vG2ai7jwE6vw",
        "outputId": "962d5d46-3909-48a2-f03d-bfd91e6c3405"
      },
      "source": [
        "!ls"
      ],
      "execution_count": 20,
      "outputs": [
        {
          "output_type": "stream",
          "text": [
            "myModel  sample_data\n"
          ],
          "name": "stdout"
        }
      ]
    }
  ]
}